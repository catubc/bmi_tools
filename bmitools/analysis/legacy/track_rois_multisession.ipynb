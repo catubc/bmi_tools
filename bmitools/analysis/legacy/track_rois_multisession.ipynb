{
 "cells": [
  {
   "cell_type": "code",
   "execution_count": 2,
   "id": "db8e4c3e",
   "metadata": {},
   "outputs": [
    {
     "data": {
      "application/javascript": "IPython.notebook.set_autosave_interval(180000)"
     },
     "metadata": {},
     "output_type": "display_data"
    },
    {
     "name": "stdout",
     "output_type": "stream",
     "text": [
      "Autosaving every 180 seconds\n",
      "The autoreload extension is already loaded. To reload it, use:\n",
      "  %reload_ext autoreload\n"
     ]
    }
   ],
   "source": [
    "import matplotlib.pyplot as plt\n",
    "\n",
    "%matplotlib tk\n",
    "%autosave 180\n",
    "%load_ext autoreload\n",
    "%autoreload 2\n",
    "\n",
    "\n",
    "import numpy as np\n",
    "#%matplotlib inline\n",
    "import os\n",
    "from utils import *\n",
    "\n",
    "import os\n",
    "\n",
    "# import package from root directory\n",
    "import sys\n",
    "sys.path.append('/home/cat/code/bmi/utils/calcium/')\n",
    "import calcium\n"
   ]
  },
  {
   "cell_type": "code",
   "execution_count": 17,
   "id": "83213fa2",
   "metadata": {},
   "outputs": [],
   "source": [
    "root_dir = '/media/cat/4TB/donato/andres/cohort9/DON-014618/'\n",
    "sub_dir = 'data/suite2p/plane0/'\n",
    "\n",
    "\n",
    "c_may2 = calcium.Calcium()\n",
    "\n",
    "session = '20230502'\n",
    "c_may2.data_dir = os.path.join(root_dir, \n",
    "                          session,\n",
    "                          sub_dir)\n",
    "\n",
    "c_may2.load_suite2p()\n",
    "\n",
    "# same thing but for may 3rd\n",
    "c_may3 = calcium.Calcium()\n",
    "session = '20230503'\n",
    "c_may3.data_dir = os.path.join(root_dir,\n",
    "                                 session,\n",
    "                                    sub_dir)\n",
    "c_may3.load_suite2p()\n",
    "\n",
    "\n",
    "#\n"
   ]
  },
  {
   "cell_type": "code",
   "execution_count": 23,
   "id": "637f4d5f",
   "metadata": {},
   "outputs": [
    {
     "name": "stdout",
     "output_type": "stream",
     "text": [
      "532\n"
     ]
    }
   ],
   "source": [
    "print (len(c.F))"
   ]
  },
  {
   "cell_type": "code",
   "execution_count": 63,
   "id": "4ef38bd1",
   "metadata": {},
   "outputs": [],
   "source": [
    "\n",
    "# plot contour\n",
    "\n",
    "\n",
    "d = np.load('/media/cat/4TB/donato/andres/cohort9/DON-014618/day0/rois_pixels_and_thresholds_day0.npz',\n",
    "            allow_pickle=True)\n",
    "\n",
    "#\n",
    "cell_ids = d['cell_ids']\n",
    "contours_all_cells = d['contours_all_cells']\n",
    "\n",
    "#\n",
    "clrs=['blue','lightblue','red','pink']\n",
    "\n",
    "plt.figure()\n",
    "\n",
    "plt.imshow(img)\n",
    "\n",
    "for k in range(len(cell_ids)):\n",
    "    contour = contours_all_cells[k][0]\n",
    "\n",
    "    #\n",
    "    plt.plot(contour[:,0],\n",
    "             contour[:,1],\n",
    "             c=clrs[k],\n",
    "             linewidth=10)\n",
    "\n",
    "#\n",
    "for k in range(len(c_may2.F)):\n",
    "    contour = c_may2.get_footprint_contour(k)\n",
    "\n",
    "\n",
    "    plt.plot(contour[:,0],\n",
    "             contour[:,1],\n",
    "             c='blue') \n",
    "\n",
    "if False:\n",
    "    for k in range(len(c_may3.F)):\n",
    "        contour = c_may3.get_footprint_contour(k)\n",
    "\n",
    "        plt.plot(contour[:,0],\n",
    "                contour[:,1],\n",
    "                c='red')\n",
    "\n",
    "#\n",
    "#plt.ylim(0,512)\n",
    "#plt.xlim(0,512)\n",
    "plt.show()\n",
    "\n"
   ]
  },
  {
   "cell_type": "code",
   "execution_count": 68,
   "id": "ff03b31c",
   "metadata": {},
   "outputs": [
    {
     "name": "stdout",
     "output_type": "stream",
     "text": [
      "[ 5  4 49 32]\n",
      "(2,)\n",
      "(2,)\n"
     ]
    }
   ],
   "source": [
    "\n",
    "d = np.load('/media/cat/4TB/donato/andres/cohort9/DON-014618/day0/rois_pixels_and_thresholds_day0.npz',\n",
    "            allow_pickle=True)\n",
    "\n",
    "#\n",
    "cell_ids = d['cell_ids']\n",
    "print (cell_ids)\n",
    "ensemble1_footprints = d['ensemble1_footprints']\n",
    "print (ensemble1_footprints.shape)\n",
    "ensemble2_footprints = d['ensemble2_footprints']\n",
    "print (ensemble2_footprints.shape)\n",
    "\n",
    "\n",
    "#print (ensemble1_footprints[0])\n",
    "# show footprints as images\n",
    "img = np.zeros((512,512),'float32')+np.nan\n",
    "for p in range(2):\n",
    "    for k in range(ensemble1_footprints[p].shape[0]):\n",
    "        img[ensemble1_footprints[p][k][0],\n",
    "            ensemble1_footprints[p][k][1]]=1\n",
    "# same but for ensemble 2\n",
    "for p in range(2):\n",
    "    for k in range(ensemble2_footprints[p].shape[0]):\n",
    "        img[ensemble2_footprints[p][k][0],\n",
    "            ensemble2_footprints[p][k][1]]=1\n",
    "\n",
    "\n",
    "plt.figure()\n",
    "plt.imshow(img)\n",
    "plt.xlim(0,512)\n",
    "plt.ylim(0,512)\n",
    "\n",
    "plt.show()"
   ]
  },
  {
   "cell_type": "code",
   "execution_count": 67,
   "id": "f42c45f1",
   "metadata": {},
   "outputs": [
    {
     "name": "stdout",
     "output_type": "stream",
     "text": [
      "(532, 512, 512)\n"
     ]
    }
   ],
   "source": [
    "c_may2.load_footprints()\n",
    "print (c_may2.footprints.shape)"
   ]
  },
  {
   "cell_type": "code",
   "execution_count": null,
   "id": "b1068fbf",
   "metadata": {},
   "outputs": [],
   "source": []
  },
  {
   "cell_type": "code",
   "execution_count": null,
   "id": "b985a52e",
   "metadata": {},
   "outputs": [],
   "source": []
  },
  {
   "cell_type": "code",
   "execution_count": null,
   "id": "c7910135",
   "metadata": {},
   "outputs": [],
   "source": []
  },
  {
   "cell_type": "code",
   "execution_count": null,
   "id": "f8d155e7",
   "metadata": {},
   "outputs": [],
   "source": []
  },
  {
   "cell_type": "code",
   "execution_count": null,
   "id": "c6749201",
   "metadata": {},
   "outputs": [],
   "source": []
  },
  {
   "cell_type": "code",
   "execution_count": null,
   "id": "26909fa5",
   "metadata": {},
   "outputs": [],
   "source": []
  },
  {
   "cell_type": "code",
   "execution_count": 38,
   "id": "335bac6e",
   "metadata": {},
   "outputs": [],
   "source": [
    "####################################################\n",
    "################## LOAD DATA #######################\n",
    "####################################################\n",
    "\n",
    "\n",
    "#root_dir = r'Z:\\RG Donato\\Microscopy\\Andres\\BMI Project\\cohort_7_sessions'\n",
    "root_dir = '/media/cat/4TB/donato/andres/cohort8'\n",
    "\n",
    "animal_id = 'DON-014265'\n",
    "#animal_id = 'DON-012503'\n",
    "session_ids = [\n",
    "    #'20230119',\n",
    "    '20230329',\n",
    "    '20230330',\n",
    "    '20230331',\n",
    "    '20230401',\n",
    "    '20230402',\n",
    "    '20230403',\n",
    "    '20230403',\n",
    "    #'20230307',\n",
    "    #'20230309'\n",
    "]\n",
    "\n",
    "sessions_early  = [\n",
    "    '20230127',\n",
    "    '20230128',\n",
    "]\n",
    "\n",
    "#\n",
    "sessions_late = [\n",
    "    '20230202',\n",
    "    '20230203',\n",
    "]\n",
    "\n",
    "# conteingency degradation sessions\n",
    "t = [\n",
    "    '20230127',\n",
    "    '20230128'\n",
    "    ]\n",
    "cd = [\n",
    "    '20230130',\n",
    "    '20230201',    \n",
    "    ]\n",
    "r = [\n",
    "    '20230202',\n",
    "    '20230203',\n",
    "    ]\n",
    "\n",
    "#\n",
    "early = [\n",
    "        '20230127',\n",
    "        '20230128'\n",
    "        ]\n",
    "late = [\n",
    "    '20230202',\n",
    "    '20230203',\n",
    "       ]\n",
    "\n",
    "\n",
    "#\n",
    "sess = ProcessSession(root_dir,\n",
    "                      animal_id,\n",
    "                      session_ids[0])\n",
    "#\n",
    "sess.verbose=False\n",
    "sess.session_ids = session_ids\n",
    "\n",
    "#\n",
    "sess.sessions_early = sessions_early\n",
    "sess.sessions_late = sessions_late\n",
    "\n",
    "#\n",
    "sess.pre = t\n",
    "sess.during = cd\n",
    "sess.post = r\n",
    "\n",
    "#\n",
    "sess.early = early\n",
    "sess.late = late\n",
    "\n",
    "\n"
   ]
  },
  {
   "cell_type": "code",
   "execution_count": 64,
   "id": "eb1006b2",
   "metadata": {},
   "outputs": [
    {
     "name": "stdout",
     "output_type": "stream",
     "text": [
      "20230329\n",
      "high_threshold:  0.9877430087345819\n",
      "roi_f0s:  (208,)\n",
      "cell_ids:  [13 11  4  6]\n",
      "n_rewards given:  34\n",
      "rois_traces_raw_ensemble1:  (2, 90000)\n",
      "ensemble1_f0:  [627.2492058410645 492.12202346903484]\n"
     ]
    },
    {
     "ename": "NameError",
     "evalue": "name 'ensemble_activity' is not defined",
     "output_type": "error",
     "traceback": [
      "\u001b[0;31m---------------------------------------------------------------------------\u001b[0m",
      "\u001b[0;31mNameError\u001b[0m                                 Traceback (most recent call last)",
      "Cell \u001b[0;32mIn[64], line 95\u001b[0m\n\u001b[1;32m     92\u001b[0m high_threshold \u001b[39m=\u001b[39m load_day0_thresholds(root_dir, animal_id)\n\u001b[1;32m     94\u001b[0m \u001b[39m#\u001b[39;00m\n\u001b[0;32m---> 95\u001b[0m ensemble, n_rewards_given \u001b[39m=\u001b[39m load_session_traces(root_dir, animal_id, session_id)\n\u001b[1;32m     97\u001b[0m \u001b[39m#\u001b[39;00m\n\u001b[1;32m     98\u001b[0m rewards_day0 \u001b[39m=\u001b[39m compute_rewards(ensemble, high_threshold)\n",
      "Cell \u001b[0;32mIn[64], line 55\u001b[0m, in \u001b[0;36mload_session_traces\u001b[0;34m(root_dir, animal_id, session_id)\u001b[0m\n\u001b[1;32m     52\u001b[0m plt\u001b[39m.\u001b[39mplot(rois_traces_raw_ensemble1[\u001b[39m0\u001b[39m])\n\u001b[1;32m     53\u001b[0m plt\u001b[39m.\u001b[39mshow()\n\u001b[0;32m---> 55\u001b[0m ensemble_activity[:,:\u001b[39m300\u001b[39m] \u001b[39m=\u001b[39m \u001b[39m0\u001b[39m\n\u001b[1;32m     57\u001b[0m ensemble_sum \u001b[39m=\u001b[39m np\u001b[39m.\u001b[39msum(ensemble_activity, axis\u001b[39m=\u001b[39m\u001b[39m0\u001b[39m)\n\u001b[1;32m     61\u001b[0m \u001b[39mreturn\u001b[39;00m ensemble_sum, n_rewards\n",
      "\u001b[0;31mNameError\u001b[0m: name 'ensemble_activity' is not defined"
     ]
    }
   ],
   "source": [
    "############################################################\n",
    "####### GENERATE REWARD DFF THRESHOLDS BASED ON DAY 0 ######\n",
    "############################################################\n",
    "\n",
    "#\n",
    "def load_day0_thresholds(root_dir, animal_id):\n",
    "    fname = os.path.join(root_dir, animal_id, 'day0', 'rois_pixels_and_thresholds_day0.npz')\n",
    "\n",
    "    d = np.load(fname, allow_pickle=True)\n",
    "\n",
    "    high_threshold = d['high_threshold']\n",
    "    print (\"high_threshold: \", high_threshold)\n",
    "\n",
    "    #\n",
    "    roi_f0s = d['roi_f0s']\n",
    "    cell_ids = d['cell_ids']\n",
    "\n",
    "    #\n",
    "    roi_f0s = roi_f0s[cell_ids]\n",
    "\n",
    "\n",
    "    return high_threshold, roi_f0s\n",
    "\n",
    "\n",
    "def load_session_traces(root_dir, animal_id, session_id):\n",
    "\n",
    "    fname = os.path.join(root_dir, animal_id, session_id, 'data',\n",
    "                         'results.npz')\n",
    "\n",
    "    d = np.load(fname, allow_pickle=True)\n",
    "\n",
    "    #\n",
    "    reward_times = d['reward_times'].T[:,1]\n",
    "    n_rewards = np.where(reward_times>0)[0].shape[0]\n",
    "    print (\"n_rewards given: \", n_rewards)\n",
    "\n",
    "    #\n",
    "    rois_traces_smooth1 = d['rois_traces_smooth1']\n",
    "    rois_traces_smooth2 = d['rois_traces_smooth2']\n",
    "\n",
    "    rois_traces_raw_ensemble1 = d['rois_traces_raw_ensemble1']\n",
    "    rois_traces_raw_ensemble2 = d['rois_traces_raw_ensemble2']\n",
    "\n",
    "    print (\"rois_traces_raw_ensemble1: \", rois_traces_raw_ensemble1.shape)\n",
    "    ensemble1_f0 = np.mean(rois_traces_raw_ensemble1, axis=1)\n",
    "    ensemble2_f0 = np.mean(rois_traces_raw_ensemble2, axis=1)\n",
    "    print (\"ensemble1_f0: \", ensemble1_f0)\n",
    "\n",
    "\n",
    "    plt.figure()\n",
    "    plt.plot(rois_traces_raw_ensemble1[0])\n",
    "    plt.show()\n",
    "\n",
    "    ensemble_activity[:,:300] = 0\n",
    "\n",
    "    ensemble_sum = np.sum(ensemble_activity, axis=0)\n",
    "\n",
    "\n",
    "\n",
    "    return ensemble_sum, n_rewards\n",
    "\n",
    "def compute_rewards(ensemble, threshold):\n",
    "\n",
    "    #\n",
    "    rewards = 0\n",
    "    ctr = 0\n",
    "    post_reward = False\n",
    "    while ctr< ensemble.shape[0]:\n",
    "        if ensemble[ctr]<(threshold*0.5):\n",
    "            post_reward = False\n",
    "\n",
    "        if ensemble[ctr]>threshold:\n",
    "            if post_reward==False:\n",
    "                rewards+=1\n",
    "                ctr+=30*30\n",
    "                post_reward = True\n",
    "        \n",
    "\n",
    "        ctr+=1\n",
    "    #print (\"rewards: \", rewards)\n",
    "\n",
    "    return rewards\n",
    "\n",
    "\n",
    "##########################\n",
    "plt.figure(figsize=(10,10))\n",
    "cmap = plt.get_cmap('viridis', 7)\n",
    "ctr=0\n",
    "for session_id in session_ids:\n",
    "    print (session_id)\n",
    "    high_threshold = load_day0_thresholds(root_dir, animal_id)\n",
    "\n",
    "    #\n",
    "    ensemble, n_rewards_given = load_session_traces(root_dir, animal_id, session_id)\n",
    "\n",
    "    #\n",
    "    rewards_day0 = compute_rewards(ensemble, high_threshold)\n",
    "\n",
    "    plt.scatter(n_rewards_given, rewards_day0, c=cmap(ctr), s=100)\n",
    "\n",
    "    ctr+=1\n",
    "\n",
    "#\n",
    "plt.plot([0,100],[0,100], '--', c='grey', linewidth=3)\n",
    "plt.xlim(0,100)\n",
    "plt.ylim(0,100)\n",
    "plt.xlabel(\"Rewards given in experiment\", fontsize=20)\n",
    "plt.ylabel(\"Rewards based on day0\", fontsize=20)\n",
    "plt.show()\n",
    "print (\"DONE >..\")\n"
   ]
  },
  {
   "cell_type": "code",
   "execution_count": 15,
   "id": "c7de7fbe",
   "metadata": {},
   "outputs": [
    {
     "name": "stderr",
     "output_type": "stream",
     "text": [
      "loading data for hit rate per session: 100%|██████████| 7/7 [00:00<00:00, 5196.48it/s]\n",
      "No artists with labels found to put in legend.  Note that artists whose label start with an underscore are ignored when legend() is called with no argument.\n"
     ]
    },
    {
     "name": "stdout",
     "output_type": "stream",
     "text": [
      "DONE >..\n"
     ]
    },
    {
     "name": "stderr",
     "output_type": "stream",
     "text": [
      "/home/cat/.conda/envs/bmi/lib/python3.8/site-packages/numpy/lib/npyio.py:521: VisibleDeprecationWarning: Creating an ndarray from ragged nested sequences (which is a list-or-tuple of lists-or-tuples-or ndarrays with different lengths or shapes) is deprecated. If you meant to do this, you must specify 'dtype=object' when creating the ndarray.\n",
      "  arr = np.asanyarray(arr)\n"
     ]
    }
   ],
   "source": [
    "######################################################\n",
    "############### SHOW HIT RATES / SESSION #############\n",
    "######################################################\n",
    "\n",
    "#\n",
    "sess.show_plots=True\n",
    "sess.hit_rate_per_session()\n",
    "\n",
    "print (\"DONE >..\")\n"
   ]
  },
  {
   "cell_type": "code",
   "execution_count": 16,
   "id": "e3e9e425",
   "metadata": {},
   "outputs": [
    {
     "name": "stdout",
     "output_type": "stream",
     "text": [
      "DONE >..\n"
     ]
    }
   ],
   "source": [
    "######################################################\n",
    "########### AVERAGE REWARDS INTRASESSION #############\n",
    "######################################################\n",
    "\n",
    "#\n",
    "sess.n_rewards_intra_session()\n",
    "\n",
    "#\n",
    "print (\"DONE >..\")"
   ]
  },
  {
   "cell_type": "code",
   "execution_count": 59,
   "id": "3c7a8982",
   "metadata": {},
   "outputs": [
    {
     "name": "stderr",
     "output_type": "stream",
     "text": [
      "100%|██████████| 7/7 [00:12<00:00,  1.73s/it]\n"
     ]
    }
   ],
   "source": [
    "######################################################\n",
    "########### AVERAGE REWARDS INTRASESSION #############\n",
    "######################################################\n",
    "\n",
    "#\n",
    "sess.verbose=False\n",
    "sess.n_rewards_intra_session_normalized()\n",
    "\n",
    "#"
   ]
  },
  {
   "cell_type": "code",
   "execution_count": 81,
   "id": "09147356",
   "metadata": {},
   "outputs": [
    {
     "name": "stderr",
     "output_type": "stream",
     "text": [
      "loading data for hit rate per session: 100%|██████████| 7/7 [00:00<00:00, 71.36it/s]"
     ]
    },
    {
     "name": "stdout",
     "output_type": "stream",
     "text": [
      "Length of cc:  4 4\n",
      "Length of cc:  4 4\n",
      "Length of cc:  4 4\n",
      "Length of cc:  4 4\n",
      "Length of cc:  4 4\n",
      "Length of cc:  4 4\n",
      "Length of cc:  4 4\n"
     ]
    },
    {
     "name": "stderr",
     "output_type": "stream",
     "text": [
      "\n"
     ]
    }
   ],
   "source": [
    "######################################################\n",
    "########### EVOLUTION OF CELL-XCORRELOGRAMS ##########\n",
    "######################################################\n",
    "\n",
    "#\n",
    "sess.verbose=False\n",
    "sess.window = 20*30   # in seconds\n",
    "sess.correlograms_inter_session()"
   ]
  },
  {
   "cell_type": "code",
   "execution_count": 64,
   "id": "22a447cd",
   "metadata": {},
   "outputs": [
    {
     "name": "stderr",
     "output_type": "stream",
     "text": [
      "loading data for n_bursts_per_session: 100%|██████████| 7/7 [00:00<00:00, 9084.20it/s]\n"
     ]
    },
    {
     "name": "stdout",
     "output_type": "stream",
     "text": [
      "DONE >..\n"
     ]
    }
   ],
   "source": [
    "######################################################\n",
    "############### SHOW N-BURSTS / SESSION ##############\n",
    "######################################################\n",
    "\n",
    "#\n",
    "sess.n_bursts_per_session()\n",
    "\n",
    "#\n",
    "print (\"DONE >..\")"
   ]
  },
  {
   "cell_type": "code",
   "execution_count": 26,
   "id": "2fecfa85",
   "metadata": {},
   "outputs": [],
   "source": [
    "########################################################\n",
    "########### CONTINGENCY DEGRADATION PLOTS ##############\n",
    "########################################################\n",
    "\n",
    "#\n",
    "\n",
    "#\n",
    "sess.contingency_degradation()\n",
    "\n",
    "#\n"
   ]
  },
  {
   "cell_type": "code",
   "execution_count": 31,
   "id": "6a049bf2",
   "metadata": {},
   "outputs": [
    {
     "name": "stderr",
     "output_type": "stream",
     "text": [
      "/home/cat/.conda/envs/bmi/lib/python3.8/site-packages/numpy/lib/npyio.py:521: VisibleDeprecationWarning: Creating an ndarray from ragged nested sequences (which is a list-or-tuple of lists-or-tuples-or ndarrays with different lengths or shapes) is deprecated. If you meant to do this, you must specify 'dtype=object' when creating the ndarray.\n",
      "  arr = np.asanyarray(arr)\n"
     ]
    }
   ],
   "source": [
    "########################################################\n",
    "########### EARLY VS. LATE PER 5 MIN BLOCK #############\n",
    "########################################################\n",
    "\n",
    "\n",
    "#\n",
    "sess.early_vs_late()\n",
    "\n",
    "#"
   ]
  },
  {
   "cell_type": "code",
   "execution_count": 32,
   "id": "dd73bd67",
   "metadata": {},
   "outputs": [],
   "source": [
    "#############################################################\n",
    "########### EARLY VS. LATE PLOTS - PER SESSION ##############\n",
    "#############################################################\n",
    "#\n",
    "sess.early_vs_late_session()\n"
   ]
  },
  {
   "cell_type": "code",
   "execution_count": 57,
   "id": "e672a0d1",
   "metadata": {},
   "outputs": [
    {
     "name": "stdout",
     "output_type": "stream",
     "text": [
      "[11.2159919  15.75997819]\n"
     ]
    }
   ],
   "source": [
    "#############################################################\n",
    "########### TIME TO REWARD EARLY VS. LATE ###################\n",
    "#############################################################\n",
    "\n",
    "#\n",
    "sess.time_to_reward_per_trial_inter_session_late_vs_early()\n",
    "\n"
   ]
  },
  {
   "cell_type": "code",
   "execution_count": 80,
   "id": "228c4592",
   "metadata": {},
   "outputs": [
    {
     "name": "stderr",
     "output_type": "stream",
     "text": [
      "loading data for n_bursts_per_session: 100%|██████████| 7/7 [00:00<00:00, 1736.57it/s]\n"
     ]
    }
   ],
   "source": [
    "###########################################\n",
    "####### BINNED PAIRWISE CORRELATIONS ######\n",
    "###########################################\n",
    "\n",
    "#\n",
    "#sess.session_id = '20230202'\n",
    "#sess.session_id = '20230131'\n",
    "sess.pairwise_correlations_inter_session_dff()"
   ]
  },
  {
   "cell_type": "code",
   "execution_count": null,
   "id": "74444c95",
   "metadata": {},
   "outputs": [],
   "source": [
    "'/media/cat/4TB/donato/andres/DON-011733/20230127/pairwise_correlations_intra_session_upphase.npz'\n",
    "'/media/cat/4TB/donato/andres/DON-011733/20230127/results/pairwise_correlations_intra_session_upphase.npz'\n",
    "\n"
   ]
  }
 ],
 "metadata": {
  "kernelspec": {
   "display_name": "Python 3 (ipykernel)",
   "language": "python",
   "name": "python3"
  },
  "language_info": {
   "codemirror_mode": {
    "name": "ipython",
    "version": 3
   },
   "file_extension": ".py",
   "mimetype": "text/x-python",
   "name": "python",
   "nbconvert_exporter": "python",
   "pygments_lexer": "ipython3",
   "version": "3.8.15"
  },
  "toc-autonumbering": false,
  "toc-showcode": true
 },
 "nbformat": 4,
 "nbformat_minor": 5
}
