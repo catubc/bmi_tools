{
 "cells": [
  {
   "cell_type": "code",
   "execution_count": 1,
   "id": "56141bac",
   "metadata": {},
   "outputs": [
    {
     "data": {
      "application/javascript": "IPython.notebook.set_autosave_interval(180000)"
     },
     "metadata": {},
     "output_type": "display_data"
    },
    {
     "name": "stdout",
     "output_type": "stream",
     "text": [
      "Autosaving every 180 seconds\n"
     ]
    },
    {
     "name": "stderr",
     "output_type": "stream",
     "text": [
      "C:\\Users\\rg-fd02-user\\anaconda3\\envs\\bmi\\lib\\site-packages\\tqdm\\auto.py:22: TqdmWarning: IProgress not found. Please update jupyter and ipywidgets. See https://ipywidgets.readthedocs.io/en/stable/user_install.html\n",
      "  from .autonotebook import tqdm as notebook_tqdm\n"
     ]
    }
   ],
   "source": [
    "import matplotlib.pyplot as plt\n",
    "import matplotlib\n",
    "\n",
    "%matplotlib tk\n",
    "%autosave 180\n",
    "%load_ext autoreload\n",
    "%autoreload 2\n",
    "\n",
    "\n",
    "import numpy as np\n",
    "#%matplotlib inline\n",
    "\n",
    "import os\n",
    "from utils import *\n",
    "\n",
    "import os\n",
    "\n",
    "from utils_calcium import ProcessCalcium"
   ]
  },
  {
   "cell_type": "code",
   "execution_count": 5,
   "id": "e8379440",
   "metadata": {},
   "outputs": [
    {
     "ename": "ModuleNotFoundError",
     "evalue": "No module named 'yaml'",
     "output_type": "error",
     "traceback": [
      "\u001b[1;31m---------------------------------------------------------------------------\u001b[0m",
      "\u001b[1;31mModuleNotFoundError\u001b[0m                       Traceback (most recent call last)",
      "Input \u001b[1;32mIn [5]\u001b[0m, in \u001b[0;36m<cell line: 41>\u001b[1;34m()\u001b[0m\n\u001b[0;32m     38\u001b[0m animal_id \u001b[38;5;241m=\u001b[39m \u001b[38;5;124m'\u001b[39m\u001b[38;5;124mDON-016658\u001b[39m\u001b[38;5;124m'\u001b[39m\n\u001b[0;32m     40\u001b[0m \u001b[38;5;66;03m#       \u001b[39;00m\n\u001b[1;32m---> 41\u001b[0m c \u001b[38;5;241m=\u001b[39m \u001b[43mProcessCalcium\u001b[49m\u001b[43m(\u001b[49m\u001b[43mroot_dir\u001b[49m\u001b[43m,\u001b[49m\n\u001b[0;32m     42\u001b[0m \u001b[43m                   \u001b[49m\u001b[43manimal_id\u001b[49m\u001b[43m)\u001b[49m\n\u001b[0;32m     44\u001b[0m \u001b[38;5;66;03m#\u001b[39;00m\n\u001b[0;32m     45\u001b[0m c\u001b[38;5;241m.\u001b[39mload_data()\n",
      "File \u001b[1;32mC:\\code\\bmi_working\\analysis\\utils_calcium.py:46\u001b[0m, in \u001b[0;36mProcessCalcium.__init__\u001b[1;34m(self, root_dir, animal_id)\u001b[0m\n\u001b[0;32m     41\u001b[0m fname \u001b[38;5;241m=\u001b[39m os\u001b[38;5;241m.\u001b[39mpath\u001b[38;5;241m.\u001b[39mjoin(\u001b[38;5;28mself\u001b[39m\u001b[38;5;241m.\u001b[39mroot_dir,\n\u001b[0;32m     42\u001b[0m                     \u001b[38;5;28mself\u001b[39m\u001b[38;5;241m.\u001b[39manimal_id,\n\u001b[0;32m     43\u001b[0m                     animal_id\u001b[38;5;241m+\u001b[39m\u001b[38;5;124m'\u001b[39m\u001b[38;5;124m.yaml\u001b[39m\u001b[38;5;124m'\u001b[39m)\n\u001b[0;32m     45\u001b[0m \u001b[38;5;66;03m# load yaml file\u001b[39;00m\n\u001b[1;32m---> 46\u001b[0m \u001b[38;5;28;01mimport\u001b[39;00m \u001b[38;5;21;01myaml\u001b[39;00m\n\u001b[0;32m     47\u001b[0m \u001b[38;5;28;01mwith\u001b[39;00m \u001b[38;5;28mopen\u001b[39m(fname) \u001b[38;5;28;01mas\u001b[39;00m file:\n\u001b[0;32m     48\u001b[0m     doc \u001b[38;5;241m=\u001b[39m yaml\u001b[38;5;241m.\u001b[39mload(file, Loader\u001b[38;5;241m=\u001b[39myaml\u001b[38;5;241m.\u001b[39mFullLoader)\n",
      "\u001b[1;31mModuleNotFoundError\u001b[0m: No module named 'yaml'"
     ]
    }
   ],
   "source": [
    "####################################################\n",
    "################## LOAD DATA #######################\n",
    "####################################################\n",
    "\n",
    "# TODOS:\n",
    "# 1.   load all masks and look at them\n",
    "#      see if we can find the correct cell in each day - see how much drift there is\n",
    "# 2.   load all traces and compute reward triggered averages \n",
    "#     - this should help understand if other cells in the networks are acquiring a relationship with the reward and the ensmeble cells\n",
    "\n",
    "\n",
    "root_dir = r'F:\\bmi\\cohort11'\n",
    "\n",
    "\n",
    "# M1 mice\n",
    "# M1 = [\n",
    "    \n",
    "#     'DON-011733',\n",
    "#     'DON-014382',\n",
    " #    'DON-014451',\n",
    "  #   'DON-014575',\n",
    "  #   'DON-014618',\n",
    "  #   'DON-015821',\n",
    "    \n",
    " #    ]\n",
    "\n",
    "# CA3 mice\n",
    "CA3 = [\n",
    "    'DON-016658',\n",
    "    'DON-016659',\n",
    "    'DON-015961',\n",
    "    'DON-015962',\n",
    "\n",
    "]\n",
    "\n",
    "\n",
    "#\n",
    "animal_id = 'DON-016658'\n",
    "\n",
    "#       \n",
    "c = ProcessCalcium(root_dir,\n",
    "                   animal_id)\n",
    "\n",
    "#\n",
    "c.load_data()\n",
    "\n",
    "#\n",
    "c.load_day0_mask()\n",
    "\n",
    "#\n",
    "#c.run_binarization()"
   ]
  },
  {
   "cell_type": "code",
   "execution_count": 3,
   "id": "6ede1c5a",
   "metadata": {},
   "outputs": [
    {
     "ename": "NameError",
     "evalue": "name 'c' is not defined",
     "output_type": "error",
     "traceback": [
      "\u001b[1;31m---------------------------------------------------------------------------\u001b[0m",
      "\u001b[1;31mNameError\u001b[0m                                 Traceback (most recent call last)",
      "Input \u001b[1;32mIn [3]\u001b[0m, in \u001b[0;36m<cell line: 7>\u001b[1;34m()\u001b[0m\n\u001b[0;32m      1\u001b[0m \u001b[38;5;66;03m####################################################\u001b[39;00m\n\u001b[0;32m      2\u001b[0m \u001b[38;5;66;03m####### PLOT MASK VS. CLOSESST SUITE2P CELLS #######\u001b[39;00m\n\u001b[0;32m      3\u001b[0m \u001b[38;5;66;03m####################################################\u001b[39;00m\n\u001b[0;32m      4\u001b[0m \u001b[38;5;66;03m# loop through contours rois list and plot them\u001b[39;00m\n\u001b[0;32m      5\u001b[0m \n\u001b[0;32m      6\u001b[0m \u001b[38;5;66;03m#\u001b[39;00m\n\u001b[1;32m----> 7\u001b[0m \u001b[43mc\u001b[49m\u001b[38;5;241m.\u001b[39mcontour_ROI_max_dist \u001b[38;5;241m=\u001b[39m \u001b[38;5;241m20\u001b[39m\n\u001b[0;32m      9\u001b[0m \u001b[38;5;66;03m# gets and plots the most nearby cells to each contour\u001b[39;00m\n\u001b[0;32m     10\u001b[0m c\u001b[38;5;241m.\u001b[39mplot_matching_contours()\n",
      "\u001b[1;31mNameError\u001b[0m: name 'c' is not defined"
     ]
    }
   ],
   "source": [
    "####################################################\n",
    "####### PLOT MASK VS. CLOSESST SUITE2P CELLS #######\n",
    "####################################################\n",
    "# loop through contours rois list and plot them\n",
    "\n",
    "#\n",
    "c.contour_ROI_max_dist = 20\n",
    "\n",
    "# gets and plots the most nearby cells to each contour\n",
    "c.plot_matching_contours()\n",
    "\n",
    "#\n"
   ]
  },
  {
   "cell_type": "code",
   "execution_count": 225,
   "id": "f3a95792",
   "metadata": {},
   "outputs": [
    {
     "data": {
      "application/vnd.jupyter.widget-view+json": {
       "model_id": "5837569e250c4789928aa576b1972e78",
       "version_major": 2,
       "version_minor": 0
      },
      "text/plain": [
       "  0%|          | 0/9 [00:00<?, ?it/s]"
      ]
     },
     "metadata": {},
     "output_type": "display_data"
    },
    {
     "name": "stdout",
     "output_type": "stream",
     "text": [
      "# of cells, times:  (627, 90000) , output:  (39, 627, 900)\n",
      "# of cells, times:  (623, 90000) , output:  (35, 623, 900)\n",
      "# of cells, times:  (699, 90000) , output:  (14, 699, 900)\n",
      "# of cells, times:  (681, 90000) , output:  (41, 681, 900)\n",
      "# of cells, times:  (723, 90000) , output:  (9, 723, 900)\n",
      "# of cells, times:  (674, 90000) , output:  (58, 674, 900)\n",
      "# of cells, times:  (761, 90000) , output:  (26, 761, 900)\n",
      "# of cells, times:  (1130, 90000) , output:  (21, 1130, 900)\n"
     ]
    }
   ],
   "source": [
    "######################################################\n",
    "####### LOAD PERI-REWARD HISTOGRAM FOR ALL CELLS #####\n",
    "######################################################\n",
    "\n",
    "#\n",
    "c.reward_window = 450\n",
    "c.shuffle_rewards = False\n",
    "c.filter = True\n",
    "c.compute_reward_centered_traces()\n"
   ]
  },
  {
   "cell_type": "code",
   "execution_count": 235,
   "id": "7b404ae6",
   "metadata": {},
   "outputs": [
    {
     "name": "stdout",
     "output_type": "stream",
     "text": [
      "input traces:  (623, 900)\n",
      "closest_ROI_cells:  [[  0  36]\n",
      " [  0  37]\n",
      " [  0  55]\n",
      " [  1 175]\n",
      " [  2 163]\n",
      " [  2 328]]\n",
      "loopin gover all suite2p cells:  623\n",
      "k:  36  matching_cell:  36  matching_mask:  0\n",
      "k:  37  matching_cell:  37  matching_mask:  0\n",
      "k:  55  matching_cell:  55  matching_mask:  0\n",
      "k:  163  matching_cell:  163  matching_mask:  2\n",
      "k:  175  matching_cell:  175  matching_mask:  1\n",
      "k:  328  matching_cell:  328  matching_mask:  2\n",
      "k:  193  clrs2[k][0]:  lightblue\n",
      "k:  277  clrs2[k][0]:  blue\n",
      "k:  278  clrs2[k][0]:  blue\n",
      "k:  471  clrs2[k][0]:  blue\n"
     ]
    }
   ],
   "source": [
    "######################################################\n",
    "####### LOAD PERI-REWARD HISTOGRAM FOR ALL CELLS #####\n",
    "######################################################\n",
    "\n",
    "#\n",
    "c.session_id = 8\n",
    "c.scale = .5\n",
    "c.shuffled = False\n",
    "c.sort_by_peak = True\n",
    "c.min_ptp = 0.15\n",
    "\n",
    "c.plot_reward_centered_traces()\n"
   ]
  },
  {
   "cell_type": "code",
   "execution_count": null,
   "id": "7b2200fe",
   "metadata": {},
   "outputs": [],
   "source": []
  },
  {
   "cell_type": "code",
   "execution_count": null,
   "id": "231d261f",
   "metadata": {},
   "outputs": [],
   "source": [
    "# ######################################################\n",
    "# ####### LOAD PERI-REWARD HISTOGRAM FOR ALL CELLS #####\n",
    "# ######################################################\n",
    "\n",
    "# # same but rank the cells by their peak response\n",
    "# c.plot_reward_centered_traces_ranked()"
   ]
  },
  {
   "cell_type": "code",
   "execution_count": 107,
   "id": "147d4a31",
   "metadata": {},
   "outputs": [
    {
     "name": "stdout",
     "output_type": "stream",
     "text": [
      "closest_ROI_cells:  [[  0 142]\n",
      " [  0 180]\n",
      " [  0 258]\n",
      " [  1  23]\n",
      " [  2  40]\n",
      " [  2 143]\n",
      " [  3  27]\n",
      " [  3 107]\n",
      " [  3 138]\n",
      " [  3 194]\n",
      " [  3 245]]\n"
     ]
    },
    {
     "data": {
      "text/plain": [
       "Text(0.5, 0, 'Time (s)')"
      ]
     },
     "execution_count": 107,
     "metadata": {},
     "output_type": "execute_result"
    }
   ],
   "source": [
    "######################################################\n",
    "####### LOAD PERI-REWARD HISTOGRAM FOR ALL CELLS #####\n",
    "######################################################\n",
    "\n",
    "#\n",
    "c.plot_reward_centered_traces_ROIs_only()\n"
   ]
  },
  {
   "cell_type": "code",
   "execution_count": null,
   "id": "c06eddc8",
   "metadata": {},
   "outputs": [],
   "source": [
    "# ######################################################\n",
    "# ####### LOAD PERI-REWARD HISTOGRAM FOR ALL CELLS #####\n",
    "# ######################################################\n",
    "\n",
    "# # same but rank the cells by their peak response\n",
    "# c.plot_reward_centered_traces_ROIs_only_ranked()\n"
   ]
  },
  {
   "cell_type": "code",
   "execution_count": 109,
   "id": "5c6c0bae",
   "metadata": {},
   "outputs": [
    {
     "name": "stderr",
     "output_type": "stream",
     "text": [
      "No artists with labels found to put in legend.  Note that artists whose label start with an underscore are ignored when legend() is called with no argument.\n",
      "No artists with labels found to put in legend.  Note that artists whose label start with an underscore are ignored when legend() is called with no argument.\n",
      "No artists with labels found to put in legend.  Note that artists whose label start with an underscore are ignored when legend() is called with no argument.\n"
     ]
    },
    {
     "data": {
      "text/plain": [
       "Text(0.5, 0, 'Time (s)')"
      ]
     },
     "execution_count": 109,
     "metadata": {},
     "output_type": "execute_result"
    }
   ],
   "source": [
    "######################################################\n",
    "############### SHOW ALL DAYS/SESSIONS ###############\n",
    "######################################################\n",
    "\n",
    "#\n",
    "c.reward_window = 450\n",
    "\n",
    "#\n",
    "c.plot_reward_centered_traces_ROIs_all_days()\n",
    "plt.xlabel('Time (s)',fontsize=20)\n"
   ]
  },
  {
   "cell_type": "code",
   "execution_count": 66,
   "id": "823f6df1",
   "metadata": {},
   "outputs": [
    {
     "name": "stdout",
     "output_type": "stream",
     "text": [
      "{'suite2p_version': '0.10.1', 'look_one_level_down': 0.0, 'fast_disk': [], 'delete_bin': True, 'mesoscan': False, 'bruker': False, 'bruker_bidirectional': False, 'h5py': [], 'h5py_key': 'data', 'save_path0': [], 'save_folder': [], 'subfolders': [], 'move_bin': False, 'nplanes': 1, 'nchannels': 1, 'functional_chan': 1, 'tau': 1.0, 'fs': 30.947, 'force_sktiff': False, 'frames_include': -1, 'multiplane_parallel': 0.0, 'ignore_flyback': [], 'preclassify': 0.0, 'save_mat': True, 'save_NWB': 0.0, 'combined': 1.0, 'aspect': 1.0, 'do_bidiphase': False, 'bidiphase': 0.0, 'bidi_corrected': False, 'do_registration': 1, 'two_step_registration': 0.0, 'keep_movie_raw': False, 'nimg_init': 500, 'batch_size': 500, 'maxregshift': 0.1, 'align_by_chan': 1, 'reg_tif': True, 'reg_tif_chan2': False, 'subpixel': 10, 'smooth_sigma_time': 0.0, 'smooth_sigma': 1.15, 'th_badframes': 100.0, 'norm_frames': True, 'force_refImg': False, 'pad_fft': False, 'nonrigid': True, 'block_size': [128, 128], 'snr_thresh': 1.2, 'maxregshiftNR': 5.0, '1Preg': False, 'spatial_hp': 42, 'spatial_hp_reg': 42.0, 'spatial_hp_detect': 25, 'pre_smooth': 0.0, 'spatial_taper': 40.0, 'roidetect': True, 'spikedetect': True, 'anatomical_only': 0.0, 'cellprob_threshold': 0.0, 'flow_threshold': 1.5, 'sparse_mode': True, 'diameter': [9, 9], 'spatial_scale': 0, 'connected': True, 'nbinned': 5000, 'max_iterations': 20, 'threshold_scaling': 1.0, 'max_overlap': 0.75, 'high_pass': 100.0, 'denoise': 0.0, 'soma_crop': 1.0, 'neuropil_extract': True, 'inner_neuropil_radius': 2, 'min_neuropil_pixels': 350, 'lam_percentile': 50.0, 'allow_overlap': True, 'use_builtin_classifier': False, 'classifier_path': 0, 'chan2_thres': 0.65, 'baseline': 'maximin', 'win_baseline': 60.0, 'sig_baseline': 10.0, 'prctile_baseline': 8.0, 'neucoeff': 0.7, 'input_format': 'tif'}\n"
     ]
    }
   ],
   "source": []
  },
  {
   "cell_type": "code",
   "execution_count": null,
   "id": "d47fda6d",
   "metadata": {},
   "outputs": [],
   "source": []
  },
  {
   "cell_type": "code",
   "execution_count": null,
   "id": "3a2dde2c",
   "metadata": {},
   "outputs": [],
   "source": []
  },
  {
   "cell_type": "code",
   "execution_count": null,
   "id": "43026dae",
   "metadata": {},
   "outputs": [],
   "source": []
  },
  {
   "cell_type": "code",
   "execution_count": 36,
   "id": "06330f1c",
   "metadata": {},
   "outputs": [
    {
     "name": "stdout",
     "output_type": "stream",
     "text": [
      "['day0', 20230131, 20230201, 20230202, 20230203, 20230204, 20230205, 20230206, 20230207]\n"
     ]
    }
   ],
   "source": [
    "# load yaml file\n",
    "import yaml\n",
    "yaml_file = '/media/cat/4TB/donato/andres/master_analysis/DON-014266/DON-014266.yaml'\n",
    "with open(yaml_file) as file:\n",
    "    #\n",
    "    data = yaml.load(file, Loader=yaml.FullLoader)\n",
    "\n",
    "    print (data['session_names'])"
   ]
  },
  {
   "cell_type": "code",
   "execution_count": null,
   "id": "b55f6c27",
   "metadata": {},
   "outputs": [],
   "source": []
  },
  {
   "cell_type": "code",
   "execution_count": null,
   "id": "79e70ef3",
   "metadata": {},
   "outputs": [],
   "source": [
    "######################################################\n",
    "####### PLOT PERI-REWARD HISTOGRAM FOR ALL CELLS #####\n",
    "######################################################\n",
    "\n",
    "\n",
    "\n",
    "# plot the graph\n",
    "plt.figure()\n",
    "for k in range(1,9,1):\n",
    "    c.ax=plt.subplot(2,4,k)\n",
    "    c.session_id = k\n",
    "    c.reward_window = 180\n",
    "    c.get_reward_centered_traces()\n",
    "\n",
    "    #\n",
    "    c.plot_network_graph()\n",
    "\n",
    "#\n",
    "plt.show()\n",
    "\n",
    "\n"
   ]
  },
  {
   "cell_type": "code",
   "execution_count": null,
   "id": "e7189c5b",
   "metadata": {},
   "outputs": [],
   "source": []
  },
  {
   "cell_type": "code",
   "execution_count": null,
   "id": "377d13ac",
   "metadata": {},
   "outputs": [],
   "source": []
  },
  {
   "cell_type": "code",
   "execution_count": null,
   "id": "1579fa05",
   "metadata": {},
   "outputs": [],
   "source": []
  },
  {
   "cell_type": "code",
   "execution_count": null,
   "id": "079c2336",
   "metadata": {},
   "outputs": [],
   "source": []
  }
 ],
 "metadata": {
  "kernelspec": {
   "display_name": "Python 3 (ipykernel)",
   "language": "python",
   "name": "python3"
  },
  "language_info": {
   "codemirror_mode": {
    "name": "ipython",
    "version": 3
   },
   "file_extension": ".py",
   "mimetype": "text/x-python",
   "name": "python",
   "nbconvert_exporter": "python",
   "pygments_lexer": "ipython3",
   "version": "3.8.15"
  },
  "toc-autonumbering": false,
  "toc-showcode": true
 },
 "nbformat": 4,
 "nbformat_minor": 5
}
