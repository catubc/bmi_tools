{
 "cells": [
  {
   "cell_type": "code",
   "execution_count": 1,
   "id": "fceadc73",
   "metadata": {},
   "outputs": [
    {
     "data": {
      "application/javascript": "IPython.notebook.set_autosave_interval(180000)"
     },
     "metadata": {},
     "output_type": "display_data"
    },
    {
     "name": "stdout",
     "output_type": "stream",
     "text": [
      "Autosaving every 180 seconds\n"
     ]
    }
   ],
   "source": [
    "import matplotlib.pyplot as plt\n",
    "import matplotlib\n",
    "\n",
    "%matplotlib tk\n",
    "%autosave 180\n",
    "%load_ext autoreload\n",
    "%autoreload 2\n",
    "\n",
    "\n",
    "import numpy as np\n",
    "#%matplotlib inline\n",
    "import os\n",
    "from utils import *\n",
    "\n",
    "import os\n",
    "\n",
    "from utils import ProcessSession"
   ]
  },
  {
   "cell_type": "code",
   "execution_count": 4,
   "id": "26fb4383",
   "metadata": {},
   "outputs": [],
   "source": [
    "####################################################\n",
    "################## LOAD DATA #######################\n",
    "####################################################\n",
    "\n",
    "\n",
    "root_dir = r'F:\\bmi\\cohort10'\n",
    "\n",
    "#animal_id = 'DON-011733'\n",
    "animal_id = 'DON-015821'\n",
    "session_ids = [\n",
    "    '20230520',\n",
    "    '20230521',\n",
    "    '20230522',\n",
    "    '20230523',\n",
    "     '20230525',\n",
    "    '20230526',\n",
    "     '20230527'\n",
    "]\n",
    "\n",
    "#\n",
    "sess = ProcessSession(root_dir,\n",
    "                      animal_id,\n",
    "                      session_ids[0])\n",
    "\n",
    "#\n",
    "sess.verbose=False\n",
    "sess.session_ids = session_ids"
   ]
  },
  {
   "cell_type": "code",
   "execution_count": 3,
   "id": "f12eeb8b",
   "metadata": {},
   "outputs": [
    {
     "name": "stderr",
     "output_type": "stream",
     "text": [
      "loading data for n_rewards_per_session: 100%|█████████████████████████████████████████████| 7/7 [01:10<00:00, 10.02s/it]\n"
     ]
    },
    {
     "name": "stdout",
     "output_type": "stream",
     "text": [
      "xx:  [0 1 2 3 4 5 6]\n",
      "yy:  [16 16 53 51 48 19 52]\n",
      "DONE >..\n"
     ]
    }
   ],
   "source": [
    "######################################################\n",
    "############### SHOW N-REWARDS / SESSION #############\n",
    "######################################################\n",
    "\n",
    "#\n",
    "sess.n_rewards_per_session()\n",
    "\n",
    "print (\"DONE >..\")\n"
   ]
  },
  {
   "cell_type": "code",
   "execution_count": 5,
   "id": "17ba55ea",
   "metadata": {},
   "outputs": [
    {
     "name": "stderr",
     "output_type": "stream",
     "text": [
      "loading data for hit rate per session: 100%|█████████████████████████████████████████████| 7/7 [00:00<00:00, 258.55it/s]\n",
      "No artists with labels found to put in legend.  Note that artists whose label start with an underscore are ignored when legend() is called with no argument.\n"
     ]
    },
    {
     "name": "stdout",
     "output_type": "stream",
     "text": [
      "DONE >..\n"
     ]
    }
   ],
   "source": [
    "######################################################\n",
    "############### SHOW HIT RATES / SESSION #############\n",
    "######################################################\n",
    "\n",
    "#\n",
    "sess.show_plots=True\n",
    "sess.hit_rate_per_session()\n",
    "\n",
    "print (\"DONE >..\")\n"
   ]
  },
  {
   "cell_type": "code",
   "execution_count": 7,
   "id": "91b1a3bf",
   "metadata": {},
   "outputs": [
    {
     "name": "stdout",
     "output_type": "stream",
     "text": [
      "DONE >..\n"
     ]
    }
   ],
   "source": [
    "######################################################\n",
    "########### AVERAGE REWARDS INTRASESSION #############\n",
    "######################################################\n",
    "\n",
    "#\n",
    "sess.n_rewards_intra_session()\n",
    "\n",
    "#\n",
    "print (\"DONE >..\")"
   ]
  },
  {
   "cell_type": "code",
   "execution_count": 6,
   "id": "0e774d05",
   "metadata": {},
   "outputs": [
    {
     "name": "stderr",
     "output_type": "stream",
     "text": [
      "100%|██████████████████████████████████████████████████████████████████████████████████████████████| 8/8 [00:19<00:00,  2.42s/it]"
     ]
    },
    {
     "name": "stdout",
     "output_type": "stream",
     "text": [
      "Perason corr:  PearsonRResult(statistic=0.6034571654660679, pvalue=0.0647247527066569)\n"
     ]
    },
    {
     "name": "stderr",
     "output_type": "stream",
     "text": [
      "\n"
     ]
    }
   ],
   "source": [
    "######################################################\n",
    "########### AVERAGE REWARDS INTRASESSION #############\n",
    "######################################################\n",
    "\n",
    "#\n",
    "sess.verbose=False\n",
    "sess.n_rewards_intra_session_normalized()\n",
    "\n",
    "#"
   ]
  },
  {
   "cell_type": "code",
   "execution_count": 39,
   "id": "93288e4f",
   "metadata": {},
   "outputs": [
    {
     "name": "stderr",
     "output_type": "stream",
     "text": [
      "loading data for hit rate per session:  20%|█████████▏                                    | 1/5 [00:00<00:00,  6.05it/s]\n"
     ]
    },
    {
     "name": "stdout",
     "output_type": "stream",
     "text": [
      "Length of cc:  4 4\n",
      "Length of cc:  4 4\n"
     ]
    },
    {
     "ename": "ValueError",
     "evalue": "x and y must have same first dimension, but have shapes (1800,) and (3600,)",
     "output_type": "error",
     "traceback": [
      "\u001b[1;31m---------------------------------------------------------------------------\u001b[0m",
      "\u001b[1;31mValueError\u001b[0m                                Traceback (most recent call last)",
      "Input \u001b[1;32mIn [39]\u001b[0m, in \u001b[0;36m<cell line: 9>\u001b[1;34m()\u001b[0m\n\u001b[0;32m      7\u001b[0m sess\u001b[38;5;241m.\u001b[39mverbose\u001b[38;5;241m=\u001b[39m\u001b[38;5;28;01mFalse\u001b[39;00m\n\u001b[0;32m      8\u001b[0m sess\u001b[38;5;241m.\u001b[39mwindow \u001b[38;5;241m=\u001b[39m \u001b[38;5;241m30\u001b[39m   \u001b[38;5;66;03m# in seconds\u001b[39;00m\n\u001b[1;32m----> 9\u001b[0m \u001b[43msess\u001b[49m\u001b[38;5;241;43m.\u001b[39;49m\u001b[43mcorrelograms_inter_session\u001b[49m\u001b[43m(\u001b[49m\u001b[43m)\u001b[49m\n",
      "File \u001b[1;32mC:\\code\\bmi_working\\analysis\\utils.py:1715\u001b[0m, in \u001b[0;36mProcessSession.correlograms_inter_session\u001b[1;34m(self)\u001b[0m\n\u001b[0;32m   1710\u001b[0m y \u001b[38;5;241m=\u001b[39m cc[k][p]\n\u001b[0;32m   1711\u001b[0m \u001b[38;5;66;03m#print (\"y,: \", y)\u001b[39;00m\n\u001b[0;32m   1712\u001b[0m \u001b[38;5;66;03m#y = y/np.max(y)\u001b[39;00m\n\u001b[0;32m   1713\u001b[0m \n\u001b[0;32m   1714\u001b[0m \u001b[38;5;66;03m#print (\"y: \", y.shape, \", t: \", t.shape)\u001b[39;00m\n\u001b[1;32m-> 1715\u001b[0m \u001b[43mplt\u001b[49m\u001b[38;5;241;43m.\u001b[39;49m\u001b[43mplot\u001b[49m\u001b[43m(\u001b[49m\u001b[43mt\u001b[49m\u001b[43m,\u001b[49m\u001b[43my\u001b[49m\u001b[43m,\u001b[49m\u001b[43m \u001b[49m\u001b[43mcolor\u001b[49m\u001b[38;5;241;43m=\u001b[39;49m\u001b[43mcolors\u001b[49m\u001b[43m[\u001b[49m\u001b[43mctr_sess\u001b[49m\u001b[43m]\u001b[49m\u001b[43m)\u001b[49m\n\u001b[0;32m   1716\u001b[0m ctr\u001b[38;5;241m+\u001b[39m\u001b[38;5;241m=\u001b[39m\u001b[38;5;241m1\u001b[39m\n\u001b[0;32m   1718\u001b[0m plt\u001b[38;5;241m.\u001b[39mtitle(names[k] \u001b[38;5;241m+\u001b[39m \u001b[38;5;124m\"\u001b[39m\u001b[38;5;124m vs \u001b[39m\u001b[38;5;124m\"\u001b[39m \u001b[38;5;241m+\u001b[39mnames[p])\n",
      "File \u001b[1;32m~\\anaconda3\\envs\\bmi\\lib\\site-packages\\matplotlib\\pyplot.py:2769\u001b[0m, in \u001b[0;36mplot\u001b[1;34m(scalex, scaley, data, *args, **kwargs)\u001b[0m\n\u001b[0;32m   2767\u001b[0m \u001b[38;5;129m@_copy_docstring_and_deprecators\u001b[39m(Axes\u001b[38;5;241m.\u001b[39mplot)\n\u001b[0;32m   2768\u001b[0m \u001b[38;5;28;01mdef\u001b[39;00m \u001b[38;5;21mplot\u001b[39m(\u001b[38;5;241m*\u001b[39margs, scalex\u001b[38;5;241m=\u001b[39m\u001b[38;5;28;01mTrue\u001b[39;00m, scaley\u001b[38;5;241m=\u001b[39m\u001b[38;5;28;01mTrue\u001b[39;00m, data\u001b[38;5;241m=\u001b[39m\u001b[38;5;28;01mNone\u001b[39;00m, \u001b[38;5;241m*\u001b[39m\u001b[38;5;241m*\u001b[39mkwargs):\n\u001b[1;32m-> 2769\u001b[0m     \u001b[38;5;28;01mreturn\u001b[39;00m \u001b[43mgca\u001b[49m\u001b[43m(\u001b[49m\u001b[43m)\u001b[49m\u001b[38;5;241;43m.\u001b[39;49m\u001b[43mplot\u001b[49m\u001b[43m(\u001b[49m\n\u001b[0;32m   2770\u001b[0m \u001b[43m        \u001b[49m\u001b[38;5;241;43m*\u001b[39;49m\u001b[43margs\u001b[49m\u001b[43m,\u001b[49m\u001b[43m \u001b[49m\u001b[43mscalex\u001b[49m\u001b[38;5;241;43m=\u001b[39;49m\u001b[43mscalex\u001b[49m\u001b[43m,\u001b[49m\u001b[43m \u001b[49m\u001b[43mscaley\u001b[49m\u001b[38;5;241;43m=\u001b[39;49m\u001b[43mscaley\u001b[49m\u001b[43m,\u001b[49m\n\u001b[0;32m   2771\u001b[0m \u001b[43m        \u001b[49m\u001b[38;5;241;43m*\u001b[39;49m\u001b[38;5;241;43m*\u001b[39;49m\u001b[43m(\u001b[49m\u001b[43m{\u001b[49m\u001b[38;5;124;43m\"\u001b[39;49m\u001b[38;5;124;43mdata\u001b[39;49m\u001b[38;5;124;43m\"\u001b[39;49m\u001b[43m:\u001b[49m\u001b[43m \u001b[49m\u001b[43mdata\u001b[49m\u001b[43m}\u001b[49m\u001b[43m \u001b[49m\u001b[38;5;28;43;01mif\u001b[39;49;00m\u001b[43m \u001b[49m\u001b[43mdata\u001b[49m\u001b[43m \u001b[49m\u001b[38;5;129;43;01mis\u001b[39;49;00m\u001b[43m \u001b[49m\u001b[38;5;129;43;01mnot\u001b[39;49;00m\u001b[43m \u001b[49m\u001b[38;5;28;43;01mNone\u001b[39;49;00m\u001b[43m \u001b[49m\u001b[38;5;28;43;01melse\u001b[39;49;00m\u001b[43m \u001b[49m\u001b[43m{\u001b[49m\u001b[43m}\u001b[49m\u001b[43m)\u001b[49m\u001b[43m,\u001b[49m\u001b[43m \u001b[49m\u001b[38;5;241;43m*\u001b[39;49m\u001b[38;5;241;43m*\u001b[39;49m\u001b[43mkwargs\u001b[49m\u001b[43m)\u001b[49m\n",
      "File \u001b[1;32m~\\anaconda3\\envs\\bmi\\lib\\site-packages\\matplotlib\\axes\\_axes.py:1632\u001b[0m, in \u001b[0;36mAxes.plot\u001b[1;34m(self, scalex, scaley, data, *args, **kwargs)\u001b[0m\n\u001b[0;32m   1390\u001b[0m \u001b[38;5;124;03m\"\"\"\u001b[39;00m\n\u001b[0;32m   1391\u001b[0m \u001b[38;5;124;03mPlot y versus x as lines and/or markers.\u001b[39;00m\n\u001b[0;32m   1392\u001b[0m \n\u001b[1;32m   (...)\u001b[0m\n\u001b[0;32m   1629\u001b[0m \u001b[38;5;124;03m(``'green'``) or hex strings (``'#008000'``).\u001b[39;00m\n\u001b[0;32m   1630\u001b[0m \u001b[38;5;124;03m\"\"\"\u001b[39;00m\n\u001b[0;32m   1631\u001b[0m kwargs \u001b[38;5;241m=\u001b[39m cbook\u001b[38;5;241m.\u001b[39mnormalize_kwargs(kwargs, mlines\u001b[38;5;241m.\u001b[39mLine2D)\n\u001b[1;32m-> 1632\u001b[0m lines \u001b[38;5;241m=\u001b[39m [\u001b[38;5;241m*\u001b[39m\u001b[38;5;28mself\u001b[39m\u001b[38;5;241m.\u001b[39m_get_lines(\u001b[38;5;241m*\u001b[39margs, data\u001b[38;5;241m=\u001b[39mdata, \u001b[38;5;241m*\u001b[39m\u001b[38;5;241m*\u001b[39mkwargs)]\n\u001b[0;32m   1633\u001b[0m \u001b[38;5;28;01mfor\u001b[39;00m line \u001b[38;5;129;01min\u001b[39;00m lines:\n\u001b[0;32m   1634\u001b[0m     \u001b[38;5;28mself\u001b[39m\u001b[38;5;241m.\u001b[39madd_line(line)\n",
      "File \u001b[1;32m~\\anaconda3\\envs\\bmi\\lib\\site-packages\\matplotlib\\axes\\_base.py:312\u001b[0m, in \u001b[0;36m_process_plot_var_args.__call__\u001b[1;34m(self, data, *args, **kwargs)\u001b[0m\n\u001b[0;32m    310\u001b[0m     this \u001b[38;5;241m+\u001b[39m\u001b[38;5;241m=\u001b[39m args[\u001b[38;5;241m0\u001b[39m],\n\u001b[0;32m    311\u001b[0m     args \u001b[38;5;241m=\u001b[39m args[\u001b[38;5;241m1\u001b[39m:]\n\u001b[1;32m--> 312\u001b[0m \u001b[38;5;28;01myield from\u001b[39;00m \u001b[38;5;28;43mself\u001b[39;49m\u001b[38;5;241;43m.\u001b[39;49m\u001b[43m_plot_args\u001b[49m\u001b[43m(\u001b[49m\u001b[43mthis\u001b[49m\u001b[43m,\u001b[49m\u001b[43m \u001b[49m\u001b[43mkwargs\u001b[49m\u001b[43m)\u001b[49m\n",
      "File \u001b[1;32m~\\anaconda3\\envs\\bmi\\lib\\site-packages\\matplotlib\\axes\\_base.py:498\u001b[0m, in \u001b[0;36m_process_plot_var_args._plot_args\u001b[1;34m(self, tup, kwargs, return_kwargs)\u001b[0m\n\u001b[0;32m    495\u001b[0m     \u001b[38;5;28mself\u001b[39m\u001b[38;5;241m.\u001b[39maxes\u001b[38;5;241m.\u001b[39myaxis\u001b[38;5;241m.\u001b[39mupdate_units(y)\n\u001b[0;32m    497\u001b[0m \u001b[38;5;28;01mif\u001b[39;00m x\u001b[38;5;241m.\u001b[39mshape[\u001b[38;5;241m0\u001b[39m] \u001b[38;5;241m!=\u001b[39m y\u001b[38;5;241m.\u001b[39mshape[\u001b[38;5;241m0\u001b[39m]:\n\u001b[1;32m--> 498\u001b[0m     \u001b[38;5;28;01mraise\u001b[39;00m \u001b[38;5;167;01mValueError\u001b[39;00m(\u001b[38;5;124mf\u001b[39m\u001b[38;5;124m\"\u001b[39m\u001b[38;5;124mx and y must have same first dimension, but \u001b[39m\u001b[38;5;124m\"\u001b[39m\n\u001b[0;32m    499\u001b[0m                      \u001b[38;5;124mf\u001b[39m\u001b[38;5;124m\"\u001b[39m\u001b[38;5;124mhave shapes \u001b[39m\u001b[38;5;132;01m{\u001b[39;00mx\u001b[38;5;241m.\u001b[39mshape\u001b[38;5;132;01m}\u001b[39;00m\u001b[38;5;124m and \u001b[39m\u001b[38;5;132;01m{\u001b[39;00my\u001b[38;5;241m.\u001b[39mshape\u001b[38;5;132;01m}\u001b[39;00m\u001b[38;5;124m\"\u001b[39m)\n\u001b[0;32m    500\u001b[0m \u001b[38;5;28;01mif\u001b[39;00m x\u001b[38;5;241m.\u001b[39mndim \u001b[38;5;241m>\u001b[39m \u001b[38;5;241m2\u001b[39m \u001b[38;5;129;01mor\u001b[39;00m y\u001b[38;5;241m.\u001b[39mndim \u001b[38;5;241m>\u001b[39m \u001b[38;5;241m2\u001b[39m:\n\u001b[0;32m    501\u001b[0m     \u001b[38;5;28;01mraise\u001b[39;00m \u001b[38;5;167;01mValueError\u001b[39;00m(\u001b[38;5;124mf\u001b[39m\u001b[38;5;124m\"\u001b[39m\u001b[38;5;124mx and y can be no greater than 2D, but have \u001b[39m\u001b[38;5;124m\"\u001b[39m\n\u001b[0;32m    502\u001b[0m                      \u001b[38;5;124mf\u001b[39m\u001b[38;5;124m\"\u001b[39m\u001b[38;5;124mshapes \u001b[39m\u001b[38;5;132;01m{\u001b[39;00mx\u001b[38;5;241m.\u001b[39mshape\u001b[38;5;132;01m}\u001b[39;00m\u001b[38;5;124m and \u001b[39m\u001b[38;5;132;01m{\u001b[39;00my\u001b[38;5;241m.\u001b[39mshape\u001b[38;5;132;01m}\u001b[39;00m\u001b[38;5;124m\"\u001b[39m)\n",
      "\u001b[1;31mValueError\u001b[0m: x and y must have same first dimension, but have shapes (1800,) and (3600,)"
     ]
    }
   ],
   "source": [
    "######################################################\n",
    "########### EVOLUTION OF CELL-XCORRELOGRAMS ##########\n",
    "######################################################\n",
    "\n",
    "#\n",
    "sess.verbose=False\n",
    "sess.window = 30   # in seconds\n",
    "sess.correlograms_inter_session()"
   ]
  },
  {
   "cell_type": "code",
   "execution_count": 7,
   "id": "17976e29",
   "metadata": {},
   "outputs": [
    {
     "name": "stdout",
     "output_type": "stream",
     "text": [
      "DONE >..\n"
     ]
    }
   ],
   "source": [
    "######################################################\n",
    "############### SHOW N-BURSTS / SESSION ##############\n",
    "######################################################\n",
    "\n",
    "#\n",
    "sess.n_bursts_per_session()\n",
    "\n",
    "#\n",
    "print (\"DONE >..\")"
   ]
  },
  {
   "cell_type": "code",
   "execution_count": 1,
   "id": "3d24463f",
   "metadata": {},
   "outputs": [
    {
     "ename": "NameError",
     "evalue": "name 'sess' is not defined",
     "output_type": "error",
     "traceback": [
      "\u001b[0;31m---------------------------------------------------------------------------\u001b[0m",
      "\u001b[0;31mNameError\u001b[0m                                 Traceback (most recent call last)",
      "Cell \u001b[0;32mIn[1], line 13\u001b[0m\n\u001b[1;32m      8\u001b[0m cd \u001b[39m=\u001b[39m [ \u001b[39m'\u001b[39m\u001b[39m20230401\u001b[39m\u001b[39m'\u001b[39m,\n\u001b[1;32m      9\u001b[0m     \u001b[39m'\u001b[39m\u001b[39m20230402\u001b[39m\u001b[39m'\u001b[39m,]\n\u001b[1;32m     10\u001b[0m r \u001b[39m=\u001b[39m [  \u001b[39m'\u001b[39m\u001b[39m20230402\u001b[39m\u001b[39m'\u001b[39m,\n\u001b[1;32m     11\u001b[0m     \u001b[39m'\u001b[39m\u001b[39m20230403\u001b[39m\u001b[39m'\u001b[39m]\n\u001b[0;32m---> 13\u001b[0m sess\u001b[39m.\u001b[39mpre \u001b[39m=\u001b[39m t\n\u001b[1;32m     14\u001b[0m sess\u001b[39m.\u001b[39mduring \u001b[39m=\u001b[39m cd\n\u001b[1;32m     15\u001b[0m sess\u001b[39m.\u001b[39mpost \u001b[39m=\u001b[39m r\n",
      "\u001b[0;31mNameError\u001b[0m: name 'sess' is not defined"
     ]
    }
   ],
   "source": [
    "########################################################\n",
    "########### CONTINGENCY DEGRADATION PLOTS ##############\n",
    "########################################################\n",
    "\n",
    "#\n",
    "t = [ '20230329',\n",
    "    '20230330']\n",
    "cd = [ '20230401',\n",
    "    '20230402',]\n",
    "r = [  '20230402',\n",
    "    '20230403']\n",
    "\n",
    "sess.pre = t\n",
    "sess.during = cd\n",
    "sess.post = r\n",
    "\n",
    "#\n",
    "sess.contingency_degradation()\n",
    "\n",
    "#\n"
   ]
  },
  {
   "cell_type": "code",
   "execution_count": 27,
   "id": "ceb92b25",
   "metadata": {},
   "outputs": [],
   "source": [
    "########################################################\n",
    "########### EARLY VS. LATE PER 5 MIN BLOCK #############\n",
    "########################################################\n",
    "\n",
    "#\n",
    "early = ['20230131',\n",
    "        '20230201',\n",
    "        '20230202',\n",
    "        ]\n",
    "late = ['20230202',\n",
    "        '20230203',\n",
    "        '20230204',\n",
    "       ]\n",
    "\n",
    "#\n",
    "sess.early = early\n",
    "sess.late = late\n",
    "\n",
    "#\n",
    "sess.early_vs_late()\n",
    "\n",
    "#"
   ]
  },
  {
   "cell_type": "code",
   "execution_count": 14,
   "id": "072b8711",
   "metadata": {},
   "outputs": [],
   "source": [
    "#############################################################\n",
    "########### EARLY VS. LATE PLOTS - PER SESSION ##############\n",
    "#############################################################\n",
    "\n",
    "# same but showing averages per session\n",
    "sess.early = early\n",
    "sess.late = late\n",
    "\n",
    "#\n",
    "sess.early_vs_late_session()\n"
   ]
  },
  {
   "cell_type": "code",
   "execution_count": null,
   "id": "9cc50f86",
   "metadata": {},
   "outputs": [],
   "source": []
  }
 ],
 "metadata": {
  "kernelspec": {
   "display_name": "Python 3 (ipykernel)",
   "language": "python",
   "name": "python3"
  },
  "language_info": {
   "codemirror_mode": {
    "name": "ipython",
    "version": 3
   },
   "file_extension": ".py",
   "mimetype": "text/x-python",
   "name": "python",
   "nbconvert_exporter": "python",
   "pygments_lexer": "ipython3",
   "version": "3.8.15"
  },
  "toc-autonumbering": false,
  "toc-showcode": true
 },
 "nbformat": 4,
 "nbformat_minor": 5
}
