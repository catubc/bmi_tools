{
 "cells": [
  {
   "cell_type": "code",
   "execution_count": 1,
   "id": "ffea5c80",
   "metadata": {},
   "outputs": [
    {
     "data": {
      "application/javascript": "IPython.notebook.set_autosave_interval(180000)"
     },
     "metadata": {},
     "output_type": "display_data"
    },
    {
     "name": "stdout",
     "output_type": "stream",
     "text": [
      "Autosaving every 180 seconds\n"
     ]
    }
   ],
   "source": [
    "import matplotlib.pyplot as plt\n",
    "import matplotlib\n",
    "\n",
    "%matplotlib tk\n",
    "%autosave 180\n",
    "%load_ext autoreload\n",
    "%autoreload 2\n",
    "\n",
    "\n",
    "import numpy as np\n",
    "#%matplotlib inline\n",
    "import os\n",
    "\n",
    "import os\n",
    "\n",
    "from utils_behavior import ProcessSession"
   ]
  },
  {
   "cell_type": "code",
   "execution_count": 2,
   "id": "1836dfab",
   "metadata": {},
   "outputs": [],
   "source": [
    "####################################################\n",
    "################## LOAD DATA #######################\n",
    "####################################################\n",
    "\n",
    "\n",
    "root_dir = r'F:\\bmi\\cohort12'\n",
    "#root_dir = '/media/cat/4TB/donato/andres/'\n",
    "\n",
    "root_dir = '/media/cat/8TB/donato/bmi/master_analysis'\n",
    "animal_id = 'DON-016550'\n",
    "# animal_id = 'DON-016551'\n",
    "# animal_id = 'DON-015961'\n",
    "# animal_id = 'DON-015962'\n",
    "session_ids = [\n",
    "    '20230823',\n",
    "    '20230824',\n",
    "    '20230825',\n",
    "    '20230826',\n",
    "    '20230827',\n",
    "    '20230828',\n",
    "    '20230829',\n",
    "    '20230830'\n",
    "]\n",
    "\n",
    "#sessions_early  = [\n",
    "#    '20230127',\n",
    "#    '20230128',\n",
    "#]\n",
    "\n",
    "animal_id = 'DON-014382'\n",
    "#\n",
    "\n",
    "#\n",
    "sess = ProcessSession(root_dir,\n",
    "                      animal_id)\n",
    "#\n",
    "sess.verbose=False\n",
    "\n",
    "#\n",
    "\n"
   ]
  },
  {
   "cell_type": "code",
   "execution_count": 3,
   "id": "d4c12419",
   "metadata": {},
   "outputs": [
    {
     "name": "stdout",
     "output_type": "stream",
     "text": [
      "Loading n_rewards_per_session.npy\n"
     ]
    },
    {
     "name": "stderr",
     "output_type": "stream",
     "text": [
     ]
    },
    {
     "name": "stdout",
     "output_type": "stream",
     "text": [
     ]
    }
   ],
   "source": [
    "######################################################\n",
    "############### SHOW N-REWARDS / SESSION #############\n",
    "######################################################\n",
    "\n",
    "#\n",
    "sess.n_rewards_per_session()\n",
    "\n",
    "print (\"DONE >..\")\n"
   ]
  },
  {
   "metadata": {},
   "outputs": [
    {
     "name": "stderr",
     "output_type": "stream",
     "text": [
     ]
    },
    {
     "name": "stdout",
     "output_type": "stream",
     "text": [
      "DONE >..\n"
     ]
    }
   ],
   "source": [
    "######################################################\n",
    "############### SHOW HIT RATES / SESSION #############\n",
    "######################################################\n",
    "\n",
    "#\n",
    "sess.show_plots=True\n",
    "sess.hit_rate_per_session()\n",
    "\n",
    "print (\"DONE >..\")\n"
   ]
  },
  {
   "cell_type": "code",
   "metadata": {},
   "outputs": [
    {
     "name": "stdout",
     "output_type": "stream",
     "text": [
      "Loading data...\n",
      "    ... done loading data...\n",
      "Loading data...\n",
      "    ... done loading data...\n",
      "Loading data...\n",
      "    ... done loading data...\n",
      "Loading data...\n",
      "    ... done loading data...\n",
      "Loading data...\n",
      "    ... done loading data...\n",
      "Loading data...\n",
      "    ... done loading data...\n",
      "Loading data...\n",
      "    ... done loading data...\n",
      "Loading data...\n",
      "    ... done loading data...\n",
      "DONE >..\n"
     ]
    }
   ],
   "source": [
    "######################################################\n",
    "########### AVERAGE REWARDS INTRASESSION #############\n",
    "######################################################\n",
    "\n",
    "#\n",
    "sess.session_id = 1\n",
    "sess.n_rewards_intra_session()\n",
    "\n",
    "#\n",
    "print (\"DONE >..\")"
   ]
  },
  {
   "cell_type": "code",
<<<<<<< HEAD:analysis/behavior/visualize_animal_v2.ipynb
   "execution_count": 65,
   "id": "a97e219d",
   "metadata": {
    "jupyter": {
     "source_hidden": true
    }
   },
=======
   "execution_count": 6,
   "id": "8da51830",
   "metadata": {},
>>>>>>> 79dd5dbcd3900b6aad8ea6387ef4b3088f157a80:analysis/visualize_animal_v2.ipynb
   "outputs": [
    {
     "name": "stderr",
     "output_type": "stream",
     "text": [
<<<<<<< HEAD:analysis/behavior/visualize_animal_v2.ipynb
      "  0%|          | 0/9 [00:00<?, ?it/s]"
     ]
    },
    {
     "name": "stdout",
     "output_type": "stream",
     "text": [
      "Loading data...\n",
      "Could not load file:  /media/cat/8TB/donato/bmi/master_analysis/DON-014382/day0/data/results.npz\n",
      "    ... done loading data...\n",
      "Loading data...\n"
     ]
    },
    {
     "name": "stderr",
     "output_type": "stream",
     "text": [
      " 22%|██▏       | 2/9 [00:06<00:22,  3.28s/it]"
     ]
    },
    {
     "name": "stdout",
     "output_type": "stream",
     "text": [
      "    ... done loading data...\n",
      "Loading data...\n"
     ]
    },
    {
     "name": "stderr",
     "output_type": "stream",
     "text": [
      " 33%|███▎      | 3/9 [00:12<00:26,  4.49s/it]"
     ]
    },
    {
     "name": "stdout",
     "output_type": "stream",
     "text": [
      "    ... done loading data...\n",
      "Loading data...\n"
     ]
    },
    {
     "name": "stderr",
     "output_type": "stream",
     "text": [
      " 44%|████▍     | 4/9 [00:19<00:26,  5.20s/it]"
     ]
    },
    {
     "name": "stdout",
     "output_type": "stream",
     "text": [
      "    ... done loading data...\n",
      "Loading data...\n"
     ]
    },
    {
     "name": "stderr",
     "output_type": "stream",
     "text": [
      " 56%|█████▌    | 5/9 [00:25<00:22,  5.57s/it]"
     ]
    },
    {
     "name": "stdout",
     "output_type": "stream",
     "text": [
      "    ... done loading data...\n",
      "Loading data...\n"
     ]
    },
    {
     "name": "stderr",
     "output_type": "stream",
     "text": [
      " 67%|██████▋   | 6/9 [00:31<00:17,  5.82s/it]"
     ]
    },
    {
     "name": "stdout",
     "output_type": "stream",
     "text": [
      "    ... done loading data...\n",
      "Loading data...\n"
     ]
    },
    {
     "name": "stderr",
     "output_type": "stream",
     "text": [
      " 78%|███████▊  | 7/9 [00:38<00:12,  6.06s/it]"
     ]
    },
    {
     "name": "stdout",
     "output_type": "stream",
     "text": [
      "    ... done loading data...\n",
      "Loading data...\n"
     ]
    },
    {
     "name": "stderr",
     "output_type": "stream",
     "text": [
      " 89%|████████▉ | 8/9 [00:44<00:06,  6.11s/it]"
     ]
    },
    {
     "name": "stdout",
     "output_type": "stream",
     "text": [
      "    ... done loading data...\n",
      "Loading data...\n"
     ]
    },
    {
     "name": "stderr",
     "output_type": "stream",
     "text": [
      "100%|██████████| 9/9 [00:51<00:00,  5.67s/it]"
     ]
    },
    {
     "name": "stdout",
     "output_type": "stream",
     "text": [
      "    ... done loading data...\n"
     ]
    },
    {
     "name": "stderr",
     "output_type": "stream",
     "text": [
      "\n"
=======
      "100%|█████████████████████████████████████████████████████████████████████████████████████| 8/8 [01:17<00:00,  9.68s/it]\n"
>>>>>>> 79dd5dbcd3900b6aad8ea6387ef4b3088f157a80:analysis/visualize_animal_v2.ipynb
     ]
    }
   ],
   "source": [
    "######################################################\n",
    "########### AVERAGE REWARDS INTRASESSION #############\n",
    "######################################################\n",
    "\n",
    "#\n",
    "sess.verbose=False\n",
    "sess.n_rewards_intra_session_normalized()\n",
    "\n",
    "#"
   ]
  },
  {
   "cell_type": "code",
<<<<<<< HEAD:analysis/behavior/visualize_animal_v2.ipynb
   "execution_count": 66,
   "id": "445fe50f",
=======
   "execution_count": 7,
   "id": "37a13353",
>>>>>>> 79dd5dbcd3900b6aad8ea6387ef4b3088f157a80:analysis/visualize_animal_v2.ipynb
   "metadata": {},
   "outputs": [
    {
     "name": "stderr",
     "output_type": "stream",
     "text": [
<<<<<<< HEAD:analysis/behavior/visualize_animal_v2.ipynb
      "loading data for n_bursts_per_session: 100%|██████████| 8/8 [00:00<00:00, 374.77it/s]\n"
=======
      "loading data for n_bursts_per_session: 100%|█████████████████████████████████████████████| 8/8 [00:00<00:00, 205.65it/s]\n"
>>>>>>> 79dd5dbcd3900b6aad8ea6387ef4b3088f157a80:analysis/visualize_animal_v2.ipynb
     ]
    },
    {
     "name": "stdout",
     "output_type": "stream",
     "text": [
      "DONE >..\n"
     ]
    }
   ],
   "source": [
    "######################################################\n",
    "############### SHOW N-BURSTS / SESSION ##############\n",
    "######################################################\n",
    "\n",
    "#\n",
    "sess.n_bursts_per_session()\n",
    "\n",
    "#\n",
    "print (\"DONE >..\")"
   ]
  },
  {
   "cell_type": "code",
<<<<<<< HEAD:analysis/behavior/visualize_animal_v2.ipynb
   "execution_count": 68,
   "id": "c3c2595a",
=======
   "execution_count": 8,
   "id": "a3f79dbf",
>>>>>>> 79dd5dbcd3900b6aad8ea6387ef4b3088f157a80:analysis/visualize_animal_v2.ipynb
   "metadata": {},
   "outputs": [
    {
     "name": "stderr",
     "output_type": "stream",
     "text": [
<<<<<<< HEAD:analysis/behavior/visualize_animal_v2.ipynb
      "loading data for hit rate per session:   0%|          | 0/8 [00:00<?, ?it/s]\n"
     ]
    },
    {
     "ename": "FileNotFoundError",
     "evalue": "[Errno 2] No such file or directory: '/media/cat/8TB/donato/bmi/master_analysis/DON-014382/20230408/results/correlograms_fluorescence.npy'",
     "output_type": "error",
     "traceback": [
      "\u001b[0;31m---------------------------------------------------------------------------\u001b[0m",
      "\u001b[0;31mFileNotFoundError\u001b[0m                         Traceback (most recent call last)",
      "Cell \u001b[0;32mIn[68], line 8\u001b[0m\n\u001b[1;32m      6\u001b[0m sess\u001b[39m.\u001b[39mverbose\u001b[39m=\u001b[39m\u001b[39mFalse\u001b[39;00m\n\u001b[1;32m      7\u001b[0m sess\u001b[39m.\u001b[39mwindow \u001b[39m=\u001b[39m \u001b[39m30\u001b[39m   \u001b[39m# in seconds\u001b[39;00m\n\u001b[0;32m----> 8\u001b[0m sess\u001b[39m.\u001b[39;49mcorrelograms_inter_session()\n",
      "File \u001b[0;32m~/code/bmi/analysis/behavior/utils_behavior.py:1864\u001b[0m, in \u001b[0;36mProcessSession.correlograms_inter_session\u001b[0;34m(self)\u001b[0m\n\u001b[1;32m   1860\u001b[0m ctr_sess \u001b[39m=\u001b[39m\u001b[39m0\u001b[39m\n\u001b[1;32m   1861\u001b[0m \u001b[39mfor\u001b[39;00m session_id \u001b[39min\u001b[39;00m tqdm(\u001b[39mself\u001b[39m\u001b[39m.\u001b[39msession_ids[\u001b[39m1\u001b[39m:], desc\u001b[39m=\u001b[39m\u001b[39m'\u001b[39m\u001b[39mloading data for hit rate per session\u001b[39m\u001b[39m'\u001b[39m):\n\u001b[1;32m   1862\u001b[0m \n\u001b[1;32m   1863\u001b[0m     \u001b[39m#\u001b[39;00m\n\u001b[0;32m-> 1864\u001b[0m     cc \u001b[39m=\u001b[39m np\u001b[39m.\u001b[39;49mload(os\u001b[39m.\u001b[39;49mpath\u001b[39m.\u001b[39;49mjoin(\u001b[39mself\u001b[39;49m\u001b[39m.\u001b[39;49mroot_dir,\n\u001b[1;32m   1865\u001b[0m                               \u001b[39mself\u001b[39;49m\u001b[39m.\u001b[39;49manimal_id,\n\u001b[1;32m   1866\u001b[0m                               session_id,\n\u001b[1;32m   1867\u001b[0m                               \u001b[39m'\u001b[39;49m\u001b[39mresults\u001b[39;49m\u001b[39m'\u001b[39;49m,\n\u001b[1;32m   1868\u001b[0m                               \u001b[39m'\u001b[39;49m\u001b[39mcorrelograms_fluorescence.npy\u001b[39;49m\u001b[39m'\u001b[39;49m), allow_pickle\u001b[39m=\u001b[39;49m\u001b[39mTrue\u001b[39;49;00m)\n\u001b[1;32m   1869\u001b[0m    \u001b[39m# print (\"cc : \", cc)\u001b[39;00m\n\u001b[1;32m   1870\u001b[0m     \u001b[39mprint\u001b[39m (\u001b[39m\"\u001b[39m\u001b[39mLength of cc: \u001b[39m\u001b[39m\"\u001b[39m, \u001b[39mlen\u001b[39m(cc), \u001b[39mlen\u001b[39m(cc[\u001b[39m0\u001b[39m]))\n",
      "File \u001b[0;32m~/.conda/envs/bmi/lib/python3.8/site-packages/numpy/lib/npyio.py:405\u001b[0m, in \u001b[0;36mload\u001b[0;34m(file, mmap_mode, allow_pickle, fix_imports, encoding, max_header_size)\u001b[0m\n\u001b[1;32m    403\u001b[0m     own_fid \u001b[39m=\u001b[39m \u001b[39mFalse\u001b[39;00m\n\u001b[1;32m    404\u001b[0m \u001b[39melse\u001b[39;00m:\n\u001b[0;32m--> 405\u001b[0m     fid \u001b[39m=\u001b[39m stack\u001b[39m.\u001b[39menter_context(\u001b[39mopen\u001b[39;49m(os_fspath(file), \u001b[39m\"\u001b[39;49m\u001b[39mrb\u001b[39;49m\u001b[39m\"\u001b[39;49m))\n\u001b[1;32m    406\u001b[0m     own_fid \u001b[39m=\u001b[39m \u001b[39mTrue\u001b[39;00m\n\u001b[1;32m    408\u001b[0m \u001b[39m# Code to distinguish from NumPy binary files and pickles.\u001b[39;00m\n",
      "\u001b[0;31mFileNotFoundError\u001b[0m: [Errno 2] No such file or directory: '/media/cat/8TB/donato/bmi/master_analysis/DON-014382/20230408/results/correlograms_fluorescence.npy'"
=======
      "loading data for hit rate per session:   0%|                                                      | 0/8 [00:00<?, ?it/s]"
     ]
    },
    {
     "name": "stdout",
     "output_type": "stream",
     "text": [
      "Length of cc:  4 4\n"
     ]
    },
    {
     "name": "stderr",
     "output_type": "stream",
     "text": [
      "loading data for hit rate per session:  12%|█████▊                                        | 1/8 [00:00<00:00,  7.48it/s]"
     ]
    },
    {
     "name": "stdout",
     "output_type": "stream",
     "text": [
      "Length of cc:  4 4\n",
      "Length of cc:  4 4\n",
      "Length of cc:  4 4\n",
      "Length of cc:  4 4\n"
     ]
    },
    {
     "name": "stderr",
     "output_type": "stream",
     "text": [
      "loading data for hit rate per session: 100%|██████████████████████████████████████████████| 8/8 [00:00<00:00, 27.19it/s]"
     ]
    },
    {
     "name": "stdout",
     "output_type": "stream",
     "text": [
      "Length of cc:  4 4\n",
      "Length of cc:  4 4\n",
      "Length of cc:  4 4\n"
     ]
    },
    {
     "name": "stderr",
     "output_type": "stream",
     "text": [
      "\n"
>>>>>>> 79dd5dbcd3900b6aad8ea6387ef4b3088f157a80:analysis/visualize_animal_v2.ipynb
     ]
    }
   ],
   "source": [
    "######################################################\n",
    "########### EVOLUTION OF CELL-XCORRELOGRAMS ##########\n",
    "######################################################\n",
    "\n",
    "#\n",
    "sess.verbose=False\n",
    "sess.window = 30   # in seconds\n",
    "sess.correlograms_inter_session()"
   ]
  },
  {
   "cell_type": "code",
   "execution_count": null,
   "id": "29789bee",
   "metadata": {},
   "outputs": [],
   "source": []
  },
  {
   "cell_type": "code",
   "execution_count": null,
   "id": "6bedb457",
   "metadata": {},
   "outputs": [],
   "source": []
  },
  {
   "cell_type": "code",
   "execution_count": null,
   "id": "3fafd5d1",
   "metadata": {},
   "outputs": [],
   "source": []
  },
  {
   "cell_type": "code",
   "execution_count": null,
   "id": "30dc4587",
   "metadata": {},
   "outputs": [],
   "source": []
  },
  {
   "cell_type": "code",
   "execution_count": null,
   "id": "dafd9f4f",
   "metadata": {},
   "outputs": [],
   "source": []
  },
  {
   "cell_type": "code",
   "execution_count": null,
   "id": "d9ead203",
   "metadata": {},
   "outputs": [],
   "source": []
  },
  {
   "cell_type": "code",
   "execution_count": null,
   "id": "acfb9385",
   "metadata": {},
   "outputs": [],
   "source": []
  },
  {
   "cell_type": "code",
   "execution_count": null,
   "id": "6e053adc",
   "metadata": {},
   "outputs": [],
   "source": []
  },
  {
   "cell_type": "code",
   "execution_count": null,
   "id": "3b0cb9bd",
   "metadata": {},
   "outputs": [],
   "source": []
  },
  {
   "cell_type": "code",
   "execution_count": null,
   "id": "7caae0f0",
   "metadata": {},
   "outputs": [],
   "source": []
  },
  {
   "cell_type": "code",
   "execution_count": null,
   "id": "ba941428",
   "metadata": {},
   "outputs": [],
   "source": []
  },
  {
   "cell_type": "code",
   "execution_count": null,
   "id": "24021416",
   "metadata": {},
   "outputs": [],
   "source": []
  },
  {
   "cell_type": "code",
   "execution_count": null,
   "id": "bd24c563",
   "metadata": {},
   "outputs": [],
   "source": []
  },
  {
   "cell_type": "code",
   "execution_count": null,
   "id": "c7bb70a9",
   "metadata": {},
   "outputs": [],
   "source": [
    "########################################################\n",
    "########### CONTINGENCY DEGRADATION PLOTS ##############\n",
    "########################################################\n",
    "\n",
    "#\n",
    "\n",
    "#\n",
    "sess.contingency_degradation()\n",
    "\n",
    "#\n"
   ]
  },
  {
   "cell_type": "code",
   "execution_count": 19,
   "id": "1ec7441f",
   "metadata": {},
   "outputs": [
    {
     "ename": "AttributeError",
     "evalue": "'ProcessSession' object has no attribute 'early'",
     "output_type": "error",
     "traceback": [
      "\u001b[1;31m---------------------------------------------------------------------------\u001b[0m",
      "\u001b[1;31mAttributeError\u001b[0m                            Traceback (most recent call last)",
      "Input \u001b[1;32mIn [19]\u001b[0m, in \u001b[0;36m<cell line: 7>\u001b[1;34m()\u001b[0m\n\u001b[0;32m      1\u001b[0m \u001b[38;5;66;03m########################################################\u001b[39;00m\n\u001b[0;32m      2\u001b[0m \u001b[38;5;66;03m########### EARLY VS. LATE PER 5 MIN BLOCK #############\u001b[39;00m\n\u001b[0;32m      3\u001b[0m \u001b[38;5;66;03m########################################################\u001b[39;00m\n\u001b[0;32m      4\u001b[0m \n\u001b[0;32m      5\u001b[0m \n\u001b[0;32m      6\u001b[0m \u001b[38;5;66;03m#\u001b[39;00m\n\u001b[1;32m----> 7\u001b[0m \u001b[43msess\u001b[49m\u001b[38;5;241;43m.\u001b[39;49m\u001b[43mearly_vs_late\u001b[49m\u001b[43m(\u001b[49m\u001b[43m)\u001b[49m\n",
      "File \u001b[1;32mC:\\code\\bmi_working\\analysis\\utils.py:612\u001b[0m, in \u001b[0;36mProcessSession.early_vs_late\u001b[1;34m(self)\u001b[0m\n\u001b[0;32m    608\u001b[0m \u001b[38;5;28;01mdef\u001b[39;00m \u001b[38;5;21mearly_vs_late\u001b[39m(\u001b[38;5;28mself\u001b[39m):\n\u001b[0;32m    609\u001b[0m \n\u001b[0;32m    610\u001b[0m     \u001b[38;5;66;03m# load test data\u001b[39;00m\n\u001b[0;32m    611\u001b[0m     early \u001b[38;5;241m=\u001b[39m []\n\u001b[1;32m--> 612\u001b[0m     \u001b[38;5;28;01mfor\u001b[39;00m session_id \u001b[38;5;129;01min\u001b[39;00m \u001b[38;5;28;43mself\u001b[39;49m\u001b[38;5;241;43m.\u001b[39;49m\u001b[43mearly\u001b[49m:\n\u001b[0;32m    613\u001b[0m         d \u001b[38;5;241m=\u001b[39m np\u001b[38;5;241m.\u001b[39mload(os\u001b[38;5;241m.\u001b[39mpath\u001b[38;5;241m.\u001b[39mjoin(\u001b[38;5;28mself\u001b[39m\u001b[38;5;241m.\u001b[39mroot_dir,\n\u001b[0;32m    614\u001b[0m                                  \u001b[38;5;28mself\u001b[39m\u001b[38;5;241m.\u001b[39manimal_id,\n\u001b[0;32m    615\u001b[0m                                  session_id,\n\u001b[0;32m    616\u001b[0m                                  \u001b[38;5;124m'\u001b[39m\u001b[38;5;124mresults/intra_session_reward_hits_per_minute.npy\u001b[39m\u001b[38;5;124m'\u001b[39m\n\u001b[0;32m    617\u001b[0m                                  ))\n\u001b[0;32m    618\u001b[0m         early\u001b[38;5;241m.\u001b[39mappend(d)\n",
      "\u001b[1;31mAttributeError\u001b[0m: 'ProcessSession' object has no attribute 'early'"
     ]
    }
   ],
   "source": [
    "########################################################\n",
    "########### EARLY VS. LATE PER 5 MIN BLOCK #############\n",
    "########################################################\n",
    "\n",
    "\n",
    "#\n",
    "sess.early_vs_late()\n",
    "\n",
    "#"
   ]
  },
  {
   "cell_type": "code",
   "execution_count": null,
   "id": "6b9cbdc1",
   "metadata": {},
   "outputs": [],
   "source": [
    "#############################################################\n",
    "########### EARLY VS. LATE PLOTS - PER SESSION ##############\n",
    "#############################################################\n",
    "#\n",
    "sess.early_vs_late_session()\n"
   ]
  },
  {
   "cell_type": "code",
   "execution_count": null,
   "id": "3ef1978e",
   "metadata": {},
   "outputs": [],
   "source": [
    "#############################################################\n",
    "########### TIME TO REWARD EARLY VS. LATE ###################\n",
    "#############################################################\n",
    "\n",
    "#\n",
    "sess.time_to_reward_per_trial_inter_session_late_vs_early()\n",
    "\n"
   ]
  },
  {
   "cell_type": "code",
   "execution_count": null,
   "id": "fdfac129",
   "metadata": {},
   "outputs": [],
   "source": [
    "###########################################\n",
    "####### BINNED PAIRWISE CORRELATIONS ######\n",
    "###########################################\n",
    "\n",
    "#\n",
    "#sess.session_id = '20230202'\n",
    "#sess.session_id = '20230131'\n",
    "sess.pairwise_correlations_inter_session_dff()"
   ]
  },
  {
   "cell_type": "code",
   "execution_count": null,
   "id": "fdf13454",
   "metadata": {},
   "outputs": [],
   "source": [
    "'/media/cat/4TB/donato/andres/DON-011733/20230127/pairwise_correlations_intra_session_upphase.npz'\n",
    "'/media/cat/4TB/donato/andres/DON-011733/20230127/results/pairwise_correlations_intra_session_upphase.npz'\n",
    "\n"
   ]
  },
  {
   "cell_type": "code",
   "execution_count": null,
   "id": "a1625613",
   "metadata": {},
   "outputs": [],
   "source": []
  },
  {
   "cell_type": "code",
   "execution_count": null,
   "id": "bf5e38b4",
   "metadata": {},
   "outputs": [],
   "source": []
  }
 ],
 "metadata": {
  "kernelspec": {
   "display_name": "Python 3 (ipykernel)",
   "language": "python",
   "name": "python3"
  },
  "language_info": {
   "codemirror_mode": {
    "name": "ipython",
    "version": 3
   },
   "file_extension": ".py",
   "mimetype": "text/x-python",
   "name": "python",
   "nbconvert_exporter": "python",
   "pygments_lexer": "ipython3",
   "version": "3.8.15"
  },
  "toc-autonumbering": false,
  "toc-showcode": true
 },
 "nbformat": 4,
 "nbformat_minor": 5
}
