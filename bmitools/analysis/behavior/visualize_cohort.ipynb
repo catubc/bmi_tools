{
 "cells": [
  {
   "cell_type": "code",
   "execution_count": 1,
   "id": "92e6bc3c",
   "metadata": {},
   "outputs": [
    {
     "data": {
      "application/javascript": "IPython.notebook.set_autosave_interval(180000)"
     },
     "metadata": {},
     "output_type": "display_data"
    },
    {
     "name": "stdout",
     "output_type": "stream",
     "text": [
      "Autosaving every 180 seconds\n"
     ]
    }
   ],
   "source": [
    "import matplotlib.pyplot as plt\n",
    "import matplotlib\n",
    "\n",
    "%matplotlib tk\n",
    "%autosave 180\n",
    "%load_ext autoreload\n",
    "%autoreload 2\n",
    "\n",
    "\n",
    "import numpy as np\n",
    "#%matplotlib inline\n",
    "import os\n",
    "\n",
    "import os\n",
    "\n",
    "from utils_behavior import ProcessSession, ProcessCohort"
   ]
  },
  {
   "cell_type": "code",
   "execution_count": 6,
   "id": "e13b1eb5",
   "metadata": {},
   "outputs": [],
   "source": [
    "####################################################\n",
    "################## LOAD DATA #######################\n",
    "####################################################\n",
    "\n",
    "\n",
    "cohort_name = \"master_cohort\"\n",
    "\n",
    "root_dir = '/media/cat/8TB/donato/bmi/'\n",
    "\n",
    "\n",
    "animal_ids = [\n",
    "    # #M1 mice\n",
    "    \"DON-011733\",    # M1    - Processed\n",
    "    'DON-014382',    # M1    - Processed\n",
    "    'DON-014451',    # M1    - Processed\n",
    "    'DON-014575',    # M1    - Processed\n",
    "    \"DON-014618\",    # M1    - Processed\n",
    "    'DON-015821',    # M1    - Processed\n",
    "    # 'DON-017923',   # M1    - Not Processed <has extra days at the end....\n",
    "    # 'DON-018129',   # M1    - Not Processed\n",
    "    # 'DON-018130',   # M1    - Not Processed\n",
    "\n",
    "    #CA3 mice\n",
    "    \"DON-012502\",    # CA3    - spreadsheet is old - need reprocessing; ALSO Weird performance, may exclude\n",
    "    \"DON-014266\",    # CA3   - Processed\n",
    "    'DON-014371',    # CA3   - Processed\n",
    "    'DON-015801',    # CA3   - Processed\n",
    "    'DON-016658',    # CA3   - Processed\n",
    "    #'DON-019683',    # CA3   - NOT Processed\n",
    "]\n",
    "\n",
    "#\n",
    "coh = ProcessCohort(root_dir,\n",
    "                    animal_ids,\n",
    "                    cohort_name)\n",
    "coh.verbose=False\n",
    "coh.show_plots=True\n",
    "\n"
   ]
  },
  {
   "cell_type": "code",
   "execution_count": 12,
   "id": "d245dd84",
   "metadata": {},
   "outputs": [
    {
     "name": "stderr",
     "output_type": "stream",
     "text": [
      "/home/cat/code/bmitools/bmitools/analysis/behavior/utils_behavior.py:71: RuntimeWarning: Mean of empty slice\n",
      "  hit_array.append(np.nanmean(d))\n"
     ]
    }
   ],
   "source": [
    "#\n",
    "coh.cohort_hit_rate()"
   ]
  },
  {
   "cell_type": "code",
   "execution_count": 22,
   "id": "9da2603e",
   "metadata": {},
   "outputs": [],
   "source": [
    "#\n",
    "coh.cohort_rewards_per_minute()"
   ]
  },
  {
   "cell_type": "code",
   "execution_count": 29,
   "id": "bb4c7697",
   "metadata": {},
   "outputs": [
    {
     "name": "stdout",
     "output_type": "stream",
     "text": [
      "# of hit rate arrays  10\n",
      "example hit rate array  [0.3        0.25       0.125      0.71428571 0.46153846 0.5\n",
      " 0.5        0.54545455 0.45454545 0.22222222]\n"
     ]
    }
   ],
   "source": [
    "#\n",
    "coh.cohort_hit_rate_early_vs_late()\n",
    "\n",
    "#\n",
    "coh.cohort_hit_rate_early_vs_late_ca3_vs_m1()\n",
    "\n"
   ]
  },
  {
   "cell_type": "code",
   "execution_count": 10,
   "id": "89a5ddc9",
   "metadata": {},
   "outputs": [
    {
     "name": "stdout",
     "output_type": "stream",
     "text": [
      "rewarded_times_abs:  (29,)\n"
     ]
    }
   ],
   "source": [
    "data = np.load('/media/cat/4TB/donato/andres/master_analysis/DON-015801/20230612/results.npz', allow_pickle=True)\n",
    "\n",
    "rewarded_times_abs = data['rewarded_times_abs'][:,1]\n",
    "print (\"rewarded_times_abs: \", rewarded_times_abs.shape)"
   ]
  },
  {
   "cell_type": "code",
   "execution_count": null,
   "id": "ba93705e",
   "metadata": {},
   "outputs": [],
   "source": []
  }
 ],
 "metadata": {
  "kernelspec": {
   "display_name": "Python 3 (ipykernel)",
   "language": "python",
   "name": "python3"
  },
  "language_info": {
   "codemirror_mode": {
    "name": "ipython",
    "version": 3
   },
   "file_extension": ".py",
   "mimetype": "text/x-python",
   "name": "python",
   "nbconvert_exporter": "python",
   "pygments_lexer": "ipython3",
   "version": "3.8.18"
  },
  "toc-autonumbering": false,
  "toc-showcode": true
 },
 "nbformat": 4,
 "nbformat_minor": 5
}
