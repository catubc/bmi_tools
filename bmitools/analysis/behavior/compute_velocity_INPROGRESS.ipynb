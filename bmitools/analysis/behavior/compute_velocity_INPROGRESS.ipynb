{
 "cells": [
  {
   "cell_type": "code",
   "execution_count": 1,
   "id": "2396d59b",
   "metadata": {},
   "outputs": [
    {
     "data": {
      "application/javascript": [
       "IPython.notebook.set_autosave_interval(180000)"
      ]
     },
     "metadata": {},
     "output_type": "display_data"
    },
    {
     "name": "stdout",
     "output_type": "stream",
     "text": [
      "Autosaving every 180 seconds\n"
     ]
    }
   ],
   "source": [
    "%autosave 180\n",
    "%load_ext autoreload\n",
    "%autoreload 2\n",
    "\n",
    "# import matplotlib\n",
    "# #matplotlib.use('qtagg')\n",
    "%matplotlib tk\n",
    "# import matplotlib.pyplot as plt\n",
    "# plt.ion()\n",
    "# %matplotlib notebook\n",
    "\n",
    "#|\n",
    "import os\n",
    "import numpy as np\n",
    "import time\n",
    "import nidaqmx\n",
    "from nidaqmx.constants import (AcquisitionType)  # https://nidaqmx-python.readthedocs.io/en/latest/constants.html\n",
    "import numpy as np\n",
    "import matplotlib.pyplot as plt\n",
    "from nidaqmx.constants import TerminalConfiguration\n",
    "import math\n",
    "from multiprocessing import Process\n",
    "\n",
    "# \n",
    "\n"
   ]
  },
  {
   "cell_type": "code",
   "execution_count": 4,
   "id": "1b379e75",
   "metadata": {},
   "outputs": [
    {
     "name": "stdout",
     "output_type": "stream",
     "text": [
      "lick detector:  (2675350, 1) [[-0.00226723]\n",
      " [-0.00210529]\n",
      " [-0.00210529]\n",
      " ...\n",
      " [-0.00194335]\n",
      " [-0.00226723]\n",
      " [-0.00210529]]\n",
      "[[0. 1.]\n",
      " [0. 1.]\n",
      " [0. 1.]\n",
      " ...\n",
      " [1. 0.]\n",
      " [1. 0.]\n",
      " [1. 0.]]\n"
     ]
    },
    {
     "name": "stderr",
     "output_type": "stream",
     "text": [
      "100%|█████████████████████████████████████████████████████████████████████████████████| 2675350/2675350 [00:00<00:00, 6488087.23it/s]\n"
     ]
    }
   ],
   "source": [
    "##########################################################\n",
    "########## COMPUTE VELOCITY FROM ROTARY ENCODER ##########\n",
    "##########################################################\n",
    "from tqdm import trange\n",
    "\n",
    "#\n",
    "def binarize(data):\n",
    "    \n",
    "    idx = np.where(data<2.5)[0]\n",
    "    idx2 = np.where(data>=2.5)[0]\n",
    "    \n",
    "    data[idx] = 0\n",
    "    data[idx2] = 1\n",
    "    \n",
    "    #\n",
    "    return data\n",
    "\n",
    "#\n",
    "def get_velocity(rot1, rot2):\n",
    "    \n",
    "    # distance\n",
    "    n_clicks_per_rotation = 500\n",
    "    ball_diameter = 0.2  # distance in meters\n",
    "    ball_circumference = ball_diameter*3.141592\n",
    "    dist_per_click = ball_circumference/n_clicks_per_rotation\n",
    "    \n",
    "    # time\n",
    "    sample_rate = 1000\n",
    "    seconds_per_time_stamp = 1/sample_rate\n",
    "    \n",
    "    \n",
    "    #\n",
    "    bin1 = binarize(rot1)\n",
    "    bin2 = binarize(rot2)\n",
    "    \n",
    "    #\n",
    "    clicks = np.array((bin1, bin2)).T.squeeze()\n",
    "    print (clicks)\n",
    "        \n",
    "    #\n",
    "    vel = []\n",
    "    times = []\n",
    "    last_click_location = 0\n",
    "    time_since_last_click = 0\n",
    "    rot1_last_state = clicks[0,0]\n",
    "    rot2_state = clicks[0,1]\n",
    "    for k in trange(0,clicks.shape[0],1):\n",
    "        \n",
    "        #\n",
    "        if clicks[k,0]!=rot1_last_state:\n",
    "            distance = dist_per_click  #only walked 1 click\n",
    "            time = time_since_last_click*seconds_per_time_stamp\n",
    "            \n",
    "            # \n",
    "            v = distance/time \n",
    "            \n",
    "            #\n",
    "            vel.append(v)\n",
    "            times.append(k/sample_rate)       \n",
    "            \n",
    "            #\n",
    "            time_since_last_click=0\n",
    "            last_click_location=k #.copy()\n",
    "            rot1_last_state=clicks[k,0]\n",
    "\n",
    "        #    \n",
    "        time_since_last_click+=1\n",
    "        \n",
    "    #\n",
    "    return vel, times\n",
    "    \n",
    "\n",
    "##################################################################\n",
    "##################################################################\n",
    "##################################################################\n",
    "data = np.load('/media/cat/4TB/donato/andres/DON-011733/20230127/data/results.npz',\n",
    "               allow_pickle=True)\n",
    "\n",
    "#\n",
    "lick_detector_times = data['lick_detector_abstime']\n",
    "print (\"lick detector: \", lick_detector_times.shape, lick_detector_times)\n",
    "\n",
    "#\n",
    "reward_times = data['reward_times'].squeeze().T[:,1]\n",
    "#print (\"reward times: \", reward_times[:50])\n",
    "ttl_times = data['ttl_times']\n",
    "#print (\"ttl times: \", ttl_times)\n",
    "\n",
    "#\n",
    "rot1 = data['rotary_encoder1_abstime']\n",
    "rot2 = data['rotary_encoder2_abstime']\n",
    "#print (\"rotary 1: \", rot1)\n",
    "#print (\"rotary 2: \", rot2)\n",
    "\n",
    "#\n",
    "vel, times = get_velocity(rot1,rot2)\n",
    "\n",
    "plt.figure()\n",
    "plt.plot(times, vel)\n",
    "plt.show()"
   ]
  },
  {
   "cell_type": "code",
   "execution_count": null,
   "id": "92768392",
   "metadata": {},
   "outputs": [],
   "source": []
  },
  {
   "cell_type": "code",
   "execution_count": null,
   "id": "deb6cec2-170f-4a3b-b00c-9ecf72b8ffa1",
   "metadata": {},
   "outputs": [],
   "source": []
  },
  {
   "cell_type": "code",
   "execution_count": null,
   "id": "439aab55-5b4e-40b1-8931-d2a492a62c59",
   "metadata": {},
   "outputs": [],
   "source": []
  },
  {
   "cell_type": "code",
   "execution_count": null,
   "id": "32529521-28a0-463c-ad37-bf6fe1fc5289",
   "metadata": {},
   "outputs": [],
   "source": []
  }
 ],
 "metadata": {
  "kernelspec": {
   "display_name": "Python 3 (ipykernel)",
   "language": "python",
   "name": "python3"
  },
  "language_info": {
   "codemirror_mode": {
    "name": "ipython",
    "version": 3
   },
   "file_extension": ".py",
   "mimetype": "text/x-python",
   "name": "python",
   "nbconvert_exporter": "python",
   "pygments_lexer": "ipython3",
   "version": "3.8.15"
  }
 },
 "nbformat": 4,
 "nbformat_minor": 5
}
