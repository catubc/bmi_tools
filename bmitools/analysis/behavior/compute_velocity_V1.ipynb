{
 "cells": [
  {
   "cell_type": "code",
   "execution_count": 2,
   "id": "2396d59b",
   "metadata": {
    "metadata": {}
   },
   "outputs": [
    {
     "data": {
      "application/javascript": "IPython.notebook.set_autosave_interval(180000)"
     },
     "metadata": {},
     "output_type": "display_data"
    },
    {
     "name": "stdout",
     "output_type": "stream",
     "text": [
      "Autosaving every 180 seconds\n"
     ]
    }
   ],
   "source": [
    "%autosave 180\n",
    "%load_ext autoreload\n",
    "%autoreload 2\n",
    "%matplotlib tk\n",
    "\n",
    "#|\n",
    "import numpy as np\n",
    "import matplotlib.pyplot as plt\n",
    "\n"
   ]
  },
  {
   "cell_type": "code",
   "execution_count": 8,
   "id": "1b379e75",
   "metadata": {
    "metadata": {}
   },
   "outputs": [
    {
     "name": "stdout",
     "output_type": "stream",
     "text": [
      "missing abs_times_ttl_read; using abs_times\n",
      "lick abs_times_ttl_read:  (3006354,) [ 126.939616   126.9397987  126.9399566 ... 3131.2427038 3131.2444819\n",
      " 3131.244684 ]\n",
      "rot2:  (3006354, 1)\n",
      "Clicks:  (3006354, 2) [[0. 0.]\n",
      " [0. 0.]\n",
      " [0. 0.]\n",
      " [1. 0.]\n",
      " [1. 0.]\n",
      " [1. 0.]\n",
      " [1. 0.]\n",
      " [1. 0.]\n",
      " [1. 0.]\n",
      " [1. 0.]]\n",
      "abs_times_ttl_read:  (3006354,) [126.939616  126.9397987 126.9399566 126.9401115 126.9402626 126.9404159\n",
      " 126.9405659 126.9407162 126.9408652 126.9410151] [3131.2364963 3131.2367064 3131.2384832 3131.2386802 3131.2404755\n",
      " 3131.2407238 3131.2424825 3131.2427038 3131.2444819 3131.244684 ]\n"
     ]
    },
    {
     "name": "stderr",
     "output_type": "stream",
     "text": [
      "100%|██████████| 3006354/3006354 [00:00<00:00, 3645525.43it/s]\n"
     ]
    },
    {
     "name": "stdout",
     "output_type": "stream",
     "text": [
      "missing abs_times_ca_read; using abs_times\n",
      "lick abs_times_ca_read:  (89952,) [ 131.2789029  131.3110578  131.3446579 ... 3131.1786582 3131.2109746\n",
      " 3131.244684 ]\n"
     ]
    },
    {
     "name": "stderr",
     "output_type": "stream",
     "text": [
      "100%|██████████| 89952/89952 [00:01<00:00, 46006.96it/s]\n"
     ]
    },
    {
     "name": "stdout",
     "output_type": "stream",
     "text": [
      "velocity array has # of entries (89952,)\n"
     ]
    }
   ],
   "source": [
    "##########################################################\n",
    "########## COMPUTE VELOCITY FROM ROTARY ENCODER ##########\n",
    "##########################################################\n",
    "from tqdm import trange\n",
    "\n",
    "#\n",
    "def binarize(data):\n",
    "    \n",
    "    idx = np.where(data<2.5)[0]\n",
    "    idx2 = np.where(data>=2.5)[0]\n",
    "    \n",
    "    data[idx] = 0\n",
    "    data[idx2] = 1\n",
    "    \n",
    "    #\n",
    "    return data\n",
    "\n",
    "#\n",
    "def get_velocity(data):\n",
    "    \n",
    "    # this contains the absolute time stamps of the rotary encoder readings\n",
    "    try:\n",
    "        abs_times_ttl_read = data['abs_times_ttl_read']\n",
    "    except:\n",
    "        print (\"missing abs_times_ttl_read; using abs_times\")\n",
    "        abs_times_ttl_read = data['abs_times']\n",
    "    print (\"lick abs_times_ttl_read: \", abs_times_ttl_read.shape, abs_times_ttl_read)\n",
    "\n",
    "    \n",
    "    # lad the rotary encoder data\n",
    "    rot1 = data['rotary_encoder1_abstime']\n",
    "    rot2 = data['rotary_encoder2_abstime']\n",
    "    print (\"rot2: \", rot2.shape)\n",
    "    #abs_times_ttl_read = data['abs_times_ttl_read']\n",
    "    #print (\"abs_times_ttl_read: \", abs_times_ttl_read.shape)\n",
    "\n",
    "    # distance\n",
    "    n_clicks_per_rotation = 500\n",
    "    ball_diameter = 0.2  # distance in meters\n",
    "    ball_circumference = ball_diameter*3.141592\n",
    "    dist_per_click = ball_circumference/n_clicks_per_rotation\n",
    "    \n",
    "    # time\n",
    "    sample_rate = 1000\n",
    "    seconds_per_time_stamp = 1/sample_rate\n",
    "        \n",
    "    # detect the clicks\n",
    "    bin1 = binarize(rot1)\n",
    "    bin2 = binarize(rot2)\n",
    "    \n",
    "    #\n",
    "    clicks = np.array((bin1, bin2)).T.squeeze()\n",
    "    print (\"Clicks: \", clicks.shape, clicks[:10])\n",
    "    print (\"abs_times_ttl_read: \", abs_times_ttl_read.shape, abs_times_ttl_read[:10], abs_times_ttl_read[-10:])\n",
    "        \n",
    "    #\n",
    "    vel = []\n",
    "    times = []\n",
    "    time_since_last_click = 0\n",
    "    rot1_last_state = clicks[0,0]\n",
    "    for k in trange(0,clicks.shape[0],1):\n",
    "        \n",
    "        # check if the state of the rotary encoder changed\n",
    "        if clicks[k,0]!=rot1_last_state:\n",
    "            distance = dist_per_click  #only walked 1 click\n",
    "\n",
    "            # check to see how long since last time point\n",
    "            time = time_since_last_click*seconds_per_time_stamp\n",
    "            \n",
    "            # compute velocity\n",
    "            v = distance/time \n",
    "            \n",
    "            #\n",
    "            vel.append(v)\n",
    "            times.append(abs_times_ttl_read[k])\n",
    "            #times.append(k/sample_rate)       \n",
    "            \n",
    "            #\n",
    "            time_since_last_click=0\n",
    "            last_click_location=k #.copy()\n",
    "            rot1_last_state=clicks[k,0]\n",
    "\n",
    "        # add a zero velocity if no click\n",
    "        #else:\n",
    "        #    vel.append(0)\n",
    "        #    times.append(k/sample_rate)\n",
    "\n",
    "\n",
    "        #    \n",
    "        time_since_last_click+=1\n",
    "\n",
    "    #\n",
    "    times = np.array(times)\n",
    "    \n",
    "    # ok, now find the nearest value in times to the abs_times_ca_read\n",
    "    try:\n",
    "        abs_times_ca_read = data['abs_times_ca_read']\n",
    "    except:\n",
    "        print (\"missing abs_times_ca_read; using abs_times\")\n",
    "        abs_times_ca_read = data['ttl_times']\n",
    "    print (\"lick abs_times_ca_read: \", abs_times_ca_read.shape, abs_times_ca_read)\n",
    "\n",
    "    times_ttl_final = []\n",
    "    velocity_final = []\n",
    "    for k in trange(abs_times_ca_read.shape[0]):\n",
    "        idx = np.argmin(np.abs(times-abs_times_ca_read[k]))\n",
    "        #print (idx, times[idx], abs_times_ca_read[k])\n",
    "        times_ttl_final.append(times[idx])\n",
    "        velocity_final.append(vel[idx])\n",
    "    \n",
    "    times_ttl_final = np.array(times_ttl_final)\n",
    "    velocity_final = np.array(velocity_final)\n",
    "\n",
    "    #\n",
    "    reward_times = data['reward_times'].squeeze().T[:,1]\n",
    "\n",
    "    # remove all reward times ==-1\n",
    "    idx = np.where(reward_times!=-1)[0]\n",
    "    reward_times = reward_times[idx]\n",
    "\n",
    "    #\n",
    "    return velocity_final, reward_times\n",
    "    \n",
    "\n",
    "##################################################################\n",
    "##################################################################\n",
    "##################################################################\n",
    "fname = '/media/cat/8TB/donato/bmi/DON-014266/20230201/results.npz'\n",
    "data = np.load(fname,\n",
    "               allow_pickle=True)\n",
    "\n",
    "#\n",
    "velocities, reward_times = get_velocity(data)\n",
    "\n",
    "# \n",
    "print (\"velocity array has # of entries\", velocities.shape)\n",
    "\n",
    "#\n",
    "plt.figure()\n",
    "plt.plot(velocities)\n",
    "plt.xlabel(\"TTL pulse #\")\n",
    "plt.ylabel(\"Velocity (m/s)\")\n",
    "\n",
    "# add reward times \n",
    "for k in range(reward_times.shape[0]):\n",
    "    # use vertical lines from 0 to 1\n",
    "    plt.plot([reward_times[k], reward_times[k]], [0, 1], 'r', \n",
    "             # line style dashed\n",
    "             linestyle='--',)\n",
    "\n",
    "#\n",
    "plt.show()"
   ]
  },
  {
   "cell_type": "code",
   "execution_count": null,
   "id": "8edaf154",
   "metadata": {},
   "outputs": [],
   "source": []
  }
 ],
 "metadata": {
  "kernelspec": {
   "display_name": "Python 3 (ipykernel)",
   "language": "python",
   "name": "python3"
  },
  "language_info": {
   "codemirror_mode": {
    "name": "ipython",
    "version": 3
   },
   "file_extension": ".py",
   "mimetype": "text/x-python",
   "name": "python",
   "nbconvert_exporter": "python",
   "pygments_lexer": "ipython3",
   "version": "3.8.18"
  }
 },
 "nbformat": 4,
 "nbformat_minor": 5
}
