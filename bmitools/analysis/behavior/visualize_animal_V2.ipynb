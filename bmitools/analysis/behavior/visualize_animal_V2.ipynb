{
 "cells": [
  {
   "cell_type": "code",
   "execution_count": 1,
   "id": "fceadc73",
   "metadata": {},
   "outputs": [
    {
     "data": {
      "application/javascript": "IPython.notebook.set_autosave_interval(180000)"
     },
     "metadata": {},
     "output_type": "display_data"
    },
    {
     "name": "stdout",
     "output_type": "stream",
     "text": [
      "Autosaving every 180 seconds\n"
     ]
    }
   ],
   "source": [
    "import matplotlib.pyplot as plt\n",
    "import matplotlib\n",
    "\n",
    "%matplotlib tk\n",
    "%autosave 180\n",
    "%load_ext autoreload\n",
    "%autoreload 2\n",
    "\n",
    "\n",
    "import numpy as np\n",
    "#%matplotlib inline\n",
    "import os\n",
    "#from utils import *\n",
    "\n",
    "import os\n",
    "\n",
    "from utils_behavior import ProcessSession"
   ]
  },
  {
   "cell_type": "code",
   "execution_count": 6,
   "id": "26fb4383",
   "metadata": {},
   "outputs": [],
   "source": [
    "####################################################\n",
    "################## LOAD DATA #######################\n",
    "####################################################\n",
    "\n",
    "\n",
    "#root_dir = r'F:\\\\bmi\\\\cohort12'\n",
    "rooot_dir = '/media/cat/4TB/donato/andres/'\n",
    "root_dir = '/media/cat/8TB/donato/bmi/master_analysis'\n",
    "\n",
    "#\n",
    "animal_id = 'DON-011733'\n",
    "# animal_id = 'DON-016551'\\n\",\n",
    "# animal_id = 'DON-015961'\\n\",\n",
    "# animal_id = 'DON-015962'\\n\",\n",
    "session_ids = [\n",
    "    '20230303',\n",
    "    '20230304',\n",
    "    '20230305',\n",
    "    '20230306',\n",
    "    '20230307',\n",
    "    '20230308',\n",
    "    '20230309',\n",
    "\n",
    "    \n",
    "]\n",
    "\n",
    "sessions_early  = [\n",
    "                '20230303',\n",
    "                '20230304',\n",
    "             ]\n",
    "\n",
    "#\n",
    "early = [session_ids[0],\n",
    "         session_ids[1],\n",
    "        ]\n",
    "\n",
    "#\n",
    "late = [session_ids[-2],\n",
    "        session_ids[-1],\n",
    "       ]\n",
    "\n",
    "\n",
    "\n",
    "sess = ProcessSession(root_dir,\n",
    "                      animal_id)\n",
    "\n",
    "sess.verbose=False\n",
    "\n",
    "#\n",
    "sess.early = early\n",
    "sess.late = late"
   ]
  },
  {
   "cell_type": "code",
   "execution_count": 3,
   "id": "f12eeb8b",
   "metadata": {},
   "outputs": [
    {
     "name": "stdout",
     "output_type": "stream",
     "text": [
      "Loading n_rewards_per_session.npy\n"
     ]
    },
    {
     "name": "stderr",
     "output_type": "stream",
     "text": [
      "loading data for n_rewards_per_session: 100%|██████████| 7/7 [00:00<00:00, 71089.90it/s]"
     ]
    },
    {
     "name": "stdout",
     "output_type": "stream",
     "text": [
      "xx:  [0 1 2 3 4 5 6]\n",
      "yy:  [ 45  80  33  17  57 132 123]\n"
     ]
    },
    {
     "name": "stderr",
     "output_type": "stream",
     "text": [
      "\n"
     ]
    },
    {
     "name": "stdout",
     "output_type": "stream",
     "text": [
      "DONE >..\n"
     ]
    }
   ],
   "source": [
    "######################################################\n",
    "############### SHOW N-REWARDS / SESSION #############\n",
    "######################################################\n",
    "\n",
    "#\n",
    "sess.n_rewards_per_session()\n",
    "\n",
    "\n",
    "\n",
    "print (\"DONE >..\")\n"
   ]
  },
  {
   "cell_type": "code",
   "execution_count": 4,
   "id": "17ba55ea",
   "metadata": {},
   "outputs": [
    {
     "name": "stderr",
     "output_type": "stream",
     "text": [
      "loading data for hit rate per session:   0%|          | 0/7 [00:00<?, ?it/s]"
     ]
    },
    {
     "name": "stderr",
     "output_type": "stream",
     "text": [
      "loading data for hit rate per session: 100%|██████████| 7/7 [00:00<00:00, 4638.98it/s]\n",
      "No artists with labels found to put in legend.  Note that artists whose label start with an underscore are ignored when legend() is called with no argument.\n"
     ]
    },
    {
     "name": "stdout",
     "output_type": "stream",
     "text": [
      "DONE >..\n"
     ]
    }
   ],
   "source": [
    "######################################################\n",
    "############### SHOW HIT RATES / SESSION #############\n",
    "######################################################\n",
    "\n",
    "#\n",
    "sess.show_plots=True\n",
    "sess.hit_rate_per_session()\n",
    "\n",
    "print (\"DONE >..\")\n"
   ]
  },
  {
   "cell_type": "code",
   "execution_count": 21,
   "id": "91b1a3bf",
   "metadata": {},
   "outputs": [
    {
     "name": "stdout",
     "output_type": "stream",
     "text": [
      "Loading data...\n",
      "    ... done loading data...\n",
      "Loading data...\n",
      "    ... done loading data...\n",
      "Loading data...\n",
      "    ... done loading data...\n",
      "Loading data...\n",
      "    ... done loading data...\n",
      "Loading data...\n",
      "    ... done loading data...\n",
      "Loading data...\n",
      "    ... done loading data...\n",
      "Loading data...\n",
      "    ... done loading data...\n",
      "DONE >..\n"
     ]
    }
   ],
   "source": [
    "######################################################\n",
    "########### AVERAGE REWARDS INTRASESSION #############\n",
    "######################################################\n",
    "\n",
    "#\n",
    "sess.n_rewards_intra_session()\n",
    "\n",
    "#\n",
    "print (\"DONE >..\")"
   ]
  },
  {
   "cell_type": "code",
   "execution_count": 22,
   "id": "0e774d05",
   "metadata": {},
   "outputs": [
    {
     "name": "stderr",
     "output_type": "stream",
     "text": [
      "  0%|          | 0/7 [00:00<?, ?it/s]"
     ]
    },
    {
     "name": "stdout",
     "output_type": "stream",
     "text": [
      "Loading data...\n"
     ]
    },
    {
     "name": "stderr",
     "output_type": "stream",
     "text": [
      " 14%|█▍        | 1/7 [00:06<00:40,  6.73s/it]"
     ]
    },
    {
     "name": "stdout",
     "output_type": "stream",
     "text": [
      "    ... done loading data...\n",
      "Loading data...\n"
     ]
    },
    {
     "name": "stderr",
     "output_type": "stream",
     "text": [
      " 29%|██▊       | 2/7 [00:13<00:33,  6.74s/it]"
     ]
    },
    {
     "name": "stdout",
     "output_type": "stream",
     "text": [
      "    ... done loading data...\n",
      "Loading data...\n"
     ]
    },
    {
     "name": "stderr",
     "output_type": "stream",
     "text": [
      " 43%|████▎     | 3/7 [00:20<00:26,  6.73s/it]"
     ]
    },
    {
     "name": "stdout",
     "output_type": "stream",
     "text": [
      "    ... done loading data...\n",
      "Loading data...\n"
     ]
    },
    {
     "name": "stderr",
     "output_type": "stream",
     "text": [
      " 57%|█████▋    | 4/7 [00:26<00:20,  6.74s/it]"
     ]
    },
    {
     "name": "stdout",
     "output_type": "stream",
     "text": [
      "    ... done loading data...\n",
      "Loading data...\n"
     ]
    },
    {
     "name": "stderr",
     "output_type": "stream",
     "text": [
      " 71%|███████▏  | 5/7 [00:33<00:13,  6.72s/it]"
     ]
    },
    {
     "name": "stdout",
     "output_type": "stream",
     "text": [
      "    ... done loading data...\n",
      "Loading data...\n"
     ]
    },
    {
     "name": "stderr",
     "output_type": "stream",
     "text": [
      " 86%|████████▌ | 6/7 [00:40<00:06,  6.78s/it]"
     ]
    },
    {
     "name": "stdout",
     "output_type": "stream",
     "text": [
      "    ... done loading data...\n",
      "Loading data...\n"
     ]
    },
    {
     "name": "stderr",
     "output_type": "stream",
     "text": [
      "100%|██████████| 7/7 [00:47<00:00,  6.76s/it]"
     ]
    },
    {
     "name": "stdout",
     "output_type": "stream",
     "text": [
      "    ... done loading data...\n"
     ]
    },
    {
     "name": "stderr",
     "output_type": "stream",
     "text": [
      "\n"
     ]
    }
   ],
   "source": [
    "######################################################\n",
    "########### AVERAGE REWARDS INTRASESSION #############\n",
    "######################################################\n",
    "\n",
    "#\n",
    "sess.verbose=False\n",
    "sess.n_rewards_intra_session_normalized()\n",
    "\n",
    "#"
   ]
  },
  {
   "cell_type": "code",
   "execution_count": 5,
   "id": "93288e4f",
   "metadata": {},
   "outputs": [
    {
     "name": "stderr",
     "output_type": "stream",
     "text": [
      "loading data for hit rate per session:  14%|█▍        | 1/7 [00:00<00:00,  9.38it/s]"
     ]
    },
    {
     "name": "stdout",
     "output_type": "stream",
     "text": [
      "Length of cc:  4 4\n",
      "Length of cc:  4 4\n",
      "Length of cc:  4 4\n",
      "Length of cc:  4 4\n",
      "Length of cc:  4 4\n",
      "Length of cc:  4 4\n"
     ]
    },
    {
     "name": "stderr",
     "output_type": "stream",
     "text": [
      "loading data for hit rate per session: 100%|██████████| 7/7 [00:00<00:00, 28.77it/s]"
     ]
    },
    {
     "name": "stdout",
     "output_type": "stream",
     "text": [
      "Length of cc:  4 4\n"
     ]
    },
    {
     "name": "stderr",
     "output_type": "stream",
     "text": [
      "\n"
     ]
    }
   ],
   "source": [
    "######################################################\n",
    "########### EVOLUTION OF CELL-XCORRELOGRAMS ##########\n",
    "######################################################\n",
    "\n",
    "#\n",
    "sess.verbose=False\n",
    "sess.window = 30   # in seconds\n",
    "sess.correlograms_inter_session()"
   ]
  },
  {
   "cell_type": "code",
   "execution_count": 10,
   "id": "09c8de0f",
   "metadata": {},
   "outputs": [
    {
     "name": "stderr",
     "output_type": "stream",
     "text": [
      "loading data for hit rate per session: 100%|██████████| 7/7 [00:00<00:00, 257.52it/s]\n",
      "loading data for hit rate per session: 100%|██████████| 7/7 [00:00<00:00, 261.78it/s]\n",
      "loading data for hit rate per session: 100%|██████████| 7/7 [00:00<00:00, 269.74it/s]\n",
      "loading data for hit rate per session: 100%|██████████| 7/7 [00:00<00:00, 261.28it/s]\n",
      "loading data for hit rate per session: 100%|██████████| 7/7 [00:00<00:00, 278.24it/s]\n",
      "loading data for hit rate per session: 100%|██████████| 7/7 [00:00<00:00, 251.85it/s]\n",
      "loading data for hit rate per session: 100%|██████████| 7/7 [00:00<00:00, 252.75it/s]\n",
      "loading data for hit rate per session: 100%|██████████| 7/7 [00:00<00:00, 257.53it/s]\n",
      "loading data for hit rate per session: 100%|██████████| 7/7 [00:00<00:00, 43.63it/s]\n",
      "loading data for hit rate per session: 100%|██████████| 7/7 [00:00<00:00, 250.30it/s]\n"
     ]
    }
   ],
   "source": [
    "######################################################\n",
    "########### EARLY VS LATE CELL-XCORRELOGRAMS #########\n",
    "######################################################\n",
    "\n",
    "#\n",
    "sess.verbose=False\n",
    "sess.window = 30   # in seconds\n",
    "sess.correlograms_inter_session_early_vs_late()"
   ]
  },
  {
   "cell_type": "code",
   "execution_count": 6,
   "id": "17976e29",
   "metadata": {},
   "outputs": [
    {
     "name": "stderr",
     "output_type": "stream",
     "text": [
      "loading data for n_bursts_per_session: 100%|██████████| 7/7 [00:00<00:00, 347.08it/s]\n"
     ]
    },
    {
     "name": "stdout",
     "output_type": "stream",
     "text": [
      "DONE >..\n"
     ]
    }
   ],
   "source": [
    "######################################################\n",
    "############### SHOW N-BURSTS / SESSION ##############\n",
    "######################################################\n",
    "\n",
    "#\n",
    "sess.n_bursts_per_session()\n",
    "\n",
    "#\n",
    "print (\"DONE >..\")"
   ]
  },
  {
   "cell_type": "code",
   "execution_count": 9,
   "id": "ceb92b25",
   "metadata": {},
   "outputs": [],
   "source": [
    "########################################################\n",
    "########### EARLY VS. LATE PER 5 MIN BLOCK #############\n",
    "########################################################\n",
    "\n",
    "\n",
    "#\n",
    "sess.early_vs_late()\n",
    "\n",
    "#"
   ]
  },
  {
   "cell_type": "code",
   "execution_count": 10,
   "id": "072b8711",
   "metadata": {},
   "outputs": [],
   "source": [
    "#############################################################\n",
    "########### EARLY VS. LATE PLOTS - PER SESSION ##############\n",
    "#############################################################\n",
    "\n",
    "# same but showing averages per session\n",
    "#\n",
    "sess.early_vs_late_session()\n"
   ]
  },
  {
   "cell_type": "code",
   "execution_count": 7,
   "id": "3d24463f",
   "metadata": {},
   "outputs": [
    {
     "name": "stdout",
     "output_type": "stream",
     "text": [
      "Loading pre data\n"
     ]
    },
    {
     "ename": "FileNotFoundError",
     "evalue": "[Errno 2] No such file or directory: '/media/cat/8TB/donato/bmi/master_analysis/DON-011733/20230329/results/intra_session_reward_hits_per_minute.npy'",
     "output_type": "error",
     "traceback": [
      "\u001b[0;31m---------------------------------------------------------------------------\u001b[0m",
      "\u001b[0;31mFileNotFoundError\u001b[0m                         Traceback (most recent call last)",
      "\u001b[1;32m/home/cat/code/bmi/openbmi/analysis/behavior/visualize_animal_V2.ipynb Cell 9\u001b[0m line \u001b[0;36m1\n\u001b[1;32m     <a href='vscode-notebook-cell:/home/cat/code/bmi/openbmi/analysis/behavior/visualize_animal_V2.ipynb#X12sZmlsZQ%3D%3D?line=14'>15</a>\u001b[0m sess\u001b[39m.\u001b[39mpost \u001b[39m=\u001b[39m r\n\u001b[1;32m     <a href='vscode-notebook-cell:/home/cat/code/bmi/openbmi/analysis/behavior/visualize_animal_V2.ipynb#X12sZmlsZQ%3D%3D?line=16'>17</a>\u001b[0m \u001b[39m#\u001b[39;00m\n\u001b[0;32m---> <a href='vscode-notebook-cell:/home/cat/code/bmi/openbmi/analysis/behavior/visualize_animal_V2.ipynb#X12sZmlsZQ%3D%3D?line=17'>18</a>\u001b[0m sess\u001b[39m.\u001b[39;49mcontingency_degradation()\n\u001b[1;32m     <a href='vscode-notebook-cell:/home/cat/code/bmi/openbmi/analysis/behavior/visualize_animal_V2.ipynb#X12sZmlsZQ%3D%3D?line=19'>20</a>\u001b[0m \u001b[39m#\u001b[39;00m\n",
      "File \u001b[0;32m~/code/bmi/openbmi/analysis/behavior/utils_behavior.py:1112\u001b[0m, in \u001b[0;36mProcessSession.contingency_degradation\u001b[0;34m(self)\u001b[0m\n\u001b[1;32m   1110\u001b[0m pre \u001b[39m=\u001b[39m []\n\u001b[1;32m   1111\u001b[0m \u001b[39mfor\u001b[39;00m session_id \u001b[39min\u001b[39;00m \u001b[39mself\u001b[39m\u001b[39m.\u001b[39mpre:\n\u001b[0;32m-> 1112\u001b[0m     d \u001b[39m=\u001b[39m np\u001b[39m.\u001b[39;49mload(os\u001b[39m.\u001b[39;49mpath\u001b[39m.\u001b[39;49mjoin(\u001b[39mself\u001b[39;49m\u001b[39m.\u001b[39;49mroot_dir,\n\u001b[1;32m   1113\u001b[0m                              \u001b[39mself\u001b[39;49m\u001b[39m.\u001b[39;49manimal_id,\n\u001b[1;32m   1114\u001b[0m                              session_id,\n\u001b[1;32m   1115\u001b[0m                              \u001b[39m'\u001b[39;49m\u001b[39mresults/intra_session_reward_hits_per_minute.npy\u001b[39;49m\u001b[39m'\u001b[39;49m\n\u001b[1;32m   1116\u001b[0m                              ))\n\u001b[1;32m   1117\u001b[0m     pre\u001b[39m.\u001b[39mappend(d\u001b[39m.\u001b[39mmean())\n\u001b[1;32m   1120\u001b[0m \u001b[39m# load contingency degradata\u001b[39;00m\n\u001b[1;32m   1121\u001b[0m \u001b[39m# here we must recmopute the rewards rather than loading them   \u001b[39;00m\n",
      "File \u001b[0;32m~/.conda/envs/bmi/lib/python3.8/site-packages/numpy/lib/npyio.py:405\u001b[0m, in \u001b[0;36mload\u001b[0;34m(file, mmap_mode, allow_pickle, fix_imports, encoding, max_header_size)\u001b[0m\n\u001b[1;32m    403\u001b[0m     own_fid \u001b[39m=\u001b[39m \u001b[39mFalse\u001b[39;00m\n\u001b[1;32m    404\u001b[0m \u001b[39melse\u001b[39;00m:\n\u001b[0;32m--> 405\u001b[0m     fid \u001b[39m=\u001b[39m stack\u001b[39m.\u001b[39menter_context(\u001b[39mopen\u001b[39;49m(os_fspath(file), \u001b[39m\"\u001b[39;49m\u001b[39mrb\u001b[39;49m\u001b[39m\"\u001b[39;49m))\n\u001b[1;32m    406\u001b[0m     own_fid \u001b[39m=\u001b[39m \u001b[39mTrue\u001b[39;00m\n\u001b[1;32m    408\u001b[0m \u001b[39m# Code to distinguish from NumPy binary files and pickles.\u001b[39;00m\n",
      "\u001b[0;31mFileNotFoundError\u001b[0m: [Errno 2] No such file or directory: '/media/cat/8TB/donato/bmi/master_analysis/DON-011733/20230329/results/intra_session_reward_hits_per_minute.npy'"
     ]
    }
   ],
   "source": [
    "########################################################\n",
    "########### CONTINGENCY DEGRADATION PLOTS ##############\n",
    "########################################################\n",
    "\n",
    "# NOTE - NOT AVIALABLE FOR ALL ANIMALS\n",
    "\n",
    "#\n",
    "t = [ '20230329',\n",
    "    '20230330']\n",
    "cd = [ '20230401',\n",
    "    '20230402',]\n",
    "r = [  '20230402',\n",
    "    '20230403']\n",
    "\n",
    "sess.pre = t\n",
    "sess.during = cd\n",
    "sess.post = r\n",
    "\n",
    "#\n",
    "sess.contingency_degradation()\n",
    "\n",
    "#\n"
   ]
  },
  {
   "cell_type": "code",
   "execution_count": null,
   "id": "9cc50f86",
   "metadata": {},
   "outputs": [],
   "source": []
  }
 ],
 "metadata": {
  "kernelspec": {
   "display_name": "Python 3 (ipykernel)",
   "language": "python",
   "name": "python3"
  },
  "language_info": {
   "codemirror_mode": {
    "name": "ipython",
    "version": 3
   },
   "file_extension": ".py",
   "mimetype": "text/x-python",
   "name": "python",
   "nbconvert_exporter": "python",
   "pygments_lexer": "ipython3",
   "version": "3.8.15"
  },
  "toc-autonumbering": false,
  "toc-showcode": true
 },
 "nbformat": 4,
 "nbformat_minor": 5
}
