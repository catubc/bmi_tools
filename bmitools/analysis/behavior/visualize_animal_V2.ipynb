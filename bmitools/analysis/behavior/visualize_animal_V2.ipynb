{
 "cells": [
  {
   "cell_type": "code",
   "execution_count": 2,
   "id": "fceadc73",
   "metadata": {},
   "outputs": [
    {
     "data": {
      "application/javascript": "IPython.notebook.set_autosave_interval(180000)"
     },
     "metadata": {},
     "output_type": "display_data"
    },
    {
     "name": "stdout",
     "output_type": "stream",
     "text": [
      "Autosaving every 180 seconds\n"
     ]
    }
   ],
   "source": [
    "import matplotlib.pyplot as plt\n",
    "import matplotlib\n",
    "\n",
    "%matplotlib tk\n",
    "%autosave 180\n",
    "%load_ext autoreload\n",
    "%autoreload 2\n",
    "\n",
    "\n",
    "import numpy as np\n",
    "#%matplotlib inline\n",
    "import os\n",
    "#from utils import *\n",
    "\n",
    "import os\n",
    "\n",
    "from utils_behavior import ProcessSession"
   ]
  },
  {
   "cell_type": "code",
   "execution_count": 3,
   "id": "26fb4383",
   "metadata": {},
   "outputs": [],
   "source": [
    "####################################################\n",
    "################## LOAD DATA #######################\n",
    "####################################################\n",
    "\n",
    "\n",
    "root_dir = '/media/cat/8TB/donato/bmi/'\n",
    "\n",
    "animal_ids = [\n",
    "    # #M1 mice\n",
    "    #\"DON-011733\",    # M1    - Processed\n",
    "    # 'DON-014382',    # M1    - Processed\n",
    "     #'DON-014451',    # M1    - Processed\n",
    "     #'DON-014575',    # M1    - Processed\n",
    "    #\"DON-014618\",    # M1    - Processed\n",
    "     #'DON-015821',    # M1    - Processed\n",
    "    #'DON-017923',   # M1    - Not Processed <has extra days at the end....\n",
    "    #'DON-018129',   # M1    - Not Processed\n",
    "   # 'DON-018130',   # M1    - Not Processed\n",
    "\n",
    "    # #CA3 mice\n",
    "    #\"DON-012502\",    # CA3    - spreadsheet is old - need reprocessing; ALSO Weird performance, may exclude\n",
    "    #\"DON-014266\",    # CA3   - Processed\n",
    "    #'DON-014371',    # CA3   - Processed\n",
    "    #'DON-015801',    # CA3   - Processed\n",
    "    #'DON-016658',    # CA3   - Processed\n",
    "    'DON-019683'\n",
    "]\n",
    "\n",
    "#################\n",
    "\n",
    "animal_id = animal_ids[0]\n",
    "\n",
    "#\n",
    "animal = ProcessSession(root_dir,\n",
    "                        animal_id)\n",
    "\n",
    "animal.verbose=False\n",
    "\n",
    "#\n",
    "animal.early = [animal.session_ids[1],\n",
    "                animal.session_ids[2],\n",
    "                ]\n",
    "\n",
    "#\n",
    "animal.late = [animal.session_ids[-2],\n",
    "                animal.session_ids[-1],\n",
    "            ]\n",
    "\n",
    "\n",
    "animal.session_duration = 30*60*30\n",
    "\n",
    "\n",
    "\n"
   ]
  },
  {
   "cell_type": "code",
   "execution_count": 4,
   "id": "97b52c16",
   "metadata": {},
   "outputs": [
    {
     "name": "stdout",
     "output_type": "stream",
     "text": [
      "Loading n_rewards_per_session.npy\n"
     ]
    },
    {
     "name": "stderr",
     "output_type": "stream",
     "text": [
      "loading data for n_rewards_per_session: 100%|██████████| 8/8 [00:00<00:00, 126620.50it/s]\n"
     ]
    },
    {
     "name": "stdout",
     "output_type": "stream",
     "text": [
      "xx:  [0 1 2 3 4 5 6 7]\n",
      "yy:  [21 23 21 34 54 81 30 47]\n"
     ]
    },
    {
     "name": "stderr",
     "output_type": "stream",
     "text": [
      "loading data for hit rate per session: 100%|██████████| 8/8 [00:00<00:00, 4302.40it/s]\n",
      "No artists with labels found to put in legend.  Note that artists whose label start with an underscore are ignored when legend() is called with no argument.\n",
      "loading data for hit rate per session: 100%|██████████| 8/8 [00:00<00:00, 19.72it/s]\n",
      "loading data for hit rate per session: 100%|██████████| 8/8 [00:00<00:00, 17.56it/s]\n",
      "loading data for n_bursts_per_session: 100%|██████████| 8/8 [00:00<00:00, 1143.10it/s]\n"
     ]
    },
    {
     "ename": "ValueError",
     "evalue": "all the input array dimensions except for the concatenation axis must match exactly, but along dimension 1, the array at index 0 has size 50 and the array at index 1 has size 6",
     "output_type": "error",
     "traceback": [
      "\u001b[0;31m---------------------------------------------------------------------------\u001b[0m",
      "\u001b[0;31mValueError\u001b[0m                                Traceback (most recent call last)",
      "Cell \u001b[0;32mIn[4], line 4\u001b[0m\n\u001b[1;32m      1\u001b[0m \u001b[38;5;66;03m######################################################\u001b[39;00m\n\u001b[1;32m      2\u001b[0m \u001b[38;5;66;03m############ AUTO MAKE ALL THE IMPROTANT PLOTS #######\u001b[39;00m\n\u001b[1;32m      3\u001b[0m \u001b[38;5;66;03m######################################################\u001b[39;00m\n\u001b[0;32m----> 4\u001b[0m \u001b[43manimal\u001b[49m\u001b[38;5;241;43m.\u001b[39;49m\u001b[43mmake_all_plots\u001b[49m\u001b[43m(\u001b[49m\u001b[43m)\u001b[49m\n",
      "File \u001b[0;32m~/code/bmitools/bmitools/analysis/behavior/utils_behavior.py:3561\u001b[0m, in \u001b[0;36mProcessSession.make_all_plots\u001b[0;34m(self)\u001b[0m\n\u001b[1;32m   3558\u001b[0m \u001b[38;5;28mself\u001b[39m\u001b[38;5;241m.\u001b[39mcorrelograms_inter_session_early_vs_late()\n\u001b[1;32m   3560\u001b[0m \u001b[38;5;66;03m#\u001b[39;00m\n\u001b[0;32m-> 3561\u001b[0m \u001b[38;5;28;43mself\u001b[39;49m\u001b[38;5;241;43m.\u001b[39;49m\u001b[43mn_bursts_per_session\u001b[49m\u001b[43m(\u001b[49m\u001b[43m)\u001b[49m\n\u001b[1;32m   3563\u001b[0m \u001b[38;5;66;03m#\u001b[39;00m\n\u001b[1;32m   3564\u001b[0m \u001b[38;5;28mself\u001b[39m\u001b[38;5;241m.\u001b[39mburst_durations_per_session()\n",
      "File \u001b[0;32m~/code/bmitools/bmitools/analysis/behavior/utils_behavior.py:3840\u001b[0m, in \u001b[0;36mProcessSession.n_bursts_per_session\u001b[0;34m(self)\u001b[0m\n\u001b[1;32m   3837\u001b[0m     traces2\u001b[38;5;241m.\u001b[39mappend(yys[s])\n\u001b[1;32m   3839\u001b[0m \u001b[38;5;66;03m#\u001b[39;00m\n\u001b[0;32m-> 3840\u001b[0m traces2 \u001b[38;5;241m=\u001b[39m \u001b[43mnp\u001b[49m\u001b[38;5;241;43m.\u001b[39;49m\u001b[43mvstack\u001b[49m\u001b[43m(\u001b[49m\u001b[43mtraces2\u001b[49m\u001b[43m)\u001b[49m\n\u001b[1;32m   3841\u001b[0m mean \u001b[38;5;241m=\u001b[39m np\u001b[38;5;241m.\u001b[39mmean(traces2,\u001b[38;5;241m0\u001b[39m)\n\u001b[1;32m   3842\u001b[0m std \u001b[38;5;241m=\u001b[39m np\u001b[38;5;241m.\u001b[39mstd(traces2,\u001b[38;5;241m0\u001b[39m)\n",
      "File \u001b[0;32m<__array_function__ internals>:200\u001b[0m, in \u001b[0;36mvstack\u001b[0;34m(*args, **kwargs)\u001b[0m\n",
      "File \u001b[0;32m~/.conda/envs/bmitools/lib/python3.8/site-packages/numpy/core/shape_base.py:296\u001b[0m, in \u001b[0;36mvstack\u001b[0;34m(tup, dtype, casting)\u001b[0m\n\u001b[1;32m    294\u001b[0m \u001b[38;5;28;01mif\u001b[39;00m \u001b[38;5;129;01mnot\u001b[39;00m \u001b[38;5;28misinstance\u001b[39m(arrs, \u001b[38;5;28mlist\u001b[39m):\n\u001b[1;32m    295\u001b[0m     arrs \u001b[38;5;241m=\u001b[39m [arrs]\n\u001b[0;32m--> 296\u001b[0m \u001b[38;5;28;01mreturn\u001b[39;00m \u001b[43m_nx\u001b[49m\u001b[38;5;241;43m.\u001b[39;49m\u001b[43mconcatenate\u001b[49m\u001b[43m(\u001b[49m\u001b[43marrs\u001b[49m\u001b[43m,\u001b[49m\u001b[43m \u001b[49m\u001b[38;5;241;43m0\u001b[39;49m\u001b[43m,\u001b[49m\u001b[43m \u001b[49m\u001b[43mdtype\u001b[49m\u001b[38;5;241;43m=\u001b[39;49m\u001b[43mdtype\u001b[49m\u001b[43m,\u001b[49m\u001b[43m \u001b[49m\u001b[43mcasting\u001b[49m\u001b[38;5;241;43m=\u001b[39;49m\u001b[43mcasting\u001b[49m\u001b[43m)\u001b[49m\n",
      "File \u001b[0;32m<__array_function__ internals>:200\u001b[0m, in \u001b[0;36mconcatenate\u001b[0;34m(*args, **kwargs)\u001b[0m\n",
      "\u001b[0;31mValueError\u001b[0m: all the input array dimensions except for the concatenation axis must match exactly, but along dimension 1, the array at index 0 has size 50 and the array at index 1 has size 6"
     ]
    }
   ],
   "source": [
    "######################################################\n",
    "############ AUTO MAKE ALL THE IMPROTANT PLOTS #######\n",
    "######################################################\n",
    "animal.make_all_plots()\n",
    "\n"
   ]
  },
  {
   "cell_type": "code",
   "execution_count": 4,
   "id": "07a3a63b",
   "metadata": {},
   "outputs": [],
   "source": [
    "########################################################\n",
    "########### EARLY VS. LATE PER 5 MIN BLOCK #############\n",
    "########################################################\n",
    "\n",
    "\n",
    "#\n",
    "animal.early_vs_late()\n",
    "\n",
    "#\n",
    "#animal.early_vs_late_distributions_violin()\n"
   ]
  },
  {
   "cell_type": "code",
   "execution_count": 5,
   "id": "f12eeb8b",
   "metadata": {},
   "outputs": [
    {
     "name": "stdout",
     "output_type": "stream",
     "text": [
      "Loading n_rewards_per_session.npy\n"
     ]
    },
    {
     "name": "stderr",
     "output_type": "stream",
     "text": [
      "loading data for n_rewards_per_session:   0%|          | 0/8 [00:00<?, ?it/s]"
     ]
    },
    {
     "name": "stderr",
     "output_type": "stream",
     "text": [
      "loading data for n_rewards_per_session: 100%|██████████| 8/8 [00:00<00:00, 172074.01it/s]"
     ]
    },
    {
     "name": "stdout",
     "output_type": "stream",
     "text": [
      "xx:  [0 1 2 3 4 5 6 7]\n",
      "yy:  [21 23 21 34 54 81 30 47]\n"
     ]
    },
    {
     "name": "stderr",
     "output_type": "stream",
     "text": [
      "\n"
     ]
    },
    {
     "name": "stdout",
     "output_type": "stream",
     "text": [
      "DONE >..\n"
     ]
    }
   ],
   "source": [
    "######################################################\n",
    "############### SHOW N-REWARDS / SESSION #############\n",
    "######################################################\n",
    "\n",
    "#\n",
    "animal.n_rewards_per_session()\n",
    "\n",
    "\n",
    "\n",
    "print (\"DONE >..\")\n"
   ]
  },
  {
   "cell_type": "code",
   "execution_count": 6,
   "id": "17ba55ea",
   "metadata": {},
   "outputs": [
    {
     "name": "stderr",
     "output_type": "stream",
     "text": [
      "loading data for hit rate per session: 100%|██████████| 8/8 [00:00<00:00, 4717.34it/s]"
     ]
    },
    {
     "name": "stderr",
     "output_type": "stream",
     "text": [
      "\n",
      "No artists with labels found to put in legend.  Note that artists whose label start with an underscore are ignored when legend() is called with no argument.\n"
     ]
    },
    {
     "name": "stdout",
     "output_type": "stream",
     "text": [
      "DONE >..\n"
     ]
    }
   ],
   "source": [
    "######################################################\n",
    "############### SHOW HIT RATES / SESSION #############\n",
    "######################################################\n",
    "\n",
    "#\n",
    "animal.show_plots=True\n",
    "animal.hit_rate_per_session()\n",
    "\n",
    "print (\"DONE >..\")\n"
   ]
  },
  {
   "cell_type": "code",
   "execution_count": 7,
   "id": "93288e4f",
   "metadata": {},
   "outputs": [
    {
     "name": "stderr",
     "output_type": "stream",
     "text": [
      "loading data for hit rate per session:   0%|          | 0/8 [00:00<?, ?it/s]"
     ]
    },
    {
     "name": "stderr",
     "output_type": "stream",
     "text": [
      "loading data for hit rate per session: 100%|██████████| 8/8 [00:00<00:00, 21.28it/s]\n",
      "loading data for hit rate per session: 100%|██████████| 8/8 [00:00<00:00, 18.00it/s]\n"
     ]
    }
   ],
   "source": [
    "######################################################\n",
    "########### EVOLUTION OF CELL-XCORRELOGRAMS ##########\n",
    "######################################################\n",
    "\n",
    "#\n",
    "animal.verbose=False\n",
    "animal.window = 30   # in seconds\n",
    "animal.correlograms_inter_session_fluorescence()\n",
    "\n",
    "#\n",
    "animal.correlograms_inter_session_upphase()"
   ]
  },
  {
   "cell_type": "code",
   "execution_count": 9,
   "id": "09c8de0f",
   "metadata": {},
   "outputs": [
    {
     "name": "stderr",
     "output_type": "stream",
     "text": [
      "loading data for hit rate per session: 100%|██████████| 8/8 [00:00<00:00, 191.64it/s]\n",
      "loading data for hit rate per session: 100%|██████████| 8/8 [00:00<00:00, 187.98it/s]\n",
      "loading data for hit rate per session: 100%|██████████| 8/8 [00:00<00:00, 184.65it/s]\n",
      "loading data for hit rate per session: 100%|██████████| 8/8 [00:00<00:00, 188.04it/s]\n",
      "loading data for hit rate per session: 100%|██████████| 8/8 [00:00<00:00, 190.28it/s]\n",
      "loading data for hit rate per session: 100%|██████████| 8/8 [00:00<00:00, 189.89it/s]\n",
      "loading data for hit rate per session: 100%|██████████| 8/8 [00:00<00:00, 188.61it/s]\n",
      "loading data for hit rate per session: 100%|██████████| 8/8 [00:00<00:00, 175.45it/s]\n",
      "loading data for hit rate per session: 100%|██████████| 8/8 [00:00<00:00, 190.32it/s]\n",
      "loading data for hit rate per session: 100%|██████████| 8/8 [00:00<00:00, 188.78it/s]\n"
     ]
    }
   ],
   "source": [
    "######################################################\n",
    "########### EARLY VS LATE CELL-XCORRELOGRAMS #########\n",
    "######################################################\n",
    "\n",
    "#\n",
    "animal.verbose=False\n",
    "animal.window = 30   # in seconds\n",
    "animal.correlograms_inter_session_early_vs_late()"
   ]
  },
  {
   "cell_type": "code",
   "execution_count": 10,
   "id": "17976e29",
   "metadata": {},
   "outputs": [
    {
     "name": "stderr",
     "output_type": "stream",
     "text": [
      "loading data for n_bursts_per_session: 100%|██████████| 8/8 [00:00<00:00, 697.67it/s]"
     ]
    },
    {
     "name": "stderr",
     "output_type": "stream",
     "text": [
      "\n"
     ]
    },
    {
     "name": "stdout",
     "output_type": "stream",
     "text": [
      "DONE >..\n"
     ]
    }
   ],
   "source": [
    "######################################################\n",
    "############### SHOW N-BURSTS / SESSION ##############\n",
    "######################################################\n",
    "\n",
    "#\n",
    "animal.n_bursts_per_session()\n",
    "\n",
    "#\n",
    "print (\"DONE >..\")"
   ]
  },
  {
   "cell_type": "markdown",
   "id": "10165e20",
   "metadata": {},
   "source": [
    "# OTHER OPTIONAL STUFF "
   ]
  },
  {
   "cell_type": "code",
   "execution_count": 11,
   "id": "91b1a3bf",
   "metadata": {},
   "outputs": [
    {
     "name": "stdout",
     "output_type": "stream",
     "text": [
      "Loading data...\n",
      "Loading data...\n",
      "Loading data...\n",
      "Loading data...\n",
      "Loading data...\n",
      "Loading data...\n",
      "Loading data...\n",
      "Loading data...\n",
      "DONE >..\n"
     ]
    }
   ],
   "source": [
    "######################################################\n",
    "########### AVERAGE REWARDS INTRASESSION #############\n",
    "######################################################\n",
    "\n",
    "#\n",
    "animal.n_rewards_intra_session()\n",
    "\n",
    "#\n",
    "print (\"DONE >..\")"
   ]
  },
  {
   "cell_type": "code",
   "execution_count": 8,
   "id": "0e774d05",
   "metadata": {},
   "outputs": [
    {
     "name": "stderr",
     "output_type": "stream",
     "text": [
      "  0%|          | 0/7 [00:00<?, ?it/s]"
     ]
    },
    {
     "name": "stdout",
     "output_type": "stream",
     "text": [
      "Loading data...\n"
     ]
    },
    {
     "name": "stderr",
     "output_type": "stream",
     "text": [
      " 14%|█▍        | 1/7 [00:04<00:29,  4.99s/it]"
     ]
    },
    {
     "name": "stdout",
     "output_type": "stream",
     "text": [
      "    ... done loading data...\n",
      "Loading data...\n"
     ]
    },
    {
     "name": "stderr",
     "output_type": "stream",
     "text": [
      " 29%|██▊       | 2/7 [00:10<00:25,  5.04s/it]"
     ]
    },
    {
     "name": "stdout",
     "output_type": "stream",
     "text": [
      "    ... done loading data...\n",
      "Loading data...\n"
     ]
    },
    {
     "name": "stderr",
     "output_type": "stream",
     "text": [
      " 43%|████▎     | 3/7 [00:14<00:19,  4.97s/it]"
     ]
    },
    {
     "name": "stdout",
     "output_type": "stream",
     "text": [
      "    ... done loading data...\n",
      "Loading data...\n"
     ]
    },
    {
     "name": "stderr",
     "output_type": "stream",
     "text": [
      " 57%|█████▋    | 4/7 [00:19<00:14,  5.00s/it]"
     ]
    },
    {
     "name": "stdout",
     "output_type": "stream",
     "text": [
      "    ... done loading data...\n",
      "Loading data...\n"
     ]
    },
    {
     "name": "stderr",
     "output_type": "stream",
     "text": [
      " 71%|███████▏  | 5/7 [00:24<00:09,  4.98s/it]"
     ]
    },
    {
     "name": "stdout",
     "output_type": "stream",
     "text": [
      "    ... done loading data...\n",
      "Loading data...\n"
     ]
    },
    {
     "name": "stderr",
     "output_type": "stream",
     "text": [
      " 86%|████████▌ | 6/7 [00:29<00:04,  4.97s/it]"
     ]
    },
    {
     "name": "stdout",
     "output_type": "stream",
     "text": [
      "    ... done loading data...\n",
      "Loading data...\n"
     ]
    },
    {
     "name": "stderr",
     "output_type": "stream",
     "text": [
      "100%|██████████| 7/7 [00:34<00:00,  4.96s/it]"
     ]
    },
    {
     "name": "stdout",
     "output_type": "stream",
     "text": [
      "    ... done loading data...\n"
     ]
    },
    {
     "name": "stderr",
     "output_type": "stream",
     "text": [
      "\n"
     ]
    }
   ],
   "source": [
    "######################################################\n",
    "########### AVERAGE REWARDS INTRASESSION #############\n",
    "######################################################\n",
    "\n",
    "#\n",
    "animal.verbose=False\n",
    "animal.n_rewards_intra_session_normalized()\n",
    "\n",
    "#"
   ]
  },
  {
   "cell_type": "code",
   "execution_count": 34,
   "id": "ceb92b25",
   "metadata": {},
   "outputs": [
    {
     "ename": "FileNotFoundError",
     "evalue": "[Errno 2] No such file or directory: '/media/cat/8TB/donato/bmi/DON-011733/20230302/results/intra_session_reward_hits_per_minute.npy'",
     "output_type": "error",
     "traceback": [
      "\u001b[0;31m---------------------------------------------------------------------------\u001b[0m",
      "\u001b[0;31mFileNotFoundError\u001b[0m                         Traceback (most recent call last)",
      "Cell \u001b[0;32mIn[34], line 7\u001b[0m\n\u001b[1;32m      1\u001b[0m \u001b[38;5;66;03m########################################################\u001b[39;00m\n\u001b[1;32m      2\u001b[0m \u001b[38;5;66;03m########### EARLY VS. LATE PER 5 MIN BLOCK #############\u001b[39;00m\n\u001b[1;32m      3\u001b[0m \u001b[38;5;66;03m########################################################\u001b[39;00m\n\u001b[1;32m      4\u001b[0m \n\u001b[1;32m      5\u001b[0m \n\u001b[1;32m      6\u001b[0m \u001b[38;5;66;03m#\u001b[39;00m\n\u001b[0;32m----> 7\u001b[0m \u001b[43manimal\u001b[49m\u001b[38;5;241;43m.\u001b[39;49m\u001b[43mearly_vs_late\u001b[49m\u001b[43m(\u001b[49m\u001b[43m)\u001b[49m\n\u001b[1;32m      9\u001b[0m \u001b[38;5;66;03m#\u001b[39;00m\n",
      "File \u001b[0;32m~/code/bmitools/bmitools/analysis/behavior/utils_behavior.py:1192\u001b[0m, in \u001b[0;36mProcessSession.early_vs_late\u001b[0;34m(self)\u001b[0m\n\u001b[1;32m   1190\u001b[0m early \u001b[38;5;241m=\u001b[39m []\n\u001b[1;32m   1191\u001b[0m \u001b[38;5;28;01mfor\u001b[39;00m session_id \u001b[38;5;129;01min\u001b[39;00m \u001b[38;5;28mself\u001b[39m\u001b[38;5;241m.\u001b[39mearly:\n\u001b[0;32m-> 1192\u001b[0m     d \u001b[38;5;241m=\u001b[39m \u001b[43mnp\u001b[49m\u001b[38;5;241;43m.\u001b[39;49m\u001b[43mload\u001b[49m\u001b[43m(\u001b[49m\u001b[43mos\u001b[49m\u001b[38;5;241;43m.\u001b[39;49m\u001b[43mpath\u001b[49m\u001b[38;5;241;43m.\u001b[39;49m\u001b[43mjoin\u001b[49m\u001b[43m(\u001b[49m\u001b[38;5;28;43mself\u001b[39;49m\u001b[38;5;241;43m.\u001b[39;49m\u001b[43mroot_dir\u001b[49m\u001b[43m,\u001b[49m\n\u001b[1;32m   1193\u001b[0m \u001b[43m                             \u001b[49m\u001b[38;5;28;43mself\u001b[39;49m\u001b[38;5;241;43m.\u001b[39;49m\u001b[43manimal_id\u001b[49m\u001b[43m,\u001b[49m\n\u001b[1;32m   1194\u001b[0m \u001b[43m                             \u001b[49m\u001b[43msession_id\u001b[49m\u001b[43m,\u001b[49m\n\u001b[1;32m   1195\u001b[0m \u001b[43m                             \u001b[49m\u001b[38;5;124;43m'\u001b[39;49m\u001b[38;5;124;43mresults/intra_session_reward_hits_per_minute.npy\u001b[39;49m\u001b[38;5;124;43m'\u001b[39;49m\n\u001b[1;32m   1196\u001b[0m \u001b[43m                             \u001b[49m\u001b[43m)\u001b[49m\u001b[43m)\u001b[49m\n\u001b[1;32m   1197\u001b[0m     early\u001b[38;5;241m.\u001b[39mappend(d)\n\u001b[1;32m   1199\u001b[0m early \u001b[38;5;241m=\u001b[39m np\u001b[38;5;241m.\u001b[39mhstack(early)\n",
      "File \u001b[0;32m~/.conda/envs/bmitools/lib/python3.8/site-packages/numpy/lib/npyio.py:405\u001b[0m, in \u001b[0;36mload\u001b[0;34m(file, mmap_mode, allow_pickle, fix_imports, encoding, max_header_size)\u001b[0m\n\u001b[1;32m    403\u001b[0m     own_fid \u001b[38;5;241m=\u001b[39m \u001b[38;5;28;01mFalse\u001b[39;00m\n\u001b[1;32m    404\u001b[0m \u001b[38;5;28;01melse\u001b[39;00m:\n\u001b[0;32m--> 405\u001b[0m     fid \u001b[38;5;241m=\u001b[39m stack\u001b[38;5;241m.\u001b[39menter_context(\u001b[38;5;28;43mopen\u001b[39;49m\u001b[43m(\u001b[49m\u001b[43mos_fspath\u001b[49m\u001b[43m(\u001b[49m\u001b[43mfile\u001b[49m\u001b[43m)\u001b[49m\u001b[43m,\u001b[49m\u001b[43m \u001b[49m\u001b[38;5;124;43m\"\u001b[39;49m\u001b[38;5;124;43mrb\u001b[39;49m\u001b[38;5;124;43m\"\u001b[39;49m\u001b[43m)\u001b[49m)\n\u001b[1;32m    406\u001b[0m     own_fid \u001b[38;5;241m=\u001b[39m \u001b[38;5;28;01mTrue\u001b[39;00m\n\u001b[1;32m    408\u001b[0m \u001b[38;5;66;03m# Code to distinguish from NumPy binary files and pickles.\u001b[39;00m\n",
      "\u001b[0;31mFileNotFoundError\u001b[0m: [Errno 2] No such file or directory: '/media/cat/8TB/donato/bmi/DON-011733/20230302/results/intra_session_reward_hits_per_minute.npy'"
     ]
    }
   ],
   "source": [
    "\n",
    "#"
   ]
  },
  {
   "cell_type": "code",
   "execution_count": 10,
   "id": "072b8711",
   "metadata": {},
   "outputs": [],
   "source": [
    "#############################################################\n",
    "########### EARLY VS. LATE PLOTS - PER SESSION ##############\n",
    "#############################################################\n",
    "\n",
    "# same but showing averages per session\n",
    "#\n",
    "animal.early_vs_late_session()\n"
   ]
  },
  {
   "cell_type": "code",
   "execution_count": 7,
   "id": "3d24463f",
   "metadata": {},
   "outputs": [
    {
     "name": "stdout",
     "output_type": "stream",
     "text": [
      "Loading pre data\n"
     ]
    },
    {
     "ename": "FileNotFoundError",
     "evalue": "[Errno 2] No such file or directory: '/media/cat/8TB/donato/bmi/master_analysis/DON-011733/20230329/results/intra_session_reward_hits_per_minute.npy'",
     "output_type": "error",
     "traceback": [
      "\u001b[0;31m---------------------------------------------------------------------------\u001b[0m",
      "\u001b[0;31mFileNotFoundError\u001b[0m                         Traceback (most recent call last)",
      "\u001b[1;32m/home/cat/code/bmi/openbmi/analysis/behavior/visualize_animal_V2.ipynb Cell 9\u001b[0m line \u001b[0;36m1\n\u001b[1;32m     <a href='vscode-notebook-cell:/home/cat/code/bmi/openbmi/analysis/behavior/visualize_animal_V2.ipynb#X12sZmlsZQ%3D%3D?line=14'>15</a>\u001b[0m sess\u001b[39m.\u001b[39mpost \u001b[39m=\u001b[39m r\n\u001b[1;32m     <a href='vscode-notebook-cell:/home/cat/code/bmi/openbmi/analysis/behavior/visualize_animal_V2.ipynb#X12sZmlsZQ%3D%3D?line=16'>17</a>\u001b[0m \u001b[39m#\u001b[39;00m\n\u001b[0;32m---> <a href='vscode-notebook-cell:/home/cat/code/bmi/openbmi/analysis/behavior/visualize_animal_V2.ipynb#X12sZmlsZQ%3D%3D?line=17'>18</a>\u001b[0m sess\u001b[39m.\u001b[39;49mcontingency_degradation()\n\u001b[1;32m     <a href='vscode-notebook-cell:/home/cat/code/bmi/openbmi/analysis/behavior/visualize_animal_V2.ipynb#X12sZmlsZQ%3D%3D?line=19'>20</a>\u001b[0m \u001b[39m#\u001b[39;00m\n",
      "File \u001b[0;32m~/code/bmi/openbmi/analysis/behavior/utils_behavior.py:1112\u001b[0m, in \u001b[0;36mProcessSession.contingency_degradation\u001b[0;34m(self)\u001b[0m\n\u001b[1;32m   1110\u001b[0m pre \u001b[39m=\u001b[39m []\n\u001b[1;32m   1111\u001b[0m \u001b[39mfor\u001b[39;00m session_id \u001b[39min\u001b[39;00m \u001b[39mself\u001b[39m\u001b[39m.\u001b[39mpre:\n\u001b[0;32m-> 1112\u001b[0m     d \u001b[39m=\u001b[39m np\u001b[39m.\u001b[39;49mload(os\u001b[39m.\u001b[39;49mpath\u001b[39m.\u001b[39;49mjoin(\u001b[39mself\u001b[39;49m\u001b[39m.\u001b[39;49mroot_dir,\n\u001b[1;32m   1113\u001b[0m                              \u001b[39mself\u001b[39;49m\u001b[39m.\u001b[39;49manimal_id,\n\u001b[1;32m   1114\u001b[0m                              session_id,\n\u001b[1;32m   1115\u001b[0m                              \u001b[39m'\u001b[39;49m\u001b[39mresults/intra_session_reward_hits_per_minute.npy\u001b[39;49m\u001b[39m'\u001b[39;49m\n\u001b[1;32m   1116\u001b[0m                              ))\n\u001b[1;32m   1117\u001b[0m     pre\u001b[39m.\u001b[39mappend(d\u001b[39m.\u001b[39mmean())\n\u001b[1;32m   1120\u001b[0m \u001b[39m# load contingency degradata\u001b[39;00m\n\u001b[1;32m   1121\u001b[0m \u001b[39m# here we must recmopute the rewards rather than loading them   \u001b[39;00m\n",
      "File \u001b[0;32m~/.conda/envs/bmi/lib/python3.8/site-packages/numpy/lib/npyio.py:405\u001b[0m, in \u001b[0;36mload\u001b[0;34m(file, mmap_mode, allow_pickle, fix_imports, encoding, max_header_size)\u001b[0m\n\u001b[1;32m    403\u001b[0m     own_fid \u001b[39m=\u001b[39m \u001b[39mFalse\u001b[39;00m\n\u001b[1;32m    404\u001b[0m \u001b[39melse\u001b[39;00m:\n\u001b[0;32m--> 405\u001b[0m     fid \u001b[39m=\u001b[39m stack\u001b[39m.\u001b[39menter_context(\u001b[39mopen\u001b[39;49m(os_fspath(file), \u001b[39m\"\u001b[39;49m\u001b[39mrb\u001b[39;49m\u001b[39m\"\u001b[39;49m))\n\u001b[1;32m    406\u001b[0m     own_fid \u001b[39m=\u001b[39m \u001b[39mTrue\u001b[39;00m\n\u001b[1;32m    408\u001b[0m \u001b[39m# Code to distinguish from NumPy binary files and pickles.\u001b[39;00m\n",
      "\u001b[0;31mFileNotFoundError\u001b[0m: [Errno 2] No such file or directory: '/media/cat/8TB/donato/bmi/master_analysis/DON-011733/20230329/results/intra_session_reward_hits_per_minute.npy'"
     ]
    }
   ],
   "source": [
    "########################################################\n",
    "########### CONTINGENCY DEGRADATION PLOTS ##############\n",
    "########################################################\n",
    "\n",
    "# NOTE - NOT AVIALABLE FOR ALL ANIMALS\n",
    "\n",
    "#\n",
    "t = [ '20230329',\n",
    "    '20230330']\n",
    "cd = [ '20230401',\n",
    "    '20230402',]\n",
    "r = [  '20230402',\n",
    "    '20230403']\n",
    "\n",
    "animal.pre = t\n",
    "animal.during = cd\n",
    "animal.post = r\n",
    "\n",
    "#\n",
    "animal.contingency_degradation()\n",
    "\n",
    "#\n"
   ]
  },
  {
   "cell_type": "code",
   "execution_count": 30,
   "id": "9cc50f86",
   "metadata": {},
   "outputs": [
    {
     "name": "stdout",
     "output_type": "stream",
     "text": [
      "(4, 4, 31)\n"
     ]
    }
   ],
   "source": [
    "d = np.load('/media/cat/8TB/donato/bmi/DON-011733/20230304/results/correlograms_upphase.npy', allow_pickle=True)\n",
    "\n",
    "print (d.shape)\n",
    "plt.figure()\n",
    "for k in range(d.shape[0]):\n",
    "    for p in range(d.shape[1]):\n",
    "        ax = plt.subplot(4,4,k*4+p+1)\n",
    "        plt.plot(d[k,p])\n",
    "\n",
    "plt.show()"
   ]
  },
  {
   "cell_type": "code",
   "execution_count": null,
   "id": "165b8951",
   "metadata": {},
   "outputs": [],
   "source": []
  }
 ],
 "metadata": {
  "kernelspec": {
   "display_name": "Python 3 (ipykernel)",
   "language": "python",
   "name": "python3"
  },
  "language_info": {
   "codemirror_mode": {
    "name": "ipython",
    "version": 3
   },
   "file_extension": ".py",
   "mimetype": "text/x-python",
   "name": "python",
   "nbconvert_exporter": "python",
   "pygments_lexer": "ipython3",
   "version": "3.8.18"
  },
  "toc-autonumbering": false,
  "toc-showcode": true
 },
 "nbformat": 4,
 "nbformat_minor": 5
}
