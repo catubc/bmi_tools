{
 "cells": [
  {
   "cell_type": "code",
   "execution_count": 9,
   "id": "79588a82",
   "metadata": {},
   "outputs": [
    {
     "data": {
      "application/javascript": "IPython.notebook.set_autosave_interval(180000)"
     },
     "metadata": {},
     "output_type": "display_data"
    },
    {
     "name": "stdout",
     "output_type": "stream",
     "text": [
      "Autosaving every 180 seconds\n",
      "The autoreload extension is already loaded. To reload it, use:\n",
      "  %reload_ext autoreload\n"
     ]
    }
   ],
   "source": [
    "import matplotlib.pyplot as plt\n",
    "import matplotlib\n",
    "\n",
    "%matplotlib tk\n",
    "%autosave 180\n",
    "%load_ext autoreload\n",
    "%autoreload 2\n",
    "\n",
    "\n",
    "import numpy as np\n",
    "#%matplotlib inline\n",
    "import os\n",
    "\n",
    "import os\n",
    "\n",
    "from utils_behavior import ProcessSession\n",
    "import binarize2pcalcium"
   ]
  },
  {
   "cell_type": "code",
   "execution_count": 3,
   "id": "dac40ce4",
   "metadata": {},
   "outputs": [],
   "source": [
    "\n",
    "def run_binarization_ensemble(root_dir, animal_id, session_id,\n",
    "                              clip_windows = None,\n",
    "                              dff_min = 5,\n",
    "                              use_suite2p=False,\n",
    "                              maximum_std_of_signal=0.08):\n",
    "    ########################################################\n",
    "    # load the BMI enesemble data\n",
    "    ########################################################\n",
    "    sess = ProcessSession(root_dir,\n",
    "                        animal_id,\n",
    "                        session_id)\n",
    "\n",
    "    #\n",
    "    sess.session_id = session_id\n",
    "    sess.session_duration = 30*60*30\n",
    "    sess.skip_dict = True\n",
    "    sess.verbose=True\n",
    "\n",
    "    #\n",
    "    sess.rec_len_mins = 30\n",
    "    sess.load_data()\n",
    "\n",
    "    # convert the ensembls into a stack\n",
    "    sess.E1[0][:5 * sess.sample_rate] = 0\n",
    "    sess.E1[1][:5 * sess.sample_rate] = 0\n",
    "    sess.E2[0][:5 * sess.sample_rate] = 0\n",
    "    sess.E2[1][:5 * sess.sample_rate] = 0\n",
    "\n",
    "            #\n",
    "    traces = np.vstack((sess.E1[0],\n",
    "                        sess.E1[1],\n",
    "                        sess.E2[0],\n",
    "                        sess.E2[1])).astype('float32')\n",
    "    #\n",
    "    sess.F = traces.copy()\n",
    "\n",
    "    # replace the BMI real time signal with the suite2p time corcted one\n",
    "    if use_suite2p:\n",
    "\n",
    "        from calcium import Calcium\n",
    "\n",
    "        c = Calcium()\n",
    "        c.data_dir = os.path.join(sess.root_dir,\n",
    "                                  sess.animal_id,\n",
    "                                  sess.session_id,\n",
    "                                  'plane0')\n",
    "        c.load_suite2p()\n",
    "\n",
    "        # find each of the matching traces\n",
    "        for k in range(sess.F.shape[0]):\n",
    "            temp1 = sess.F[k]\n",
    "            temp1 = (temp1 - np.mean(temp1))/np.mean(temp1)\n",
    "\n",
    "            pcorr_max = 0\n",
    "            pcorr_id = None\n",
    "            match_trace = None\n",
    "            for p in range(c.F.shape[0]):\n",
    "                temp3 = c.F[p,:sess.session_duration]\n",
    "                # remove mean\n",
    "                temp3 = (temp3 - np.mean(temp3))/np.mean(temp3)\n",
    "                # compute the correlation\n",
    "                temp2 = np.corrcoef(temp1, temp3)\n",
    "                if temp2[0, 1] > pcorr_max:\n",
    "                    pcorr_max = temp2[0, 1]\n",
    "                    #pcorr_id = p\n",
    "                    match_trace = temp3\n",
    "            #print (\"found match: \", pcorr_id, pcorr_max)\n",
    "            \n",
    "            # #\n",
    "            # plt.figure()\n",
    "            # plt.plot(temp1)\n",
    "            # plt.plot(match_trace)\n",
    "\n",
    "            sess.F[k] = match_trace.copy()\n",
    "\n",
    "\n",
    "    ###################################################\n",
    "    #\n",
    "    import binarize2pcalcium.binarize2pcalcium as binca\n",
    "\n",
    "    #\n",
    "    c = binca.Binarize(root_dir, animal_id, session_id)\n",
    "\n",
    "    c.session = session_id \n",
    "    c.session_name = session_id\n",
    "    c.rec_len_mins = 30\n",
    "    c.bin_width = 5\n",
    "\n",
    "    c.data_type = '2p'\n",
    "    c.remove_bad_cells = False\n",
    "    c.verbose = False                          # outputs additional information during processing\n",
    "    c.recompute_binarization = True           # recomputes binarization and other processing steps; False: loads from previous saved locations\n",
    "\n",
    "    # set flags to save matlab and python data\n",
    "    c.save_python = True         # save output as .npz file \n",
    "    c.save_matlab = False         # save output as .mat file\n",
    "\n",
    "    # manual thresholds for spike detection\n",
    "    c.dff_min = dff_min                 # min %DFF for [ca] burst to considered a spike (default 5%) overwrites percentile threshold parameter\n",
    "    c.percentile_threshold = 1-1E-8   # this is pretty fixed, we don't change it; we want [ca] bursts that are well outside the \"physics-caused\"noise\n",
    "    c.maximum_std_of_signal = maximum_std_of_signal     # if std of signal is greater than this, then we have a noisy signal and we don't want to binarize it\n",
    "                                        #    - this is a very important flag! come see me if you don't understand it\n",
    "\n",
    "    #\n",
    "    c.F = sess.F.copy()\n",
    "    c.data_dir = os.path.join(root_dir, animal_id, session_id)\n",
    "    c.yaml_file_exists=False\n",
    "    c.recompute_binarization = True\n",
    "    c.fname_out = os.path.join(c.data_dir, \n",
    "                               'results',\n",
    "                               'binarized.npz')\n",
    "\n",
    "    #\n",
    "    c.moment_flag = False\n",
    "    c.mode_window = None #30*1240\n",
    "    #c.remove_ends = False\n",
    "    #c.remove_starts = True\n",
    "    #c.remove_length = clip_window*30\n",
    "    c.clip_windows = clip_windows\n",
    "    c.min_width_event_upphase = c.sample_rate//3\n",
    "    c.binarize_data()\n",
    "\n",
    "    return c\n"
   ]
  },
  {
   "cell_type": "code",
   "execution_count": 4,
   "id": "14a260c2",
   "metadata": {},
   "outputs": [
    {
     "name": "stdout",
     "output_type": "stream",
     "text": [
      "Loading data...\n",
      "self.session_duration:  54000\n",
      "Skipping dictionary\n",
      "reward times:  [ 3698  3898  4518  4694  4836  6203  6313  8445 10054 11399 13080 13292\n",
      " 13500 14881 15317 18135 18720 19602 21130 21595 23675 23841 24117 25525\n",
      " 26081 26324 27787 27901 28054 28841 30381 30730 33777 33980 34681 35163\n",
      " 35775 36031 36425 37824 37967 39592 39917 40795 42668 45647 45952 46327\n",
      " 48032 49856 49981 51585 51870 52083 53642 53918]\n",
      "Recording length (mins):  30.0\n",
      "abs times:  (3006283,) [ 112.2509095  112.251117   112.2512992 ... 3116.4830563 3116.4832298\n",
      " 3116.4850665]\n",
      "ttl times:  (54000,) 0.0 1800.8805157  total rec time sec:  1800.8805157\n",
      "ttl computed:  (54000,) [0 0 0 ... 0 0 0]\n",
      "ttl detected:  (54000,) [    0     1     2 ... 53997 53998 53999]\n",
      "lick detector:  (3006283, 1)\n",
      "lick times:  [ 123.3878159  123.3880367  123.3898133 ... 2881.9998873 2882.001675\n",
      " 2882.0018823]\n",
      "E1 , E2,  (2, 54000) (2, 54000)\n"
     ]
    },
    {
     "name": "stderr",
     "output_type": "stream",
     "text": [
      "/home/cat/.conda/envs/bmitools/lib/python3.8/site-packages/tqdm/auto.py:21: TqdmWarning: IProgress not found. Please update jupyter and ipywidgets. See https://ipywidgets.readthedocs.io/en/stable/user_install.html\n",
      "  from .autonotebook import tqdm as notebook_tqdm\n"
     ]
    },
    {
     "name": "stdout",
     "output_type": "stream",
     "text": [
      "remove bad cells:  True\n",
      "...setting 2p parameters...\n",
      "... computing binarization on non yaml-based data...\n"
     ]
    },
    {
     "name": "stderr",
     "output_type": "stream",
     "text": [
      "low pass filter: 100%|██████████| 4/4 [00:00<00:00, 835.27it/s]\n",
      "model filter: remove bleaching or trends: 100%|██████████| 4/4 [00:00<00:00, 122.26it/s]\n",
      "100%|██████████| 4/4 [00:00<00:00, 36.77it/s]\n",
      "binarizing continuous traces : 100%|██████████| 4/4 [00:00<00:00, 330.27it/s]\n",
      "binarizing continuous traces : 100%|██████████| 4/4 [00:00<00:00, 286.50it/s]\n"
     ]
    },
    {
     "name": "stdout",
     "output_type": "stream",
     "text": [
      "...saving data...\n",
      "...saving figures...\n"
     ]
    }
   ],
   "source": [
    "####################################################\n",
    "################## LOAD DATA #######################\n",
    "####################################################\n",
    "\n",
    "animal_ids = [\n",
    "    # #M1 mice\n",
    "    #\"DON-011733\",    # M1    - Processed\n",
    "    #  'DON-014382',    # M1    - Processed\n",
    "    #   'DON-014451',    # M1    - Processed\n",
    "    #   'DON-014575',    # M1    - Processed\n",
    "    #  \"DON-014618\",    # M1    - Processed\n",
    "      #'DON-015821',    # M1    - Processed\n",
    "     #  'DON-017923',   # M1    - Not Processed <has extra days at the end....\n",
    "    #   'DON-018129',   # M1    - Not Processed\n",
    "    # 'DON-018130',   # M1    - Not Processed\n",
    "\n",
    "    # #CA3 mice\n",
    "     # \"DON-012502\",    # CA3    - spreadsheet is old - need reprocessing; ALSO Weird performance, may exclude\n",
    "      \"DON-014266\",    # CA3   - Processed\n",
    "      #'DON-014371',    # CA3   - Processed\n",
    "    # 'DON-015801',    # CA3   - Processed\n",
    "    # 'DON-016658',    # CA3   - Processed\n",
    "    # 'DON-019683',    # CA3   - NOT Processed\n",
    "\n",
    "]\n",
    "\n",
    "# root_dir = r'F:\\bmi\\cohort8'\n",
    "root_dir = '/media/cat/8TB/donato/bmi/'\n",
    "animal_id = animal_ids[0]\n",
    "\n",
    "# load yaml file for the animal\n",
    "import yaml\n",
    "with open(os.path.join(root_dir,\n",
    "                       animal_id,\n",
    "                       animal_id+'.yaml')) as file:\n",
    "    doc = yaml.load(file, Loader=yaml.FullLoader)\n",
    "\n",
    "try:\n",
    "    session_ids = np.array(doc['session_names'],dtype='str')\n",
    "except:\n",
    "    session_ids = np.array(doc['session_ids'],dtype='str')\n",
    "\n",
    "#\n",
    "session_id = session_ids[8]\n",
    "\n",
    "#\n",
    "\n",
    "clip_windows = [[0,10],\n",
    "                #[1050,1100]\n",
    "                ]\n",
    "\n",
    "dff_min = 7.5\n",
    "use_suite2p = True\n",
    "maximum_std_of_signal = 0.08\n",
    "\n",
    "\n",
    "#\n",
    "run_binarization_ensemble(root_dir, \n",
    "                          animal_id, \n",
    "                          session_id,\n",
    "                          clip_windows,\n",
    "                          dff_min,\n",
    "                          use_suite2p,\n",
    "                        maximum_std_of_signal)\n"
   ]
  },
  {
   "cell_type": "code",
   "execution_count": 128,
   "id": "6c908091",
   "metadata": {},
   "outputs": [],
   "source": [
    "# ########################################################\n",
    "# ############# BINARIZE THE [CA] TRACES #################\n",
    "# ########################################################\n",
    "\n",
    "# # double check that we have set the STD thrshold at a reasonable level to catch biggest/highest SNR bursts\n",
    "# sess.show_plots = True\n",
    "\n",
    "# #\n",
    "# sess.visualize_binarization()"
   ]
  },
  {
   "cell_type": "code",
   "execution_count": 22,
   "id": "f1000238",
   "metadata": {},
   "outputs": [
    {
     "name": "stdout",
     "output_type": "stream",
     "text": [
      "Loading data...\n",
      "self.session_duration:  54000\n"
     ]
    },
    {
     "name": "stdout",
     "output_type": "stream",
     "text": [
      "    ... done loading data...\n"
     ]
    }
   ],
   "source": [
    "\n",
    "#\n",
    "root_dir = '/media/cat/8TB/donato/bmi/'\n",
    "animal_id = 'DON-014266'\n",
    "\n",
    "#\n",
    "animal = ProcessSession(root_dir,\n",
    "                        animal_id)\n",
    "\n",
    "animal.verbose=False\n",
    "\n",
    "#\n",
    "animal.early = [animal.session_ids[1],\n",
    "                animal.session_ids[2],\n",
    "                ]\n",
    "\n",
    "#\n",
    "animal.late = [animal.session_ids[-2],\n",
    "                animal.session_ids[-1],\n",
    "            ]\n",
    "\n",
    "\n",
    "animal.session_duration = 30*60*30\n",
    "\n",
    "#\n",
    "animal.session_id = '20230206'\n",
    "animal.skip_dict = False\n",
    "animal.load_data()\n"
   ]
  },
  {
   "cell_type": "code",
   "execution_count": 23,
   "id": "77ec6f43",
   "metadata": {},
   "outputs": [
    {
     "name": "stdout",
     "output_type": "stream",
     "text": [
      "Saving to:  /media/cat/8TB/donato/bmi/DON-014266/20230206/results\n",
      "self.ttl_times:  (54000,)\n",
      "self.E1:  (2, 54000)\n",
      "self.E2:  (2, 54000)\n"
     ]
    }
   ],
   "source": [
    "# ############################################################\n",
    "# ############# PLOTS IN HONOR OF CAJAL AND RY ###############\n",
    "# ############################################################\n",
    "# sess.show_plots=True\n",
    "animal.save_dir = os.path.join(root_dir, animal_id, animal.session_id, 'results')\n",
    "print (\"Saving to: \", animal.save_dir)\n",
    "animal.process_session_traces()"
   ]
  },
  {
   "cell_type": "code",
   "execution_count": 14,
   "id": "2fca7dd0",
   "metadata": {},
   "outputs": [
    {
     "ename": "AttributeError",
     "evalue": "'ProcessSession' object has no attribute 'e1_1'",
     "output_type": "error",
     "traceback": [
      "\u001b[0;31m---------------------------------------------------------------------------\u001b[0m",
      "\u001b[0;31mAttributeError\u001b[0m                            Traceback (most recent call last)",
      "Cell \u001b[0;32mIn[14], line 13\u001b[0m\n\u001b[1;32m      1\u001b[0m \u001b[39m############################################################\u001b[39;00m\n\u001b[1;32m      2\u001b[0m \u001b[39m############# PLOTS IN HONOR OF CAJAL AND RY ###############\u001b[39;00m\n\u001b[1;32m      3\u001b[0m \u001b[39m############################################################\u001b[39;00m\n\u001b[0;32m   (...)\u001b[0m\n\u001b[1;32m     10\u001b[0m \n\u001b[1;32m     11\u001b[0m \u001b[39m#\u001b[39;00m\n\u001b[1;32m     12\u001b[0m sess\u001b[39m.\u001b[39mshow_plots\u001b[39m=\u001b[39m\u001b[39mTrue\u001b[39;00m\n\u001b[0;32m---> 13\u001b[0m sess\u001b[39m.\u001b[39;49mshow_session_traces_and_calibration()\n\u001b[1;32m     15\u001b[0m \u001b[39m#F:\\bmi\\cohort8\\DON-014451\\20230328\\calibration\u001b[39;00m\n\u001b[1;32m     16\u001b[0m \u001b[39m#F:\\bmi\\cohort8\\DON-014451\\20230328\\\\results.npz'\u001b[39;00m\n",
      "File \u001b[0;32m~/code/bmi/analysis/utils.py:675\u001b[0m, in \u001b[0;36mProcessSession.show_session_traces_and_calibration\u001b[0;34m(self)\u001b[0m\n\u001b[1;32m    671\u001b[0m ax \u001b[39m=\u001b[39m plt\u001b[39m.\u001b[39msubplot(\u001b[39m1\u001b[39m, \u001b[39m1\u001b[39m, \u001b[39m1\u001b[39m)\n\u001b[1;32m    673\u001b[0m \u001b[39m# plot calibration\u001b[39;00m\n\u001b[1;32m    674\u001b[0m \u001b[39m#t_calibration = np.arange(self.e1_1.shape[0])*self.calibration_subsample/30.\u001b[39;00m\n\u001b[0;32m--> 675\u001b[0m t_calibration \u001b[39m=\u001b[39m np\u001b[39m.\u001b[39marange(\u001b[39mself\u001b[39;49m\u001b[39m.\u001b[39;49me1_1\u001b[39m.\u001b[39mshape[\u001b[39m0\u001b[39m])\u001b[39m/\u001b[39m\u001b[39m30.\u001b[39m\n\u001b[1;32m    676\u001b[0m t_calibration \u001b[39m=\u001b[39m t_calibration\u001b[39m-\u001b[39mt_calibration[\u001b[39m-\u001b[39m\u001b[39m1\u001b[39m]\n\u001b[1;32m    679\u001b[0m plt\u001b[39m.\u001b[39mplot(t_calibration, \u001b[39mself\u001b[39m\u001b[39m.\u001b[39me1_1, c\u001b[39m=\u001b[39m\u001b[39m'\u001b[39m\u001b[39mblue\u001b[39m\u001b[39m'\u001b[39m, alpha\u001b[39m=\u001b[39malpha)\n",
      "\u001b[0;31mAttributeError\u001b[0m: 'ProcessSession' object has no attribute 'e1_1'"
     ]
    }
   ],
   "source": [
    "############################################################\n",
    "############# PLOTS IN HONOR OF CAJAL AND RY ###############\n",
    "############################################################\n",
    "\n",
    "#\n",
    "#sess.load_calibration()\n",
    "\n",
    "# run this if you have run the calibration through the bmi gui\n",
    "#sess.load_calibration_new()\n",
    "\n",
    "#\n",
    "sess.show_plots=True\n",
    "sess.show_session_traces_and_calibration()\n",
    "\n",
    "#F:\\bmi\\cohort8\\DON-014451\\20230328\\calibration\n",
    "#F:\\bmi\\cohort8\\DON-014451\\20230328\\\\results.npz'"
   ]
  },
  {
   "cell_type": "code",
   "execution_count": 5,
   "id": "c3db7aa8",
   "metadata": {},
   "outputs": [
    {
     "name": "stdout",
     "output_type": "stream",
     "text": [
      "pearson correlation E1 cells;  0.03916222897242536\n",
      "pearson correlation E2 cells;  0.09556712722981311\n"
     ]
    }
   ],
   "source": [
    "#################################################################\n",
    "############# CORREALTION BETWEEN ENSEMBLES #####################\n",
    "#################################################################\n",
    "# this is not so interesting; may need to do more on this\n",
    "sess.show_plots = True\n",
    "\n",
    "#\n",
    "sess.compute_ensemble_correlations()\n"
   ]
  },
  {
   "cell_type": "code",
   "execution_count": 6,
   "id": "b8abd263",
   "metadata": {},
   "outputs": [
    {
     "name": "stdout",
     "output_type": "stream",
     "text": [
      "lick times:  [   3.18    3.19    3.2  ... 2985.97 2985.98 2985.99]\n",
      "# of spikes:  12406\n"
     ]
    }
   ],
   "source": [
    "#################################################################\n",
    "############# CORRELOGRAMS BETWEEN REWARDS AND LICKING ##########\n",
    "#################################################################\n",
    "# this is not so interesting; may need to do more on this\n",
    "sess.show_plots = True\n",
    "#\n",
    "sess.window_size = 60   # seconds\n",
    "sess.compute_correlograms_reward_vs_licking()\n"
   ]
  },
  {
   "cell_type": "code",
   "execution_count": null,
   "id": "a29432a5",
   "metadata": {},
   "outputs": [
    {
     "name": "stderr",
     "output_type": "stream",
     "text": [
      "low pass filter: 100%|██████████| 4/4 [00:00<00:00, 1291.15it/s]\n",
      "model filter: remove bleaching or trends: 100%|██████████| 4/4 [00:00<00:00, 1789.19it/s]\n",
      "binarizing continuous traces filtered fluorescence onphase: 100%|██████████| 4/4 [00:00<00:00, 434.89it/s]\n",
      "binarizing continuous traces filtered fluorescence upphase: 100%|██████████| 4/4 [00:00<00:00, 172.19it/s]\n"
     ]
    }
   ],
   "source": [
    "\n"
   ]
  },
  {
   "cell_type": "code",
   "execution_count": 20,
   "id": "ad33e5a7",
   "metadata": {},
   "outputs": [],
   "source": [
    "###################################################################################\n",
    "############COMPUTE CORRELOGRAMS BETWEEN CELLS BASED ON UPPHASE DETECTION #########\n",
    "###################################################################################\n",
    "#\n",
    "sess.corr_window = 60   # in seconds\n",
    "sess.compute_correlograms_ensembles_upphase()"
   ]
  },
  {
   "cell_type": "code",
   "execution_count": 2,
   "id": "68a88001",
   "metadata": {},
   "outputs": [
    {
     "ename": "NameError",
     "evalue": "name 'sess' is not defined",
     "output_type": "error",
     "traceback": [
      "\u001b[0;31m---------------------------------------------------------------------------\u001b[0m",
      "\u001b[0;31mNameError\u001b[0m                                 Traceback (most recent call last)",
      "Cell \u001b[0;32mIn[2], line 5\u001b[0m\n\u001b[1;32m      1\u001b[0m \u001b[39m###########################################################################################\u001b[39;00m\n\u001b[1;32m      2\u001b[0m \u001b[39m############COMPUTE CORRELOGRAMS BETWEEN CELLS BASED ON RAW FILTERED FLUORESCENCE #########\u001b[39;00m\n\u001b[1;32m      3\u001b[0m \u001b[39m##########################################################################################\u001b[39;00m\n\u001b[1;32m      4\u001b[0m \u001b[39m#\u001b[39;00m\n\u001b[0;32m----> 5\u001b[0m sess\u001b[39m.\u001b[39mshow_plots \u001b[39m=\u001b[39m \u001b[39mTrue\u001b[39;00m\n\u001b[1;32m      6\u001b[0m sess\u001b[39m.\u001b[39mwindow \u001b[39m=\u001b[39m \u001b[39m60\u001b[39m\u001b[39m*\u001b[39m\u001b[39m30\u001b[39m   \u001b[39m# in seconds\u001b[39;00m\n\u001b[1;32m      7\u001b[0m sess\u001b[39m.\u001b[39mcompute_correlograms_ensembles_fluorescence()\n",
      "\u001b[0;31mNameError\u001b[0m: name 'sess' is not defined"
     ]
    }
   ],
   "source": [
    "###########################################################################################\n",
    "############COMPUTE CORRELOGRAMS BETWEEN CELLS BASED ON RAW FILTERED FLUORESCENCE #########\n",
    "##########################################################################################\n",
    "#\n",
    "sess.show_plots = True\n",
    "sess.window = 60*30   # in seconds\n",
    "sess.compute_correlograms_ensembles_fluorescence()"
   ]
  },
  {
   "cell_type": "code",
   "execution_count": 11,
   "id": "a4c21b51",
   "metadata": {},
   "outputs": [
    {
     "name": "stdout",
     "output_type": "stream",
     "text": [
      "Perason corr:  PearsonRResult(statistic=0.3706110830816283, pvalue=0.2917649089674079)\n"
     ]
    }
   ],
   "source": [
    "########################################################\n",
    "####### COMPUTE INTRA-SESSION REWARD HISTOGRAM #########\n",
    "########################################################\n",
    "\n",
    "#\n",
    "sess.show_plots=True\n",
    "sess.bin_width = 5 # in minutes\n",
    "sess.compute_intra_session_reward_histogram()\n",
    "\n"
   ]
  },
  {
   "cell_type": "code",
   "execution_count": 12,
   "id": "84ec8791",
   "metadata": {},
   "outputs": [
    {
     "name": "stdout",
     "output_type": "stream",
     "text": [
      "Perason corr:  PearsonRResult(statistic=0.37154698242568246, pvalue=0.2904522471458872)\n"
     ]
    }
   ],
   "source": [
    "######################################################################\n",
    "####### COMPUTE INTRA-SESSION REWARD HISTOGRAM - HITS/MINUTE #########\n",
    "######################################################################\n",
    "\n",
    "#\n",
    "sess.show_plots=True\n",
    "sess.bin_width_mins = 5 # in minutes\n",
    "sess.compute_intra_session_reward_histogram_hist_per_minute()"
   ]
  },
  {
   "cell_type": "code",
   "execution_count": 13,
   "id": "3adfc7ef",
   "metadata": {},
   "outputs": [],
   "source": [
    "##########################################################################\n",
    "####### COMPUTE INTRA-SESSION CELL BURST HISTOGRAMS AS LINE PLOT #########\n",
    "##########################################################################\n",
    "\n",
    "#\n",
    "sess.show_plots=True\n",
    "sess.bin_width = 5 # in minutes\n",
    "sess.compute_intra_session_cell_burst_histogram()\n"
   ]
  },
  {
   "cell_type": "code",
   "execution_count": 14,
   "id": "c3ca0093",
   "metadata": {},
   "outputs": [],
   "source": [
    "##########################################################################\n",
    "####### COMPUTE INTRA-SESSION CELL BURST HISTOGRAMS AS LINE PLOT #########\n",
    "##########################################################################\n",
    "#\n",
    "sess.compute_intra_session_cell_burst_histogram_v2()"
   ]
  },
  {
   "cell_type": "code",
   "execution_count": 7,
   "id": "a7564ed9",
   "metadata": {},
   "outputs": [],
   "source": [
    "####################################################\n",
    "####### INTER-BURST-INTERVAL DISTRIBUTIONS #########\n",
    "####################################################\n",
    "#\n",
    "sess.isi_width = 10\n",
    "sess.isi_bin_width = 0.250\n",
    "sess.compute_intra_session_inter_burst_interval()"
   ]
  },
  {
   "cell_type": "code",
   "execution_count": 67,
   "id": "7dc36554",
   "metadata": {},
   "outputs": [
    {
     "name": "stdout",
     "output_type": "stream",
     "text": [
      "nan\n"
     ]
    }
   ],
   "source": [
    "#######################################\n",
    "####### TIME TO REWARD PER TRIAL ######\n",
    "#######################################\n",
    "\n",
    "#\n",
    "sess.time_to_reward_per_trial_intra_session()\n",
    "\n"
   ]
  },
  {
   "cell_type": "code",
   "execution_count": 161,
   "id": "0185b6fe",
   "metadata": {},
   "outputs": [],
   "source": [
    "###########################################\n",
    "####### BINNED PAIRWISE CORRELATIONS ######\n",
    "###########################################\n",
    "\n",
    "#\n",
    "sess.session_id = '20230202'\n",
    "#sess.session_id = '20230131'\n",
    "sess.pairwise_correlations_intra_session_dff()\n",
    "\n"
   ]
  },
  {
   "cell_type": "code",
   "execution_count": 207,
   "id": "033b376c",
   "metadata": {},
   "outputs": [
    {
     "name": "stdout",
     "output_type": "stream",
     "text": [
      "missing:  abs_times_ttl_read\n",
      "missing:  abs_times_ca_read\n",
      "matching lick times to ttl Times:  (89955,)\n"
     ]
    },
    {
     "name": "stderr",
     "output_type": "stream",
     "text": [
      "100%|██████████| 89955/89955 [00:35<00:00, 2537.89it/s] \n"
     ]
    },
    {
     "name": "stdout",
     "output_type": "stream",
     "text": [
      "reward times:  (31,)\n",
      "Recording length (mins):  50.0\n",
      "abs times:  (3008338,) [ 149.8581727  149.8583522  149.8585126 ... 3156.1436586 3156.1453174\n",
      " 3156.1455295]\n",
      "ttl times:  (89955,) 0.0 2999.9520262  total rec time sec:  2999.9520262\n",
      "ttl computed:  (89955,) [    0     1     2 ... 89997 89998 89999]\n",
      "ttl detected:  (89955,) [    0     1     2 ... 89952 89953 89954]\n",
      "lick detector:  (3008338, 1)\n",
      "lick times:  [ 587.9077456  587.9079715  587.9097345 ... 2703.8404269 2703.8421129\n",
      " 2703.8424087]\n",
      "E1 , E2,  (2, 90000) (2, 90000)\n",
      "(89956,) (89956,)\n"
     ]
    },
    {
     "name": "stderr",
     "output_type": "stream",
     "text": [
      "100%|██████████| 1800/1800 [00:04<00:00, 423.09it/s]\n",
      "100%|██████████| 1800/1800 [00:04<00:00, 419.70it/s]\n",
      "100%|██████████| 1800/1800 [00:04<00:00, 418.58it/s]\n",
      "100%|██████████| 1800/1800 [00:04<00:00, 416.59it/s]\n"
     ]
    }
   ],
   "source": [
    "##################################\n",
    "####### LICKS VS. ENSEMBLES ######\n",
    "##################################\n",
    "\n",
    "#\n",
    "sess.session_id = '20230202'\n",
    "#sess.session_id = '20230131'\n",
    "sess.load_data()\n",
    "\n",
    "# not super informative\n",
    "#sess.compute_licks_vs_ensembles()\n",
    "\n",
    "\n",
    "#\n",
    "sess.window =30*30  # 30 seconds\n",
    "sess.compute_licks_vs_ensembles_correlograms()\n"
   ]
  },
  {
   "cell_type": "code",
   "execution_count": 199,
   "id": "93bfdd06",
   "metadata": {},
   "outputs": [
    {
     "name": "stdout",
     "output_type": "stream",
     "text": [
      "(89956,)\n"
     ]
    }
   ],
   "source": [
    "d = np.load('/media/cat/4TB/donato/andres/DON-011733/20230202/data/lick_times_ttl.npy')\n",
    "print (d.shape)"
   ]
  },
  {
   "cell_type": "code",
   "execution_count": null,
   "id": "b7c569ed",
   "metadata": {},
   "outputs": [],
   "source": []
  },
  {
   "cell_type": "code",
   "execution_count": null,
   "id": "2461348a",
   "metadata": {},
   "outputs": [],
   "source": []
  },
  {
   "cell_type": "code",
   "execution_count": null,
   "id": "965635bc",
   "metadata": {},
   "outputs": [],
   "source": []
  },
  {
   "cell_type": "code",
   "execution_count": null,
   "id": "450c386a",
   "metadata": {},
   "outputs": [],
   "source": []
  },
  {
   "cell_type": "code",
   "execution_count": null,
   "id": "67bfa713",
   "metadata": {},
   "outputs": [],
   "source": []
  },
  {
   "cell_type": "code",
   "execution_count": 160,
   "id": "536d38c6",
   "metadata": {},
   "outputs": [
    {
     "name": "stdout",
     "output_type": "stream",
     "text": [
      "(490, 2)\n"
     ]
    }
   ],
   "source": [
    "# ###################################################\n",
    "# ######## LOAD ROI CONTOURS AND VISUALIZE ##########\n",
    "# ###################################################\n",
    "\n",
    "# data = np.load('/media/cat/4TB/donato/andres/DON-011733/20230127/data/results.npz')\n",
    "# rois_e1 = data['rois_pixels_ensemble1'].T\n",
    "# rois_e2 = data['rois_pixels_ensemble2'].T\n",
    "# print (rois_e1.shape)\n",
    "# plt.figure()\n",
    "\n",
    "# plt.scatter(rois_e1[:,0], rois_e1[:,1])\n",
    "# plt.scatter(rois_e2[:,0], rois_e2[:,1])\n",
    "# plt.xlim(0,512)\n",
    "# plt.ylim(0,512)\n",
    "# plt.show()\n",
    "# # #"
   ]
  },
  {
   "cell_type": "code",
   "execution_count": null,
   "id": "981a36c5",
   "metadata": {},
   "outputs": [],
   "source": []
  },
  {
   "cell_type": "code",
   "execution_count": null,
   "id": "0d3573f5",
   "metadata": {},
   "outputs": [],
   "source": []
  },
  {
   "cell_type": "code",
   "execution_count": null,
   "id": "723736b7",
   "metadata": {},
   "outputs": [],
   "source": []
  },
  {
   "cell_type": "code",
   "execution_count": 22,
   "id": "57ac332e",
   "metadata": {},
   "outputs": [],
   "source": [
    "####################################################\n",
    "################ SESSION % HITS ####################\n",
    "####################################################\n",
    "\n",
    "root_dir = '/media/cat/4TB/donato/andres/Cohort 6 Data/'\n",
    "animal_id = 'DON-014266'\n",
    "session_ids = [\n",
    "    #'20230127',\n",
    "    #'20230128',\n",
    "    #'20230129',\n",
    "    #'20230130',\n",
    "    '20230131',\n",
    "    '20230201',\n",
    "    '20230202',\n",
    "    '20230203',\n",
    "    '20230204',\n",
    "    '20230205',\n",
    "    '20230206',\n",
    "    #'20230207',\n",
    "\n",
    "]\n",
    "\n",
    "# define the 3 sets of sessions for contingency degradation\n",
    "# leave blank for non-used\n",
    "t = ['20230131',\n",
    "        '20230201']\n",
    "cd = ['20230202',\n",
    "        '20230203']\n",
    "r = ['20230205',\n",
    "        '20230206']\n",
    "\n",
    "\n",
    "# define early vs. late sessions\n",
    "early = ['20230131',\n",
    "        '20230201',\n",
    "        '20230202',\n",
    "        ]\n",
    "late = ['20230204',\n",
    "        '20230205',\n",
    "        '20230206',\n",
    "       ]"
   ]
  },
  {
   "cell_type": "code",
   "execution_count": 23,
   "id": "e5deb70d",
   "metadata": {},
   "outputs": [],
   "source": [
    "#####################################################\n",
    "#####################################################\n",
    "#####################################################\n",
    "      \n",
    "sess = ProcessSession(root_dir,\n",
    "                      animal_id,\n",
    "                     session_ids[0])\n",
    "\n",
    "sess.load_data()\n",
    "\n",
    "#\n",
    "sess.bin_width_mins = 5\n",
    "sess.verbose=False\n",
    "sess.session_ids = session_ids\n",
    "\n",
    "sess.compute_animal_hit_rate()"
   ]
  },
  {
   "cell_type": "code",
   "execution_count": 17,
   "id": "1973c348",
   "metadata": {},
   "outputs": [
    {
     "name": "stdout",
     "output_type": "stream",
     "text": [
      "[2.43144700e-01 2.43368100e-01 2.43546400e-01 ... 2.86109859e+03\n",
      " 2.86109895e+03 2.86110055e+03]\n",
      "(90000,)\n"
     ]
    }
   ],
   "source": [
    "import numpy as np\n",
    "fname = '/media/cat/8TB/donato/bmi/DON-014618/20230505/results.npz'\n",
    "data = np.load(fname, allow_pickle=True)    \n",
    "\n",
    "abs_times = data['abs_times_ttl_read']\n",
    "ttl_times = data['ttl_times']\n",
    "\n",
    "lick_detector = data['lick_detector_abstime']\n",
    "idx = np.where(lick_detector > 3)[0]\n",
    "lick_times = abs_times[idx] - ttl_times[0]\n",
    "print (lick_times)\n",
    "\n",
    "dd = data['abs_times_ca_read']\n",
    "print (dd.shape)\n"
   ]
  },
  {
   "cell_type": "code",
   "execution_count": 1,
   "id": "107aa5c8",
   "metadata": {},
   "outputs": [
    {
     "name": "stdout",
     "output_type": "stream",
     "text": [
      "(4, 6)\n",
      "(4, 6)\n",
      "(4, 6)\n",
      "(4, 6)\n",
      "(4, 6)\n",
      "(4, 6)\n",
      "(4, 6)\n",
      "(4, 6)\n",
      "(4, 6)\n",
      "(4, 6)\n",
      "(4, 6)\n",
      "(4, 6)\n",
      "(4, 6)\n",
      "(4, 6)\n",
      "(4, 6)\n",
      "(4, 6)\n",
      "(4, 6)\n",
      "(4, 6)\n",
      "(4, 6)\n",
      "(4, 6)\n",
      "(4, 6)\n",
      "(4, 6)\n",
      "(4, 6)\n",
      "(4, 6)\n",
      "(4, 6)\n",
      "(4, 6)\n",
      "(4, 6)\n",
      "(4, 6)\n",
      "(4, 6)\n",
      "(4, 6)\n",
      "(4, 6)\n",
      "(4, 6)\n",
      "(4, 6)\n",
      "(4, 6)\n",
      "(4, 6)\n",
      "(4, 6)\n",
      "(4, 6)\n",
      "(4, 6)\n",
      "(4, 6)\n",
      "(4, 6)\n",
      "(4, 6)\n",
      "(4, 6)\n",
      "(4, 6)\n",
      "(4, 6)\n",
      "(4, 6)\n",
      "(4, 6)\n",
      "(4, 6)\n",
      "(4, 6)\n",
      "(4, 6)\n",
      "(4, 6)\n",
      "(4, 6)\n",
      "(4, 6)\n",
      "(4, 6)\n",
      "(4, 6)\n",
      "(4, 6)\n",
      "(4, 6)\n",
      "(4, 6)\n",
      "(4, 6)\n",
      "(4, 6)\n",
      "(4, 6)\n",
      "(4, 6)\n",
      "(4, 6)\n",
      "(4, 6)\n",
      "(4, 6)\n",
      "(4, 6)\n",
      "(4, 6)\n",
      "(4, 6)\n",
      "(4, 6)\n",
      "(4, 6)\n",
      "(4, 6)\n",
      "(4, 6)\n",
      "(4, 6)\n",
      "(4, 6)\n",
      "(4, 6)\n",
      "(4, 6)\n",
      "(4, 6)\n",
      "(4, 6)\n",
      "(4, 6)\n",
      "(4, 6)\n",
      "(4, 6)\n",
      "(4, 6)\n",
      "(4, 6)\n",
      "(4, 6)\n",
      "(4, 6)\n",
      "(4, 6)\n",
      "(4, 6)\n",
      "(4, 6)\n",
      "(4, 6)\n",
      "(4, 6)\n",
      "(4, 6)\n",
      "(4, 6)\n",
      "(4, 6)\n",
      "(4, 6)\n",
      "(4, 6)\n",
      "(4, 6)\n",
      "(4, 6)\n",
      "(4, 6)\n",
      "(4, 6)\n",
      "(4, 6)\n",
      "(4, 6)\n",
      "(4, 6)\n",
      "(4, 6)\n",
      "(4, 6)\n",
      "(4, 6)\n",
      "(4, 6)\n",
      "(4, 6)\n",
      "(4, 6)\n",
      "(4, 6)\n",
      "(4, 6)\n",
      "(4, 6)\n",
      "(4, 6)\n",
      "(4, 6)\n",
      "(4, 6)\n",
      "(4, 6)\n",
      "(4, 6)\n",
      "(4, 6)\n",
      "(4, 6)\n"
     ]
    }
   ],
   "source": [
    "import os\n",
    "import numpy as np\n",
    "import matplotlib.pyplot as plt\n",
    "import yaml\n",
    "%matplotlib tk\n",
    "\n",
    "\n",
    "animal_ids = [\n",
    "    # #M1 mice\n",
    "    \"DON-011733\",    # M1    - Processed\n",
    "     'DON-014382',    # M1    - Processed\n",
    "     'DON-014451',    # M1    - Processed\n",
    "    'DON-014575',    # M1    - Processed\n",
    "    \"DON-014618\",    # M1    - Processed\n",
    "     'DON-015821',    # M1    - Processed\n",
    "    'DON-017923',   # M1    - Not Processed <has extra days at the end....\n",
    "    'DON-018129',   # M1    - Not Processed\n",
    "    'DON-018130',   # M1    - Not Processed\n",
    "\n",
    "    # #CA3 mice\n",
    "    \"DON-012502\",    # CA3    - spreadsheet is old - need reprocessing; ALSO Weird performance, may exclude\n",
    "    \"DON-014266\",    # CA3   - Processed\n",
    "    'DON-014371',    # CA3   - Processed\n",
    "    'DON-015801',    # CA3   - Processed\n",
    "    'DON-016658',    # CA3   - Processed\n",
    "    'DON-019683'\n",
    "]\n",
    "\n",
    "root_dir = '/media/cat/8TB/donato/bmi/'\n",
    "\n",
    "for animal_id in animal_ids:\n",
    "    # load yaml file from this location\n",
    "    fname = os.path.join(root_dir, animal_id, \n",
    "                        str(animal_id)+'.yaml')\n",
    "    yam = yaml.load(open(fname, 'r'), Loader=yaml.FullLoader)\n",
    "    # grab \"session_ids\" from yaml file\n",
    "    sessions = yam['session_ids']\n",
    "\n",
    "\n",
    "\n",
    "    # make color map over 7 discrete viridis\n",
    "    cmap = plt.cm.viridis\n",
    "    colors = cmap(np.linspace(0, 1, len(sessions)-1))\n",
    "    cell_names = ['pos1', 'pos2', 'neg1', 'neg2']\n",
    "    #\n",
    "    plt.figure(figsize=(8,8))\n",
    "    cell_array = [[],[],[],[]]\n",
    "    for ctr,session in enumerate(sessions[1:]):\n",
    "        fname = os.path.join(root_dir,\n",
    "                            animal_id, \n",
    "                            str(session), \n",
    "                            'results',\n",
    "                            'cell_burst_histogram_v2.npy')\n",
    "        data = np.load(fname, allow_pickle=True)\n",
    "        print (data.shape)\n",
    "        t = np.arange(6)*5+2.5\n",
    "        for k in range(data.shape[0]):\n",
    "            ax=plt.subplot(2,2,k+1)\n",
    "            plt.plot(t,\n",
    "                    data[k],\n",
    "                    color=colors[ctr],\n",
    "                    linewidth=2,\n",
    "                    )\n",
    "            \n",
    "            plt.title(\"Cell: \"+str(k))\n",
    "            cell_array[k].append(data[k])\n",
    "\n",
    "    # plot also average of all cells\n",
    "    for k in range(4):\n",
    "        ax=plt.subplot(2,2,k+1)\n",
    "        temp = np.array(cell_array[k])\n",
    "        std = temp.std(0)\n",
    "        temp = temp.mean(0)\n",
    "        plt.ylabel(\"burst rate(5min bins)\")\n",
    "        plt.plot(t,\n",
    "                temp, \n",
    "                color='black',\n",
    "                linewidth=2)\n",
    "        \n",
    "        #\n",
    "        plt.fill_between(t,\n",
    "                        temp-std,\n",
    "                        temp+std,\n",
    "                        color='black',\n",
    "                        alpha=0.2)\n",
    "        plt.title(\"Cell: \"+str(cell_names[k]))\n",
    "\n",
    "    plt.suptitle(\"Cell burst histograms \" + animal_id)\n",
    "    plt.show()\n",
    "\n",
    "    # \n",
    "    plt.savefig('/home/cat/'+animal_id+'_cell_burst_histograms.png')"
   ]
  },
  {
   "cell_type": "code",
   "execution_count": null,
   "id": "df13afd8",
   "metadata": {},
   "outputs": [],
   "source": []
  },
  {
   "cell_type": "code",
   "execution_count": null,
   "id": "c8fb0c70",
   "metadata": {},
   "outputs": [],
   "source": []
  },
  {
   "cell_type": "code",
   "execution_count": null,
   "id": "5325bad7",
   "metadata": {},
   "outputs": [],
   "source": []
  }
 ],
 "metadata": {
  "kernelspec": {
   "display_name": "Python 3 (ipykernel)",
   "language": "python",
   "name": "python3"
  },
  "language_info": {
   "codemirror_mode": {
    "name": "ipython",
    "version": 3
   },
   "file_extension": ".py",
   "mimetype": "text/x-python",
   "name": "python",
   "nbconvert_exporter": "python",
   "pygments_lexer": "ipython3",
   "version": "3.8.18"
  },
  "toc-autonumbering": false,
  "toc-showcode": true,
  "vscode": {
   "interpreter": {
    "hash": "72cef0bab3166fa9830085204a9fd2721c2184bba10e8ad6f5dedc24784c512f"
   }
  }
 },
 "nbformat": 4,
 "nbformat_minor": 5
}
