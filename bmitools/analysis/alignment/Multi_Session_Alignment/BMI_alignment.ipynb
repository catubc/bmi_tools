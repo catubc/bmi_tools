{
 "cells": [
  {
   "cell_type": "code",
   "execution_count": 1,
   "metadata": {},
   "outputs": [
    {
     "data": {
      "application/javascript": "IPython.notebook.set_autosave_interval(180000)"
     },
     "metadata": {},
     "output_type": "display_data"
    },
    {
     "name": "stdout",
     "output_type": "stream",
     "text": [
      "Autosaving every 180 seconds\n"
     ]
    },
    {
     "name": "stderr",
     "output_type": "stream",
     "text": [
      "/home/cat/.conda/envs/bmitools/lib/python3.8/site-packages/tqdm/auto.py:21: TqdmWarning: IProgress not found. Please update jupyter and ipywidgets. See https://ipywidgets.readthedocs.io/en/stable/user_install.html\n",
      "  from .autonotebook import tqdm as notebook_tqdm\n"
     ]
    }
   ],
   "source": [
    "# usefull jupyter settings\n",
    "#%matplotlib inline\n",
    "%matplotlib tk\n",
    "%autosave 180\n",
    "%load_ext autoreload\n",
    "%autoreload 2\n",
    "%config Completer.use_jedi = False\n",
    "\n",
    "#\n",
    "from utils_align import Animal2\n",
    "\n",
    "#"
   ]
  },
  {
   "cell_type": "code",
   "execution_count": 5,
   "metadata": {},
   "outputs": [
    {
     "name": "stderr",
     "output_type": "stream",
     "text": [
      "100%|██████████| 9/9 [01:19<00:00,  8.88s/it]"
     ]
    },
    {
     "name": "stdout",
     "output_type": "stream",
     "text": [
      "... done ...\n"
     ]
    },
    {
     "name": "stderr",
     "output_type": "stream",
     "text": [
      "\n"
     ]
    }
   ],
   "source": [
    "#############################################\n",
    "################# LOAD DATA #################\n",
    "#############################################\n",
    "\n",
    "root_dir = \"/media/cat/8TB/donato/bmi/\" \n",
    "\n",
    "# M1 mice\n",
    "animal_id = \"DON-011733\"\n",
    "#animal_id = \"DON-014618\"\n",
    "#animal_id  = \"DON-012502\"\n",
    "animal_id = 'DON-014451'\n",
    "\n",
    "# CA3 mice\n",
    "#animal_id = \"DON-014371\"\n",
    "animal_id = 'DON-015801'\n",
    "\n",
    "#\n",
    "animal = Animal2(root_dir, \n",
    "                 animal_id)\n",
    "print (\"... done ...\")\n",
    "#\n"
   ]
  },
  {
   "cell_type": "code",
   "execution_count": 3,
   "metadata": {},
   "outputs": [
    {
     "name": "stdout",
     "output_type": "stream",
     "text": [
      "... merging sessions ...\n",
      "Creating master mask...\n",
      "Setting Number of Batches according to free RAM\n",
      "Available RAM: 47GB setting number of batches to 4\n"
     ]
    },
    {
     "name": "stderr",
     "output_type": "stream",
     "text": [
      "  0%|          | 0/271 [00:00<?, ?it/s]"
     ]
    },
    {
     "name": "stderr",
     "output_type": "stream",
     "text": [
      "100%|██████████| 271/271 [00:00<00:00, 2490.45it/s]"
     ]
    },
    {
     "name": "stdout",
     "output_type": "stream",
     "text": [
      "Working on session ... 20230331\n",
      "... master stat exists ...\n",
      "Working on session ... 20230401\n",
      "... master stat exists ...\n",
      "Working on session ... 20230402\n",
      "... master stat exists ...\n",
      "Working on session ... 20230403\n",
      "... master stat exists ...\n",
      "Working on session ... 20230404\n",
      "... master stat exists ...\n",
      "Working on session ... 20230406\n",
      "... master stat exists ...\n",
      "Working on session ... 20230407\n",
      "... master stat exists ...\n",
      "Working on session ... 20230408\n",
      "... master stat exists ...\n",
      "Number of cells in master mask: 387\n",
      "... done ...\n"
     ]
    },
    {
     "name": "stderr",
     "output_type": "stream",
     "text": [
      "\n"
     ]
    }
   ],
   "source": [
    "##############################################################\n",
    "############ COMPUTE MASTER MASK AND [ca] TRACES #############\n",
    "##############################################################\n",
    "#\n",
    "animal.recompute_master_mask = True\n",
    "animal.n_cells_show = 200\n",
    "animal.plot_master_mask = False\n",
    "animal.plot_original_session = True\n",
    "animal.plot_aligned_session = False\n",
    "animal.make_master_mask()\n",
    "\n",
    "#\n",
    "print (\"... done ...\")"
   ]
  },
  {
   "cell_type": "code",
   "execution_count": 6,
   "metadata": {},
   "outputs": [
    {
     "name": "stdout",
     "output_type": "stream",
     "text": [
      "Loaded master mask:  712\n"
     ]
    },
    {
     "name": "stderr",
     "output_type": "stream",
     "text": [
      "  0%|          | 0/712 [00:00<?, ?it/s]"
     ]
    },
    {
     "name": "stderr",
     "output_type": "stream",
     "text": [
      "100%|██████████| 712/712 [00:00<00:00, 3185.65it/s]\n"
     ]
    },
    {
     "name": "stdout",
     "output_type": "stream",
     "text": [
      "Updating session  20230611\n"
     ]
    },
    {
     "name": "stderr",
     "output_type": "stream",
     "text": [
      "100%|██████████| 304/304 [00:00<00:00, 3420.06it/s]\n",
      "100%|██████████| 712/712 [00:00<00:00, 3583.83it/s]\n"
     ]
    },
    {
     "name": "stdout",
     "output_type": "stream",
     "text": [
      "Masks created, 5.91 sec.\n",
      "Extracted fluorescence from 712 ROIs in 90000 frames, 270.45 sec.\n",
      "\n",
      "Updating session  20230612\n"
     ]
    },
    {
     "name": "stderr",
     "output_type": "stream",
     "text": [
      "100%|██████████| 421/421 [00:00<00:00, 3171.43it/s]\n",
      "100%|██████████| 712/712 [00:00<00:00, 3512.93it/s]\n"
     ]
    },
    {
     "name": "stdout",
     "output_type": "stream",
     "text": [
      "Masks created, 5.83 sec.\n",
      "Extracted fluorescence from 712 ROIs in 90000 frames, 129.80 sec.\n",
      "\n",
      "Updating session  20230613\n"
     ]
    },
    {
     "name": "stderr",
     "output_type": "stream",
     "text": [
      "100%|██████████| 476/476 [00:00<00:00, 3637.69it/s]\n",
      "100%|██████████| 712/712 [00:00<00:00, 3718.92it/s]\n"
     ]
    },
    {
     "name": "stdout",
     "output_type": "stream",
     "text": [
      "Masks created, 5.91 sec.\n",
      "Extracted fluorescence from 712 ROIs in 90000 frames, 230.52 sec.\n",
      "\n",
      "Updating session  20230614\n"
     ]
    },
    {
     "name": "stderr",
     "output_type": "stream",
     "text": [
      "100%|██████████| 535/535 [00:00<00:00, 2001.84it/s]\n",
      "100%|██████████| 712/712 [00:00<00:00, 3586.63it/s]\n"
     ]
    },
    {
     "name": "stdout",
     "output_type": "stream",
     "text": [
      "Masks created, 5.96 sec.\n",
      "Extracted fluorescence from 712 ROIs in 90000 frames, 203.04 sec.\n",
      "\n",
      "Updating session  20230615\n"
     ]
    },
    {
     "name": "stderr",
     "output_type": "stream",
     "text": [
      "100%|██████████| 472/472 [00:00<00:00, 3390.50it/s]\n"
     ]
    },
    {
     "name": "stdout",
     "output_type": "stream",
     "text": [
      "making dummy cell for out of bounds cells\n",
      "making dummy cell for out of bounds cells\n",
      "making dummy cell for out of bounds cells\n"
     ]
    },
    {
     "name": "stderr",
     "output_type": "stream",
     "text": [
      "100%|██████████| 712/712 [00:00<00:00, 3567.48it/s]\n",
      "/home/cat/.conda/envs/bmitools/lib/python3.8/site-packages/suite2p/extraction/masks.py:85: RuntimeWarning: invalid value encountered in divide\n",
      "  lam_normed = lam / lam.sum() if lam.size > 0 else np.empty(0)\n"
     ]
    },
    {
     "name": "stdout",
     "output_type": "stream",
     "text": [
      "Masks created, 6.19 sec.\n",
      "Extracted fluorescence from 712 ROIs in 90000 frames, 165.35 sec.\n",
      "\n",
      "Updating session  20230616\n"
     ]
    },
    {
     "name": "stderr",
     "output_type": "stream",
     "text": [
      "100%|██████████| 507/507 [00:00<00:00, 3503.28it/s]\n",
      "100%|██████████| 712/712 [00:00<00:00, 3589.49it/s]\n"
     ]
    },
    {
     "name": "stdout",
     "output_type": "stream",
     "text": [
      "Masks created, 5.77 sec.\n",
      "Extracted fluorescence from 712 ROIs in 90000 frames, 145.20 sec.\n",
      "\n",
      "Updating session  20230617\n"
     ]
    },
    {
     "name": "stderr",
     "output_type": "stream",
     "text": [
      "100%|██████████| 524/524 [00:00<00:00, 3613.69it/s]\n",
      "100%|██████████| 712/712 [00:00<00:00, 3671.83it/s]\n"
     ]
    },
    {
     "name": "stdout",
     "output_type": "stream",
     "text": [
      "Masks created, 5.79 sec.\n",
      "Extracted fluorescence from 712 ROIs in 90000 frames, 145.48 sec.\n",
      "\n",
      "Updating session  20230618\n"
     ]
    },
    {
     "name": "stderr",
     "output_type": "stream",
     "text": [
      "100%|██████████| 595/595 [00:00<00:00, 3442.89it/s]\n",
      "100%|██████████| 712/712 [00:00<00:00, 3495.29it/s]\n"
     ]
    },
    {
     "name": "stdout",
     "output_type": "stream",
     "text": [
      "Masks created, 5.99 sec.\n",
      "Extracted fluorescence from 712 ROIs in 90000 frames, 145.86 sec.\n",
      "\n",
      "Updating session  20230619\n"
     ]
    },
    {
     "name": "stderr",
     "output_type": "stream",
     "text": [
      "100%|██████████| 530/530 [00:00<00:00, 3620.00it/s]\n",
      "100%|██████████| 712/712 [00:00<00:00, 3605.28it/s]\n"
     ]
    },
    {
     "name": "stdout",
     "output_type": "stream",
     "text": [
      "Masks created, 5.89 sec.\n",
      "Extracted fluorescence from 712 ROIs in 90000 frames, 145.55 sec.\n",
      "\n",
      "...DONE MERGING ....\n",
      "... done ...\n"
     ]
    }
   ],
   "source": [
    "#################################################\n",
    "# \n",
    "animal.recompute_suite2p = True\n",
    "animal.run_suite2p_master_mask()\n",
    "\n",
    "#\n",
    "print ('... done ...')"
   ]
  },
  {
   "cell_type": "code",
   "execution_count": null,
   "metadata": {},
   "outputs": [],
   "source": []
  },
  {
   "cell_type": "code",
   "execution_count": null,
   "metadata": {},
   "outputs": [],
   "source": []
  },
  {
   "cell_type": "code",
   "execution_count": null,
   "metadata": {},
   "outputs": [],
   "source": []
  }
 ],
 "metadata": {
  "kernelspec": {
   "display_name": "Python 3 (ipykernel)",
   "language": "python",
   "name": "python3"
  },
  "language_info": {
   "codemirror_mode": {
    "name": "ipython",
    "version": 3
   },
   "file_extension": ".py",
   "mimetype": "text/x-python",
   "name": "python",
   "nbconvert_exporter": "python",
   "pygments_lexer": "ipython3",
   "version": "3.8.18"
  }
 },
 "nbformat": 4,
 "nbformat_minor": 4
}
