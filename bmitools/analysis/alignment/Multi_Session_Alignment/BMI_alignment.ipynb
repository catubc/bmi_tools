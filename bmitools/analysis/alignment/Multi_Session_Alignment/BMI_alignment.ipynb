{
 "cells": [
  {
   "cell_type": "code",
   "execution_count": 3,
   "metadata": {},
   "outputs": [
    {
     "data": {
      "application/javascript": "IPython.notebook.set_autosave_interval(180000)"
     },
     "metadata": {},
     "output_type": "display_data"
    },
    {
     "name": "stdout",
     "output_type": "stream",
     "text": [
      "Autosaving every 180 seconds\n",
      "The autoreload extension is already loaded. To reload it, use:\n",
      "  %reload_ext autoreload\n"
     ]
    }
   ],
   "source": [
    "# usefull jupyter settings\n",
    "#%matplotlib inline\n",
    "%matplotlib tk\n",
    "%autosave 180\n",
    "%load_ext autoreload\n",
    "%autoreload 2\n",
    "%config Completer.use_jedi = False\n",
    "\n",
    "#\n",
    "from utils_align import Animal2\n",
    "\n",
    "#"
   ]
  },
  {
   "cell_type": "code",
   "execution_count": 16,
   "metadata": {},
   "outputs": [
    {
     "name": "stderr",
     "output_type": "stream",
     "text": [
      "100%|██████████| 9/9 [00:44<00:00,  4.95s/it]"
     ]
    },
    {
     "name": "stdout",
     "output_type": "stream",
     "text": [
      "... done ...\n"
     ]
    },
    {
     "name": "stderr",
     "output_type": "stream",
     "text": [
      "\n"
     ]
    }
   ],
   "source": [
    "#############################################\n",
    "################# LOAD DATA #################\n",
    "#############################################\n",
    "\n",
    "root_dir = \"/media/cat/8TB/donato/bmi/\" \n",
    "#root_dir = \"/media/cat/8TB/Dropbox/papers/bmi/data/bmi/\" \n",
    "\n",
    "# M1 mice\n",
    "#animal_id = \"DON-011733\"\n",
    "#animal_id = \"DON-014618\"\n",
    "#animal_id  = \"DON-012502\"\n",
    "#animal_id = 'DON-014451'\n",
    "#animal_id = 'DON-018129'\n",
    "#animal_id = 'DON-018130'\n",
    "animal_id = 'DON-014266'\n",
    "\n",
    "# CA3 mice\n",
    "#animal_id = \"DON-014371\"\n",
    "#animal_id = 'DON-015801'\n",
    "\n",
    "#\n",
    "animal = Animal2(root_dir, \n",
    "                 animal_id)\n",
    "print (\"... done ...\")\n",
    "#\n"
   ]
  },
  {
   "cell_type": "code",
   "execution_count": 17,
   "metadata": {},
   "outputs": [
    {
     "name": "stdout",
     "output_type": "stream",
     "text": [
      "... merging sessions ...\n",
      "Creating master mask...\n",
      "Setting Number of Batches according to free RAM\n",
      "Available RAM: 94GB setting number of batches to 2\n"
     ]
    },
    {
     "name": "stderr",
     "output_type": "stream",
     "text": [
      "100%|██████████| 59/59 [00:00<00:00, 2475.43it/s]\n"
     ]
    },
    {
     "name": "stdout",
     "output_type": "stream",
     "text": [
      "Working on session ... 20230131\n"
     ]
    },
    {
     "name": "stderr",
     "output_type": "stream",
     "text": [
      "100%|██████████| 62/62 [00:00<00:00, 1580.44it/s]\n"
     ]
    },
    {
     "name": "stdout",
     "output_type": "stream",
     "text": [
      "master footprints 59 , session footprints 62\n",
      "... computing cell overlaps ...\n"
     ]
    },
    {
     "name": "stderr",
     "output_type": "stream",
     "text": [
      "100%|██████████| 12/12 [00:07<00:00,  1.56it/s]\n"
     ]
    },
    {
     "name": "stdout",
     "output_type": "stream",
     "text": [
      "Removed duplicated cells:  42\n"
     ]
    },
    {
     "name": "stderr",
     "output_type": "stream",
     "text": [
      "100%|██████████| 79/79 [00:00<00:00, 574.16it/s]\n"
     ]
    },
    {
     "name": "stdout",
     "output_type": "stream",
     "text": [
      "\n",
      "Working on session ... 20230201\n"
     ]
    },
    {
     "name": "stderr",
     "output_type": "stream",
     "text": [
      "100%|██████████| 27/27 [00:00<00:00, 1746.25it/s]\n"
     ]
    },
    {
     "name": "stdout",
     "output_type": "stream",
     "text": [
      "master footprints 79 , session footprints 27\n",
      "... computing cell overlaps ...\n"
     ]
    },
    {
     "name": "stderr",
     "output_type": "stream",
     "text": [
      "100%|██████████| 10/10 [00:05<00:00,  1.87it/s]\n"
     ]
    },
    {
     "name": "stdout",
     "output_type": "stream",
     "text": [
      "Removed duplicated cells:  24\n"
     ]
    },
    {
     "name": "stderr",
     "output_type": "stream",
     "text": [
      "100%|██████████| 82/82 [00:00<00:00, 589.81it/s]\n"
     ]
    },
    {
     "name": "stdout",
     "output_type": "stream",
     "text": [
      "\n",
      "Working on session ... 20230202\n"
     ]
    },
    {
     "name": "stderr",
     "output_type": "stream",
     "text": [
      "100%|██████████| 59/59 [00:00<00:00, 2816.99it/s]\n"
     ]
    },
    {
     "name": "stdout",
     "output_type": "stream",
     "text": [
      "master footprints 82 , session footprints 59\n",
      "... computing cell overlaps ...\n"
     ]
    },
    {
     "name": "stderr",
     "output_type": "stream",
     "text": [
      "100%|██████████| 14/14 [00:10<00:00,  1.38it/s]\n"
     ]
    },
    {
     "name": "stdout",
     "output_type": "stream",
     "text": [
      "Removed duplicated cells:  45\n"
     ]
    },
    {
     "name": "stderr",
     "output_type": "stream",
     "text": [
      "100%|██████████| 96/96 [00:00<00:00, 678.61it/s]\n"
     ]
    },
    {
     "name": "stdout",
     "output_type": "stream",
     "text": [
      "\n",
      "Working on session ... 20230203\n"
     ]
    },
    {
     "name": "stderr",
     "output_type": "stream",
     "text": [
      "100%|██████████| 43/43 [00:00<00:00, 2712.96it/s]\n"
     ]
    },
    {
     "name": "stdout",
     "output_type": "stream",
     "text": [
      "master footprints 96 , session footprints 43\n",
      "... computing cell overlaps ...\n"
     ]
    },
    {
     "name": "stderr",
     "output_type": "stream",
     "text": [
      "100%|██████████| 13/13 [00:08<00:00,  1.45it/s]\n"
     ]
    },
    {
     "name": "stdout",
     "output_type": "stream",
     "text": [
      "Removed duplicated cells:  38\n"
     ]
    },
    {
     "name": "stderr",
     "output_type": "stream",
     "text": [
      "100%|██████████| 101/101 [00:00<00:00, 708.61it/s]\n"
     ]
    },
    {
     "name": "stdout",
     "output_type": "stream",
     "text": [
      "\n",
      "Working on session ... 20230204\n"
     ]
    },
    {
     "name": "stderr",
     "output_type": "stream",
     "text": [
      "100%|██████████| 59/59 [00:00<00:00, 2073.85it/s]\n"
     ]
    },
    {
     "name": "stdout",
     "output_type": "stream",
     "text": [
      "master footprints 101 , session footprints 59\n",
      "... computing cell overlaps ...\n"
     ]
    },
    {
     "name": "stderr",
     "output_type": "stream",
     "text": [
      "100%|██████████| 16/16 [00:12<00:00,  1.27it/s]\n"
     ]
    },
    {
     "name": "stdout",
     "output_type": "stream",
     "text": [
      "Removed duplicated cells:  41\n"
     ]
    },
    {
     "name": "stderr",
     "output_type": "stream",
     "text": [
      "100%|██████████| 119/119 [00:00<00:00, 785.50it/s]\n"
     ]
    },
    {
     "name": "stdout",
     "output_type": "stream",
     "text": [
      "\n",
      "Working on session ... 20230205\n"
     ]
    },
    {
     "name": "stderr",
     "output_type": "stream",
     "text": [
      "100%|██████████| 40/40 [00:00<00:00, 2788.91it/s]\n"
     ]
    },
    {
     "name": "stdout",
     "output_type": "stream",
     "text": [
      "master footprints 119 , session footprints 40\n",
      "... computing cell overlaps ...\n"
     ]
    },
    {
     "name": "stderr",
     "output_type": "stream",
     "text": [
      "100%|██████████| 15/15 [00:11<00:00,  1.31it/s]\n"
     ]
    },
    {
     "name": "stdout",
     "output_type": "stream",
     "text": [
      "Removed duplicated cells:  30\n"
     ]
    },
    {
     "name": "stderr",
     "output_type": "stream",
     "text": [
      "100%|██████████| 129/129 [00:00<00:00, 864.48it/s]\n"
     ]
    },
    {
     "name": "stdout",
     "output_type": "stream",
     "text": [
      "\n",
      "Working on session ... 20230206\n"
     ]
    },
    {
     "name": "stderr",
     "output_type": "stream",
     "text": [
      "100%|██████████| 57/57 [00:00<00:00, 2515.73it/s]\n"
     ]
    },
    {
     "name": "stdout",
     "output_type": "stream",
     "text": [
      "master footprints 129 , session footprints 57\n",
      "... computing cell overlaps ...\n"
     ]
    },
    {
     "name": "stderr",
     "output_type": "stream",
     "text": [
      "100%|██████████| 18/18 [00:15<00:00,  1.13it/s]\n"
     ]
    },
    {
     "name": "stdout",
     "output_type": "stream",
     "text": [
      "Removed duplicated cells:  43\n"
     ]
    },
    {
     "name": "stderr",
     "output_type": "stream",
     "text": [
      "100%|██████████| 143/143 [00:00<00:00, 871.04it/s]\n"
     ]
    },
    {
     "name": "stdout",
     "output_type": "stream",
     "text": [
      "\n",
      "Working on session ... 20230207\n"
     ]
    },
    {
     "name": "stderr",
     "output_type": "stream",
     "text": [
      "100%|██████████| 68/68 [00:00<00:00, 2108.41it/s]\n"
     ]
    },
    {
     "name": "stdout",
     "output_type": "stream",
     "text": [
      "master footprints 143 , session footprints 68\n",
      "... computing cell overlaps ...\n"
     ]
    },
    {
     "name": "stderr",
     "output_type": "stream",
     "text": [
      "100%|██████████| 21/21 [00:19<00:00,  1.06it/s]\n"
     ]
    },
    {
     "name": "stdout",
     "output_type": "stream",
     "text": [
      "Removed duplicated cells:  54\n"
     ]
    },
    {
     "name": "stderr",
     "output_type": "stream",
     "text": [
      "100%|██████████| 157/157 [00:00<00:00, 910.80it/s]\n"
     ]
    },
    {
     "name": "stdout",
     "output_type": "stream",
     "text": [
      "\n",
      "Number of cells in master mask: 157\n",
      "... done ...\n"
     ]
    }
   ],
   "source": [
    "##############################################################\n",
    "############ COMPUTE MASTER MASK AND [ca] TRACES #############\n",
    "##############################################################\n",
    "#\n",
    "animal.recompute_master_mask = True\n",
    "animal.n_cells_show = 200\n",
    "animal.plot_master_mask = False\n",
    "animal.plot_original_session = True\n",
    "animal.plot_aligned_session = False\n",
    "animal.make_master_mask()\n",
    "\n",
    "#\n",
    "print (\"... done ...\")"
   ]
  },
  {
   "cell_type": "code",
   "execution_count": 18,
   "metadata": {},
   "outputs": [
    {
     "name": "stdout",
     "output_type": "stream",
     "text": [
      "Loaded master mask:  157\n"
     ]
    },
    {
     "name": "stderr",
     "output_type": "stream",
     "text": [
      "100%|██████████| 157/157 [00:00<00:00, 1673.28it/s]\n"
     ]
    },
    {
     "name": "stdout",
     "output_type": "stream",
     "text": [
      "Updating session  20230130\n"
     ]
    },
    {
     "name": "stderr",
     "output_type": "stream",
     "text": [
      "100%|██████████| 59/59 [00:00<00:00, 2621.47it/s]\n",
      "100%|██████████| 157/157 [00:00<00:00, 2236.79it/s]\n"
     ]
    },
    {
     "name": "stdout",
     "output_type": "stream",
     "text": [
      "Masks created, 4.52 sec.\n",
      "Extracted fluorescence from 157 ROIs in 90000 frames, 493.21 sec.\n",
      "\n",
      "Updating session  20230131\n"
     ]
    },
    {
     "name": "stderr",
     "output_type": "stream",
     "text": [
      "100%|██████████| 62/62 [00:00<00:00, 1609.37it/s]\n"
     ]
    },
    {
     "name": "stdout",
     "output_type": "stream",
     "text": [
      "Cell out of bounds...\n",
      "making dummy cell for None flag\n",
      "Cell out of bounds...\n",
      "making dummy cell for None flag\n",
      "Cell out of bounds...\n",
      "making dummy cell for None flag\n",
      "Cell out of bounds...\n",
      "making dummy cell for None flag\n"
     ]
    },
    {
     "name": "stderr",
     "output_type": "stream",
     "text": [
      "100%|██████████| 157/157 [00:00<00:00, 2073.82it/s]\n",
      "/home/cat/.conda/envs/bmitools/lib/python3.8/site-packages/suite2p/extraction/masks.py:85: RuntimeWarning: invalid value encountered in divide\n",
      "  lam_normed = lam / lam.sum() if lam.size > 0 else np.empty(0)\n"
     ]
    },
    {
     "name": "stdout",
     "output_type": "stream",
     "text": [
      "Masks created, 4.46 sec.\n",
      "Extracted fluorescence from 157 ROIs in 90000 frames, 338.10 sec.\n",
      "\n",
      "Updating session  20230201\n"
     ]
    },
    {
     "name": "stderr",
     "output_type": "stream",
     "text": [
      "100%|██████████| 27/27 [00:00<00:00, 1963.35it/s]\n"
     ]
    },
    {
     "name": "stdout",
     "output_type": "stream",
     "text": [
      "Cell out of bounds...\n",
      "making dummy cell for None flag\n",
      "Cell out of bounds...\n",
      "making dummy cell for None flag\n",
      "Cell out of bounds...\n",
      "making dummy cell for None flag\n"
     ]
    },
    {
     "name": "stderr",
     "output_type": "stream",
     "text": [
      "100%|██████████| 157/157 [00:00<00:00, 1791.96it/s]\n",
      "/home/cat/.conda/envs/bmitools/lib/python3.8/site-packages/suite2p/extraction/masks.py:85: RuntimeWarning: invalid value encountered in divide\n",
      "  lam_normed = lam / lam.sum() if lam.size > 0 else np.empty(0)\n"
     ]
    },
    {
     "name": "stdout",
     "output_type": "stream",
     "text": [
      "Masks created, 4.58 sec.\n",
      "Extracted fluorescence from 157 ROIs in 90000 frames, 371.70 sec.\n",
      "\n",
      "Updating session  20230202\n"
     ]
    },
    {
     "name": "stderr",
     "output_type": "stream",
     "text": [
      "100%|██████████| 59/59 [00:00<00:00, 2727.90it/s]\n"
     ]
    },
    {
     "name": "stdout",
     "output_type": "stream",
     "text": [
      "making dummy cell for out of bounds cells\n",
      "making dummy cell for out of bounds cells\n"
     ]
    },
    {
     "name": "stderr",
     "output_type": "stream",
     "text": [
      "100%|██████████| 157/157 [00:00<00:00, 2125.53it/s]\n",
      "/home/cat/.conda/envs/bmitools/lib/python3.8/site-packages/suite2p/extraction/masks.py:85: RuntimeWarning: invalid value encountered in divide\n",
      "  lam_normed = lam / lam.sum() if lam.size > 0 else np.empty(0)\n"
     ]
    },
    {
     "name": "stdout",
     "output_type": "stream",
     "text": [
      "Masks created, 4.45 sec.\n",
      "Extracted fluorescence from 157 ROIs in 90000 frames, 341.29 sec.\n",
      "\n",
      "Updating session  20230203\n"
     ]
    },
    {
     "name": "stderr",
     "output_type": "stream",
     "text": [
      "100%|██████████| 43/43 [00:00<00:00, 2619.65it/s]\n"
     ]
    },
    {
     "name": "stdout",
     "output_type": "stream",
     "text": [
      "making dummy cell for out of bounds cells\n",
      "making dummy cell for out of bounds cells\n",
      "making dummy cell for out of bounds cells\n",
      "Cell out of bounds...\n",
      "making dummy cell for None flag\n",
      "making dummy cell for out of bounds cells\n",
      "making dummy cell for out of bounds cells\n"
     ]
    },
    {
     "name": "stderr",
     "output_type": "stream",
     "text": [
      "100%|██████████| 157/157 [00:00<00:00, 1958.43it/s]\n",
      "/home/cat/.conda/envs/bmitools/lib/python3.8/site-packages/suite2p/extraction/masks.py:85: RuntimeWarning: invalid value encountered in divide\n",
      "  lam_normed = lam / lam.sum() if lam.size > 0 else np.empty(0)\n"
     ]
    },
    {
     "name": "stdout",
     "output_type": "stream",
     "text": [
      "Masks created, 4.47 sec.\n",
      "Extracted fluorescence from 157 ROIs in 90000 frames, 328.69 sec.\n",
      "\n",
      "Updating session  20230204\n"
     ]
    },
    {
     "name": "stderr",
     "output_type": "stream",
     "text": [
      "100%|██████████| 59/59 [00:00<00:00, 2187.57it/s]\n"
     ]
    },
    {
     "name": "stdout",
     "output_type": "stream",
     "text": [
      "making dummy cell for out of bounds cells\n",
      "making dummy cell for out of bounds cells\n",
      "making dummy cell for out of bounds cells\n"
     ]
    },
    {
     "name": "stderr",
     "output_type": "stream",
     "text": [
      "100%|██████████| 157/157 [00:00<00:00, 2095.56it/s]\n",
      "/home/cat/.conda/envs/bmitools/lib/python3.8/site-packages/suite2p/extraction/masks.py:85: RuntimeWarning: invalid value encountered in divide\n",
      "  lam_normed = lam / lam.sum() if lam.size > 0 else np.empty(0)\n"
     ]
    },
    {
     "name": "stdout",
     "output_type": "stream",
     "text": [
      "Masks created, 4.58 sec.\n",
      "Extracted fluorescence from 157 ROIs in 90000 frames, 358.76 sec.\n",
      "\n",
      "Updating session  20230205\n"
     ]
    },
    {
     "name": "stderr",
     "output_type": "stream",
     "text": [
      "100%|██████████| 40/40 [00:00<00:00, 2782.57it/s]\n"
     ]
    },
    {
     "name": "stdout",
     "output_type": "stream",
     "text": [
      "Cell out of bounds...\n",
      "making dummy cell for None flag\n"
     ]
    },
    {
     "name": "stderr",
     "output_type": "stream",
     "text": [
      "100%|██████████| 157/157 [00:00<00:00, 2243.76it/s]\n",
      "/home/cat/.conda/envs/bmitools/lib/python3.8/site-packages/suite2p/extraction/masks.py:85: RuntimeWarning: invalid value encountered in divide\n",
      "  lam_normed = lam / lam.sum() if lam.size > 0 else np.empty(0)\n"
     ]
    },
    {
     "name": "stdout",
     "output_type": "stream",
     "text": [
      "Masks created, 4.40 sec.\n",
      "Extracted fluorescence from 157 ROIs in 90000 frames, 325.77 sec.\n",
      "\n",
      "Updating session  20230206\n"
     ]
    },
    {
     "name": "stderr",
     "output_type": "stream",
     "text": [
      "100%|██████████| 57/57 [00:00<00:00, 2541.41it/s]\n"
     ]
    },
    {
     "name": "stdout",
     "output_type": "stream",
     "text": [
      "Cell out of bounds...\n",
      "making dummy cell for None flag\n",
      "Cell out of bounds...\n",
      "making dummy cell for None flag\n",
      "Cell out of bounds...\n",
      "making dummy cell for None flag\n",
      "Cell out of bounds...\n",
      "making dummy cell for None flag\n"
     ]
    },
    {
     "name": "stderr",
     "output_type": "stream",
     "text": [
      "100%|██████████| 157/157 [00:00<00:00, 2195.06it/s]\n",
      "/home/cat/.conda/envs/bmitools/lib/python3.8/site-packages/suite2p/extraction/masks.py:85: RuntimeWarning: invalid value encountered in divide\n",
      "  lam_normed = lam / lam.sum() if lam.size > 0 else np.empty(0)\n"
     ]
    },
    {
     "name": "stdout",
     "output_type": "stream",
     "text": [
      "Masks created, 4.48 sec.\n",
      "Extracted fluorescence from 157 ROIs in 90000 frames, 353.31 sec.\n",
      "\n",
      "Updating session  20230207\n"
     ]
    },
    {
     "name": "stderr",
     "output_type": "stream",
     "text": [
      "100%|██████████| 68/68 [00:00<00:00, 2336.45it/s]\n",
      "100%|██████████| 157/157 [00:00<00:00, 2148.45it/s]\n"
     ]
    },
    {
     "name": "stdout",
     "output_type": "stream",
     "text": [
      "Masks created, 4.39 sec.\n",
      "Extracted fluorescence from 157 ROIs in 90000 frames, 309.33 sec.\n",
      "\n",
      "...DONE MERGING ....\n",
      "... done ...\n"
     ]
    }
   ],
   "source": [
    "#################################################\n",
    "# \n",
    "animal.recompute_suite2p = True\n",
    "animal.run_suite2p_master_mask()\n",
    "\n",
    "#\n",
    "print ('... done ...')"
   ]
  },
  {
   "cell_type": "code",
   "execution_count": null,
   "metadata": {},
   "outputs": [],
   "source": []
  },
  {
   "cell_type": "code",
   "execution_count": null,
   "metadata": {},
   "outputs": [],
   "source": []
  },
  {
   "cell_type": "code",
   "execution_count": null,
   "metadata": {},
   "outputs": [],
   "source": []
  }
 ],
 "metadata": {
  "kernelspec": {
   "display_name": "Python 3 (ipykernel)",
   "language": "python",
   "name": "python3"
  },
  "language_info": {
   "codemirror_mode": {
    "name": "ipython",
    "version": 3
   },
   "file_extension": ".py",
   "mimetype": "text/x-python",
   "name": "python",
   "nbconvert_exporter": "python",
   "pygments_lexer": "ipython3",
   "version": "3.8.18"
  }
 },
 "nbformat": 4,
 "nbformat_minor": 4
}
