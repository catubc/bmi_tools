{
 "cells": [
  {
   "cell_type": "code",
   "execution_count": 2,
   "metadata": {},
   "outputs": [
    {
     "data": {
      "application/javascript": "IPython.notebook.set_autosave_interval(180000)"
     },
     "metadata": {},
     "output_type": "display_data"
    },
    {
     "name": "stdout",
     "output_type": "stream",
     "text": [
      "Autosaving every 180 seconds\n"
     ]
    },
    {
     "name": "stderr",
     "output_type": "stream",
     "text": [
      "/home/cat/.conda/envs/bmitools/lib/python3.8/site-packages/tqdm/auto.py:21: TqdmWarning: IProgress not found. Please update jupyter and ipywidgets. See https://ipywidgets.readthedocs.io/en/stable/user_install.html\n",
      "  from .autonotebook import tqdm as notebook_tqdm\n"
     ]
    }
   ],
   "source": [
    "# usefull jupyter settings\n",
    "#%matplotlib inline\n",
    "%matplotlib tk\n",
    "%autosave 180\n",
    "%load_ext autoreload\n",
    "%autoreload 2\n",
    "%config Completer.use_jedi = False\n",
    "\n",
    "#\n",
    "from utils_align import Animal2\n",
    "\n",
    "#"
   ]
  },
  {
   "cell_type": "code",
   "execution_count": 3,
   "metadata": {},
   "outputs": [
    {
     "name": "stderr",
     "output_type": "stream",
     "text": [
      "  0%|          | 0/9 [00:00<?, ?it/s]"
     ]
    },
    {
     "name": "stderr",
     "output_type": "stream",
     "text": [
      "100%|██████████| 9/9 [00:24<00:00,  2.74s/it]"
     ]
    },
    {
     "name": "stdout",
     "output_type": "stream",
     "text": [
      "... done ...\n"
     ]
    },
    {
     "name": "stderr",
     "output_type": "stream",
     "text": [
      "\n"
     ]
    }
   ],
   "source": [
    "#############################################\n",
    "################# LOAD DATA #################\n",
    "#############################################\n",
    "\n",
    "root_dir = \"/media/cat/8TB/donato/bmi/\" \n",
    "\n",
    "#\n",
    "animal_id = \"DON-011733\"\n",
    "animal_id = \"DON-014618\"\n",
    "\n",
    "#\n",
    "animal = Animal2(root_dir, animal_id)\n",
    "print (\"... done ...\")\n",
    "#\n"
   ]
  },
  {
   "cell_type": "code",
   "execution_count": 4,
   "metadata": {},
   "outputs": [
    {
     "name": "stdout",
     "output_type": "stream",
     "text": [
      "... merging sessions ...\n",
      "Creating master mask...\n",
      "Setting Number of Batches according to free RAM\n",
      "Available RAM: 93GB setting number of batches to 2\n"
     ]
    },
    {
     "name": "stderr",
     "output_type": "stream",
     "text": [
      "  0%|          | 0/203 [00:00<?, ?it/s]"
     ]
    },
    {
     "name": "stderr",
     "output_type": "stream",
     "text": [
      "100%|██████████| 203/203 [00:00<00:00, 2754.50it/s]"
     ]
    },
    {
     "name": "stdout",
     "output_type": "stream",
     "text": [
      "Working on session ... 20230505\n",
      "... master stat exists ...\n",
      "Working on session ... 20230506\n",
      "... master stat exists ...\n",
      "Working on session ... 20230507morning\n",
      "... master stat exists ...\n",
      "Working on session ... 20230507evening\n",
      "... master stat exists ...\n",
      "Working on session ... 20230508\n",
      "... master stat exists ...\n",
      "Working on session ... 20230509\n",
      "... master stat exists ...\n",
      "Working on session ... 20230510\n",
      "... master stat exists ...\n",
      "Working on session ... 20230511\n",
      "... master stat exists ...\n",
      "Number of cells in master mask: 540\n"
     ]
    },
    {
     "name": "stderr",
     "output_type": "stream",
     "text": [
      "\n"
     ]
    }
   ],
   "source": [
    "##############################################################\n",
    "############ COMPUTE MASTER MASK AND [ca] TRACES #############\n",
    "##############################################################\n",
    "#\n",
    "animal.recompute_master_mask = True\n",
    "animal.n_cells_show = 200\n",
    "animal.plot_master_mask = False\n",
    "animal.plot_original_session = True\n",
    "animal.plot_aligned_session = False\n",
    "animal.make_master_mask()\n",
    "\n",
    "#"
   ]
  },
  {
   "cell_type": "code",
   "execution_count": 35,
   "metadata": {},
   "outputs": [
    {
     "name": "stdout",
     "output_type": "stream",
     "text": [
      "Loaded master mask:  540\n"
     ]
    },
    {
     "name": "stderr",
     "output_type": "stream",
     "text": [
      "100%|██████████| 540/540 [00:00<00:00, 2327.91it/s]\n"
     ]
    },
    {
     "name": "stdout",
     "output_type": "stream",
     "text": [
      "Updating session  20230504\n"
     ]
    },
    {
     "name": "stderr",
     "output_type": "stream",
     "text": [
      "100%|██████████| 203/203 [00:00<00:00, 2761.75it/s]\n",
      "100%|██████████| 540/540 [00:00<00:00, 2556.09it/s]\n"
     ]
    },
    {
     "name": "stdout",
     "output_type": "stream",
     "text": [
      "Ops lx ly 512 512\n"
     ]
    },
    {
     "name": "stderr",
     "output_type": "stream",
     "text": [
      "/home/cat/.conda/envs/bmitools/lib/python3.8/site-packages/suite2p/extraction/masks.py:85: RuntimeWarning: invalid value encountered in divide\n",
      "  lam_normed = lam / lam.sum() if lam.size > 0 else np.empty(0)\n"
     ]
    },
    {
     "name": "stdout",
     "output_type": "stream",
     "text": [
      "Masks created, 8.53 sec.\n",
      "Extracted fluorescence from 540 ROIs in 90000 frames, 148.86 sec.\n",
      "\n",
      "Updating session  20230505\n"
     ]
    },
    {
     "name": "stderr",
     "output_type": "stream",
     "text": [
      "100%|██████████| 332/332 [00:00<00:00, 2149.65it/s]\n",
      "100%|██████████| 540/540 [00:00<00:00, 2575.45it/s]\n"
     ]
    },
    {
     "name": "stdout",
     "output_type": "stream",
     "text": [
      "Ops lx ly 512 512\n"
     ]
    },
    {
     "name": "stderr",
     "output_type": "stream",
     "text": [
      "/home/cat/.conda/envs/bmitools/lib/python3.8/site-packages/suite2p/extraction/masks.py:85: RuntimeWarning: invalid value encountered in divide\n",
      "  lam_normed = lam / lam.sum() if lam.size > 0 else np.empty(0)\n"
     ]
    },
    {
     "name": "stdout",
     "output_type": "stream",
     "text": [
      "Masks created, 8.47 sec.\n",
      "Extracted fluorescence from 540 ROIs in 90000 frames, 143.75 sec.\n",
      "\n",
      "Updating session  20230506\n"
     ]
    },
    {
     "name": "stderr",
     "output_type": "stream",
     "text": [
      "100%|██████████| 367/367 [00:00<00:00, 2068.13it/s]\n",
      "100%|██████████| 540/540 [00:00<00:00, 2427.16it/s]\n"
     ]
    },
    {
     "name": "stdout",
     "output_type": "stream",
     "text": [
      "Ops lx ly 512 512\n",
      "Masks created, 8.64 sec.\n",
      "Extracted fluorescence from 540 ROIs in 90000 frames, 143.92 sec.\n",
      "\n",
      "Updating session  20230507morning\n"
     ]
    },
    {
     "name": "stderr",
     "output_type": "stream",
     "text": [
      "100%|██████████| 368/368 [00:00<00:00, 2555.25it/s]\n",
      "100%|██████████| 540/540 [00:00<00:00, 2495.56it/s]\n"
     ]
    },
    {
     "name": "stdout",
     "output_type": "stream",
     "text": [
      "Ops lx ly 512 512\n",
      "Masks created, 8.44 sec.\n",
      "Extracted fluorescence from 540 ROIs in 90000 frames, 149.76 sec.\n",
      "\n",
      "Updating session  20230507evening\n"
     ]
    },
    {
     "name": "stderr",
     "output_type": "stream",
     "text": [
      "100%|██████████| 370/370 [00:00<00:00, 2788.71it/s]\n",
      "100%|██████████| 540/540 [00:00<00:00, 2538.70it/s]\n"
     ]
    },
    {
     "name": "stdout",
     "output_type": "stream",
     "text": [
      "Ops lx ly 512 512\n",
      "Masks created, 8.47 sec.\n",
      "Extracted fluorescence from 540 ROIs in 90000 frames, 150.01 sec.\n",
      "\n",
      "Updating session  20230508\n"
     ]
    },
    {
     "name": "stderr",
     "output_type": "stream",
     "text": [
      "100%|██████████| 370/370 [00:00<00:00, 2321.46it/s]\n",
      "100%|██████████| 540/540 [00:00<00:00, 2543.02it/s]\n"
     ]
    },
    {
     "name": "stdout",
     "output_type": "stream",
     "text": [
      "Ops lx ly 512 512\n",
      "Masks created, 8.61 sec.\n",
      "Extracted fluorescence from 540 ROIs in 90000 frames, 150.56 sec.\n",
      "\n",
      "Updating session  20230509\n"
     ]
    },
    {
     "name": "stderr",
     "output_type": "stream",
     "text": [
      "100%|██████████| 399/399 [00:00<00:00, 2022.74it/s]\n",
      "100%|██████████| 540/540 [00:00<00:00, 2553.02it/s]\n"
     ]
    },
    {
     "name": "stdout",
     "output_type": "stream",
     "text": [
      "Ops lx ly 512 512\n",
      "Masks created, 8.23 sec.\n",
      "Extracted fluorescence from 540 ROIs in 90000 frames, 151.58 sec.\n",
      "\n",
      "Updating session  20230510\n"
     ]
    },
    {
     "name": "stderr",
     "output_type": "stream",
     "text": [
      "100%|██████████| 345/345 [00:00<00:00, 2882.51it/s]\n",
      "100%|██████████| 540/540 [00:00<00:00, 2644.48it/s]\n"
     ]
    },
    {
     "name": "stdout",
     "output_type": "stream",
     "text": [
      "Ops lx ly 512 512\n"
     ]
    },
    {
     "name": "stderr",
     "output_type": "stream",
     "text": [
      "/home/cat/.conda/envs/bmitools/lib/python3.8/site-packages/suite2p/extraction/masks.py:85: RuntimeWarning: invalid value encountered in divide\n",
      "  lam_normed = lam / lam.sum() if lam.size > 0 else np.empty(0)\n"
     ]
    },
    {
     "name": "stdout",
     "output_type": "stream",
     "text": [
      "Masks created, 8.12 sec.\n",
      "Extracted fluorescence from 540 ROIs in 90000 frames, 150.18 sec.\n",
      "\n",
      "Updating session  20230511\n"
     ]
    },
    {
     "name": "stderr",
     "output_type": "stream",
     "text": [
      "100%|██████████| 347/347 [00:00<00:00, 2698.59it/s]\n",
      "100%|██████████| 540/540 [00:00<00:00, 2584.35it/s]\n"
     ]
    },
    {
     "name": "stdout",
     "output_type": "stream",
     "text": [
      "Ops lx ly 512 512\n"
     ]
    },
    {
     "name": "stderr",
     "output_type": "stream",
     "text": [
      "/home/cat/.conda/envs/bmitools/lib/python3.8/site-packages/suite2p/extraction/masks.py:85: RuntimeWarning: invalid value encountered in divide\n",
      "  lam_normed = lam / lam.sum() if lam.size > 0 else np.empty(0)\n"
     ]
    },
    {
     "name": "stdout",
     "output_type": "stream",
     "text": [
      "Masks created, 7.95 sec.\n",
      "Extracted fluorescence from 540 ROIs in 90000 frames, 150.56 sec.\n",
      "\n",
      "...DONE MERGING ....\n"
     ]
    }
   ],
   "source": [
    "#################################################\n",
    "# \n",
    "animal.run_suite2p_master_mask()\n"
   ]
  },
  {
   "cell_type": "code",
   "execution_count": null,
   "metadata": {},
   "outputs": [],
   "source": []
  },
  {
   "cell_type": "code",
   "execution_count": null,
   "metadata": {},
   "outputs": [],
   "source": []
  },
  {
   "cell_type": "code",
   "execution_count": null,
   "metadata": {},
   "outputs": [],
   "source": []
  }
 ],
 "metadata": {
  "kernelspec": {
   "display_name": "Python 3 (ipykernel)",
   "language": "python",
   "name": "python3"
  },
  "language_info": {
   "codemirror_mode": {
    "name": "ipython",
    "version": 3
   },
   "file_extension": ".py",
   "mimetype": "text/x-python",
   "name": "python",
   "nbconvert_exporter": "python",
   "pygments_lexer": "ipython3",
   "version": "3.8.18"
  }
 },
 "nbformat": 4,
 "nbformat_minor": 4
}
