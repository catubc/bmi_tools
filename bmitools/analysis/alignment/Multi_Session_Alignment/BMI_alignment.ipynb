{
 "cells": [
  {
   "cell_type": "code",
   "execution_count": 1,
   "metadata": {},
   "outputs": [
    {
     "data": {
      "application/javascript": "IPython.notebook.set_autosave_interval(180000)"
     },
     "metadata": {},
     "output_type": "display_data"
    },
    {
     "name": "stdout",
     "output_type": "stream",
     "text": [
      "Autosaving every 180 seconds\n"
     ]
    },
    {
     "name": "stderr",
     "output_type": "stream",
     "text": [
      "/tmp/ipykernel_177502/2157216198.py:12: DeprecationWarning: Importing display from IPython.core.display is deprecated since IPython 7.14, please import from IPython display\n",
      "  from IPython.core.display import display, HTML\n",
      "/home/cat/.conda/envs/animalclass/lib/python3.8/site-packages/tqdm/auto.py:21: TqdmWarning: IProgress not found. Please update jupyter and ipywidgets. See https://ipywidgets.readthedocs.io/en/stable/user_install.html\n",
      "  from .autonotebook import tqdm as notebook_tqdm\n"
     ]
    }
   ],
   "source": [
    "# usefull jupyter settings\n",
    "#%matplotlib inline\n",
    "%matplotlib tk\n",
    "%autosave 180\n",
    "%load_ext autoreload\n",
    "%autoreload 2\n",
    "%config Completer.use_jedi = False\n",
    "\n",
    "# do Math stuff\n",
    "from itertools import permutations\n",
    "import numpy as np\n",
    "from IPython.core.display import display, HTML\n",
    "\n",
    "#\n",
    "from utils_align import Animal2\n",
    "\n",
    "#"
   ]
  },
  {
   "cell_type": "code",
   "execution_count": 2,
   "metadata": {},
   "outputs": [
    {
     "name": "stdout",
     "output_type": "stream",
     "text": [
      "Getting cabincorr data from /media/cat/8TB/donato/bmi/DON-014618/20230504/plane0\n",
      "Getting cabincorr data from /media/cat/8TB/donato/bmi/DON-014618/20230505/plane0\n",
      "Getting cabincorr data from /media/cat/8TB/donato/bmi/DON-014618/20230506/plane0\n",
      "Getting cabincorr data from /media/cat/8TB/donato/bmi/DON-014618/20230507morning/plane0\n",
      "Getting cabincorr data from /media/cat/8TB/donato/bmi/DON-014618/20230507evening/plane0\n",
      "Getting cabincorr data from /media/cat/8TB/donato/bmi/DON-014618/20230508/plane0\n",
      "Getting cabincorr data from /media/cat/8TB/donato/bmi/DON-014618/20230509/plane0\n",
      "Getting cabincorr data from /media/cat/8TB/donato/bmi/DON-014618/20230510/plane0\n",
      "Getting cabincorr data from /media/cat/8TB/donato/bmi/DON-014618/20230511/plane0\n"
     ]
    }
   ],
   "source": [
    "#\n",
    "root_dir = \"/media/cat/8TB/donato/bmi/\" \n",
    "\n",
    "#\n",
    "animal_id = \"DON-011733\"\n",
    "animal_id = \"DON-014618\"\n",
    "\n",
    "#\n",
    "animal = Animal2(root_dir, animal_id)\n",
    "#\n"
   ]
  },
  {
   "cell_type": "code",
   "execution_count": 3,
   "metadata": {},
   "outputs": [
    {
     "name": "stdout",
     "output_type": "stream",
     "text": [
      "... merging sessions ...\n",
      "... merged session dir:  /media/cat/8TB/donato/bmi/DON-014618/merged\n",
      "Creating master mask...\n",
      "Setting Number of Batches according to free RAM\n",
      "Available RAM: 97GB setting number of batches to 2\n",
      "Skipping day0 ... 20230504\n",
      "Working on session ... 20230505\n",
      "... computing cell overlaps ...\n"
     ]
    },
    {
     "name": "stderr",
     "output_type": "stream",
     "text": [
      "/home/cat/.conda/envs/animalclass/lib/python3.8/site-packages/numpy/core/fromnumeric.py:43: VisibleDeprecationWarning: Creating an ndarray from ragged nested sequences (which is a list-or-tuple of lists-or-tuples-or ndarrays with different lengths or shapes) is deprecated. If you meant to do this, you must specify 'dtype=object' when creating the ndarray.\n",
      "  result = getattr(asarray(obj), method)(*args, **kwds)\n",
      "  0%|          | 0/15 [00:00<?, ?it/s]"
     ]
    }
   ],
   "source": [
    "##############################################################\n",
    "############ COMPUTE MASTER MASK AND [ca] TRACES #############\n",
    "##############################################################\n",
    "#\n",
    "animal.recompute_master_mask = True\n",
    "merged_session = animal.merge_sessions_bmi()\n",
    "\n",
    "#"
   ]
  },
  {
   "cell_type": "code",
   "execution_count": null,
   "metadata": {},
   "outputs": [],
   "source": []
  },
  {
   "cell_type": "code",
   "execution_count": null,
   "metadata": {},
   "outputs": [],
   "source": []
  },
  {
   "cell_type": "code",
   "execution_count": null,
   "metadata": {},
   "outputs": [],
   "source": []
  },
  {
   "cell_type": "code",
   "execution_count": null,
   "metadata": {},
   "outputs": [],
   "source": []
  },
  {
   "cell_type": "code",
   "execution_count": null,
   "metadata": {},
   "outputs": [],
   "source": []
  },
  {
   "cell_type": "code",
   "execution_count": null,
   "metadata": {},
   "outputs": [],
   "source": []
  },
  {
   "cell_type": "code",
   "execution_count": null,
   "metadata": {},
   "outputs": [],
   "source": []
  },
  {
   "cell_type": "code",
   "execution_count": null,
   "metadata": {},
   "outputs": [],
   "source": []
  },
  {
   "cell_type": "code",
   "execution_count": null,
   "metadata": {},
   "outputs": [],
   "source": []
  },
  {
   "cell_type": "code",
   "execution_count": null,
   "metadata": {},
   "outputs": [],
   "source": []
  },
  {
   "cell_type": "code",
   "execution_count": null,
   "metadata": {},
   "outputs": [],
   "source": []
  },
  {
   "cell_type": "code",
   "execution_count": null,
   "metadata": {},
   "outputs": [],
   "source": []
  },
  {
   "cell_type": "code",
   "execution_count": null,
   "metadata": {},
   "outputs": [],
   "source": [
    "\n",
    "            \n",
    "print (\"...DONE ...\")"
   ]
  },
  {
   "cell_type": "code",
   "execution_count": 4,
   "metadata": {},
   "outputs": [
    {
     "name": "stderr",
     "output_type": "stream",
     "text": [
      "[autoreload of Multi_session_alignment_classes_functions failed: Traceback (most recent call last):\n",
      "  File \"/home/cat/.conda/envs/animalclass/lib/python3.8/site-packages/IPython/extensions/autoreload.py\", line 273, in check\n",
      "    superreload(m, reload, self.old_objects)\n",
      "  File \"/home/cat/.conda/envs/animalclass/lib/python3.8/site-packages/IPython/extensions/autoreload.py\", line 471, in superreload\n",
      "    module = reload(module)\n",
      "  File \"/home/cat/.conda/envs/animalclass/lib/python3.8/importlib/__init__.py\", line 169, in reload\n",
      "    _bootstrap._exec(spec, module)\n",
      "  File \"<frozen importlib._bootstrap>\", line 604, in _exec\n",
      "  File \"<frozen importlib._bootstrap_external>\", line 843, in exec_module\n",
      "  File \"<frozen importlib._bootstrap>\", line 219, in _call_with_frames_removed\n",
      "  File \"/home/cat/code/AnimalClass/Tools/Multi_Session_Alignment/Multi_session_alignment_classes_functions.py\", line 731, in <module>\n",
      "    class Vizualizer:\n",
      "  File \"/home/cat/code/AnimalClass/Tools/Multi_Session_Alignment/Multi_session_alignment_classes_functions.py\", line 732, in Vizualizer\n",
      "    def __init__(self, animals={}, save_dir=Animal.root_dir):\n",
      "AttributeError: type object 'Animal' has no attribute 'root_dir'\n",
      "]\n"
     ]
    },
    {
     "ename": "NameError",
     "evalue": "name 'animal' is not defined",
     "output_type": "error",
     "traceback": [
      "\u001b[0;31m---------------------------------------------------------------------------\u001b[0m",
      "\u001b[0;31mNameError\u001b[0m                                 Traceback (most recent call last)",
      "\u001b[1;32m/home/cat/code/AnimalClass/Tools/Multi_Session_Alignment/Multi_session_alignment_BMI.ipynb Cell 5\u001b[0m line \u001b[0;36m5\n\u001b[1;32m      <a href='vscode-notebook-cell:/home/cat/code/AnimalClass/Tools/Multi_Session_Alignment/Multi_session_alignment_BMI.ipynb#W4sZmlsZQ%3D%3D?line=0'>1</a>\u001b[0m \u001b[39m######################################################################\u001b[39;00m\n\u001b[1;32m      <a href='vscode-notebook-cell:/home/cat/code/AnimalClass/Tools/Multi_Session_Alignment/Multi_session_alignment_BMI.ipynb#W4sZmlsZQ%3D%3D?line=1'>2</a>\u001b[0m \u001b[39m####### VISUALIZE THE CONTOURS FROM THE HUMAN ANNOTATION #############\u001b[39;00m\n\u001b[1;32m      <a href='vscode-notebook-cell:/home/cat/code/AnimalClass/Tools/Multi_Session_Alignment/Multi_session_alignment_BMI.ipynb#W4sZmlsZQ%3D%3D?line=2'>3</a>\u001b[0m \u001b[39m######################################################################\u001b[39;00m\n\u001b[1;32m      <a href='vscode-notebook-cell:/home/cat/code/AnimalClass/Tools/Multi_Session_Alignment/Multi_session_alignment_BMI.ipynb#W4sZmlsZQ%3D%3D?line=3'>4</a>\u001b[0m \u001b[39m#\u001b[39;00m\n\u001b[0;32m----> <a href='vscode-notebook-cell:/home/cat/code/AnimalClass/Tools/Multi_Session_Alignment/Multi_session_alignment_BMI.ipynb#W4sZmlsZQ%3D%3D?line=4'>5</a>\u001b[0m viz \u001b[39m=\u001b[39m Vizualizer([animal])\n\u001b[1;32m      <a href='vscode-notebook-cell:/home/cat/code/AnimalClass/Tools/Multi_Session_Alignment/Multi_session_alignment_BMI.ipynb#W4sZmlsZQ%3D%3D?line=5'>6</a>\u001b[0m viz\u001b[39m.\u001b[39mjitter \u001b[39m=\u001b[39m \u001b[39mFalse\u001b[39;00m\n\u001b[1;32m      <a href='vscode-notebook-cell:/home/cat/code/AnimalClass/Tools/Multi_Session_Alignment/Multi_session_alignment_BMI.ipynb#W4sZmlsZQ%3D%3D?line=7'>8</a>\u001b[0m \u001b[39m# make a list of 8 colors in viridis colormap using matplotlib \u001b[39;00m\n",
      "\u001b[0;31mNameError\u001b[0m: name 'animal' is not defined"
     ]
    }
   ],
   "source": [
    "######################################################################\n",
    "####### VISUALIZE THE CONTOURS FROM THE HUMAN ANNOTATION #############\n",
    "######################################################################\n",
    "#\n",
    "viz = Vizualizer([animal])\n",
    "viz.jitter = False\n",
    "\n",
    "# make a list of 8 colors in viridis colormap using matplotlib \n",
    "from matplotlib.colors import to_hex\n",
    "viridis_cmap = plt.get_cmap('viridis')\n",
    "\n",
    "# Get 8 evenly spaced colors from the Viridis colormap\n",
    "colors = [to_hex(viridis_cmap(i / 7.0)) for i in range(8)]\n",
    "\n",
    "\n",
    "#\n",
    "viz.multi_session_contours_original_masks(animal.sessions, \n",
    "                                          combination=animal.sessions.keys(), \n",
    "                                          #colors=['black','blue','red'],\n",
    "                                          colors=colors,\n",
    "                                          plot_center=True, \n",
    "                                          shift=True, \n",
    "                                          figsize=(10,10)\n",
    "                                          )\n",
    "\n",
    "#\n"
   ]
  },
  {
   "cell_type": "code",
   "execution_count": 11,
   "metadata": {},
   "outputs": [
    {
     "name": "stdout",
     "output_type": "stream",
     "text": [
      "Getting cabincorr data from /media/cat/8TB/donato/bmi/DON-011733/20230302/plane0/merged\n",
      "ERROR: yaml file not found:  D:\\Animals/DON-011733/DON-011733.yaml\n",
      "   please make yaml file to start\n",
      "   see the local file DON-014451.yaml for an example\n",
      "   (you only need to insert session_names for now)\n",
      "\n",
      "BINARIZING:  20230302\n"
     ]
    },
    {
     "name": "stderr",
     "output_type": "stream",
     "text": [
      "low pass filter: 100%|██████████| 417/417 [00:00<00:00, 804.02it/s]\n",
      "model filter: remove bleaching or trends: 100%|██████████| 417/417 [00:09<00:00, 43.00it/s]\n",
      "420it [00:04, 87.64it/s]                         \n",
      "binarizing continuous traces filtered fluorescence onphase: 100%|██████████| 417/417 [00:00<00:00, 2180.39it/s]\n",
      "binarizing continuous traces filtered fluorescence upphase: 100%|██████████| 417/417 [00:00<00:00, 2149.25it/s]\n"
     ]
    },
    {
     "name": "stdout",
     "output_type": "stream",
     "text": [
      "...saving data...\n",
      "Getting cabincorr data from /media/cat/8TB/donato/bmi/DON-011733/20230303/plane0/merged\n",
      "ERROR: yaml file not found:  D:\\Animals/DON-011733/DON-011733.yaml\n",
      "   please make yaml file to start\n",
      "   see the local file DON-014451.yaml for an example\n",
      "   (you only need to insert session_names for now)\n",
      "\n",
      "BINARIZING:  20230303\n"
     ]
    },
    {
     "name": "stderr",
     "output_type": "stream",
     "text": [
      "low pass filter: 100%|██████████| 417/417 [00:00<00:00, 806.82it/s]\n",
      "model filter: remove bleaching or trends: 100%|██████████| 417/417 [00:09<00:00, 42.91it/s]\n",
      "420it [00:04, 87.84it/s]                         \n",
      "binarizing continuous traces filtered fluorescence onphase: 100%|██████████| 417/417 [00:00<00:00, 2262.57it/s]\n",
      "binarizing continuous traces filtered fluorescence upphase: 100%|██████████| 417/417 [00:00<00:00, 2266.46it/s]\n"
     ]
    },
    {
     "name": "stdout",
     "output_type": "stream",
     "text": [
      "...saving data...\n",
      "Getting cabincorr data from /media/cat/8TB/donato/bmi/DON-011733/20230304/plane0/merged\n",
      "ERROR: yaml file not found:  D:\\Animals/DON-011733/DON-011733.yaml\n",
      "   please make yaml file to start\n",
      "   see the local file DON-014451.yaml for an example\n",
      "   (you only need to insert session_names for now)\n",
      "\n",
      "BINARIZING:  20230304\n"
     ]
    },
    {
     "name": "stderr",
     "output_type": "stream",
     "text": [
      "low pass filter: 100%|██████████| 417/417 [00:00<00:00, 799.57it/s]\n",
      "model filter: remove bleaching or trends: 100%|██████████| 417/417 [00:09<00:00, 41.70it/s]\n",
      "420it [00:04, 86.76it/s]                         \n",
      "binarizing continuous traces filtered fluorescence onphase: 100%|██████████| 417/417 [00:00<00:00, 2555.19it/s]\n",
      "binarizing continuous traces filtered fluorescence upphase: 100%|██████████| 417/417 [00:00<00:00, 2469.83it/s]\n"
     ]
    },
    {
     "name": "stdout",
     "output_type": "stream",
     "text": [
      "...saving data...\n",
      "Getting cabincorr data from /media/cat/8TB/donato/bmi/DON-011733/20230305/plane0/merged\n",
      "ERROR: yaml file not found:  D:\\Animals/DON-011733/DON-011733.yaml\n",
      "   please make yaml file to start\n",
      "   see the local file DON-014451.yaml for an example\n",
      "   (you only need to insert session_names for now)\n",
      "\n",
      "BINARIZING:  20230305\n"
     ]
    },
    {
     "name": "stderr",
     "output_type": "stream",
     "text": [
      "low pass filter: 100%|██████████| 417/417 [00:00<00:00, 793.82it/s]\n",
      "model filter: remove bleaching or trends: 100%|██████████| 417/417 [00:10<00:00, 41.54it/s]\n",
      "420it [00:04, 88.57it/s]                         \n",
      "binarizing continuous traces filtered fluorescence onphase: 100%|██████████| 417/417 [00:00<00:00, 2730.54it/s]\n",
      "binarizing continuous traces filtered fluorescence upphase: 100%|██████████| 417/417 [00:00<00:00, 2708.14it/s]\n"
     ]
    },
    {
     "name": "stdout",
     "output_type": "stream",
     "text": [
      "...saving data...\n",
      "Getting cabincorr data from /media/cat/8TB/donato/bmi/DON-011733/20230306/plane0/merged\n",
      "ERROR: yaml file not found:  D:\\Animals/DON-011733/DON-011733.yaml\n",
      "   please make yaml file to start\n",
      "   see the local file DON-014451.yaml for an example\n",
      "   (you only need to insert session_names for now)\n"
     ]
    },
    {
     "name": "stderr",
     "output_type": "stream",
     "text": [
      "/home/cat/code/manifolds/donlabtools/utils/calcium/calcium.py:524: RuntimeWarning: invalid value encountered in divide\n",
      "  # take the first bin at which cumusm is > 0.5 else None\n"
     ]
    },
    {
     "name": "stdout",
     "output_type": "stream",
     "text": [
      "\n",
      "BINARIZING:  20230306\n"
     ]
    },
    {
     "name": "stderr",
     "output_type": "stream",
     "text": [
      "/home/cat/code/manifolds/donlabtools/utils/calcium/calcium.py:524: RuntimeWarning: invalid value encountered in divide\n",
      "  # take the first bin at which cumusm is > 0.5 else None\n",
      "low pass filter: 100%|██████████| 417/417 [00:00<00:00, 798.91it/s]\n",
      "model filter: remove bleaching or trends: 100%|██████████| 417/417 [00:09<00:00, 42.27it/s]\n",
      "420it [00:05, 81.85it/s]                         \n",
      "binarizing continuous traces filtered fluorescence onphase: 100%|██████████| 417/417 [00:00<00:00, 2619.77it/s]\n",
      "binarizing continuous traces filtered fluorescence upphase: 100%|██████████| 417/417 [00:00<00:00, 2626.13it/s]\n"
     ]
    },
    {
     "name": "stdout",
     "output_type": "stream",
     "text": [
      "...saving data...\n",
      "Getting cabincorr data from /media/cat/8TB/donato/bmi/DON-011733/20230307/plane0/merged\n",
      "ERROR: yaml file not found:  D:\\Animals/DON-011733/DON-011733.yaml\n",
      "   please make yaml file to start\n",
      "   see the local file DON-014451.yaml for an example\n",
      "   (you only need to insert session_names for now)\n",
      "\n",
      "BINARIZING:  20230307\n"
     ]
    },
    {
     "name": "stderr",
     "output_type": "stream",
     "text": [
      "/home/cat/code/manifolds/donlabtools/utils/calcium/calcium.py:524: RuntimeWarning: invalid value encountered in divide\n",
      "  # take the first bin at which cumusm is > 0.5 else None\n",
      "low pass filter: 100%|██████████| 417/417 [00:00<00:00, 809.45it/s]\n",
      "model filter: remove bleaching or trends: 100%|██████████| 417/417 [00:09<00:00, 42.73it/s]\n",
      "420it [00:05, 79.88it/s]                         \n",
      "binarizing continuous traces filtered fluorescence onphase: 100%|██████████| 417/417 [00:00<00:00, 2697.84it/s]\n",
      "binarizing continuous traces filtered fluorescence upphase: 100%|██████████| 417/417 [00:00<00:00, 2667.75it/s]\n"
     ]
    },
    {
     "name": "stdout",
     "output_type": "stream",
     "text": [
      "...saving data...\n",
      "Getting cabincorr data from /media/cat/8TB/donato/bmi/DON-011733/20230308/plane0/merged\n",
      "ERROR: yaml file not found:  D:\\Animals/DON-011733/DON-011733.yaml\n",
      "   please make yaml file to start\n",
      "   see the local file DON-014451.yaml for an example\n",
      "   (you only need to insert session_names for now)\n",
      "\n",
      "BINARIZING:  20230308\n"
     ]
    },
    {
     "name": "stderr",
     "output_type": "stream",
     "text": [
      "/home/cat/code/manifolds/donlabtools/utils/calcium/calcium.py:524: RuntimeWarning: invalid value encountered in divide\n",
      "  # take the first bin at which cumusm is > 0.5 else None\n",
      "low pass filter: 100%|██████████| 417/417 [00:00<00:00, 807.86it/s]\n",
      "model filter: remove bleaching or trends: 100%|██████████| 417/417 [00:09<00:00, 43.23it/s]\n",
      "420it [00:05, 80.44it/s]                         \n",
      "binarizing continuous traces filtered fluorescence onphase: 100%|██████████| 417/417 [00:00<00:00, 2768.21it/s]\n",
      "binarizing continuous traces filtered fluorescence upphase: 100%|██████████| 417/417 [00:00<00:00, 2709.59it/s]\n"
     ]
    },
    {
     "name": "stdout",
     "output_type": "stream",
     "text": [
      "...saving data...\n",
      "Getting cabincorr data from /media/cat/8TB/donato/bmi/DON-011733/20230309/plane0/merged\n",
      "ERROR: yaml file not found:  D:\\Animals/DON-011733/DON-011733.yaml\n",
      "   please make yaml file to start\n",
      "   see the local file DON-014451.yaml for an example\n",
      "   (you only need to insert session_names for now)\n",
      "\n",
      "BINARIZING:  20230309\n"
     ]
    },
    {
     "name": "stderr",
     "output_type": "stream",
     "text": [
      "/home/cat/code/manifolds/donlabtools/utils/calcium/calcium.py:524: RuntimeWarning: invalid value encountered in divide\n",
      "  # take the first bin at which cumusm is > 0.5 else None\n",
      "low pass filter: 100%|██████████| 417/417 [00:00<00:00, 803.97it/s]\n",
      "model filter: remove bleaching or trends: 100%|██████████| 417/417 [00:09<00:00, 43.17it/s]\n",
      "420it [00:05, 78.77it/s]                         \n",
      "binarizing continuous traces filtered fluorescence onphase: 100%|██████████| 417/417 [00:00<00:00, 2808.52it/s]\n",
      "binarizing continuous traces filtered fluorescence upphase: 100%|██████████| 417/417 [00:00<00:00, 2646.14it/s]\n"
     ]
    },
    {
     "name": "stdout",
     "output_type": "stream",
     "text": [
      "...saving data...\n"
     ]
    },
    {
     "name": "stderr",
     "output_type": "stream",
     "text": [
      "/home/cat/code/AnimalClass/Tools/Multi_Session_Alignment/Multi_session_alignment_classes_functions.py:932: UserWarning: Creating legend with loc=\"best\" can be slow with large amounts of data.\n",
      "  plt.savefig(os.path.join(self.save_dir, f\"Contours_{combination}{shift_label}{comment}.png\"), dpi=300)\n"
     ]
    },
    {
     "name": "stderr",
     "output_type": "stream",
     "text": [
      "/home/cat/.conda/envs/animalclass/lib/python3.8/tkinter/__init__.py:814: UserWarning: Creating legend with loc=\"best\" can be slow with large amounts of data.\n",
      "  func(*args)\n",
      "/home/cat/.conda/envs/animalclass/lib/python3.8/tkinter/__init__.py:1892: UserWarning: Creating legend with loc=\"best\" can be slow with large amounts of data.\n",
      "  return self.func(*args)\n"
     ]
    }
   ],
   "source": [
    "######################################################################\n",
    "############ VISUALIZE THE CONTOURS FROM THE ALIGNMENT ###############\n",
    "######################################################################\n",
    "#\n",
    "viz = Vizualizer([animal])\n",
    "viz.jitter = False\n",
    "\n",
    "# make a list of 8 colors in viridis colormap using matplotlib \n",
    "from matplotlib.colors import to_hex\n",
    "viridis_cmap = plt.get_cmap('viridis')\n",
    "\n",
    "# Get 8 evenly spaced colors from the Viridis colormap\n",
    "colors = [to_hex(viridis_cmap(i / 7.0)) for i in range(8)]\n",
    "\n",
    "\n",
    "#\n",
    "viz.multi_session_contours_master_mask(animal.sessions, \n",
    "                                       combination=animal.sessions.keys(), \n",
    "                                       #colors=['black','blue','red'],\n",
    "                                       colors=colors,\n",
    "                                       plot_center=True, \n",
    "                                       shift=True, \n",
    "                                       figsize=(10,10)\n",
    "                                       )"
   ]
  },
  {
   "cell_type": "code",
   "execution_count": null,
   "metadata": {},
   "outputs": [],
   "source": []
  },
  {
   "cell_type": "code",
   "execution_count": null,
   "metadata": {},
   "outputs": [],
   "source": []
  },
  {
   "cell_type": "code",
   "execution_count": null,
   "metadata": {},
   "outputs": [],
   "source": []
  }
 ],
 "metadata": {
  "kernelspec": {
   "display_name": "Python 3 (ipykernel)",
   "language": "python",
   "name": "python3"
  },
  "language_info": {
   "codemirror_mode": {
    "name": "ipython",
    "version": 3
   },
   "file_extension": ".py",
   "mimetype": "text/x-python",
   "name": "python",
   "nbconvert_exporter": "python",
   "pygments_lexer": "ipython3",
   "version": "3.8.18"
  }
 },
 "nbformat": 4,
 "nbformat_minor": 4
}
