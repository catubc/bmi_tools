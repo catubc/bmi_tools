{
 "cells": [
  {
   "cell_type": "code",
   "execution_count": 1,
   "metadata": {},
   "outputs": [
    {
     "data": {
      "application/javascript": "IPython.notebook.set_autosave_interval(180000)"
     },
     "metadata": {},
     "output_type": "display_data"
    },
    {
     "name": "stdout",
     "output_type": "stream",
     "text": [
      "Autosaving every 180 seconds\n"
     ]
    },
    {
     "name": "stderr",
     "output_type": "stream",
     "text": [
      "/home/cat/.conda/envs/bmitools/lib/python3.8/site-packages/tqdm/auto.py:21: TqdmWarning: IProgress not found. Please update jupyter and ipywidgets. See https://ipywidgets.readthedocs.io/en/stable/user_install.html\n",
      "  from .autonotebook import tqdm as notebook_tqdm\n"
     ]
    }
   ],
   "source": [
    "# usefull jupyter settings\n",
    "#%matplotlib inline\n",
    "%matplotlib tk\n",
    "%autosave 180\n",
    "%load_ext autoreload\n",
    "%autoreload 2\n",
    "%config Completer.use_jedi = False\n",
    "\n",
    "#\n",
    "from utils_align import Animal2\n",
    "\n",
    "#"
   ]
  },
  {
   "cell_type": "code",
   "execution_count": 6,
   "metadata": {},
   "outputs": [
    {
     "name": "stderr",
     "output_type": "stream",
     "text": [
      "100%|██████████| 9/9 [03:30<00:00, 23.41s/it]"
     ]
    },
    {
     "name": "stdout",
     "output_type": "stream",
     "text": [
      "... done ...\n"
     ]
    },
    {
     "name": "stderr",
     "output_type": "stream",
     "text": [
      "\n"
     ]
    }
   ],
   "source": [
    "#############################################\n",
    "################# LOAD DATA #################\n",
    "#############################################\n",
    "\n",
    "root_dir = \"/media/cat/8TB/donato/bmi/\" \n",
    "#root_dir = \"/media/cat/8TB/Dropbox/papers/bmi/data/bmi/\" \n",
    "\n",
    "# M1 mice\n",
    "#animal_id = \"DON-011733\"\n",
    "#animal_id = \"DON-014618\"\n",
    "#animal_id  = \"DON-012502\"\n",
    "#animal_id = 'DON-014451'\n",
    "#animal_id = 'DON-018129'\n",
    "#animal_id = 'DON-018130'\n",
    "#animal_id = 'DON-014266'\n",
    "#animal_id = 'DON-015821'\n",
    "#\n",
    "\n",
    "# CA3 mice\n",
    "#animal_id = \"DON-014371\"\n",
    "#animal_id = 'DON-015801'\n",
    "animal_id = 'DON-016658'\n",
    "\n",
    "#\n",
    "animal = Animal2(root_dir, \n",
    "                 animal_id)\n",
    "print (\"... done ...\")\n",
    "#\n"
   ]
  },
  {
   "cell_type": "code",
   "execution_count": 7,
   "metadata": {},
   "outputs": [
    {
     "name": "stdout",
     "output_type": "stream",
     "text": [
      "... merging sessions ...\n",
      "Creating master mask...\n",
      "Setting Number of Batches according to free RAM\n",
      "Available RAM: 70GB setting number of batches to 2\n"
     ]
    },
    {
     "name": "stderr",
     "output_type": "stream",
     "text": [
      "100%|██████████| 217/217 [00:00<00:00, 3525.23it/s]\n"
     ]
    },
    {
     "name": "stdout",
     "output_type": "stream",
     "text": [
      "Working on session ... 20230705\n"
     ]
    },
    {
     "name": "stderr",
     "output_type": "stream",
     "text": [
      "100%|██████████| 398/398 [00:00<00:00, 3901.15it/s]\n"
     ]
    },
    {
     "name": "stdout",
     "output_type": "stream",
     "text": [
      "master footprints 217 , session footprints 398\n",
      "... computing cell overlaps ...\n"
     ]
    },
    {
     "name": "stderr",
     "output_type": "stream",
     "text": [
      "100%|██████████| 30/30 [01:25<00:00,  2.85s/it]\n"
     ]
    },
    {
     "name": "stdout",
     "output_type": "stream",
     "text": [
      "Removed duplicated cells:  262\n"
     ]
    },
    {
     "name": "stderr",
     "output_type": "stream",
     "text": [
      "100%|██████████| 353/353 [00:00<00:00, 1991.07it/s]\n"
     ]
    },
    {
     "name": "stdout",
     "output_type": "stream",
     "text": [
      "\n",
      "Working on session ... 20230706\n"
     ]
    },
    {
     "name": "stderr",
     "output_type": "stream",
     "text": [
      "100%|██████████| 469/469 [00:00<00:00, 3852.43it/s]\n"
     ]
    },
    {
     "name": "stdout",
     "output_type": "stream",
     "text": [
      "master footprints 353 , session footprints 469\n",
      "... computing cell overlaps ...\n"
     ]
    },
    {
     "name": "stderr",
     "output_type": "stream",
     "text": [
      "100%|██████████| 30/30 [01:52<00:00,  3.74s/it]\n"
     ]
    },
    {
     "name": "stdout",
     "output_type": "stream",
     "text": [
      "Removed duplicated cells:  347\n"
     ]
    },
    {
     "name": "stderr",
     "output_type": "stream",
     "text": [
      "100%|██████████| 475/475 [00:00<00:00, 2265.68it/s]\n"
     ]
    },
    {
     "name": "stdout",
     "output_type": "stream",
     "text": [
      "\n",
      "Working on session ... 20230707\n"
     ]
    },
    {
     "name": "stderr",
     "output_type": "stream",
     "text": [
      "100%|██████████| 432/432 [00:00<00:00, 3728.13it/s]\n"
     ]
    },
    {
     "name": "stdout",
     "output_type": "stream",
     "text": [
      "master footprints 475 , session footprints 432\n",
      "... computing cell overlaps ...\n"
     ]
    },
    {
     "name": "stderr",
     "output_type": "stream",
     "text": [
      "100%|██████████| 30/30 [02:04<00:00,  4.15s/it]\n"
     ]
    },
    {
     "name": "stdout",
     "output_type": "stream",
     "text": [
      "Removed duplicated cells:  368\n"
     ]
    },
    {
     "name": "stderr",
     "output_type": "stream",
     "text": [
      "100%|██████████| 539/539 [00:00<00:00, 2310.93it/s]\n"
     ]
    },
    {
     "name": "stdout",
     "output_type": "stream",
     "text": [
      "\n",
      "Working on session ... 20230708\n"
     ]
    },
    {
     "name": "stderr",
     "output_type": "stream",
     "text": [
      "100%|██████████| 467/467 [00:00<00:00, 3702.41it/s]\n"
     ]
    },
    {
     "name": "stdout",
     "output_type": "stream",
     "text": [
      "master footprints 539 , session footprints 467\n",
      "... computing cell overlaps ...\n"
     ]
    },
    {
     "name": "stderr",
     "output_type": "stream",
     "text": [
      "100%|██████████| 30/30 [02:17<00:00,  4.60s/it]\n"
     ]
    },
    {
     "name": "stdout",
     "output_type": "stream",
     "text": [
      "Removed duplicated cells:  426\n"
     ]
    },
    {
     "name": "stderr",
     "output_type": "stream",
     "text": [
      "100%|██████████| 580/580 [00:00<00:00, 2313.44it/s]\n"
     ]
    },
    {
     "name": "stdout",
     "output_type": "stream",
     "text": [
      "\n",
      "Working on session ... 20230709\n"
     ]
    },
    {
     "name": "stderr",
     "output_type": "stream",
     "text": [
      "100%|██████████| 493/493 [00:00<00:00, 3405.33it/s]\n"
     ]
    },
    {
     "name": "stdout",
     "output_type": "stream",
     "text": [
      "master footprints 580 , session footprints 493\n",
      "... computing cell overlaps ...\n"
     ]
    },
    {
     "name": "stderr",
     "output_type": "stream",
     "text": [
      "100%|██████████| 30/30 [02:27<00:00,  4.91s/it]\n"
     ]
    },
    {
     "name": "stdout",
     "output_type": "stream",
     "text": [
      "Removed duplicated cells:  458\n"
     ]
    },
    {
     "name": "stderr",
     "output_type": "stream",
     "text": [
      "100%|██████████| 615/615 [00:00<00:00, 2397.87it/s]\n"
     ]
    },
    {
     "name": "stdout",
     "output_type": "stream",
     "text": [
      "\n",
      "Working on session ... 20230710\n"
     ]
    },
    {
     "name": "stderr",
     "output_type": "stream",
     "text": [
      "100%|██████████| 497/497 [00:00<00:00, 3909.81it/s]\n"
     ]
    },
    {
     "name": "stdout",
     "output_type": "stream",
     "text": [
      "master footprints 615 , session footprints 497\n",
      "... computing cell overlaps ...\n"
     ]
    },
    {
     "name": "stderr",
     "output_type": "stream",
     "text": [
      "100%|██████████| 30/30 [02:30<00:00,  5.02s/it]\n"
     ]
    },
    {
     "name": "stdout",
     "output_type": "stream",
     "text": [
      "Removed duplicated cells:  474\n"
     ]
    },
    {
     "name": "stderr",
     "output_type": "stream",
     "text": [
      "100%|██████████| 638/638 [00:00<00:00, 2482.29it/s]\n"
     ]
    },
    {
     "name": "stdout",
     "output_type": "stream",
     "text": [
      "\n",
      "Working on session ... 20230711\n"
     ]
    },
    {
     "name": "stderr",
     "output_type": "stream",
     "text": [
      "100%|██████████| 521/521 [00:00<00:00, 3858.92it/s]\n"
     ]
    },
    {
     "name": "stdout",
     "output_type": "stream",
     "text": [
      "master footprints 638 , session footprints 521\n",
      "... computing cell overlaps ...\n"
     ]
    },
    {
     "name": "stderr",
     "output_type": "stream",
     "text": [
      "100%|██████████| 30/30 [02:38<00:00,  5.29s/it]\n"
     ]
    },
    {
     "name": "stdout",
     "output_type": "stream",
     "text": [
      "Removed duplicated cells:  464\n"
     ]
    },
    {
     "name": "stderr",
     "output_type": "stream",
     "text": [
      "100%|██████████| 695/695 [00:00<00:00, 2592.36it/s]\n"
     ]
    },
    {
     "name": "stdout",
     "output_type": "stream",
     "text": [
      "\n",
      "Working on session ... 20230712\n"
     ]
    },
    {
     "name": "stderr",
     "output_type": "stream",
     "text": [
      "100%|██████████| 464/464 [00:00<00:00, 3768.66it/s]\n"
     ]
    },
    {
     "name": "stdout",
     "output_type": "stream",
     "text": [
      "master footprints 695 , session footprints 464\n",
      "... computing cell overlaps ...\n"
     ]
    },
    {
     "name": "stderr",
     "output_type": "stream",
     "text": [
      "100%|██████████| 30/30 [02:50<00:00,  5.69s/it]\n"
     ]
    },
    {
     "name": "stdout",
     "output_type": "stream",
     "text": [
      "Removed duplicated cells:  448\n"
     ]
    },
    {
     "name": "stderr",
     "output_type": "stream",
     "text": [
      "100%|██████████| 711/711 [00:00<00:00, 2593.96it/s]\n"
     ]
    },
    {
     "name": "stdout",
     "output_type": "stream",
     "text": [
      "\n",
      "Number of cells in master mask: 711\n",
      "... done ...\n"
     ]
    }
   ],
   "source": [
    "##############################################################\n",
    "############ COMPUTE MASTER MASK AND [ca] TRACES #############\n",
    "##############################################################\n",
    "#\n",
    "animal.recompute_master_mask = True\n",
    "animal.n_cells_show = 200\n",
    "animal.plot_master_mask = False\n",
    "animal.plot_original_session = True\n",
    "animal.plot_aligned_session = False\n",
    "animal.make_master_mask()\n",
    "\n",
    "#\n",
    "print (\"... done ...\")"
   ]
  },
  {
   "cell_type": "code",
   "execution_count": 8,
   "metadata": {},
   "outputs": [
    {
     "name": "stdout",
     "output_type": "stream",
     "text": [
      "Loaded master mask:  711\n"
     ]
    },
    {
     "name": "stderr",
     "output_type": "stream",
     "text": [
      "100%|██████████| 711/711 [00:00<00:00, 3810.98it/s]\n"
     ]
    },
    {
     "name": "stdout",
     "output_type": "stream",
     "text": [
      "Updating session  20230704\n"
     ]
    },
    {
     "name": "stderr",
     "output_type": "stream",
     "text": [
      "100%|██████████| 217/217 [00:00<00:00, 3848.41it/s]\n",
      "100%|██████████| 711/711 [00:00<00:00, 3808.41it/s]\n"
     ]
    },
    {
     "name": "stdout",
     "output_type": "stream",
     "text": [
      "Masks created, 6.39 sec.\n",
      "Extracted fluorescence from 711 ROIs in 90000 frames, 151.46 sec.\n",
      "\n",
      "Updating session  20230705\n"
     ]
    },
    {
     "name": "stderr",
     "output_type": "stream",
     "text": [
      "100%|██████████| 398/398 [00:00<00:00, 3932.17it/s]\n"
     ]
    },
    {
     "name": "stdout",
     "output_type": "stream",
     "text": [
      "Cell out of bounds...\n",
      "making dummy cell for None flag\n",
      "Cell out of bounds...\n",
      "making dummy cell for None flag\n",
      "Cell out of bounds...\n",
      "making dummy cell for None flag\n"
     ]
    },
    {
     "name": "stderr",
     "output_type": "stream",
     "text": [
      "100%|██████████| 711/711 [00:00<00:00, 3927.78it/s]\n",
      "/home/cat/.conda/envs/bmitools/lib/python3.8/site-packages/suite2p/extraction/masks.py:85: RuntimeWarning: invalid value encountered in divide\n",
      "  lam_normed = lam / lam.sum() if lam.size > 0 else np.empty(0)\n"
     ]
    },
    {
     "name": "stdout",
     "output_type": "stream",
     "text": [
      "Masks created, 6.29 sec.\n",
      "Extracted fluorescence from 711 ROIs in 90000 frames, 167.76 sec.\n",
      "\n",
      "Updating session  20230706\n"
     ]
    },
    {
     "name": "stderr",
     "output_type": "stream",
     "text": [
      "100%|██████████| 469/469 [00:00<00:00, 3875.29it/s]"
     ]
    },
    {
     "name": "stdout",
     "output_type": "stream",
     "text": [
      "Cell out of bounds...\n",
      "making dummy cell for None flag\n"
     ]
    },
    {
     "name": "stderr",
     "output_type": "stream",
     "text": [
      "\n",
      "100%|██████████| 711/711 [00:00<00:00, 3951.11it/s]\n",
      "/home/cat/.conda/envs/bmitools/lib/python3.8/site-packages/suite2p/extraction/masks.py:85: RuntimeWarning: invalid value encountered in divide\n",
      "  lam_normed = lam / lam.sum() if lam.size > 0 else np.empty(0)\n"
     ]
    },
    {
     "name": "stdout",
     "output_type": "stream",
     "text": [
      "Masks created, 6.49 sec.\n",
      "Extracted fluorescence from 711 ROIs in 90000 frames, 162.70 sec.\n",
      "\n",
      "Updating session  20230707\n"
     ]
    },
    {
     "name": "stderr",
     "output_type": "stream",
     "text": [
      "100%|██████████| 432/432 [00:00<00:00, 3706.91it/s]"
     ]
    },
    {
     "name": "stdout",
     "output_type": "stream",
     "text": [
      "making dummy cell for out of bounds cells\n"
     ]
    },
    {
     "name": "stderr",
     "output_type": "stream",
     "text": [
      "\n"
     ]
    },
    {
     "name": "stdout",
     "output_type": "stream",
     "text": [
      "Cell out of bounds...\n",
      "making dummy cell for None flag\n"
     ]
    },
    {
     "name": "stderr",
     "output_type": "stream",
     "text": [
      "100%|██████████| 711/711 [00:00<00:00, 3359.54it/s]\n",
      "/home/cat/.conda/envs/bmitools/lib/python3.8/site-packages/suite2p/extraction/masks.py:85: RuntimeWarning: invalid value encountered in divide\n",
      "  lam_normed = lam / lam.sum() if lam.size > 0 else np.empty(0)\n"
     ]
    },
    {
     "name": "stdout",
     "output_type": "stream",
     "text": [
      "Masks created, 6.48 sec.\n",
      "Extracted fluorescence from 711 ROIs in 90000 frames, 158.83 sec.\n",
      "\n",
      "Updating session  20230708\n"
     ]
    },
    {
     "name": "stderr",
     "output_type": "stream",
     "text": [
      "100%|██████████| 467/467 [00:00<00:00, 3160.88it/s]"
     ]
    },
    {
     "name": "stdout",
     "output_type": "stream",
     "text": [
      "Cell out of bounds...\n",
      "making dummy cell for None flag\n"
     ]
    },
    {
     "name": "stderr",
     "output_type": "stream",
     "text": [
      "\n"
     ]
    },
    {
     "name": "stdout",
     "output_type": "stream",
     "text": [
      "Cell out of bounds...\n",
      "making dummy cell for None flag\n"
     ]
    },
    {
     "name": "stderr",
     "output_type": "stream",
     "text": [
      "100%|██████████| 711/711 [00:00<00:00, 2462.40it/s]\n",
      "/home/cat/.conda/envs/bmitools/lib/python3.8/site-packages/suite2p/extraction/masks.py:85: RuntimeWarning: invalid value encountered in divide\n",
      "  lam_normed = lam / lam.sum() if lam.size > 0 else np.empty(0)\n"
     ]
    },
    {
     "name": "stdout",
     "output_type": "stream",
     "text": [
      "Masks created, 7.16 sec.\n",
      "Extracted fluorescence from 711 ROIs in 90000 frames, 186.47 sec.\n",
      "\n",
      "Updating session  20230709\n"
     ]
    },
    {
     "name": "stderr",
     "output_type": "stream",
     "text": [
      "100%|██████████| 493/493 [00:00<00:00, 3565.64it/s]"
     ]
    },
    {
     "name": "stdout",
     "output_type": "stream",
     "text": [
      "Cell out of bounds...\n",
      "making dummy cell for None flag\n",
      "Cell out of bounds...\n",
      "making dummy cell for None flag\n",
      "Cell out of bounds...\n",
      "making dummy cell for None flag\n",
      "Cell out of bounds...\n",
      "making dummy cell for None flag\n"
     ]
    },
    {
     "name": "stderr",
     "output_type": "stream",
     "text": [
      "\n"
     ]
    },
    {
     "name": "stdout",
     "output_type": "stream",
     "text": [
      "Cell out of bounds...\n",
      "making dummy cell for None flag\n",
      "Cell out of bounds...\n",
      "making dummy cell for None flag\n",
      "Cell out of bounds...\n",
      "making dummy cell for None flag\n",
      "Cell out of bounds...\n",
      "making dummy cell for None flag\n",
      "making dummy cell for out of bounds cells\n",
      "making dummy cell for out of bounds cells\n",
      "making dummy cell for out of bounds cells\n"
     ]
    },
    {
     "name": "stderr",
     "output_type": "stream",
     "text": [
      "100%|██████████| 711/711 [00:00<00:00, 3666.64it/s]\n",
      "/home/cat/.conda/envs/bmitools/lib/python3.8/site-packages/suite2p/extraction/masks.py:85: RuntimeWarning: invalid value encountered in divide\n",
      "  lam_normed = lam / lam.sum() if lam.size > 0 else np.empty(0)\n"
     ]
    },
    {
     "name": "stdout",
     "output_type": "stream",
     "text": [
      "Masks created, 6.63 sec.\n",
      "Extracted fluorescence from 711 ROIs in 90000 frames, 155.24 sec.\n",
      "\n",
      "Updating session  20230710\n"
     ]
    },
    {
     "name": "stderr",
     "output_type": "stream",
     "text": [
      "100%|██████████| 497/497 [00:00<00:00, 3916.79it/s]"
     ]
    },
    {
     "name": "stdout",
     "output_type": "stream",
     "text": [
      "Cell out of bounds...\n",
      "making dummy cell for None flag\n",
      "Cell out of bounds...\n",
      "making dummy cell for None flag\n",
      "Cell out of bounds...\n",
      "making dummy cell for None flag\n",
      "Cell out of bounds...\n",
      "making dummy cell for None flag\n",
      "Cell out of bounds...\n",
      "making dummy cell for None flag\n",
      "Cell out of bounds...\n",
      "making dummy cell for None flag\n",
      "Cell out of bounds...\n",
      "making dummy cell for None flag\n",
      "Cell out of bounds...\n",
      "making dummy cell for None flag\n",
      "Cell out of bounds...\n",
      "making dummy cell for None flag\n",
      "Cell out of bounds...\n",
      "making dummy cell for None flag\n",
      "Cell out of bounds...\n",
      "making dummy cell for None flag\n",
      "Cell out of bounds...\n",
      "making dummy cell for None flag\n",
      "Cell out of bounds...\n",
      "making dummy cell for None flag\n"
     ]
    },
    {
     "name": "stderr",
     "output_type": "stream",
     "text": [
      "\n",
      "100%|██████████| 711/711 [00:00<00:00, 3878.24it/s]\n",
      "/home/cat/.conda/envs/bmitools/lib/python3.8/site-packages/suite2p/extraction/masks.py:85: RuntimeWarning: invalid value encountered in divide\n",
      "  lam_normed = lam / lam.sum() if lam.size > 0 else np.empty(0)\n"
     ]
    },
    {
     "name": "stdout",
     "output_type": "stream",
     "text": [
      "Masks created, 7.59 sec.\n",
      "Extracted fluorescence from 711 ROIs in 90000 frames, 155.76 sec.\n",
      "\n",
      "Updating session  20230711\n"
     ]
    },
    {
     "name": "stderr",
     "output_type": "stream",
     "text": [
      "100%|██████████| 521/521 [00:00<00:00, 3770.94it/s]"
     ]
    },
    {
     "name": "stdout",
     "output_type": "stream",
     "text": [
      "making dummy cell for out of bounds cells\n",
      "Cell out of bounds...\n",
      "making dummy cell for None flag\n",
      "Cell out of bounds...\n",
      "making dummy cell for None flag\n"
     ]
    },
    {
     "name": "stderr",
     "output_type": "stream",
     "text": [
      "\n"
     ]
    },
    {
     "name": "stdout",
     "output_type": "stream",
     "text": [
      "Cell out of bounds...\n",
      "making dummy cell for None flag\n",
      "Cell out of bounds...\n",
      "making dummy cell for None flag\n",
      "Cell out of bounds...\n",
      "making dummy cell for None flag\n",
      "Cell out of bounds...\n",
      "making dummy cell for None flag\n",
      "making dummy cell for out of bounds cells\n",
      "making dummy cell for out of bounds cells\n",
      "making dummy cell for out of bounds cells\n",
      "making dummy cell for out of bounds cells\n"
     ]
    },
    {
     "name": "stderr",
     "output_type": "stream",
     "text": [
      "100%|██████████| 711/711 [00:00<00:00, 3335.10it/s]\n",
      "/home/cat/.conda/envs/bmitools/lib/python3.8/site-packages/suite2p/extraction/masks.py:85: RuntimeWarning: invalid value encountered in divide\n",
      "  lam_normed = lam / lam.sum() if lam.size > 0 else np.empty(0)\n"
     ]
    },
    {
     "name": "stdout",
     "output_type": "stream",
     "text": [
      "Masks created, 6.58 sec.\n",
      "Extracted fluorescence from 711 ROIs in 90000 frames, 189.79 sec.\n",
      "\n",
      "Updating session  20230712\n"
     ]
    },
    {
     "name": "stderr",
     "output_type": "stream",
     "text": [
      "100%|██████████| 464/464 [00:00<00:00, 3650.76it/s]"
     ]
    },
    {
     "name": "stdout",
     "output_type": "stream",
     "text": [
      "making dummy cell for out of bounds cells\n",
      "making dummy cell for out of bounds cells\n",
      "making dummy cell for out of bounds cells\n",
      "making dummy cell for out of bounds cells\n",
      "making dummy cell for out of bounds cells\n",
      "making dummy cell for out of bounds cells\n",
      "making dummy cell for out of bounds cells\n",
      "making dummy cell for out of bounds cells\n",
      "making dummy cell for out of bounds cells\n"
     ]
    },
    {
     "name": "stderr",
     "output_type": "stream",
     "text": [
      "\n"
     ]
    },
    {
     "name": "stdout",
     "output_type": "stream",
     "text": [
      "making dummy cell for out of bounds cells\n",
      "making dummy cell for out of bounds cells\n"
     ]
    },
    {
     "name": "stderr",
     "output_type": "stream",
     "text": [
      "100%|██████████| 711/711 [00:00<00:00, 3468.23it/s]\n",
      "/home/cat/.conda/envs/bmitools/lib/python3.8/site-packages/suite2p/extraction/masks.py:85: RuntimeWarning: invalid value encountered in divide\n",
      "  lam_normed = lam / lam.sum() if lam.size > 0 else np.empty(0)\n"
     ]
    },
    {
     "name": "stdout",
     "output_type": "stream",
     "text": [
      "Masks created, 6.76 sec.\n",
      "Extracted fluorescence from 711 ROIs in 90000 frames, 201.92 sec.\n",
      "\n",
      "...DONE MERGING ....\n",
      "... done ...\n"
     ]
    }
   ],
   "source": [
    "#################################################\n",
    "# \n",
    "animal.recompute_suite2p = True\n",
    "animal.run_suite2p_master_mask()\n",
    "\n",
    "#\n",
    "print ('... done ...')"
   ]
  },
  {
   "cell_type": "code",
   "execution_count": null,
   "metadata": {},
   "outputs": [],
   "source": []
  },
  {
   "cell_type": "code",
   "execution_count": null,
   "metadata": {},
   "outputs": [],
   "source": []
  },
  {
   "cell_type": "code",
   "execution_count": null,
   "metadata": {},
   "outputs": [],
   "source": []
  }
 ],
 "metadata": {
  "kernelspec": {
   "display_name": "Python 3 (ipykernel)",
   "language": "python",
   "name": "python3"
  },
  "language_info": {
   "codemirror_mode": {
    "name": "ipython",
    "version": 3
   },
   "file_extension": ".py",
   "mimetype": "text/x-python",
   "name": "python",
   "nbconvert_exporter": "python",
   "pygments_lexer": "ipython3",
   "version": "3.8.18"
  }
 },
 "nbformat": 4,
 "nbformat_minor": 4
}
