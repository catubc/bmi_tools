{
 "cells": [
  {
   "cell_type": "code",
   "execution_count": 1,
   "id": "aff08ce5",
   "metadata": {},
   "outputs": [
    {
     "data": {
      "application/javascript": "IPython.notebook.set_autosave_interval(180000)"
     },
     "metadata": {},
     "output_type": "display_data"
    },
    {
     "name": "stdout",
     "output_type": "stream",
     "text": [
      "Autosaving every 180 seconds\n",
      "Importing the dtw module. When using in academic works please cite:\n",
      "  T. Giorgino. Computing and Visualizing Dynamic Time Warping Alignments in R: The dtw Package.\n",
      "  J. Stat. Soft., doi:10.18637/jss.v031.i07.\n",
      "\n"
     ]
    }
   ],
   "source": [
    "import matplotlib.pyplot as plt\n",
    "import matplotlib\n",
    "\n",
    "%matplotlib tk\n",
    "%autosave 180\n",
    "%load_ext autoreload\n",
    "%autoreload 2\n",
    "\n",
    "\n",
    "import numpy as np\n",
    "#%matplotlib inline\n",
    "\n",
    "import os\n",
    "from utils_calcium import ProcessCalcium"
   ]
  },
  {
   "cell_type": "code",
   "execution_count": 17,
   "id": "044f5ae6",
   "metadata": {},
   "outputs": [
    {
     "name": "stdout",
     "output_type": "stream",
     "text": [
      "doc.keys():  dict_keys(['cohort_year', 'dob', 'name', 'sex', 'session_ids'])\n",
      "Could not find shifts in yaml file ... \n"
     ]
    },
    {
     "name": "stderr",
     "output_type": "stream",
     "text": [
      " 11%|█         | 1/9 [00:00<00:05,  1.35it/s]"
     ]
    },
    {
     "name": "stdout",
     "output_type": "stream",
     "text": [
      "loading binarization\n"
     ]
    },
    {
     "name": "stderr",
     "output_type": "stream",
     "text": [
      " 22%|██▏       | 2/9 [00:01<00:05,  1.27it/s]"
     ]
    },
    {
     "name": "stdout",
     "output_type": "stream",
     "text": [
      "loading binarization\n"
     ]
    },
    {
     "name": "stderr",
     "output_type": "stream",
     "text": [
      " 33%|███▎      | 3/9 [00:01<00:03,  1.62it/s]"
     ]
    },
    {
     "name": "stdout",
     "output_type": "stream",
     "text": [
      "loading binarization\n"
     ]
    },
    {
     "name": "stderr",
     "output_type": "stream",
     "text": [
      " 44%|████▍     | 4/9 [00:02<00:03,  1.50it/s]"
     ]
    },
    {
     "name": "stdout",
     "output_type": "stream",
     "text": [
      "loading binarization\n"
     ]
    },
    {
     "name": "stderr",
     "output_type": "stream",
     "text": [
      " 56%|█████▌    | 5/9 [00:03<00:02,  1.53it/s]"
     ]
    },
    {
     "name": "stdout",
     "output_type": "stream",
     "text": [
      "loading binarization\n"
     ]
    },
    {
     "name": "stderr",
     "output_type": "stream",
     "text": [
      " 67%|██████▋   | 6/9 [00:04<00:02,  1.43it/s]"
     ]
    },
    {
     "name": "stdout",
     "output_type": "stream",
     "text": [
      "loading binarization\n"
     ]
    },
    {
     "name": "stderr",
     "output_type": "stream",
     "text": [
      " 78%|███████▊  | 7/9 [00:04<00:01,  1.52it/s]"
     ]
    },
    {
     "name": "stdout",
     "output_type": "stream",
     "text": [
      "loading binarization\n"
     ]
    },
    {
     "name": "stderr",
     "output_type": "stream",
     "text": [
      " 89%|████████▉ | 8/9 [00:05<00:00,  1.44it/s]"
     ]
    },
    {
     "name": "stdout",
     "output_type": "stream",
     "text": [
      "loading binarization\n",
      "loading binarization\n"
     ]
    },
    {
     "name": "stderr",
     "output_type": "stream",
     "text": [
      "100%|██████████| 9/9 [00:06<00:00,  1.40it/s]"
     ]
    },
    {
     "name": "stdout",
     "output_type": "stream",
     "text": [
      "Could not Day0 masks ... trying day1 \n"
     ]
    },
    {
     "name": "stderr",
     "output_type": "stream",
     "text": [
      "\n"
     ]
    }
   ],
   "source": [
    "####################################################\n",
    "################## LOAD DATA #######################\n",
    "####################################################\n",
    "# TODOS:\n",
    "# 1.   load all masks and look at them\n",
    "#      see if we can find the correct cell in each day - see how much drift there is\n",
    "# 2.   load all traces and compute reward triggered averages \n",
    "#     - this should help understand if other cells in the networks are acquiring a relationship with the reward and the ensmeble cells\n",
    "\n",
    "#root_dir = '/media/cat/8TB/donato/andres/master_analysis/'\n",
    "root_dir = '/media/cat/8TB/donato/bmi/'\n",
    "\n",
    "# M1 mice\n",
    "M1 = [\n",
    "    'DON-011733',\n",
    "    'DON-014382',\n",
    "    'DON-014451',\n",
    "    'DON-014575',\n",
    "    'DON-014618',\n",
    "    'DON-015821',\n",
    "    ]\n",
    "\n",
    "# CA3 mice\n",
    "CA3 = [\n",
    "    'DON-012502',\n",
    "    'DON-014266',\n",
    "    'DON-014371',\n",
    "    'DON-015801',\n",
    "]\n",
    "\n",
    "# M1\n",
    "animal_id = 'DON-011733'\n",
    "\n",
    "\n",
    "# CA3\n",
    "animal_id = 'DON-014266'\n",
    "\n",
    "#       \n",
    "c = ProcessCalcium(root_dir,\n",
    "                   animal_id)\n",
    "\n",
    "#\n",
    "c.load_data()\n",
    "\n",
    "#\n",
    "c.load_day0_mask()\n",
    "\n",
    "#\n",
    "#c.run_binarization()"
   ]
  },
  {
   "cell_type": "code",
   "execution_count": 14,
   "id": "1a573101",
   "metadata": {},
   "outputs": [],
   "source": [
    "# ####################################################\n",
    "# ####### VISUALIZE DAY0 AND SESSION N CONTOURS ######\n",
    "# ####################################################\n",
    "\n",
    "# #\n",
    "\n",
    "# c.session_id = 1\n",
    "\n",
    "# #\n",
    "# c.plot_day0_session_n_contours()\n",
    "\n",
    "# #"
   ]
  },
  {
   "cell_type": "code",
   "execution_count": 1,
   "id": "34d997c2",
   "metadata": {},
   "outputs": [
    {
     "name": "stdout",
     "output_type": "stream",
     "text": [
      "Importing the dtw module. When using in academic works please cite:\n",
      "  T. Giorgino. Computing and Visualizing Dynamic Time Warping Alignments in R: The dtw Package.\n",
      "  J. Stat. Soft., doi:10.18637/jss.v031.i07.\n",
      "\n"
     ]
    },
    {
     "ename": "NameError",
     "evalue": "name 'c' is not defined",
     "output_type": "error",
     "traceback": [
      "\u001b[0;31m---------------------------------------------------------------------------\u001b[0m",
      "\u001b[0;31mNameError\u001b[0m                                 Traceback (most recent call last)",
      "\u001b[1;32m/home/cat/code/bmi/openbmi/analysis/alignment/align_GUI.ipynb Cell 4\u001b[0m line \u001b[0;36m2\n\u001b[1;32m     <a href='vscode-notebook-cell:/home/cat/code/bmi/openbmi/analysis/alignment/align_GUI.ipynb#W3sZmlsZQ%3D%3D?line=14'>15</a>\u001b[0m             c\u001b[39m.\u001b[39mtheta_y \u001b[39m=\u001b[39m y\n\u001b[1;32m     <a href='vscode-notebook-cell:/home/cat/code/bmi/openbmi/analysis/alignment/align_GUI.ipynb#W3sZmlsZQ%3D%3D?line=16'>17</a>\u001b[0m \u001b[39m#\u001b[39;00m\n\u001b[1;32m     <a href='vscode-notebook-cell:/home/cat/code/bmi/openbmi/analysis/alignment/align_GUI.ipynb#W3sZmlsZQ%3D%3D?line=17'>18</a>\u001b[0m \n\u001b[1;32m     <a href='vscode-notebook-cell:/home/cat/code/bmi/openbmi/analysis/alignment/align_GUI.ipynb#W3sZmlsZQ%3D%3D?line=18'>19</a>\u001b[0m \u001b[39m#\u001b[39;00m\n\u001b[0;32m---> <a href='vscode-notebook-cell:/home/cat/code/bmi/openbmi/analysis/alignment/align_GUI.ipynb#W3sZmlsZQ%3D%3D?line=19'>20</a>\u001b[0m c\u001b[39m.\u001b[39mx_shift \u001b[39m=\u001b[39m \u001b[39m0\u001b[39m \n\u001b[1;32m     <a href='vscode-notebook-cell:/home/cat/code/bmi/openbmi/analysis/alignment/align_GUI.ipynb#W3sZmlsZQ%3D%3D?line=20'>21</a>\u001b[0m c\u001b[39m.\u001b[39my_shift \u001b[39m=\u001b[39m \u001b[39m0\u001b[39m\n\u001b[1;32m     <a href='vscode-notebook-cell:/home/cat/code/bmi/openbmi/analysis/alignment/align_GUI.ipynb#W3sZmlsZQ%3D%3D?line=21'>22</a>\u001b[0m c\u001b[39m.\u001b[39mtheta \u001b[39m=\u001b[39m \u001b[39m0\u001b[39m\n",
      "\u001b[0;31mNameError\u001b[0m: name 'c' is not defined"
     ]
    }
   ],
   "source": [
    "import matplotlib.pyplot as plt\n",
    "from matplotlib.widgets import Button\n",
    "from utils_calcium import x_right_shift, y_down_shift, x_left_shift, y_up_shift, exit_plot, rotate_plus, rotate_minus\n",
    "\n",
    "def on_mouse_click(event):\n",
    "    if event.button == 1:  # Check if left mouse button (button 1) is clicked\n",
    "\n",
    "        if event.inaxes == c.ax:\n",
    "            x, y = event.xdata, event.ydata\n",
    "\n",
    "            #\n",
    "            print(\"Setting rotation centre to: \", x, y)\n",
    "\n",
    "            c.theta_x = x\n",
    "            c.theta_y = y\n",
    "\n",
    "#\n",
    "\n",
    "#\n",
    "c.x_shift = 0 \n",
    "c.y_shift = 0\n",
    "c.theta = 0\n",
    "c.theta_x = 256\n",
    "c.theta_y = 256\n",
    "\n",
    "########################################\n",
    "fig = plt.figure(figsize=(10,10))\n",
    "\n",
    "# Connect the mouse click event to the callback function\n",
    "fig.canvas.mpl_connect('button_press_event', on_mouse_click)\n",
    "\n",
    "#\n",
    "c.ax = plt.subplot(1,1,1)\n",
    "\n",
    "#\n",
    "c.session_id = 0\n",
    "clr = 'red'\n",
    "session_id=0\n",
    "c.plot_session_contours(clr)\n",
    "\n",
    "#\n",
    "c.session_selected = 5\n",
    "c.session_id = c.session_selected\n",
    "clr = 'blue'\n",
    "c.plot_session_contours(clr)\n",
    "\n",
    "#\n",
    "\n",
    "\n",
    "#\n",
    "plt.xlim(0,512)\n",
    "plt.ylim(0,512)\n",
    "\n",
    "# Create a button widget\n",
    "button_ax = plt.axes([0.12, 0.04, 0.05, 0.03])\n",
    "button = Button(button_ax, 'x_right')\n",
    "button.on_clicked(lambda event: x_right_shift(event, c))\n",
    "\n",
    "#\n",
    "button_ax1 = plt.axes([0.05, 0.04, 0.05, 0.03])\n",
    "button1 = Button(button_ax1, 'x_left')\n",
    "button1.on_clicked(lambda event: x_left_shift(event, c))\n",
    "\n",
    "#\n",
    "button_ax2 = plt.axes([0.08, 0.07, 0.05, 0.03])\n",
    "button2 = Button(button_ax2, 'y_up')\n",
    "button2.on_clicked(lambda event: y_up_shift(event, c))\n",
    "\n",
    "#\n",
    "button_ax3 = plt.axes([0.08, 0.01, 0.05, 0.03])\n",
    "button3 = Button(button_ax3, 'y_down')\n",
    "button3.on_clicked(lambda event: y_down_shift(event, c))\n",
    "\n",
    "#\n",
    "button_ax4 = plt.axes([0.8, 0.01, 0.05, 0.03])\n",
    "button4 = Button(button_ax4, 'exit')\n",
    "button4.on_clicked(lambda event: exit_plot(event, c))\n",
    "\n",
    "#\n",
    "button_ax5 = plt.axes([0.6, 0.01, 0.05, 0.03])\n",
    "button5 = Button(button_ax5, 'rotate +')\n",
    "button5.on_clicked(lambda event: rotate_plus(event, c))\n",
    "\n",
    "#\n",
    "button_ax6 = plt.axes([0.7, 0.01, 0.05, 0.03])\n",
    "button6 = Button(button_ax6, 'rotate -')\n",
    "button6.on_clicked(lambda event: rotate_minus(event, c))\n",
    "\n",
    "# \n",
    "plt.show()"
   ]
  },
  {
   "cell_type": "code",
   "execution_count": 42,
   "metadata": {},
   "outputs": [
    {
     "name": "stdout",
     "output_type": "stream",
     "text": [
      "['20230130' '20230131' '20230201' '20230202' '20230203' '20230204'\n",
      " '20230205' '20230206' '20230207']\n"
     ]
    }
   ],
   "source": [
    "print (c.session_ids)"
   ]
  },
  {
   "cell_type": "code",
   "execution_count": null,
   "id": "8de39f18",
   "metadata": {},
   "outputs": [],
   "source": []
  },
  {
   "cell_type": "code",
   "execution_count": null,
   "id": "723ec187",
   "metadata": {},
   "outputs": [],
   "source": []
  },
  {
   "cell_type": "code",
   "execution_count": null,
   "id": "e1126394",
   "metadata": {},
   "outputs": [],
   "source": []
  },
  {
   "cell_type": "code",
   "execution_count": 63,
   "id": "14c4549f",
   "metadata": {},
   "outputs": [],
   "source": [
    "####################################################\n",
    "####### PLOT MASK VS. CLOSESST SUITE2P CELLS #######\n",
    "####################################################\n",
    "# loop through contours rois list and plot them\n",
    "\n",
    "#\n",
    "c.contour_ROI_max_dist = 20\n",
    "\n",
    "# gets and plots the most nearby cells to each contour\n",
    "c.plot_matching_contours()\n",
    "\n",
    "#\n"
   ]
  },
  {
   "cell_type": "code",
   "execution_count": null,
   "id": "989e1ea5",
   "metadata": {},
   "outputs": [],
   "source": []
  },
  {
   "cell_type": "code",
   "execution_count": null,
   "id": "21ab5fc9",
   "metadata": {},
   "outputs": [],
   "source": []
  },
  {
   "cell_type": "code",
   "execution_count": null,
   "id": "718412cd",
   "metadata": {},
   "outputs": [],
   "source": []
  },
  {
   "cell_type": "code",
   "execution_count": 64,
   "id": "ba5309fa",
   "metadata": {},
   "outputs": [
    {
     "data": {
      "application/vnd.jupyter.widget-view+json": {
       "model_id": "fa31a1831a3441a4ae2273b9a40dd5f2",
       "version_major": 2,
       "version_minor": 0
      },
      "text/plain": [
       "  0%|          | 0/8 [00:00<?, ?it/s]"
      ]
     },
     "metadata": {},
     "output_type": "display_data"
    },
    {
     "name": "stdout",
     "output_type": "stream",
     "text": [
      "# of cells, times:  (385, 90000) , output:  (57, 385, 900)\n",
      "# of cells, times:  (295, 90000) , output:  (14, 295, 900)\n",
      "# of cells, times: # of cells, times:   (297, 90000)(302, 90000)  , output: , output:   (72, 302, 900)(44, 297, 900)\n",
      "\n",
      "# of cells, times:  (334, 90000) , output:  (2, 334, 900)\n",
      "# of cells, times:  (343, 90000) , output:  (84, 343, 900)\n",
      "# of cells, times:  (342, 90000) , output:  (112, 342, 900)\n"
     ]
    }
   ],
   "source": [
    "######################################################\n",
    "####### LOAD PERI-REWARD HISTOGRAM FOR ALL CELLS #####\n",
    "######################################################\n",
    "\n",
    "#\n",
    "c.reward_window = 450\n",
    "c.filter = True\n",
    "c.compute_reward_centered_traces()\n"
   ]
  },
  {
   "cell_type": "code",
   "execution_count": 94,
   "id": "c3c840f2",
   "metadata": {},
   "outputs": [
    {
     "name": "stdout",
     "output_type": "stream",
     "text": [
      "closest_ROI_cells:  [[  0 137]\n",
      " [  0 226]\n",
      " [  0 213]\n",
      " [  0  48]\n",
      " [  0 337]\n",
      " [  1  29]\n",
      " [  1 275]\n",
      " [  1  37]\n",
      " [  2  36]\n",
      " [  2  65]\n",
      " [  2 147]\n",
      " [  2 233]\n",
      " [  2 237]\n",
      " [  3 124]\n",
      " [  3 279]\n",
      " [  3 212]\n",
      " [  3  33]\n",
      " [  3  27]]\n",
      "loopin gover all suite2p cells:  343\n",
      "k:  27  matching_cell:  27  matching_mask:  3\n",
      "k:  29  matching_cell:  29  matching_mask:  1\n",
      "k:  33  matching_cell:  33  matching_mask:  3\n",
      "k:  36  matching_cell:  36  matching_mask:  2\n",
      "k:  37  matching_cell:  37  matching_mask:  1\n",
      "k:  48  matching_cell:  48  matching_mask:  0\n",
      "k:  65  matching_cell:  65  matching_mask:  2\n",
      "k:  124  matching_cell:  124  matching_mask:  3\n",
      "k:  137  matching_cell:  137  matching_mask:  0\n",
      "k:  147  matching_cell:  147  matching_mask:  2\n",
      "k:  212  matching_cell:  212  matching_mask:  3\n",
      "k:  213  matching_cell:  213  matching_mask:  0\n",
      "k:  226  matching_cell:  226  matching_mask:  0\n",
      "k:  233  matching_cell:  233  matching_mask:  2\n",
      "k:  237  matching_cell:  237  matching_mask:  2\n",
      "k:  275  matching_cell:  275  matching_mask:  1\n",
      "k:  279  matching_cell:  279  matching_mask:  3\n",
      "k:  337  matching_cell:  337  matching_mask:  0\n",
      "k:  103  clrs2[k][0]:  lightblue\n",
      "k:  104  clrs2[k][0]:  lightblue\n",
      "k:  125  clrs2[k][0]:  lightblue\n",
      "k:  153  clrs2[k][0]:  red\n",
      "k:  184  clrs2[k][0]:  blue\n",
      "k:  225  clrs2[k][0]:  pink\n",
      "(34, 900)\n"
     ]
    }
   ],
   "source": [
    "######################################################\n",
    "####### LOAD PERI-REWARD HISTOGRAM FOR ALL CELLS #####\n",
    "######################################################\n",
    "\n",
    "#\n",
    "c.reward_window = 450\n",
    "c.session_id = 5\n",
    "c.scale = .5\n",
    "c.sort_by_peak = True\n",
    "#c.min_ptp = 0.3\n",
    "c.min_ca_peak = 0.1\n",
    "c.vmin = -0.3\n",
    "c.vmax = 0.4\n",
    "\n",
    "#\n",
    "c.plot_reward_centered_traces()\n"
   ]
  },
  {
   "cell_type": "code",
   "execution_count": 47,
   "id": "dfd74933",
   "metadata": {},
   "outputs": [],
   "source": [
    "# print (np.load('/media/cat/4TB/donato/andres/master_analysis/DON-014451/20230407/plane0/F.npy').shape)\n",
    "\n",
    "# iscell = np.load('/media/cat/4TB/donato/andres/master_analysis/DON-014451/20230407/plane0/iscell.npy', allow_pickle=True)\n",
    "# idx = np.where(iscell[:,1]>0.5)[0]\n",
    "# print (idx.shape)\n",
    "\n",
    "# d = np.load('/media/cat/4TB/donato/andres/master_analysis/DON-014451/20230407/plane0/binarized_traces.npz', allow_pickle=True)\n",
    "# F_upphase = d['F_upphase']\n",
    "# print (F_upphase.shape)\n"
   ]
  },
  {
   "cell_type": "code",
   "execution_count": 48,
   "id": "acd104d1",
   "metadata": {},
   "outputs": [],
   "source": [
    "# ######################################################\n",
    "# ####### LOAD PERI-REWARD HISTOGRAM FOR ALL CELLS #####\n",
    "# ######################################################\n",
    "\n",
    "# # same but rank the cells by their peak response\n",
    "# c.plot_reward_centered_traces_ranked()"
   ]
  },
  {
   "cell_type": "code",
   "execution_count": 49,
   "id": "a0c08cda",
   "metadata": {},
   "outputs": [
    {
     "name": "stdout",
     "output_type": "stream",
     "text": [
      "closest_ROI_cells:  [[  0  12]\n",
      " [  0  15]\n",
      " [  0 205]\n",
      " [  1  34]\n",
      " [  1  49]\n",
      " [  1 162]\n",
      " [  1 216]\n",
      " [  2  44]\n",
      " [  2  93]\n",
      " [  3  11]\n",
      " [  3  14]\n",
      " [  3  25]\n",
      " [  3  37]\n",
      " [  3  56]\n",
      " [  3 249]]\n"
     ]
    }
   ],
   "source": [
    "######################################################\n",
    "####### LOAD PERI-REWARD HISTOGRAM FOR ALL CELLS #####\n",
    "######################################################\n",
    "\n",
    "#\n",
    "c.plot_reward_centered_traces_ROIs_only()\n"
   ]
  },
  {
   "cell_type": "code",
   "execution_count": 50,
   "id": "3e08c442",
   "metadata": {},
   "outputs": [],
   "source": [
    "# ######################################################\n",
    "# ####### LOAD PERI-REWARD HISTOGRAM FOR ALL CELLS #####\n",
    "# ######################################################\n",
    "\n",
    "# # same but rank the cells by their peak response\n",
    "# c.plot_reward_centered_traces_ROIs_only_ranked()\n"
   ]
  },
  {
   "cell_type": "code",
   "execution_count": 51,
   "id": "4a980793",
   "metadata": {},
   "outputs": [
    {
     "ename": "FileNotFoundError",
     "evalue": "[Errno 2] No such file or directory: '/media/cat/4TB/donato/andres/master_analysis/DON-014371/20230331/reward_centered_traces_rewardwindow_450.npy'",
     "output_type": "error",
     "traceback": [
      "\u001b[0;31m---------------------------------------------------------------------------\u001b[0m",
      "\u001b[0;31mFileNotFoundError\u001b[0m                         Traceback (most recent call last)",
      "Cell \u001b[0;32mIn[51], line 9\u001b[0m\n\u001b[1;32m      6\u001b[0m c\u001b[39m.\u001b[39mreward_window \u001b[39m=\u001b[39m \u001b[39m450\u001b[39m\n\u001b[1;32m      8\u001b[0m \u001b[39m#\u001b[39;00m\n\u001b[0;32m----> 9\u001b[0m c\u001b[39m.\u001b[39;49mplot_reward_centered_traces_ROIs_all_days()\n\u001b[1;32m     10\u001b[0m plt\u001b[39m.\u001b[39mxlabel(\u001b[39m'\u001b[39m\u001b[39mTime (s)\u001b[39m\u001b[39m'\u001b[39m,fontsize\u001b[39m=\u001b[39m\u001b[39m20\u001b[39m)\n",
      "File \u001b[0;32m~/code/bmi/analysis/utils_calcium.py:196\u001b[0m, in \u001b[0;36mProcessCalcium.plot_reward_centered_traces_ROIs_all_days\u001b[0;34m(self)\u001b[0m\n\u001b[1;32m    187\u001b[0m \u001b[39m#print (\"closest_ROI_cells: \", closest_ROI_cells)\u001b[39;00m\n\u001b[1;32m    188\u001b[0m \n\u001b[1;32m    189\u001b[0m \u001b[39m# load reward centered traces for the session\u001b[39;00m\n\u001b[1;32m    190\u001b[0m fname \u001b[39m=\u001b[39m os\u001b[39m.\u001b[39mpath\u001b[39m.\u001b[39mjoin(\n\u001b[1;32m    191\u001b[0m                     \u001b[39mself\u001b[39m\u001b[39m.\u001b[39mroot_dir,\n\u001b[1;32m    192\u001b[0m                     \u001b[39mself\u001b[39m\u001b[39m.\u001b[39manimal_id,\n\u001b[1;32m    193\u001b[0m                     \u001b[39mself\u001b[39m\u001b[39m.\u001b[39msession_ids[session_id],\n\u001b[1;32m    194\u001b[0m                     \u001b[39m'\u001b[39m\u001b[39mreward_centered_traces_rewardwindow_\u001b[39m\u001b[39m'\u001b[39m\u001b[39m+\u001b[39m\u001b[39mstr\u001b[39m(\u001b[39mself\u001b[39m\u001b[39m.\u001b[39mreward_window)\u001b[39m+\u001b[39m\u001b[39m'\u001b[39m\u001b[39m.npy\u001b[39m\u001b[39m'\u001b[39m)\n\u001b[0;32m--> 196\u001b[0m reward_centered_traces \u001b[39m=\u001b[39m np\u001b[39m.\u001b[39;49mload(fname, allow_pickle\u001b[39m=\u001b[39;49m\u001b[39mTrue\u001b[39;49;00m)\n\u001b[1;32m    198\u001b[0m \u001b[39m# plot the mean and std for all the cells spacing them out by 3\u001b[39;00m\n\u001b[1;32m    199\u001b[0m t \u001b[39m=\u001b[39m np\u001b[39m.\u001b[39marange(reward_centered_traces\u001b[39m.\u001b[39mshape[\u001b[39m2\u001b[39m])\u001b[39m/\u001b[39m\u001b[39m30\u001b[39m\u001b[39m-\u001b[39m(\u001b[39mself\u001b[39m\u001b[39m.\u001b[39mreward_window\u001b[39m/\u001b[39m\u001b[39m30\u001b[39m)\n",
      "File \u001b[0;32m~/.conda/envs/bmi/lib/python3.8/site-packages/numpy/lib/npyio.py:405\u001b[0m, in \u001b[0;36mload\u001b[0;34m(file, mmap_mode, allow_pickle, fix_imports, encoding, max_header_size)\u001b[0m\n\u001b[1;32m    403\u001b[0m     own_fid \u001b[39m=\u001b[39m \u001b[39mFalse\u001b[39;00m\n\u001b[1;32m    404\u001b[0m \u001b[39melse\u001b[39;00m:\n\u001b[0;32m--> 405\u001b[0m     fid \u001b[39m=\u001b[39m stack\u001b[39m.\u001b[39menter_context(\u001b[39mopen\u001b[39;49m(os_fspath(file), \u001b[39m\"\u001b[39;49m\u001b[39mrb\u001b[39;49m\u001b[39m\"\u001b[39;49m))\n\u001b[1;32m    406\u001b[0m     own_fid \u001b[39m=\u001b[39m \u001b[39mTrue\u001b[39;00m\n\u001b[1;32m    408\u001b[0m \u001b[39m# Code to distinguish from NumPy binary files and pickles.\u001b[39;00m\n",
      "\u001b[0;31mFileNotFoundError\u001b[0m: [Errno 2] No such file or directory: '/media/cat/4TB/donato/andres/master_analysis/DON-014371/20230331/reward_centered_traces_rewardwindow_450.npy'"
     ]
    }
   ],
   "source": [
    "######################################################\n",
    "############### SHOW ALL DAYS/SESSIONS ###############\n",
    "######################################################\n",
    "\n",
    "#\n",
    "c.reward_window = 450\n",
    "\n",
    "#\n",
    "c.plot_reward_centered_traces_ROIs_all_days()\n",
    "plt.xlabel('Time (s)',fontsize=20)\n"
   ]
  },
  {
   "cell_type": "code",
   "execution_count": null,
   "id": "796c1531",
   "metadata": {},
   "outputs": [
    {
     "name": "stdout",
     "output_type": "stream",
     "text": [
      "{'suite2p_version': '0.10.1', 'look_one_level_down': 0.0, 'fast_disk': [], 'delete_bin': True, 'mesoscan': False, 'bruker': False, 'bruker_bidirectional': False, 'h5py': [], 'h5py_key': 'data', 'save_path0': [], 'save_folder': [], 'subfolders': [], 'move_bin': False, 'nplanes': 1, 'nchannels': 1, 'functional_chan': 1, 'tau': 1.0, 'fs': 30.947, 'force_sktiff': False, 'frames_include': -1, 'multiplane_parallel': 0.0, 'ignore_flyback': [], 'preclassify': 0.0, 'save_mat': True, 'save_NWB': 0.0, 'combined': 1.0, 'aspect': 1.0, 'do_bidiphase': False, 'bidiphase': 0.0, 'bidi_corrected': False, 'do_registration': 1, 'two_step_registration': 0.0, 'keep_movie_raw': False, 'nimg_init': 500, 'batch_size': 500, 'maxregshift': 0.1, 'align_by_chan': 1, 'reg_tif': True, 'reg_tif_chan2': False, 'subpixel': 10, 'smooth_sigma_time': 0.0, 'smooth_sigma': 1.15, 'th_badframes': 100.0, 'norm_frames': True, 'force_refImg': False, 'pad_fft': False, 'nonrigid': True, 'block_size': [128, 128], 'snr_thresh': 1.2, 'maxregshiftNR': 5.0, '1Preg': False, 'spatial_hp': 42, 'spatial_hp_reg': 42.0, 'spatial_hp_detect': 25, 'pre_smooth': 0.0, 'spatial_taper': 40.0, 'roidetect': True, 'spikedetect': True, 'anatomical_only': 0.0, 'cellprob_threshold': 0.0, 'flow_threshold': 1.5, 'sparse_mode': True, 'diameter': [9, 9], 'spatial_scale': 0, 'connected': True, 'nbinned': 5000, 'max_iterations': 20, 'threshold_scaling': 1.0, 'max_overlap': 0.75, 'high_pass': 100.0, 'denoise': 0.0, 'soma_crop': 1.0, 'neuropil_extract': True, 'inner_neuropil_radius': 2, 'min_neuropil_pixels': 350, 'lam_percentile': 50.0, 'allow_overlap': True, 'use_builtin_classifier': False, 'classifier_path': 0, 'chan2_thres': 0.65, 'baseline': 'maximin', 'win_baseline': 60.0, 'sig_baseline': 10.0, 'prctile_baseline': 8.0, 'neucoeff': 0.7, 'input_format': 'tif'}\n"
     ]
    }
   ],
   "source": []
  },
  {
   "cell_type": "code",
   "execution_count": 25,
   "id": "28dfd602",
   "metadata": {},
   "outputs": [
    {
     "name": "stdout",
     "output_type": "stream",
     "text": [
      "(3007873, 1) (3007873, 1) (3007873,)\n"
     ]
    }
   ],
   "source": [
    "d = np.load('/media/cat/4TB/donato/andres/master_analysis/DON-011733/20230303/results.npz', allow_pickle=True)\n",
    "\n",
    "r1 = d['rotary_encoder1_abstime']\n",
    "r2 = d['rotary_encoder2_abstime']\n",
    "abstimes = d['abs_times_ttl_read']\n",
    "print (r1.shape, r2.shape, abstimes.shape)\n",
    "\n",
    "plt.figure()\n",
    "plt.plot(r1)\n",
    "plt.show()\n"
   ]
  },
  {
   "cell_type": "code",
   "execution_count": null,
   "id": "c9a37363",
   "metadata": {},
   "outputs": [],
   "source": []
  },
  {
   "cell_type": "code",
   "execution_count": null,
   "id": "64fb3e70",
   "metadata": {},
   "outputs": [],
   "source": []
  },
  {
   "cell_type": "code",
   "execution_count": 36,
   "id": "f4ad05fd",
   "metadata": {},
   "outputs": [
    {
     "name": "stdout",
     "output_type": "stream",
     "text": [
      "['day0', 20230131, 20230201, 20230202, 20230203, 20230204, 20230205, 20230206, 20230207]\n"
     ]
    }
   ],
   "source": [
    "# load yaml file\n",
    "import yaml\n",
    "yaml_file = '/media/cat/4TB/donato/andres/master_analysis/DON-014266/DON-014266.yaml'\n",
    "with open(yaml_file) as file:\n",
    "    #\n",
    "    data = yaml.load(file, Loader=yaml.FullLoader)\n",
    "\n",
    "    print (data['session_names'])"
   ]
  },
  {
   "cell_type": "code",
   "execution_count": 19,
   "id": "5b3b31a0",
   "metadata": {},
   "outputs": [
    {
     "name": "stdout",
     "output_type": "stream",
     "text": [
      "(65019, 1)\n",
      "(38867, 1)\n",
      "[[0.03918894]\n",
      " [0.03951282]\n",
      " [0.03935088]\n",
      " ...\n",
      " [0.03886507]\n",
      " [0.03886507]\n",
      " [0.03870313]]\n",
      "[[0.03918894]\n",
      " [0.03918894]\n",
      " [0.03918894]\n",
      " ...\n",
      " [5.0910172 ]\n",
      " [5.06802013]\n",
      " [0.03935088]]\n",
      "(758,)\n",
      "(1000,)\n"
     ]
    }
   ],
   "source": [
    "import numpy as np\n",
    "\n",
    "#\n",
    "d = np.load('/media/cat/4TB/donato/tests/test1/data/results.npz',allow_pickle=True)\n",
    "ttl_voltages1 = d['ttl_voltages']\n",
    "ttl_times1 = d['ttl_times']\n",
    "\n",
    "#\n",
    "d2 = np.load('/media/cat/4TB/donato/tests/test2/data/results.npz',allow_pickle=True)\n",
    "ttl_voltages2 = d2['ttl_voltages']\n",
    "ttl_times2 = d2['ttl_times']\n",
    "\n",
    "print (ttl_voltages1.shape)\n",
    "print (ttl_voltages2.shape)\n",
    "\n",
    "#\n",
    "print (ttl_voltages1)\n",
    "print (ttl_voltages2)\n",
    "\n",
    "# plot ttl_voltages\n",
    "plt.figure()\n",
    "ax=plt.subplot(211)\n",
    "plt.plot(ttl_voltages1, label='298um',\n",
    "         c='blue')\n",
    "plt.xlim(0,70000)\n",
    "\n",
    "#\n",
    "\n",
    "plt.legend()\n",
    "plt.ylabel(\"Voltage from TTL pulse\")\n",
    "ax=plt.subplot(212)\n",
    "plt.plot(ttl_voltages2,label='647um',\n",
    "         c='red')\n",
    "plt.xlim(0,70000)\n",
    "\n",
    "\n",
    "#\n",
    "\n",
    "plt.legend()\n",
    "plt.ylabel(\"Voltage from TTL pulse\")\n",
    "\n",
    "\n",
    "plt.show()\n",
    "\n",
    "\n",
    "#\n",
    "print (ttl_times1.shape)\n",
    "print (ttl_times2.shape)\n"
   ]
  },
  {
   "cell_type": "code",
   "execution_count": null,
   "id": "1544c9da",
   "metadata": {},
   "outputs": [],
   "source": [
    "######################################################\n",
    "####### PLOT PERI-REWARD HISTOGRAM FOR ALL CELLS #####\n",
    "######################################################\n",
    "\n",
    "\n",
    "\n",
    "# plot the graph\n",
    "plt.figure()\n",
    "for k in range(1,9,1):\n",
    "    c.ax=plt.subplot(2,4,k)\n",
    "    c.session_id = k\n",
    "    c.reward_window = 180\n",
    "    c.get_reward_centered_traces()\n",
    "\n",
    "    #\n",
    "    c.plot_network_graph()\n",
    "\n",
    "#\n",
    "plt.show()\n",
    "\n",
    "\n"
   ]
  },
  {
   "cell_type": "code",
   "execution_count": null,
   "id": "c2214f1d",
   "metadata": {},
   "outputs": [],
   "source": []
  },
  {
   "cell_type": "code",
   "execution_count": null,
   "id": "e99976a9",
   "metadata": {},
   "outputs": [],
   "source": []
  },
  {
   "cell_type": "code",
   "execution_count": null,
   "id": "382188ed",
   "metadata": {},
   "outputs": [],
   "source": []
  },
  {
   "cell_type": "code",
   "execution_count": null,
   "id": "2e291d36",
   "metadata": {},
   "outputs": [],
   "source": []
  }
 ],
 "metadata": {
  "kernelspec": {
   "display_name": "Python 3 (ipykernel)",
   "language": "python",
   "name": "python3"
  },
  "language_info": {
   "codemirror_mode": {
    "name": "ipython",
    "version": 3
   },
   "file_extension": ".py",
   "mimetype": "text/x-python",
   "name": "python",
   "nbconvert_exporter": "python",
   "pygments_lexer": "ipython3",
   "version": "3.8.15"
  },
  "toc-autonumbering": false,
  "toc-showcode": true
 },
 "nbformat": 4,
 "nbformat_minor": 5
}
