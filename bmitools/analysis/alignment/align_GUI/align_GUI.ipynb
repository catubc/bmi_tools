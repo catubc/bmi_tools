{
 "cells": [
  {
   "cell_type": "code",
   "execution_count": 15,
   "id": "aff08ce5",
   "metadata": {},
   "outputs": [
    {
     "data": {
      "application/javascript": "IPython.notebook.set_autosave_interval(180000)"
     },
     "metadata": {},
     "output_type": "display_data"
    },
    {
     "name": "stdout",
     "output_type": "stream",
     "text": [
      "Autosaving every 180 seconds\n",
      "The autoreload extension is already loaded. To reload it, use:\n",
      "  %reload_ext autoreload\n"
     ]
    }
   ],
   "source": [
    "import matplotlib.pyplot as plt\n",
    "import matplotlib\n",
    "\n",
    "%matplotlib tk\n",
    "%autosave 180\n",
    "%load_ext autoreload\n",
    "%autoreload 2\n",
    "\n",
    "\n",
    "import numpy as np\n",
    "#%matplotlib inline\n",
    "\n",
    "import os\n",
    "from utils_calcium import ProcessCalcium"
   ]
  },
  {
   "cell_type": "code",
   "execution_count": 20,
   "id": "044f5ae6",
   "metadata": {},
   "outputs": [
    {
     "name": "stdout",
     "output_type": "stream",
     "text": [
      "doc.keys():  dict_keys(['cohort_year', 'dob', 'name', 'sex', 'rec_type', 'exp_result', 'session_ids'])\n",
      "Could not find shifts in yaml file ... \n"
     ]
    },
    {
     "name": "stderr",
     "output_type": "stream",
     "text": [
      "  0%|          | 0/9 [00:00<?, ?it/s]"
     ]
    },
    {
     "name": "stderr",
     "output_type": "stream",
     "text": [
      " 22%|██▏       | 2/9 [00:32<02:05, 17.99s/it]"
     ]
    },
    {
     "name": "stdout",
     "output_type": "stream",
     "text": [
      "/media/cat/8TB/donato/bmi/DON-014382/20230408/rois_pixels_and_thresholds.npz\n"
     ]
    },
    {
     "name": "stderr",
     "output_type": "stream",
     "text": [
      " 33%|███▎      | 3/9 [00:54<01:59, 19.87s/it]"
     ]
    },
    {
     "name": "stdout",
     "output_type": "stream",
     "text": [
      "/media/cat/8TB/donato/bmi/DON-014382/20230409/rois_pixels_and_thresholds.npz\n"
     ]
    },
    {
     "name": "stderr",
     "output_type": "stream",
     "text": [
      " 44%|████▍     | 4/9 [01:24<01:59, 23.85s/it]"
     ]
    },
    {
     "name": "stdout",
     "output_type": "stream",
     "text": [
      "/media/cat/8TB/donato/bmi/DON-014382/20230410-18threshold/rois_pixels_and_thresholds.npz\n"
     ]
    },
    {
     "name": "stderr",
     "output_type": "stream",
     "text": [
      " 56%|█████▌    | 5/9 [01:48<01:35, 23.81s/it]"
     ]
    },
    {
     "name": "stdout",
     "output_type": "stream",
     "text": [
      "/media/cat/8TB/donato/bmi/DON-014382/20230411-10threshold/rois_pixels_and_thresholds.npz\n"
     ]
    },
    {
     "name": "stderr",
     "output_type": "stream",
     "text": [
      " 67%|██████▋   | 6/9 [02:09<01:08, 22.72s/it]"
     ]
    },
    {
     "name": "stdout",
     "output_type": "stream",
     "text": [
      "/media/cat/8TB/donato/bmi/DON-014382/20230412morning/rois_pixels_and_thresholds.npz\n"
     ]
    },
    {
     "name": "stderr",
     "output_type": "stream",
     "text": [
      " 78%|███████▊  | 7/9 [02:32<00:45, 22.82s/it]"
     ]
    },
    {
     "name": "stdout",
     "output_type": "stream",
     "text": [
      "/media/cat/8TB/donato/bmi/DON-014382/20230412evening/rois_pixels_and_thresholds.npz\n"
     ]
    },
    {
     "name": "stderr",
     "output_type": "stream",
     "text": [
      " 89%|████████▉ | 8/9 [02:55<00:23, 23.08s/it]"
     ]
    },
    {
     "name": "stdout",
     "output_type": "stream",
     "text": [
      "/media/cat/8TB/donato/bmi/DON-014382/20230413morning/rois_pixels_and_thresholds.npz\n"
     ]
    },
    {
     "name": "stderr",
     "output_type": "stream",
     "text": [
      "100%|██████████| 9/9 [03:24<00:00, 22.70s/it]"
     ]
    },
    {
     "name": "stdout",
     "output_type": "stream",
     "text": [
      "/media/cat/8TB/donato/bmi/DON-014382/20230413evening/rois_pixels_and_thresholds.npz\n",
      "DONE\n"
     ]
    },
    {
     "name": "stderr",
     "output_type": "stream",
     "text": [
      "\n"
     ]
    }
   ],
   "source": [
    "####################################################\n",
    "################## LOAD DATA #######################\n",
    "####################################################\n",
    "# TODOS:\n",
    "# 1.   load all masks and look at them\n",
    "#      see if we can find the correct cell in each day - see how much drift there is\n",
    "# 2.   load all traces and compute reward triggered averages \n",
    "#     - this should help understand if other cells in the networks are acquiring a relationship with the reward and the ensmeble cells\n",
    "\n",
    "#root_dir = '/media/cat/8TB/donato/andres/master_analysis/'\n",
    "root_dir = '/media/cat/8TB/donato/bmi/'\n",
    "#root_dir = '/media/cat/8TB/Dropbox/papers/bmi/data/bmi/'\n",
    "\n",
    "# M1 mice\n",
    "M1 = [\n",
    "    # 'DON-011733',\n",
    "    #  'DON-014382',\n",
    "    # 'DON-014451',\n",
    "    # 'DON-014575',\n",
    "    # 'DON-014618',\n",
    "    # 'DON-015821',\n",
    "    ]\n",
    "\n",
    "# CA3 mice\n",
    "CA3 = [\n",
    "    # 'DON-012502',\n",
    "    # 'DON-014266',\n",
    "    # 'DON-014371',\n",
    "    # 'DON-015801',\n",
    "]\n",
    "\n",
    "# M1 mice\n",
    "#animal_id = \"DON-011733\"\n",
    "#animal_id = \"DON-014618\"\n",
    "#animal_id = 'DON-012502'\n",
    "#animal_id = 'DON-019683'\n",
    "animal_id = 'DON-014382'\n",
    "#animal_id = 'DON-014575'\n",
    "#animal_id = 'DON-015821'\n",
    "#animal_id = 'DON-016658'\n",
    "#animal_id = 'DON-019683'\n",
    "\n",
    "\n",
    "# CA3 mice\n",
    "#animal_id = \"DON-014371\"\n",
    "#animal_id = 'DON-015801'\n",
    "\n",
    "#       \n",
    "calcium_object = ProcessCalcium(root_dir,\n",
    "                                animal_id)\n",
    "\n",
    "#\n",
    "calcium_object.load_data()\n",
    "\n",
    "#\n",
    "calcium_object.load_day0_mask()\n",
    "\n",
    "#\n",
    "#c.run_binarization()\n",
    "print (\"DONE\")"
   ]
  },
  {
   "cell_type": "code",
   "execution_count": 22,
   "id": "34d997c2",
   "metadata": {},
   "outputs": [
    {
     "name": "stdout",
     "output_type": "stream",
     "text": [
      "# of contours in session contours:  340\n",
      "selected session:  20230409\n",
      "# of contours in session contours:  348\n",
      "# of contours in session contours:  348\n",
      "# of contours in session contours:  340\n",
      "# of contours in session contours:  348\n",
      "# of contours in session contours:  340\n",
      "# of contours in session contours:  348\n",
      "# of contours in session contours:  340\n",
      "# of contours in session contours:  348\n",
      "# of contours in session contours:  340\n",
      "# of contours in session contours:  348\n",
      "# of contours in session contours:  340\n",
      "# of contours in session contours:  348\n",
      "# of contours in session contours:  340\n",
      "# of contours in session contours:  348\n",
      "# of contours in session contours:  340\n",
      "# of contours in session contours:  348\n",
      "# of contours in session contours:  340\n",
      "# of contours in session contours:  348\n",
      "# of contours in session contours:  340\n",
      "# of contours in session contours:  348\n",
      "# of contours in session contours:  340\n"
     ]
    }
   ],
   "source": [
    "###################################\n",
    "from utils_calcium import align_gui_local\n",
    "\n",
    "#\n",
    "calcium_object.load_day0_mask()\n",
    "\n",
    "#\n",
    "calcium_object.session_selected = 2\n",
    "calcium_object.n_cells_show = 150         # of cells to show for session 1\n",
    "calcium_object.dist_nearby_cells = 25   # distance in pixels to look for nearby cells to each ROI <- this helps orient\n",
    "\n",
    "#\n",
    "align_gui_local(calcium_object)\n",
    "\n",
    "\n"
   ]
  },
  {
   "cell_type": "code",
   "execution_count": 63,
   "metadata": {},
   "outputs": [
    {
     "name": "stdout",
     "output_type": "stream",
     "text": [
      "x_shift:  3\n",
      "y_shift:  -2\n",
      "theta:  0\n",
      "theta_x:  256\n",
      "theta_y:  256\n",
      "scale_factor x:  1\n",
      "scale_factor y:  1\n",
      "# of contours in session contours:  418\n",
      "# of contours in session contours:  370\n"
     ]
    }
   ],
   "source": [
    "from utils_calcium import reload_alignment\n",
    "reload_alignment(calcium_object)"
   ]
  },
  {
   "cell_type": "code",
   "execution_count": 20,
   "metadata": {},
   "outputs": [
    {
     "name": "stdout",
     "output_type": "stream",
     "text": [
      "200\n"
     ]
    }
   ],
   "source": [
    "import pickle\n",
    "print (len(calcium_object.master_mask))\n",
    "fname = '/home/cat/master_mask_GUI.pkl'\n",
    "with open(fname, 'wb') as f:\n",
    "    pickle.dump(calcium_object.master_mask, f)\n",
    "\n",
    "fname = '/home/cat/session_mask_GUI.pkl'\n",
    "with open(fname, 'wb') as f:\n",
    "    pickle.dump(calcium_object.session_mask, f)\n",
    "\n",
    "\n",
    "\n"
   ]
  },
  {
   "cell_type": "code",
   "execution_count": null,
   "metadata": {},
   "outputs": [],
   "source": []
  },
  {
   "cell_type": "code",
   "execution_count": null,
   "id": "e99976a9",
   "metadata": {},
   "outputs": [],
   "source": []
  },
  {
   "cell_type": "code",
   "execution_count": null,
   "id": "382188ed",
   "metadata": {},
   "outputs": [],
   "source": []
  },
  {
   "cell_type": "code",
   "execution_count": 10,
   "id": "2e291d36",
   "metadata": {},
   "outputs": [
    {
     "name": "stdout",
     "output_type": "stream",
     "text": [
      "session:  20230407\n"
     ]
    }
   ],
   "source": [
    "#  MAKE MISSING day0 rois file ##\n",
    "\n",
    "from calcium import Calcium\n",
    "\n",
    "#\n",
    "session_ = calcium_object.session_ids[0]\n",
    "print (\"session: \", session_)\n",
    "\n",
    "\n",
    "#                \n",
    "data_dir = os.path.join(\n",
    "                calcium_object.root_dir,\n",
    "                calcium_object.animal_id,\n",
    "                session_,\n",
    "                'plane0'\n",
    "                )\n",
    "#\n",
    "C = Calcium()       \n",
    "C.data_dir = data_dir\n",
    "\n",
    "#\n",
    "C.load_suite2p()\n",
    "\n",
    "#\n",
    "C.load_footprints()\n",
    "\n",
    "# load binarization\n",
    "C.detrend_model_type = 'polynomial'\n",
    "C.detrend_model_order = 2\n",
    "C.percentile_threshold = 0.999999\n",
    "\n",
    "# \n",
    "#print (\"loading binarization\")\n",
    "C.load_binarization()\n",
    "    "
   ]
  },
  {
   "cell_type": "code",
   "execution_count": null,
   "id": "d13c8deb",
   "metadata": {},
   "outputs": [],
   "source": []
  },
  {
   "cell_type": "code",
   "execution_count": 11,
   "id": "3c987ca3",
   "metadata": {},
   "outputs": [
    {
     "name": "stdout",
     "output_type": "stream",
     "text": [
      "(51, 2)\n"
     ]
    }
   ],
   "source": [
    "#\n",
    "fname_out = '/media/cat/8TB/donato/bmi/DON-014382/20230407/rois_pixels_and_thresholds_day0.npz'\n",
    "\n",
    "print (C.contours[3].shape)\n",
    "\n",
    "# make an array from list C.contours, but that can be saved via npz\n",
    "temp = []\n",
    "for k in range(len(C.contours)):\n",
    "    temp2 = C.contours[k]\n",
    "    #print (temp2.shape)\n",
    "    temp.append(temp2)\n",
    "\n",
    "temp = np.array(temp, dtype=object)\n",
    "\n",
    "np.savez(fname_out,\n",
    "         contours_all_cells = temp,\n",
    "         cell_ids = [0,1,2,3],\n",
    "         ensemble1_contours = np.array((temp[0],  temp[1]), dtype=object),\n",
    "            ensemble2_contours = np.array((temp[2],  temp[3]), dtype=object),\n",
    "\n",
    ")\n",
    "         "
   ]
  },
  {
   "cell_type": "code",
   "execution_count": 41,
   "id": "d92debef",
   "metadata": {},
   "outputs": [
    {
     "name": "stdout",
     "output_type": "stream",
     "text": [
      "doc.keys():  dict_keys(['cohort_year', 'dob', 'name', 'sex', 'rec_type', 'exp_result', 'session_ids'])\n",
      "Could not find shifts in yaml file ... \n"
     ]
    }
   ],
   "source": [
    "animal_id = 'DON-014382'\n",
    "\n",
    "#       \n",
    "calcium_object = ProcessCalcium(root_dir,\n",
    "                                animal_id)\n",
    "\n",
    "#\n",
    "#calcium_object.load_data()\n",
    "\n",
    "#\n",
    "calcium_object.load_day0_mask()"
   ]
  },
  {
   "cell_type": "code",
   "execution_count": null,
   "id": "3e86a8ee",
   "metadata": {},
   "outputs": [],
   "source": []
  }
 ],
 "metadata": {
  "kernelspec": {
   "display_name": "Python 3 (ipykernel)",
   "language": "python",
   "name": "python3"
  },
  "language_info": {
   "codemirror_mode": {
    "name": "ipython",
    "version": 3
   },
   "file_extension": ".py",
   "mimetype": "text/x-python",
   "name": "python",
   "nbconvert_exporter": "python",
   "pygments_lexer": "ipython3",
   "version": "3.8.18"
  },
  "toc-autonumbering": false,
  "toc-showcode": true
 },
 "nbformat": 4,
 "nbformat_minor": 5
}
