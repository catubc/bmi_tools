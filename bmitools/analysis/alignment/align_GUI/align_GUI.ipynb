{
 "cells": [
  {
   "cell_type": "code",
   "execution_count": 1,
   "id": "aff08ce5",
   "metadata": {},
   "outputs": [
    {
     "data": {
      "application/javascript": "IPython.notebook.set_autosave_interval(180000)"
     },
     "metadata": {},
     "output_type": "display_data"
    },
    {
     "name": "stdout",
     "output_type": "stream",
     "text": [
      "Autosaving every 180 seconds\n"
     ]
    },
    {
     "name": "stderr",
     "output_type": "stream",
     "text": [
      "/home/cat/.conda/envs/bmitools/lib/python3.8/site-packages/tqdm/auto.py:21: TqdmWarning: IProgress not found. Please update jupyter and ipywidgets. See https://ipywidgets.readthedocs.io/en/stable/user_install.html\n",
      "  from .autonotebook import tqdm as notebook_tqdm\n"
     ]
    },
    {
     "name": "stdout",
     "output_type": "stream",
     "text": [
      "Importing the dtw module. When using in academic works please cite:\n",
      "  T. Giorgino. Computing and Visualizing Dynamic Time Warping Alignments in R: The dtw Package.\n",
      "  J. Stat. Soft., doi:10.18637/jss.v031.i07.\n",
      "\n"
     ]
    }
   ],
   "source": [
    "import matplotlib.pyplot as plt\n",
    "import matplotlib\n",
    "\n",
    "%matplotlib tk\n",
    "%autosave 180\n",
    "%load_ext autoreload\n",
    "%autoreload 2\n",
    "\n",
    "\n",
    "import numpy as np\n",
    "#%matplotlib inline\n",
    "\n",
    "import os\n",
    "from utils_calcium import ProcessCalcium"
   ]
  },
  {
   "cell_type": "code",
   "execution_count": 25,
   "id": "044f5ae6",
   "metadata": {},
   "outputs": [
    {
     "name": "stdout",
     "output_type": "stream",
     "text": [
      "doc.keys():  dict_keys(['cohort_year', 'dob', 'name', 'sex', 'rec_type', 'session_ids'])\n",
      "Could not find shifts in yaml file ... \n"
     ]
    },
    {
     "name": "stderr",
     "output_type": "stream",
     "text": [
      "  0%|          | 0/9 [00:00<?, ?it/s]"
     ]
    },
    {
     "name": "stdout",
     "output_type": "stream",
     "text": [
      "loading binarization\n"
     ]
    },
    {
     "name": "stderr",
     "output_type": "stream",
     "text": [
      " 11%|█         | 1/9 [00:02<00:23,  2.90s/it]"
     ]
    },
    {
     "name": "stdout",
     "output_type": "stream",
     "text": [
      "loading binarization\n"
     ]
    },
    {
     "name": "stderr",
     "output_type": "stream",
     "text": [
      " 22%|██▏       | 2/9 [00:05<00:19,  2.73s/it]"
     ]
    },
    {
     "name": "stdout",
     "output_type": "stream",
     "text": [
      "loading binarization\n"
     ]
    },
    {
     "name": "stderr",
     "output_type": "stream",
     "text": [
      " 33%|███▎      | 3/9 [00:08<00:17,  2.98s/it]"
     ]
    },
    {
     "name": "stdout",
     "output_type": "stream",
     "text": [
      "loading binarization\n"
     ]
    },
    {
     "name": "stderr",
     "output_type": "stream",
     "text": [
      " 44%|████▍     | 4/9 [00:11<00:14,  2.96s/it]"
     ]
    },
    {
     "name": "stdout",
     "output_type": "stream",
     "text": [
      "loading binarization\n"
     ]
    },
    {
     "name": "stderr",
     "output_type": "stream",
     "text": [
      " 56%|█████▌    | 5/9 [00:15<00:12,  3.10s/it]"
     ]
    },
    {
     "name": "stdout",
     "output_type": "stream",
     "text": [
      "loading binarization\n"
     ]
    },
    {
     "name": "stderr",
     "output_type": "stream",
     "text": [
      " 67%|██████▋   | 6/9 [00:21<00:13,  4.40s/it]"
     ]
    },
    {
     "name": "stdout",
     "output_type": "stream",
     "text": [
      "loading binarization\n"
     ]
    },
    {
     "name": "stderr",
     "output_type": "stream",
     "text": [
      " 78%|███████▊  | 7/9 [00:29<00:10,  5.31s/it]"
     ]
    },
    {
     "name": "stdout",
     "output_type": "stream",
     "text": [
      "loading binarization\n"
     ]
    },
    {
     "name": "stderr",
     "output_type": "stream",
     "text": [
      " 89%|████████▉ | 8/9 [00:40<00:07,  7.30s/it]"
     ]
    },
    {
     "name": "stdout",
     "output_type": "stream",
     "text": [
      "loading binarization\n"
     ]
    },
    {
     "name": "stderr",
     "output_type": "stream",
     "text": [
      "100%|██████████| 9/9 [00:54<00:00,  6.01s/it]\n"
     ]
    }
   ],
   "source": [
    "####################################################\n",
    "################## LOAD DATA #######################\n",
    "####################################################\n",
    "# TODOS:\n",
    "# 1.   load all masks and look at them\n",
    "#      see if we can find the correct cell in each day - see how much drift there is\n",
    "# 2.   load all traces and compute reward triggered averages \n",
    "#     - this should help understand if other cells in the networks are acquiring a relationship with the reward and the ensmeble cells\n",
    "\n",
    "#root_dir = '/media/cat/8TB/donato/andres/master_analysis/'\n",
    "root_dir = '/media/cat/8TB/donato/bmi/'\n",
    "\n",
    "# M1 mice\n",
    "M1 = [\n",
    "    'DON-011733',\n",
    "    'DON-014382',\n",
    "    'DON-014451',\n",
    "    'DON-014575',\n",
    "    'DON-014618',\n",
    "    'DON-015821',\n",
    "    ]\n",
    "\n",
    "# CA3 mice\n",
    "CA3 = [\n",
    "    'DON-012502',\n",
    "    'DON-014266',\n",
    "    'DON-014371',\n",
    "    'DON-015801',\n",
    "]\n",
    "\n",
    "# M1 mice\n",
    "#animal_id = \"DON-011733\"\n",
    "#animal_id = \"DON-014618\"\n",
    "animal_id = 'DON-012502'\n",
    "animal_id = 'DON-014451'\n",
    "\n",
    "# CA3 mice\n",
    "#animal_id = \"DON-014371\"\n",
    "#animal_id = 'DON-015801'\n",
    "\n",
    "#       \n",
    "calcium_object = ProcessCalcium(root_dir,\n",
    "                                animal_id)\n",
    "\n",
    "#\n",
    "calcium_object.load_data()\n",
    "\n",
    "#\n",
    "calcium_object.load_day0_mask()\n",
    "\n",
    "#\n",
    "#c.run_binarization()\n",
    "print (\"DONE\")"
   ]
  },
  {
   "cell_type": "code",
   "execution_count": 26,
   "id": "b5e3ce40",
   "metadata": {},
   "outputs": [
    {
     "name": "stdout",
     "output_type": "stream",
     "text": [
      "[ 8  9 20 23]\n"
     ]
    }
   ],
   "source": [
    "print (calcium_object.roi_ids)"
   ]
  },
  {
   "cell_type": "code",
   "execution_count": 62,
   "id": "34d997c2",
   "metadata": {},
   "outputs": [
    {
     "name": "stdout",
     "output_type": "stream",
     "text": [
      "# of contours in session contours:  418\n",
      "selected session:  20230330\n",
      "# of contours in session contours:  370\n",
      "# of contours in session contours:  370\n",
      "# of contours in session contours:  418\n",
      "# of contours in session contours:  370\n",
      "# of contours in session contours:  418\n",
      "YDOWN\n",
      "# of contours in session contours:  370\n",
      "# of contours in session contours:  418\n",
      "# of contours in session contours:  370\n",
      "# of contours in session contours:  418\n",
      "YDOWN\n",
      "# of contours in session contours:  370\n",
      "# of contours in session contours:  418\n",
      "animal_id:  DON-014451\n",
      "session_id:  0\n",
      "x_shift:  3\n",
      "y_shift:  -2\n",
      "theta:  0\n",
      "theta_x:  256\n",
      "theta_y:  256\n",
      "scale_factor x:  1\n",
      "scale_factor y:  1\n",
      "Logger:  [['x_shift', 1], ['x_shift', 1], ['y_shift', -1], ['x_shift', 1], ['y_shift', -1]]\n",
      "x_shift:  3\n",
      "y_shift:  -2\n",
      "theta:  0\n",
      "theta_x:  256\n",
      "theta_y:  256\n",
      "scale_factor x:  1\n",
      "scale_factor y:  1\n",
      "# of contours in session contours:  418\n",
      "# of contours in session contours:  370\n"
     ]
    }
   ],
   "source": [
    "###################################\n",
    "from utils_calcium import align_gui_local\n",
    "\n",
    "#\n",
    "calcium_object.session_selected = 1\n",
    "calcium_object.n_cells_show = 150         # of cells to show for session 1\n",
    "calcium_object.dist_nearby_cells = 25   # distance in pixels to look for nearby cells to each ROI <- this helps orient\n",
    "\n",
    "#\n",
    "align_gui_local(calcium_object)\n",
    "\n",
    "\n"
   ]
  },
  {
   "cell_type": "code",
   "execution_count": 63,
   "metadata": {},
   "outputs": [
    {
     "name": "stdout",
     "output_type": "stream",
     "text": [
      "x_shift:  3\n",
      "y_shift:  -2\n",
      "theta:  0\n",
      "theta_x:  256\n",
      "theta_y:  256\n",
      "scale_factor x:  1\n",
      "scale_factor y:  1\n",
      "# of contours in session contours:  418\n",
      "# of contours in session contours:  370\n"
     ]
    }
   ],
   "source": [
    "from utils_calcium import reload_alignment\n",
    "reload_alignment(calcium_object)"
   ]
  },
  {
   "cell_type": "code",
   "execution_count": 20,
   "metadata": {},
   "outputs": [
    {
     "name": "stdout",
     "output_type": "stream",
     "text": [
      "200\n"
     ]
    }
   ],
   "source": [
    "import pickle\n",
    "print (len(calcium_object.master_mask))\n",
    "fname = '/home/cat/master_mask_GUI.pkl'\n",
    "with open(fname, 'wb') as f:\n",
    "    pickle.dump(calcium_object.master_mask, f)\n",
    "\n",
    "fname = '/home/cat/session_mask_GUI.pkl'\n",
    "with open(fname, 'wb') as f:\n",
    "    pickle.dump(calcium_object.session_mask, f)\n",
    "\n",
    "\n",
    "\n"
   ]
  },
  {
   "cell_type": "code",
   "execution_count": 3,
   "id": "1a573101",
   "metadata": {},
   "outputs": [],
   "source": [
    "# ####################################################\n",
    "# ####### VISUALIZE DAY0 AND SESSION N CONTOURS ######\n",
    "# ####################################################\n",
    "\n",
    "# #\n",
    "\n",
    "# c.session_id = 1\n",
    "\n",
    "# #\n",
    "# c.plot_day0_session_n_contours()\n",
    "\n",
    "# #"
   ]
  },
  {
   "cell_type": "code",
   "execution_count": 32,
   "metadata": {},
   "outputs": [
    {
     "name": "stdout",
     "output_type": "stream",
     "text": [
      "(537, 90000)\n"
     ]
    }
   ],
   "source": [
    "\n",
    "d = np.load('/media/cat/8TB/donato/bmi/DON-014618/20230504/plane0/merged/F.npy')\n",
    "\n",
    "print (d.shape)\n",
    "\n",
    "plt.figure()\n",
    "\n",
    "for k in range(10):\n",
    "    plt.plot(d[k]+2000*k)\n",
    "\n",
    "plt.show()\n"
   ]
  },
  {
   "cell_type": "code",
   "execution_count": null,
   "metadata": {},
   "outputs": [],
   "source": []
  },
  {
   "cell_type": "code",
   "execution_count": null,
   "id": "e99976a9",
   "metadata": {},
   "outputs": [],
   "source": []
  },
  {
   "cell_type": "code",
   "execution_count": null,
   "id": "382188ed",
   "metadata": {},
   "outputs": [],
   "source": []
  },
  {
   "cell_type": "code",
   "execution_count": null,
   "id": "2e291d36",
   "metadata": {},
   "outputs": [],
   "source": []
  }
 ],
 "metadata": {
  "kernelspec": {
   "display_name": "Python 3 (ipykernel)",
   "language": "python",
   "name": "python3"
  },
  "language_info": {
   "codemirror_mode": {
    "name": "ipython",
    "version": 3
   },
   "file_extension": ".py",
   "mimetype": "text/x-python",
   "name": "python",
   "nbconvert_exporter": "python",
   "pygments_lexer": "ipython3",
   "version": "3.8.18"
  },
  "toc-autonumbering": false,
  "toc-showcode": true
 },
 "nbformat": 4,
 "nbformat_minor": 5
}
