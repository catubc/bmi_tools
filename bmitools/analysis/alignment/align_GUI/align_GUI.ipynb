{
 "cells": [
  {
   "cell_type": "code",
   "execution_count": 1,
   "id": "aff08ce5",
   "metadata": {},
   "outputs": [
    {
     "data": {
      "application/javascript": "IPython.notebook.set_autosave_interval(180000)"
     },
     "metadata": {},
     "output_type": "display_data"
    },
    {
     "name": "stdout",
     "output_type": "stream",
     "text": [
      "Autosaving every 180 seconds\n"
     ]
    },
    {
     "name": "stderr",
     "output_type": "stream",
     "text": [
      "/home/cat/.conda/envs/bmitools/lib/python3.8/site-packages/tqdm/auto.py:21: TqdmWarning: IProgress not found. Please update jupyter and ipywidgets. See https://ipywidgets.readthedocs.io/en/stable/user_install.html\n",
      "  from .autonotebook import tqdm as notebook_tqdm\n"
     ]
    },
    {
     "name": "stdout",
     "output_type": "stream",
     "text": [
      "Importing the dtw module. When using in academic works please cite:\n",
      "  T. Giorgino. Computing and Visualizing Dynamic Time Warping Alignments in R: The dtw Package.\n",
      "  J. Stat. Soft., doi:10.18637/jss.v031.i07.\n",
      "\n"
     ]
    }
   ],
   "source": [
    "import matplotlib.pyplot as plt\n",
    "import matplotlib\n",
    "\n",
    "%matplotlib tk\n",
    "%autosave 180\n",
    "%load_ext autoreload\n",
    "%autoreload 2\n",
    "\n",
    "\n",
    "import numpy as np\n",
    "#%matplotlib inline\n",
    "\n",
    "import os\n",
    "from utils_calcium import ProcessCalcium"
   ]
  },
  {
   "cell_type": "code",
   "execution_count": 2,
   "id": "044f5ae6",
   "metadata": {},
   "outputs": [
    {
     "name": "stdout",
     "output_type": "stream",
     "text": [
      "doc.keys():  dict_keys(['cohort_year', 'anatomy', 'dob', 'name', 'session_ids', 'sex'])\n",
      "Could not find shifts in yaml file ... \n"
     ]
    },
    {
     "name": "stderr",
     "output_type": "stream",
     "text": [
      " 50%|█████     | 1/2 [00:01<00:01,  1.37s/it]"
     ]
    },
    {
     "name": "stdout",
     "output_type": "stream",
     "text": [
      "loading binarization\n",
      "loading binarization\n"
     ]
    },
    {
     "name": "stderr",
     "output_type": "stream",
     "text": [
      "100%|██████████| 2/2 [00:03<00:00,  1.85s/it]\n"
     ]
    }
   ],
   "source": [
    "####################################################\n",
    "################## LOAD DATA #######################\n",
    "####################################################\n",
    "# TODOS:\n",
    "# 1.   load all masks and look at them\n",
    "#      see if we can find the correct cell in each day - see how much drift there is\n",
    "# 2.   load all traces and compute reward triggered averages \n",
    "#     - this should help understand if other cells in the networks are acquiring a relationship with the reward and the ensmeble cells\n",
    "\n",
    "#root_dir = '/media/cat/8TB/donato/andres/master_analysis/'\n",
    "root_dir = '/media/cat/8TB/donato/bmi/'\n",
    "\n",
    "# M1 mice\n",
    "M1 = [\n",
    "    'DON-011733',\n",
    "    'DON-014382',\n",
    "    'DON-014451',\n",
    "    'DON-014575',\n",
    "    'DON-014618',\n",
    "    'DON-015821',\n",
    "    ]\n",
    "\n",
    "# CA3 mice\n",
    "CA3 = [\n",
    "    'DON-012502',\n",
    "    'DON-014266',\n",
    "    'DON-014371',\n",
    "    'DON-015801',\n",
    "]\n",
    "\n",
    "# M1\n",
    "animal_id = 'DON-011733'\n",
    "\n",
    "\n",
    "# CA3\n",
    "animal_id = 'DON-014266'\n",
    "animal_id = 'DON-014618'\n",
    "\n",
    "#       \n",
    "calcium_object = ProcessCalcium(root_dir,\n",
    "                                animal_id)\n",
    "\n",
    "#\n",
    "calcium_object.load_data()\n",
    "\n",
    "#\n",
    "calcium_object.load_day0_mask()\n",
    "\n",
    "#\n",
    "#c.run_binarization()"
   ]
  },
  {
   "cell_type": "code",
   "execution_count": 13,
   "id": "34d997c2",
   "metadata": {},
   "outputs": [
    {
     "name": "stdout",
     "output_type": "stream",
     "text": [
      "selected session:  20230505\n",
      "YDOWN\n",
      "YDOWN\n",
      "YDOWN\n",
      "animal_id:  DON-014618\n",
      "session_id:  0\n",
      "x_shift:  6\n",
      "y_shift:  5\n",
      "theta:  -0.6\n",
      "theta_x:  256\n",
      "theta_y:  256\n",
      "scale_factor x:  1.0097980101000001\n",
      "scale_factor y:  1.030301\n",
      "Logger:  [['scale_x', 1.01], ['scale_x', 1.01], ['y_shift', 1], ['y_shift', 1], ['y_shift', 1], ['y_shift', 1], ['y_shift', 1], ['y_shift', 1], ['y_shift', 1], ['y_shift', 1], ['x_shift', 1], ['x_shift', 1], ['x_shift', 1], ['x_shift', 1], ['scale_y', 1.01], ['scale_y', 1.01], ['scale_y', 1.01], ['x_shift', 1], ['x_shift', 1], ['y_shift', -1], ['x_shift', -1], ['theta', -0.1], ['theta', -0.1], ['theta', -0.1], ['theta', -0.1], ['theta', -0.1], ['theta', -0.1], ['x_shift', 1], ['x_shift', 1], ['scale_x', 0.99], ['scale_x', 0.99], ['y_shift', -1], ['y_shift', -1], ['x_shift', -1], ['x_shift', -1], ['x_shift', -1], ['x_shift', -1], ['scale_x', 1.01], ['x_shift', 1], ['x_shift', 1], ['x_shift', 1]]\n",
      "x_shift:  6\n",
      "y_shift:  5\n",
      "theta:  -0.6\n",
      "theta_x:  256\n",
      "theta_y:  256\n",
      "scale_factor x:  1.0097980101000001\n",
      "scale_factor y:  1.030301\n"
     ]
    }
   ],
   "source": [
    "###################################\n",
    "from utils_calcium import align_gui_local\n",
    "\n",
    "#\n",
    "calcium_object.session_selected = 1\n",
    "calcium_object.n_cells_show = 200        # of cells to show for the GUI\n",
    "\n",
    "#\n",
    "align_gui_local(calcium_object)\n",
    "\n",
    "\n"
   ]
  },
  {
   "cell_type": "code",
   "execution_count": 22,
   "metadata": {},
   "outputs": [
    {
     "name": "stdout",
     "output_type": "stream",
     "text": [
      "x_shift:  6\n",
      "y_shift:  5\n",
      "theta:  -0.6\n",
      "theta_x:  256\n",
      "theta_y:  256\n",
      "scale_factor x:  1.0097980101000001\n",
      "scale_factor y:  1.030301\n",
      "# of contours in session contours:  203\n",
      "first cell coords:  [[267 215]\n",
      " [266 216]\n",
      " [266 217]\n",
      " [265 218]\n",
      " [265 219]\n",
      " [264 220]\n",
      " [263 221]\n",
      " [263 222]\n",
      " [263 223]\n",
      " [263 224]\n",
      " [263 225]\n",
      " [263 226]\n",
      " [264 227]\n",
      " [264 228]\n",
      " [265 229]\n",
      " [266 230]\n",
      " [267 231]\n",
      " [268 232]\n",
      " [269 233]\n",
      " [270 234]\n",
      " [271 235]\n",
      " [272 236]\n",
      " [273 237]\n",
      " [274 238]\n",
      " [275 238]\n",
      " [276 239]\n",
      " [277 240]\n",
      " [278 240]\n",
      " [279 239]\n",
      " [280 238]\n",
      " [281 237]\n",
      " [281 236]\n",
      " [282 235]\n",
      " [282 234]\n",
      " [282 233]\n",
      " [282 232]\n",
      " [283 231]\n",
      " [283 230]\n",
      " [283 229]\n",
      " [284 228]\n",
      " [284 227]\n",
      " [284 226]\n",
      " [284 225]\n",
      " [283 224]\n",
      " [283 223]\n",
      " [282 222]\n",
      " [281 221]\n",
      " [280 221]\n",
      " [279 220]\n",
      " [278 220]\n",
      " [277 220]\n",
      " [276 219]\n",
      " [275 219]\n",
      " [274 219]\n",
      " [273 218]\n",
      " [272 217]\n",
      " [271 217]\n",
      " [270 216]\n",
      " [269 216]\n",
      " [268 215]\n",
      " [267 215]]\n",
      "# of contours in session contours:  332\n",
      "first cell coords:  [[227 233]\n",
      " [226 234]\n",
      " [225 234]\n",
      " [224 235]\n",
      " [223 236]\n",
      " [223 237]\n",
      " [222 238]\n",
      " [222 239]\n",
      " [222 240]\n",
      " [222 241]\n",
      " [223 242]\n",
      " [224 243]\n",
      " [225 244]\n",
      " [226 245]\n",
      " [227 246]\n",
      " [227 247]\n",
      " [228 247]\n",
      " [229 248]\n",
      " [230 248]\n",
      " [231 249]\n",
      " [232 249]\n",
      " [233 249]\n",
      " [234 249]\n",
      " [235 248]\n",
      " [235 247]\n",
      " [236 246]\n",
      " [237 245]\n",
      " [237 244]\n",
      " [237 243]\n",
      " [237 242]\n",
      " [237 241]\n",
      " [237 240]\n",
      " [237 239]\n",
      " [236 238]\n",
      " [236 237]\n",
      " [236 236]\n",
      " [236 235]\n",
      " [235 234]\n",
      " [234 234]\n",
      " [233 233]\n",
      " [232 233]\n",
      " [231 233]\n",
      " [230 233]\n",
      " [229 233]\n",
      " [228 233]\n",
      " [227 233]]\n"
     ]
    }
   ],
   "source": [
    "from utils_calcium import reload_alignment\n",
    "reload_alignment(calcium_object)"
   ]
  },
  {
   "cell_type": "code",
   "execution_count": 20,
   "metadata": {},
   "outputs": [
    {
     "name": "stdout",
     "output_type": "stream",
     "text": [
      "200\n"
     ]
    }
   ],
   "source": [
    "import pickle\n",
    "print (len(calcium_object.master_mask))\n",
    "fname = '/home/cat/master_mask_GUI.pkl'\n",
    "with open(fname, 'wb') as f:\n",
    "    pickle.dump(calcium_object.master_mask, f)\n",
    "\n",
    "fname = '/home/cat/session_mask_GUI.pkl'\n",
    "with open(fname, 'wb') as f:\n",
    "    pickle.dump(calcium_object.session_mask, f)\n",
    "\n",
    "\n",
    "\n"
   ]
  },
  {
   "cell_type": "code",
   "execution_count": 3,
   "id": "1a573101",
   "metadata": {},
   "outputs": [],
   "source": [
    "# ####################################################\n",
    "# ####### VISUALIZE DAY0 AND SESSION N CONTOURS ######\n",
    "# ####################################################\n",
    "\n",
    "# #\n",
    "\n",
    "# c.session_id = 1\n",
    "\n",
    "# #\n",
    "# c.plot_day0_session_n_contours()\n",
    "\n",
    "# #"
   ]
  },
  {
   "cell_type": "code",
   "execution_count": 32,
   "metadata": {},
   "outputs": [
    {
     "name": "stdout",
     "output_type": "stream",
     "text": [
      "(537, 90000)\n"
     ]
    }
   ],
   "source": [
    "\n",
    "d = np.load('/media/cat/8TB/donato/bmi/DON-014618/20230504/plane0/merged/F.npy')\n",
    "\n",
    "print (d.shape)\n",
    "\n",
    "plt.figure()\n",
    "\n",
    "for k in range(10):\n",
    "    plt.plot(d[k]+2000*k)\n",
    "\n",
    "plt.show()\n"
   ]
  },
  {
   "cell_type": "code",
   "execution_count": null,
   "metadata": {},
   "outputs": [],
   "source": []
  },
  {
   "cell_type": "code",
   "execution_count": null,
   "id": "e99976a9",
   "metadata": {},
   "outputs": [],
   "source": []
  },
  {
   "cell_type": "code",
   "execution_count": null,
   "id": "382188ed",
   "metadata": {},
   "outputs": [],
   "source": []
  },
  {
   "cell_type": "code",
   "execution_count": null,
   "id": "2e291d36",
   "metadata": {},
   "outputs": [],
   "source": []
  }
 ],
 "metadata": {
  "kernelspec": {
   "display_name": "Python 3 (ipykernel)",
   "language": "python",
   "name": "python3"
  },
  "language_info": {
   "codemirror_mode": {
    "name": "ipython",
    "version": 3
   },
   "file_extension": ".py",
   "mimetype": "text/x-python",
   "name": "python",
   "nbconvert_exporter": "python",
   "pygments_lexer": "ipython3",
   "version": "3.8.18"
  },
  "toc-autonumbering": false,
  "toc-showcode": true
 },
 "nbformat": 4,
 "nbformat_minor": 5
}
