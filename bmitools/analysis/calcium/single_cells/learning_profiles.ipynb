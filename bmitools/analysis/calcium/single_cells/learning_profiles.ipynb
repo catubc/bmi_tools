{
 "cells": [
  {
   "cell_type": "code",
   "execution_count": 2,
   "id": "aff08ce5",
   "metadata": {},
   "outputs": [
    {
     "data": {
      "application/javascript": "IPython.notebook.set_autosave_interval(180000)"
     },
     "metadata": {},
     "output_type": "display_data"
    },
    {
     "name": "stdout",
     "output_type": "stream",
     "text": [
      "Autosaving every 180 seconds\n",
      "The autoreload extension is already loaded. To reload it, use:\n",
      "  %reload_ext autoreload\n"
     ]
    },
    {
     "name": "stderr",
     "output_type": "stream",
     "text": [
      "/home/cat/.conda/envs/bmitools/lib/python3.8/site-packages/tqdm/auto.py:21: TqdmWarning: IProgress not found. Please update jupyter and ipywidgets. See https://ipywidgets.readthedocs.io/en/stable/user_install.html\n",
      "  from .autonotebook import tqdm as notebook_tqdm\n"
     ]
    },
    {
     "name": "stdout",
     "output_type": "stream",
     "text": [
      "Importing the dtw module. When using in academic works please cite:\n",
      "  T. Giorgino. Computing and Visualizing Dynamic Time Warping Alignments in R: The dtw Package.\n",
      "  J. Stat. Soft., doi:10.18637/jss.v031.i07.\n",
      "\n"
     ]
    }
   ],
   "source": [
    "import matplotlib.pyplot as plt\n",
    "import matplotlib\n",
    "\n",
    "%matplotlib tk\n",
    "%autosave 180\n",
    "%load_ext autoreload\n",
    "%autoreload 2\n",
    "\n",
    "\n",
    "import numpy as np\n",
    "\n",
    "import os\n",
    "from utils import *\n",
    "\n",
    "import os\n",
    "\n",
    "from utils_calcium import ProcessCalcium, get_reward_triggered_psth, plot_multi_session_psth_imshow, plot_psth, process_populations"
   ]
  },
  {
   "cell_type": "code",
   "execution_count": 3,
   "id": "044f5ae6",
   "metadata": {},
   "outputs": [
    {
     "name": "stdout",
     "output_type": "stream",
     "text": [
      "processing animal_id:  DON-011733\n"
     ]
    },
    {
     "name": "stderr",
     "output_type": "stream",
     "text": [
      "  0%|          | 0/8 [00:00<?, ?it/s]"
     ]
    },
    {
     "name": "stdout",
     "output_type": "stream",
     "text": [
      " ***** USING non-merged binarization\n",
      "remove bad cells:  True\n",
      "...setting 2p parameters...\n"
     ]
    },
    {
     "name": "stderr",
     "output_type": "stream",
     "text": [
      " 12%|█▎        | 1/8 [00:00<00:03,  1.99it/s]"
     ]
    },
    {
     "name": "stdout",
     "output_type": "stream",
     "text": [
      "\n",
      " ***** USING non-merged binarization\n",
      "remove bad cells:  True\n",
      "...setting 2p parameters...\n"
     ]
    },
    {
     "name": "stderr",
     "output_type": "stream",
     "text": [
      " 25%|██▌       | 2/8 [00:01<00:03,  1.96it/s]"
     ]
    },
    {
     "name": "stdout",
     "output_type": "stream",
     "text": [
      "\n",
      " ***** USING non-merged binarization\n",
      "remove bad cells:  True\n",
      "...setting 2p parameters...\n"
     ]
    },
    {
     "name": "stderr",
     "output_type": "stream",
     "text": [
      " 38%|███▊      | 3/8 [00:01<00:02,  1.81it/s]"
     ]
    },
    {
     "name": "stdout",
     "output_type": "stream",
     "text": [
      "\n",
      " ***** USING non-merged binarization\n",
      "remove bad cells:  True\n",
      "...setting 2p parameters...\n"
     ]
    },
    {
     "name": "stderr",
     "output_type": "stream",
     "text": [
      " 50%|█████     | 4/8 [00:02<00:02,  1.62it/s]"
     ]
    },
    {
     "name": "stdout",
     "output_type": "stream",
     "text": [
      "\n",
      " ***** USING non-merged binarization\n",
      "remove bad cells:  True\n",
      "...setting 2p parameters...\n"
     ]
    },
    {
     "name": "stderr",
     "output_type": "stream",
     "text": [
      " 62%|██████▎   | 5/8 [00:03<00:02,  1.35it/s]"
     ]
    },
    {
     "name": "stdout",
     "output_type": "stream",
     "text": [
      "\n",
      " ***** USING non-merged binarization\n",
      "remove bad cells:  True\n",
      "...setting 2p parameters...\n"
     ]
    },
    {
     "name": "stderr",
     "output_type": "stream",
     "text": [
      " 75%|███████▌  | 6/8 [00:04<00:02,  1.01s/it]"
     ]
    },
    {
     "name": "stdout",
     "output_type": "stream",
     "text": [
      "\n",
      " ***** USING non-merged binarization\n",
      "remove bad cells:  True\n",
      "...setting 2p parameters...\n"
     ]
    },
    {
     "name": "stderr",
     "output_type": "stream",
     "text": [
      " 88%|████████▊ | 7/8 [00:06<00:01,  1.14s/it]"
     ]
    },
    {
     "name": "stdout",
     "output_type": "stream",
     "text": [
      "\n",
      " ***** USING non-merged binarization\n",
      "remove bad cells:  True\n",
      "...setting 2p parameters...\n"
     ]
    },
    {
     "name": "stderr",
     "output_type": "stream",
     "text": [
      "100%|██████████| 8/8 [00:07<00:00,  1.09it/s]\n"
     ]
    },
    {
     "name": "stdout",
     "output_type": "stream",
     "text": [
      "\n",
      "processing session:  20230303\n",
      "processing session:  20230304\n",
      "processing session:  20230305\n",
      "processing session:  20230306\n",
      "processing session:  20230307\n",
      "processing session:  20230308\n",
      "processing session:  20230309\n",
      "...done...\n"
     ]
    },
    {
     "name": "stderr",
     "output_type": "stream",
     "text": [
      "100%|██████████| 8/8 [00:00<00:00, 64.49it/s]\n"
     ]
    },
    {
     "name": "stdout",
     "output_type": "stream",
     "text": [
      "....DONE...\n"
     ]
    }
   ],
   "source": [
    "####################################################\n",
    "################## LOAD DATA #######################\n",
    "####################################################\n",
    "root_dir = '/media/cat/8TB/donato/bmi/'\n",
    "\n",
    "animal_ids = [\n",
    "    # #M1 mice\n",
    "    \"DON-011733\",    # M1    - Processed\n",
    "    # 'DON-014382',    # M1    - Processed\n",
    "    #  'DON-014451',    # M1    - Processed\n",
    "    #  'DON-014575',    # M1    - Processed\n",
    "    #  \"DON-014618\",    # M1    - Processed\n",
    "    #  'DON-015821',    # M1    - Processed\n",
    "    #  'DON-017923',   # M1    - Not Processed <has extra days at the end....\n",
    "    #  'DON-018129',   # M1    - Not Processed\n",
    "    #  'DON-018130',   # M1    - Not Processed\n",
    "\n",
    "    # # #CA3 mice\n",
    "    # \"DON-012502\",    # CA3    - spreadsheet is old - need reprocessing; ALSO Weird performance, may exclude\n",
    "    # \"DON-014266\",    # CA3   - Processed\n",
    "    # 'DON-014371',    # CA3   - Processed\n",
    "    # 'DON-015801',    # CA3   - Processed\n",
    "    # 'DON-016658',    # CA3   - Processed\n",
    "    # \"DON-019683\"\n",
    "\n",
    "]\n",
    "\n",
    "# #\n",
    "for animal_id in animal_ids:\n",
    "\n",
    "    # \n",
    "    print (\"processing animal_id: \", animal_id)\n",
    "\n",
    "    #       \n",
    "    c = ProcessCalcium(root_dir,\n",
    "                    animal_id)\n",
    "\n",
    "    #\n",
    "    c.remove_bad_cells = False\n",
    "    c.use_non_merged = True\n",
    "\n",
    "    #\n",
    "    c.recompute_binarization = False  # IF TRue: must input correct params from bin notebooks\n",
    "    c.dff_min = 0.05                  # min %DFF for [ca] burst to considered a spike (default 5%) overwrites percentile threshold parameter\n",
    "    c.percentile_threshold = 0.99   # this is pretty fixed, we don't change it; we want [ca] bursts that are well outside the \"physics-caused\"noise\n",
    "    c.maximum_std_of_signal = 0.25     # if std of signal is greater than this, then we have a noisy signal and we don't want to binarize it\n",
    "\n",
    "    #\n",
    "    c.save_figures = c.recompute_binarization\n",
    "    c.load_sessions()\n",
    "\n",
    "    #\n",
    "    c.fix_spreadsheet()\n",
    "    c.fix_spreadsheet_missing_vals = True\n",
    "    c.load_spreadsheet_multi()\n",
    "\n",
    "    #\n",
    "    process_populations(c)\n",
    "\n",
    "#\n",
    "print (\"....DONE...\")\n"
   ]
  },
  {
   "cell_type": "code",
   "execution_count": 4,
   "id": "0d1ca6ae",
   "metadata": {},
   "outputs": [
    {
     "name": "stdout",
     "output_type": "stream",
     "text": [
      "processing session:  20230303\n",
      "processing session:  20230304\n",
      "processing session:  20230305\n",
      "processing session:  20230306\n",
      "processing session:  20230307\n",
      "processing session:  20230308\n",
      "processing session:  20230309\n",
      "...done...\n"
     ]
    }
   ],
   "source": [
    "########################################################\n",
    "########################################################\n",
    "########################################################\n",
    "\n",
    "# adds trial information; eventually should also add bursts etc...\n",
    "c.fix_spreadsheet()\n",
    "\n",
    "#\n"
   ]
  },
  {
   "cell_type": "code",
   "execution_count": 5,
   "id": "30319593",
   "metadata": {},
   "outputs": [
    {
     "name": "stdout",
     "output_type": "stream",
     "text": [
      "[20230302, 20230303, 20230304, 20230305, 20230306, 20230307, 20230308, 20230309]\n",
      "['day0', 'bmi1', 'bmi2', 'bmi3', 'bmi4', 'bmi5', 'bmi6', 'bmi7']\n"
     ]
    },
    {
     "name": "stderr",
     "output_type": "stream",
     "text": [
      "  0%|          | 0/8 [00:00<?, ?it/s]"
     ]
    },
    {
     "name": "stderr",
     "output_type": "stream",
     "text": [
      "100%|██████████| 8/8 [00:00<00:00, 52.50it/s]\n"
     ]
    }
   ],
   "source": [
    "########################################################\n",
    "########################################################\n",
    "########################################################\n",
    "# load the ensemble state, trial starts, and trial ends info\n",
    "\n",
    "#c.session_id = 8\n",
    "print (c.session_ids)\n",
    "\n",
    "c.fix_spreadsheet_missing_vals = True\n",
    "\n",
    "#\n",
    "print (c.session_types)\n",
    "c.load_spreadsheet_multi()"
   ]
  },
  {
   "cell_type": "code",
   "execution_count": 89,
   "id": "9c635770",
   "metadata": {},
   "outputs": [],
   "source": [
    "# also save the res array in the same folder\n",
    "#c.load_best_matches()\n",
    "\n"
   ]
  },
  {
   "cell_type": "code",
   "execution_count": 106,
   "id": "86269c4b",
   "metadata": {},
   "outputs": [
    {
     "name": "stdout",
     "output_type": "stream",
     "text": [
      "session:  1  of 7 ,  reward times:  45\n",
      "[ca] matrix:  (301, 90000)\n",
      "session:  2  of 7 ,  reward times:  80\n",
      "[ca] matrix:  (356, 90000)\n",
      "session:  3  of 7 ,  reward times:  33\n",
      "[ca] matrix:  (371, 90000)\n",
      "session:  4  of 7 ,  reward times:  17\n",
      "[ca] matrix:  (415, 90000)\n",
      "session:  5  of 7 ,  reward times:  57\n",
      "[ca] matrix:  (426, 90000)\n",
      "session:  6  of 7 ,  reward times:  132\n",
      "[ca] matrix:  (397, 90000)\n",
      "session:  7  of 7 ,  reward times:  123\n",
      "[ca] matrix:  (313, 90000)\n"
     ]
    }
   ],
   "source": [
    "##############################################################\n",
    "######## COMPUTE REWARD TRIGGERED RESPONSE OF CELLS ##########\n",
    "##############################################################\n"
   ]
  },
  {
   "cell_type": "code",
   "execution_count": 34,
   "id": "9edb365e",
   "metadata": {},
   "outputs": [
    {
     "name": "stderr",
     "output_type": "stream",
     "text": [
      " 33%|███▎      | 5/15 [00:09<00:19,  1.91s/it]/home/cat/.conda/envs/bmitools/lib/python3.8/site-packages/numpy/core/fromnumeric.py:3464: RuntimeWarning: Mean of empty slice.\n",
      "  return _methods._mean(a, axis=axis, dtype=dtype,\n",
      "/home/cat/.conda/envs/bmitools/lib/python3.8/site-packages/numpy/core/_methods.py:184: RuntimeWarning: invalid value encountered in divide\n",
      "  ret = um.true_divide(\n"
     ]
    },
    {
     "name": "stdout",
     "output_type": "stream",
     "text": [
      "/media/cat/8TB/donato/bmi/DON-015821/20230524/results/reward_triggered_psth.npz\n"
     ]
    },
    {
     "name": "stderr",
     "output_type": "stream",
     "text": [
      "100%|██████████| 15/15 [00:17<00:00,  1.19s/it]\n"
     ]
    }
   ],
   "source": [
    "##############################################################\n",
    "from utils_calcium import generate_learning_profiles\n",
    "\n",
    "#\n",
    "M1_groups = [\n",
    "    ['DON-011733', 'DON-014451', 'DON-017923', 'DON-014618'],\n",
    "    ['DON-014575', 'DON-018129', 'DON-018130', 'DON-014382'],\n",
    "    ['DON-015821'],\n",
    "]\n",
    "\n",
    "CA3_groups = [\n",
    "    ['DON-014266', 'DON-014371', 'DON-015801', 'DON-016658', \"DON-019683\"],\n",
    "    ['DON-012502']\n",
    "    ]\n",
    "\n",
    "#\n",
    "norm_percentage = True\n",
    "normalize = False\n",
    "threshold = 0.3\n",
    "group_name = 'M1'  # \"M1\" or \"CA3\"\n",
    "\n",
    "generate_learning_profiles(root_dir, \n",
    "                            animal_ids,\n",
    "                            group_name, \n",
    "                            CA3_groups, \n",
    "                            M1_groups, \n",
    "                            threshold, \n",
    "                            norm_percentage, \n",
    "                            normalize)"
   ]
  },
  {
   "cell_type": "code",
   "execution_count": null,
   "id": "a79a24fd",
   "metadata": {},
   "outputs": [],
   "source": [
    "##############################################################\n",
    "######## COMPUTE REWARD TRIGGERED RESPONSE OF ALL CELLS ######\n",
    "##############################################################\n",
    "# \n",
    "\n",
    "def init_fig():\n",
    "    plt.figure(figsize=(20,12))\n",
    "    axes = []\n",
    "    for k in range(100):\n",
    "        ax=plt.subplot(10,10,k+1)\n",
    "        axes.append(ax) \n",
    "\n",
    "    return axes\n",
    "\n",
    "# \n",
    "window = 300\n",
    "start_cell=0\n",
    "show_random = True\n",
    "idx_cells = None\n",
    "smoothing = True\n",
    "plot_separately = True\n",
    "n_tests = 1\n",
    "\n",
    "#\n",
    "axes = init_fig()\n",
    "\n",
    "#\n",
    "for session_id in [1,8]:\n",
    "\n",
    "    #\n",
    "    psths_avg, psths_shuffled_avg, idx_cells, n_bursts  = get_reward_triggered_psth(session_id, \n",
    "                                                                                    c,\n",
    "                                                                                    window,\n",
    "                                                                                    idx_cells,\n",
    "                                                                                    n_tests)\n",
    "    #\n",
    "    plot_psth(c,\n",
    "              psths_avg,\n",
    "              psths_shuffled_avg,\n",
    "              session_id,\n",
    "              axes,\n",
    "              start_cell,\n",
    "              idx_cells,\n",
    "              show_random,\n",
    "              smoothing,\n",
    "              window\n",
    "            )\n",
    "\n",
    "    #\n",
    "    plt.suptitle(c.animal_id+\" session: \"+str(session_id),fontsize=20)\n",
    "    #\n",
    "    plt.savefig('/home/cat/'+str(start_cell)+\"_session_\"+str(session_id)+'.png',dpi=300)\n",
    "    plt.close()\n",
    "\n",
    "    # reset axes\n",
    "    if plot_separately:\n",
    "        axes = init_fig()\n",
    "plt.close()"
   ]
  },
  {
   "cell_type": "code",
   "execution_count": null,
   "id": "419d62bc",
   "metadata": {},
   "outputs": [],
   "source": [
    "##############################################################\n",
    "######## COMPUTE REWARD TRIGGERED RESPONSE OF ROIs ###########\n",
    "##############################################################\n",
    "# \n",
    "from utils_calcium import plot_psth_rois_only\n",
    "\n",
    "#\n",
    "def init_fig():\n",
    "    plt.figure(figsize=(20,12))\n",
    "    axes = []\n",
    "    for k in range(4):\n",
    "        ax=plt.subplot(2,2,k+1)\n",
    "        axes.append(ax) \n",
    "\n",
    "    return axes\n",
    "\n",
    "# \n",
    "window = 300\n",
    "start_cell=0\n",
    "show_random = True\n",
    "idx_cells = None\n",
    "smoothing = True\n",
    "plot_separately = False\n",
    "n_tests = 1\n",
    "\n",
    "#\n",
    "c.cells_to_plot = None\n",
    "c.plot_rois_only = False\n",
    "c.cells_to_plot = c.best_matches\n",
    "#c.cells_to_plot = np.random.choice(np.arange(c.sessions[0].F_filtered.shape[0]),\n",
    "#                                   4,\n",
    "#                                   replace=False)\n",
    "\n",
    "#\n",
    "print (\"c.cells_to_plot: \", c.cells_to_plot)\n",
    "#\n",
    "axes = init_fig()\n",
    "\n",
    "#\n",
    "for session_id in np.arange(1,9,1):\n",
    "#for session_id in [1]:\n",
    "\n",
    "    #\n",
    "    psths_avg, psths_shuffled_avg, idx_cells, n_bursts  = get_reward_triggered_psth(session_id, \n",
    "                                                                                    c,\n",
    "                                                                                    window,\n",
    "                                                                                    idx_cells,\n",
    "                                                                                    n_tests)\n",
    "    #\n",
    "    # #\n",
    "    # temp2 = psths_avg.copy()\n",
    "\n",
    "    # # add extra rows to the top of the arrays if temp2 rows is < 387\n",
    "    # # THIS IS A TEMPORARY FIX UNTIL RERUN SUITE\n",
    "    # if temp2.shape[0]<387:\n",
    "    #     temp = np.zeros((387-temp2.shape[0],temp2.shape[1]))\n",
    "    #     psths_avg = np.vstack((temp,temp2))\n",
    "    #     psths_shuffled_avg = np.vstack((temp,temp2))\n",
    "\n",
    "    \n",
    "    #\n",
    "    plot_psth_rois_only(c,\n",
    "                        psths_avg,\n",
    "                        psths_shuffled_avg,\n",
    "                        session_id,\n",
    "                        axes,\n",
    "                        start_cell,\n",
    "                        idx_cells,\n",
    "                        show_random,\n",
    "                        smoothing,\n",
    "                        window\n",
    "                        )\n",
    "\n",
    "\n",
    "    # reset axes\n",
    "    if plot_separately:\n",
    "        #\n",
    "        plt.suptitle(c.animal_id+\" session: \"+str(session_id),fontsize=20)\n",
    "        #\n",
    "        plt.savefig('/home/cat/'+str(start_cell)+\"_session_\"+str(session_id)+'.png',dpi=300)\n",
    "        plt.close()\n",
    "\n",
    "        axes = init_fig()\n",
    "\n",
    "#\n",
    "plt.suptitle(c.animal_id+\" session: \"+str(session_id),fontsize=20)\n",
    "\n",
    "#\n",
    "plt.savefig('/home/cat/'+str(start_cell)+\"_session_\"+str(session_id)+'.png',dpi=300)\n",
    "plt.close()\n"
   ]
  },
  {
   "cell_type": "code",
   "execution_count": null,
   "id": "93432d34",
   "metadata": {},
   "outputs": [
    {
     "name": "stdout",
     "output_type": "stream",
     "text": [
      "(712, 90000)\n"
     ]
    }
   ],
   "source": [
    "print (c.sessions[1].F_upphase_bin.shape)"
   ]
  },
  {
   "cell_type": "code",
   "execution_count": null,
   "id": "bd2fb2b1",
   "metadata": {},
   "outputs": [],
   "source": [
    "print (c.rec_type)"
   ]
  },
  {
   "cell_type": "code",
   "execution_count": null,
   "metadata": {},
   "outputs": [],
   "source": []
  },
  {
   "cell_type": "code",
   "execution_count": null,
   "metadata": {},
   "outputs": [],
   "source": []
  },
  {
   "cell_type": "code",
   "execution_count": null,
   "metadata": {},
   "outputs": [],
   "source": []
  },
  {
   "cell_type": "code",
   "execution_count": null,
   "metadata": {},
   "outputs": [],
   "source": []
  },
  {
   "cell_type": "code",
   "execution_count": null,
   "metadata": {},
   "outputs": [],
   "source": []
  },
  {
   "cell_type": "code",
   "execution_count": null,
   "metadata": {},
   "outputs": [],
   "source": []
  },
  {
   "cell_type": "code",
   "execution_count": null,
   "metadata": {},
   "outputs": [],
   "source": []
  },
  {
   "cell_type": "code",
   "execution_count": null,
   "metadata": {},
   "outputs": [],
   "source": []
  },
  {
   "cell_type": "code",
   "execution_count": null,
   "id": "e99976a9",
   "metadata": {},
   "outputs": [],
   "source": []
  },
  {
   "cell_type": "code",
   "execution_count": null,
   "id": "382188ed",
   "metadata": {},
   "outputs": [],
   "source": []
  },
  {
   "cell_type": "code",
   "execution_count": null,
   "id": "2e291d36",
   "metadata": {},
   "outputs": [],
   "source": []
  }
 ],
 "metadata": {
  "kernelspec": {
   "display_name": "Python 3 (ipykernel)",
   "language": "python",
   "name": "python3"
  },
  "language_info": {
   "codemirror_mode": {
    "name": "ipython",
    "version": 3
   },
   "file_extension": ".py",
   "mimetype": "text/x-python",
   "name": "python",
   "nbconvert_exporter": "python",
   "pygments_lexer": "ipython3",
   "version": "3.8.18"
  },
  "toc-autonumbering": false,
  "toc-showcode": true
 },
 "nbformat": 4,
 "nbformat_minor": 5
}
