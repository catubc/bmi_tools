{
 "cells": [
  {
   "cell_type": "code",
   "execution_count": 1,
   "id": "aff08ce5",
   "metadata": {},
   "outputs": [
    {
     "data": {
      "application/javascript": "IPython.notebook.set_autosave_interval(180000)"
     },
     "metadata": {},
     "output_type": "display_data"
    },
    {
     "name": "stdout",
     "output_type": "stream",
     "text": [
      "Autosaving every 180 seconds\n"
     ]
    },
    {
     "name": "stderr",
     "output_type": "stream",
     "text": [
      "/home/cat/.conda/envs/bmitools/lib/python3.8/site-packages/tqdm/auto.py:21: TqdmWarning: IProgress not found. Please update jupyter and ipywidgets. See https://ipywidgets.readthedocs.io/en/stable/user_install.html\n",
      "  from .autonotebook import tqdm as notebook_tqdm\n"
     ]
    },
    {
     "name": "stdout",
     "output_type": "stream",
     "text": [
      "Importing the dtw module. When using in academic works please cite:\n",
      "  T. Giorgino. Computing and Visualizing Dynamic Time Warping Alignments in R: The dtw Package.\n",
      "  J. Stat. Soft., doi:10.18637/jss.v031.i07.\n",
      "\n"
     ]
    }
   ],
   "source": [
    "import matplotlib.pyplot as plt\n",
    "import matplotlib\n",
    "\n",
    "%matplotlib tk\n",
    "%autosave 180\n",
    "%load_ext autoreload\n",
    "%autoreload 2\n",
    "\n",
    "\n",
    "import numpy as np\n",
    "\n",
    "import os\n",
    "from utils import *\n",
    "\n",
    "import os\n",
    "\n",
    "from utils_calcium import ProcessCalcium, get_reward_triggered_psth, plot_multi_session_psth_imshow, plot_psth, process_populations"
   ]
  },
  {
   "cell_type": "code",
   "execution_count": 2,
   "id": "044f5ae6",
   "metadata": {},
   "outputs": [],
   "source": [
    "####################################################\n",
    "################## LOAD DATA #######################\n",
    "####################################################\n",
    "root_dir = '/media/cat/8TB/donato/bmi/'\n",
    "\n",
    "animal_ids = [\n",
    "    # #M1 mice\n",
    "    \"DON-011733\",    # M1    - Processed\n",
    "    'DON-014382',    # M1    - Processed\n",
    "     'DON-014451',    # M1    - Processed\n",
    "     'DON-014575',    # M1    - Processed\n",
    "     \"DON-014618\",    # M1    - Processed\n",
    "     'DON-015821',    # M1    - Processed\n",
    "     'DON-017923',   # M1    - Not Processed <has extra days at the end....\n",
    "     'DON-018129',   # M1    - Not Processed\n",
    "     'DON-018130',   # M1    - Not Processed\n",
    "\n",
    "    # #CA3 mice\n",
    "    \"DON-012502\",    # CA3    - spreadsheet is old - need reprocessing; ALSO Weird performance, may exclude\n",
    "    \"DON-014266\",    # CA3   - Processed\n",
    "    'DON-014371',    # CA3   - Processed\n",
    "    'DON-015801',    # CA3   - Processed\n",
    "    'DON-016658',    # CA3   - Processed\n",
    "    \"DON-019683\"\n",
    "\n",
    "]\n",
    "\n",
    "# #\n",
    "# for animal_id in animal_ids:\n",
    "\n",
    "#     # \n",
    "#     print (\"processing animal_id: \", animal_id)\n",
    "\n",
    "#     #       \n",
    "#     c = ProcessCalcium(root_dir,\n",
    "#                     animal_id)\n",
    "\n",
    "#     #\n",
    "#     c.remove_bad_cells = False\n",
    "#     c.use_non_merged = True\n",
    "\n",
    "#     #\n",
    "#     c.recompute_binarization = False  # IF TRue: must input correct params from bin notebooks\n",
    "#     c.dff_min = 0.05                  # min %DFF for [ca] burst to considered a spike (default 5%) overwrites percentile threshold parameter\n",
    "#     c.percentile_threshold = 0.99   # this is pretty fixed, we don't change it; we want [ca] bursts that are well outside the \"physics-caused\"noise\n",
    "#     c.maximum_std_of_signal = 0.25     # if std of signal is greater than this, then we have a noisy signal and we don't want to binarize it\n",
    "\n",
    "#     #\n",
    "#     c.save_figures = c.recompute_binarization\n",
    "#     c.load_sessions()\n",
    "\n",
    "#     #\n",
    "#     c.fix_spreadsheet()\n",
    "#     c.fix_spreadsheet_missing_vals = True\n",
    "#     c.load_spreadsheet_multi()\n",
    "\n",
    "#     #\n",
    "#     process_populations(c)\n",
    "\n",
    "# #\n",
    "# print (\"....DONE...\")\n"
   ]
  },
  {
   "cell_type": "code",
   "execution_count": 104,
   "id": "0d1ca6ae",
   "metadata": {},
   "outputs": [
    {
     "name": "stdout",
     "output_type": "stream",
     "text": [
      "processing session:  20230303\n",
      "processing session:  20230304\n",
      "processing session:  20230305\n",
      "processing session:  20230306\n",
      "processing session:  20230307\n",
      "processing session:  20230308\n",
      "processing session:  20230309\n",
      "...done...\n"
     ]
    }
   ],
   "source": [
    "########################################################\n",
    "########################################################\n",
    "########################################################\n",
    "\n",
    "# adds trial information; eventually should also add bursts etc...\n",
    "c.fix_spreadsheet()\n",
    "\n",
    "#\n"
   ]
  },
  {
   "cell_type": "code",
   "execution_count": 105,
   "id": "30319593",
   "metadata": {},
   "outputs": [
    {
     "name": "stdout",
     "output_type": "stream",
     "text": [
      "[20230302, 20230303, 20230304, 20230305, 20230306, 20230307, 20230308, 20230309]\n",
      "['day0', 'bmi1', 'bmi2', 'bmi3', 'bmi4', 'bmi5', 'bmi6', 'bmi7']\n"
     ]
    },
    {
     "name": "stderr",
     "output_type": "stream",
     "text": [
      "  0%|          | 0/8 [00:00<?, ?it/s]"
     ]
    },
    {
     "name": "stderr",
     "output_type": "stream",
     "text": [
      "100%|██████████| 8/8 [00:00<00:00, 27.89it/s]\n"
     ]
    }
   ],
   "source": [
    "########################################################\n",
    "########################################################\n",
    "########################################################\n",
    "# load the ensemble state, trial starts, and trial ends info\n",
    "\n",
    "#c.session_id = 8\n",
    "print (c.session_ids)\n",
    "\n",
    "c.fix_spreadsheet_missing_vals = True\n",
    "\n",
    "#\n",
    "print (c.session_types)\n",
    "c.load_spreadsheet_multi()"
   ]
  },
  {
   "cell_type": "code",
   "execution_count": 89,
   "id": "9c635770",
   "metadata": {},
   "outputs": [],
   "source": [
    "# also save the res array in the same folder\n",
    "#c.load_best_matches()\n",
    "\n"
   ]
  },
  {
   "cell_type": "code",
   "execution_count": 106,
   "id": "86269c4b",
   "metadata": {},
   "outputs": [
    {
     "name": "stdout",
     "output_type": "stream",
     "text": [
      "session:  1  of 7 ,  reward times:  45\n",
      "[ca] matrix:  (301, 90000)\n",
      "session:  2  of 7 ,  reward times:  80\n",
      "[ca] matrix:  (356, 90000)\n",
      "session:  3  of 7 ,  reward times:  33\n",
      "[ca] matrix:  (371, 90000)\n",
      "session:  4  of 7 ,  reward times:  17\n",
      "[ca] matrix:  (415, 90000)\n",
      "session:  5  of 7 ,  reward times:  57\n",
      "[ca] matrix:  (426, 90000)\n",
      "session:  6  of 7 ,  reward times:  132\n",
      "[ca] matrix:  (397, 90000)\n",
      "session:  7  of 7 ,  reward times:  123\n",
      "[ca] matrix:  (313, 90000)\n"
     ]
    }
   ],
   "source": [
    "##############################################################\n",
    "######## COMPUTE REWARD TRIGGERED RESPONSE OF CELLS ##########\n",
    "##############################################################\n"
   ]
  },
  {
   "cell_type": "code",
   "execution_count": 34,
   "id": "9edb365e",
   "metadata": {},
   "outputs": [
    {
     "name": "stderr",
     "output_type": "stream",
     "text": [
      " 33%|███▎      | 5/15 [00:09<00:19,  1.91s/it]/home/cat/.conda/envs/bmitools/lib/python3.8/site-packages/numpy/core/fromnumeric.py:3464: RuntimeWarning: Mean of empty slice.\n",
      "  return _methods._mean(a, axis=axis, dtype=dtype,\n",
      "/home/cat/.conda/envs/bmitools/lib/python3.8/site-packages/numpy/core/_methods.py:184: RuntimeWarning: invalid value encountered in divide\n",
      "  ret = um.true_divide(\n"
     ]
    },
    {
     "name": "stdout",
     "output_type": "stream",
     "text": [
      "/media/cat/8TB/donato/bmi/DON-015821/20230524/results/reward_triggered_psth.npz\n"
     ]
    },
    {
     "name": "stderr",
     "output_type": "stream",
     "text": [
      "100%|██████████| 15/15 [00:17<00:00,  1.19s/it]\n"
     ]
    }
   ],
   "source": [
    "##############################################################\n",
    "from utils_calcium import generate_learning_profiles\n",
    "\n",
    "#\n",
    "M1_groups = [\n",
    "    ['DON-011733', 'DON-014451', 'DON-017923', 'DON-014618'],\n",
    "    ['DON-014575', 'DON-018129', 'DON-018130', 'DON-014382'],\n",
    "    ['DON-015821'],\n",
    "]\n",
    "\n",
    "CA3_groups = [\n",
    "    ['DON-014266', 'DON-014371', 'DON-015801', 'DON-016658', \"DON-019683\"],\n",
    "    ['DON-012502']\n",
    "    ]\n",
    "\n",
    "#\n",
    "norm_percentage = True\n",
    "normalize = False\n",
    "threshold = 0.3\n",
    "group_name = 'M1'  # \"M1\" or \"CA3\"\n",
    "\n",
    "generate_learning_profiles(root_dir, \n",
    "                            animal_ids,\n",
    "                            group_name, \n",
    "                            CA3_groups, \n",
    "                            M1_groups, \n",
    "                            threshold, \n",
    "                            norm_percentage, \n",
    "                            normalize)"
   ]
  },
  {
   "cell_type": "code",
   "execution_count": null,
   "metadata": {},
   "outputs": [],
   "source": [
    "##############################################################\n",
    "######## COMPUTE REWARD TRIGGERED RESPONSE OF ALL CELLS ######\n",
    "##############################################################\n",
    "# \n",
    "\n",
    "def init_fig():\n",
    "    plt.figure(figsize=(20,12))\n",
    "    axes = []\n",
    "    for k in range(100):\n",
    "        ax=plt.subplot(10,10,k+1)\n",
    "        axes.append(ax) \n",
    "\n",
    "    return axes\n",
    "\n",
    "# \n",
    "window = 300\n",
    "start_cell=0\n",
    "show_random = True\n",
    "idx_cells = None\n",
    "smoothing = True\n",
    "plot_separately = True\n",
    "n_tests = 1\n",
    "\n",
    "#\n",
    "axes = init_fig()\n",
    "\n",
    "#\n",
    "for session_id in [1,8]:\n",
    "\n",
    "    #\n",
    "    psths_avg, psths_shuffled_avg, idx_cells, n_bursts  = get_reward_triggered_psth(session_id, \n",
    "                                                                                    c,\n",
    "                                                                                    window,\n",
    "                                                                                    idx_cells,\n",
    "                                                                                    n_tests)\n",
    "    #\n",
    "    plot_psth(c,\n",
    "              psths_avg,\n",
    "              psths_shuffled_avg,\n",
    "              session_id,\n",
    "              axes,\n",
    "              start_cell,\n",
    "              idx_cells,\n",
    "              show_random,\n",
    "              smoothing,\n",
    "              window\n",
    "            )\n",
    "\n",
    "    #\n",
    "    plt.suptitle(c.animal_id+\" session: \"+str(session_id),fontsize=20)\n",
    "    #\n",
    "    plt.savefig('/home/cat/'+str(start_cell)+\"_session_\"+str(session_id)+'.png',dpi=300)\n",
    "    plt.close()\n",
    "\n",
    "    # reset axes\n",
    "    if plot_separately:\n",
    "        axes = init_fig()\n",
    "plt.close()"
   ]
  },
  {
   "cell_type": "code",
   "execution_count": null,
   "id": "419d62bc",
   "metadata": {},
   "outputs": [],
   "source": [
    "##############################################################\n",
    "######## COMPUTE REWARD TRIGGERED RESPONSE OF ROIs ###########\n",
    "##############################################################\n",
    "# \n",
    "from utils_calcium import plot_psth_rois_only\n",
    "\n",
    "#\n",
    "def init_fig():\n",
    "    plt.figure(figsize=(20,12))\n",
    "    axes = []\n",
    "    for k in range(4):\n",
    "        ax=plt.subplot(2,2,k+1)\n",
    "        axes.append(ax) \n",
    "\n",
    "    return axes\n",
    "\n",
    "# \n",
    "window = 300\n",
    "start_cell=0\n",
    "show_random = True\n",
    "idx_cells = None\n",
    "smoothing = True\n",
    "plot_separately = False\n",
    "n_tests = 1\n",
    "\n",
    "#\n",
    "c.cells_to_plot = None\n",
    "c.plot_rois_only = False\n",
    "c.cells_to_plot = c.best_matches\n",
    "#c.cells_to_plot = np.random.choice(np.arange(c.sessions[0].F_filtered.shape[0]),\n",
    "#                                   4,\n",
    "#                                   replace=False)\n",
    "\n",
    "#\n",
    "print (\"c.cells_to_plot: \", c.cells_to_plot)\n",
    "#\n",
    "axes = init_fig()\n",
    "\n",
    "#\n",
    "for session_id in np.arange(1,9,1):\n",
    "#for session_id in [1]:\n",
    "\n",
    "    #\n",
    "    psths_avg, psths_shuffled_avg, idx_cells, n_bursts  = get_reward_triggered_psth(session_id, \n",
    "                                                                                    c,\n",
    "                                                                                    window,\n",
    "                                                                                    idx_cells,\n",
    "                                                                                    n_tests)\n",
    "    #\n",
    "    # #\n",
    "    # temp2 = psths_avg.copy()\n",
    "\n",
    "    # # add extra rows to the top of the arrays if temp2 rows is < 387\n",
    "    # # THIS IS A TEMPORARY FIX UNTIL RERUN SUITE\n",
    "    # if temp2.shape[0]<387:\n",
    "    #     temp = np.zeros((387-temp2.shape[0],temp2.shape[1]))\n",
    "    #     psths_avg = np.vstack((temp,temp2))\n",
    "    #     psths_shuffled_avg = np.vstack((temp,temp2))\n",
    "\n",
    "    \n",
    "    #\n",
    "    plot_psth_rois_only(c,\n",
    "                        psths_avg,\n",
    "                        psths_shuffled_avg,\n",
    "                        session_id,\n",
    "                        axes,\n",
    "                        start_cell,\n",
    "                        idx_cells,\n",
    "                        show_random,\n",
    "                        smoothing,\n",
    "                        window\n",
    "                        )\n",
    "\n",
    "\n",
    "    # reset axes\n",
    "    if plot_separately:\n",
    "        #\n",
    "        plt.suptitle(c.animal_id+\" session: \"+str(session_id),fontsize=20)\n",
    "        #\n",
    "        plt.savefig('/home/cat/'+str(start_cell)+\"_session_\"+str(session_id)+'.png',dpi=300)\n",
    "        plt.close()\n",
    "\n",
    "        axes = init_fig()\n",
    "\n",
    "#\n",
    "plt.suptitle(c.animal_id+\" session: \"+str(session_id),fontsize=20)\n",
    "\n",
    "#\n",
    "plt.savefig('/home/cat/'+str(start_cell)+\"_session_\"+str(session_id)+'.png',dpi=300)\n",
    "plt.close()\n"
   ]
  },
  {
   "cell_type": "code",
   "execution_count": null,
   "id": "93432d34",
   "metadata": {},
   "outputs": [
    {
     "name": "stdout",
     "output_type": "stream",
     "text": [
      "(712, 90000)\n"
     ]
    }
   ],
   "source": [
    "print (c.sessions[1].F_upphase_bin.shape)"
   ]
  },
  {
   "cell_type": "code",
   "execution_count": null,
   "metadata": {},
   "outputs": [],
   "source": [
    "print (c.rec_type)"
   ]
  },
  {
   "cell_type": "code",
   "execution_count": null,
   "metadata": {},
   "outputs": [],
   "source": []
  },
  {
   "cell_type": "code",
   "execution_count": null,
   "metadata": {},
   "outputs": [],
   "source": []
  },
  {
   "cell_type": "code",
   "execution_count": null,
   "metadata": {},
   "outputs": [],
   "source": []
  },
  {
   "cell_type": "code",
   "execution_count": null,
   "metadata": {},
   "outputs": [],
   "source": []
  },
  {
   "cell_type": "code",
   "execution_count": null,
   "metadata": {},
   "outputs": [],
   "source": []
  },
  {
   "cell_type": "code",
   "execution_count": null,
   "metadata": {},
   "outputs": [],
   "source": []
  },
  {
   "cell_type": "code",
   "execution_count": null,
   "metadata": {},
   "outputs": [],
   "source": []
  },
  {
   "cell_type": "code",
   "execution_count": null,
   "metadata": {},
   "outputs": [],
   "source": []
  },
  {
   "cell_type": "code",
   "execution_count": null,
   "id": "572f0a29",
   "metadata": {},
   "outputs": [
    {
     "name": "stderr",
     "output_type": "stream",
     "text": [
      "low pass filter: 100%|██████████| 1/1 [00:00<00:00, 531.80it/s]\n",
      "model filter: remove bleaching or trends: 100%|██████████| 1/1 [00:00<00:00, 528.05it/s]\n",
      "fitting mode to physics:   0%|          | 0/1 [00:00<?, ?it/s]"
     ]
    },
    {
     "name": "stderr",
     "output_type": "stream",
     "text": [
      "/home/cat/.conda/envs/bmi/lib/python3.8/site-packages/binarize2pcalcium/binarize2pcalcium.py:4026: FutureWarning: Unlike other reduction functions (e.g. `skew`, `kurtosis`), the default behavior of `mode` typically preserves the axis it acts along. In SciPy 1.11.0, this behavior will change: the default value of `keepdims` will become False, the `axis` over which the statistic is taken will be eliminated, and the value None will no longer be accepted. Set `keepdims` to True or False to avoid this warning.\n",
      "  y_mode = scipy.stats.mode(F_filtered2)[0]\n",
      "fitting mode to physics: 100%|██████████| 1/1 [00:00<00:00, 81.99it/s]\n"
     ]
    },
    {
     "name": "stdout",
     "output_type": "stream",
     "text": [
      "cumsum:  [4.63649033e-15 9.27561305e-15 1.39173696e-14 ... 1.00000000e+00\n",
      " 1.00000000e+00 1.00000000e+00]\n"
     ]
    },
    {
     "name": "stderr",
     "output_type": "stream",
     "text": [
      "binarizing continuous traces filtered fluorescence onphase: 100%|██████████| 1/1 [00:00<00:00, 79.64it/s]\n",
      "binarizing continuous traces filtered fluorescence upphase: 100%|██████████| 1/1 [00:00<00:00, 74.52it/s]\n",
      "low pass filter: 100%|██████████| 1/1 [00:00<00:00, 560.59it/s]\n",
      "model filter: remove bleaching or trends: 100%|██████████| 1/1 [00:00<00:00, 561.79it/s]\n",
      "fitting mode to physics: 100%|██████████| 1/1 [00:00<00:00, 76.03it/s]\n"
     ]
    },
    {
     "name": "stdout",
     "output_type": "stream",
     "text": [
      "cumsum:  [5.01316877e-10 1.00276836e-09 1.50435447e-09 ... 1.00000000e+00\n",
      " 1.00000000e+00 1.00000000e+00]\n"
     ]
    },
    {
     "name": "stderr",
     "output_type": "stream",
     "text": [
      "binarizing continuous traces filtered fluorescence onphase: 100%|██████████| 1/1 [00:00<00:00, 61.34it/s]\n",
      "binarizing continuous traces filtered fluorescence upphase: 100%|██████████| 1/1 [00:00<00:00, 51.25it/s]\n",
      "low pass filter: 100%|██████████| 1/1 [00:00<00:00, 592.58it/s]\n",
      "model filter: remove bleaching or trends: 100%|██████████| 1/1 [00:00<00:00, 561.79it/s]\n",
      "fitting mode to physics: 100%|██████████| 1/1 [00:00<00:00, 80.49it/s]\n"
     ]
    },
    {
     "name": "stdout",
     "output_type": "stream",
     "text": [
      "cumsum:  [2.27001954e-13 4.54110149e-13 6.81324632e-13 ... 1.00000000e+00\n",
      " 1.00000000e+00 1.00000000e+00]\n"
     ]
    },
    {
     "name": "stderr",
     "output_type": "stream",
     "text": [
      "binarizing continuous traces filtered fluorescence onphase: 100%|██████████| 1/1 [00:00<00:00, 89.88it/s]\n",
      "binarizing continuous traces filtered fluorescence upphase: 100%|██████████| 1/1 [00:00<00:00, 76.70it/s]\n",
      "low pass filter: 100%|██████████| 1/1 [00:00<00:00, 607.69it/s]\n",
      "model filter: remove bleaching or trends: 100%|██████████| 1/1 [00:00<00:00, 556.42it/s]\n",
      "fitting mode to physics: 100%|██████████| 1/1 [00:00<00:00, 72.33it/s]\n"
     ]
    },
    {
     "name": "stdout",
     "output_type": "stream",
     "text": [
      "cumsum:  [5.99037350e-12 1.19830454e-11 1.79780164e-11 ... 1.00000000e+00\n",
      " 1.00000000e+00 1.00000000e+00]\n"
     ]
    },
    {
     "name": "stderr",
     "output_type": "stream",
     "text": [
      "binarizing continuous traces filtered fluorescence onphase: 100%|██████████| 1/1 [00:00<00:00, 60.19it/s]\n",
      "binarizing continuous traces filtered fluorescence upphase: 100%|██████████| 1/1 [00:00<00:00, 50.29it/s]\n",
      "low pass filter: 100%|██████████| 1/1 [00:00<00:00, 585.31it/s]\n",
      "model filter: remove bleaching or trends: 100%|██████████| 1/1 [00:00<00:00, 555.32it/s]\n",
      "fitting mode to physics: 100%|██████████| 1/1 [00:00<00:00, 68.69it/s]\n"
     ]
    },
    {
     "name": "stdout",
     "output_type": "stream",
     "text": [
      "cumsum:  [3.64828491e-11 7.29779879e-11 1.09485420e-10 ... 1.00000000e+00\n",
      " 1.00000000e+00 1.00000000e+00]\n"
     ]
    },
    {
     "name": "stderr",
     "output_type": "stream",
     "text": [
      "binarizing continuous traces filtered fluorescence onphase: 100%|██████████| 1/1 [00:00<00:00, 61.93it/s]\n",
      "binarizing continuous traces filtered fluorescence upphase: 100%|██████████| 1/1 [00:00<00:00, 53.58it/s]\n",
      "low pass filter: 100%|██████████| 1/1 [00:00<00:00, 623.60it/s]\n",
      "model filter: remove bleaching or trends: 100%|██████████| 1/1 [00:00<00:00, 600.30it/s]\n",
      "fitting mode to physics: 100%|██████████| 1/1 [00:00<00:00, 76.58it/s]\n"
     ]
    },
    {
     "name": "stdout",
     "output_type": "stream",
     "text": [
      "cumsum:  [1.26496650e-17 2.53084175e-17 3.79762638e-17 ... 1.00000000e+00\n",
      " 1.00000000e+00 1.00000000e+00]\n"
     ]
    },
    {
     "name": "stderr",
     "output_type": "stream",
     "text": [
      "binarizing continuous traces filtered fluorescence onphase: 100%|██████████| 1/1 [00:00<00:00, 63.18it/s]\n",
      "binarizing continuous traces filtered fluorescence upphase: 100%|██████████| 1/1 [00:00<00:00, 56.17it/s]\n",
      "low pass filter: 100%|██████████| 1/1 [00:00<00:00, 595.87it/s]\n",
      "model filter: remove bleaching or trends: 100%|██████████| 1/1 [00:00<00:00, 520.26it/s]\n",
      "fitting mode to physics: 100%|██████████| 1/1 [00:00<00:00, 66.88it/s]\n"
     ]
    },
    {
     "name": "stdout",
     "output_type": "stream",
     "text": [
      "cumsum:  [4.13738239e-19 8.27809700e-19 1.24221465e-18 ... 1.00000000e+00\n",
      " 1.00000000e+00 1.00000000e+00]\n"
     ]
    },
    {
     "name": "stderr",
     "output_type": "stream",
     "text": [
      "binarizing continuous traces filtered fluorescence onphase: 100%|██████████| 1/1 [00:00<00:00, 53.34it/s]\n",
      "binarizing continuous traces filtered fluorescence upphase: 100%|██████████| 1/1 [00:00<00:00, 40.86it/s]\n"
     ]
    }
   ],
   "source": [
    "#######################################\n",
    "#######################################\n",
    "#######################################\n",
    "\n",
    "# binarize the ensembel state    \n",
    "c.plotting = False\n",
    "c.scale_threshold = 0.05 #                 # we want to decrease the burst detection threshold manually - because the \n",
    "                                            # automatic threshold detection is too conservative \n",
    "c.dff_threshold = 0.1\n",
    "c.percentile_threshold = 0.999\n",
    "\n",
    "#\n",
    "#print (\"TODO: need to add the standaline binairzation code to the binarize2pcalcium package....\")\n",
    "#print (\" This is generally a good idea anyways for doing single time sieres extraction\")\n",
    "\n",
    "# right now only binarizing upphase - if want to do negative phase have to invert the signal\n",
    "c.sample_rate = 30\n",
    "c.binarize_ensemble_state_multi()\n"
   ]
  },
  {
   "cell_type": "code",
   "execution_count": null,
   "metadata": {},
   "outputs": [],
   "source": [
    "#######################################################\n",
    "#######################################################\n",
    "#######################################################\n",
    "\n",
    "plt.figure()\n",
    "t = np.arange(c.sessions[1].e_state.shape[0])/30.\n",
    "\n",
    "# make viridis colormap for line plotting up to 7 sessions\n",
    "cmap = matplotlib.cm.get_cmap('viridis')\n",
    "clrs = cmap(np.linspace(0, 1, 7))\n",
    "\n",
    "#\n",
    "for session_id in range(1,8,1):\n",
    "    temp = c.sessions[session_id].e_state_bin \n",
    "    temp2 = c.sessions[session_id].e_state\n",
    "\n",
    "    plt.plot(t, temp + 2*session_id, \n",
    "             label = \"bmi \"+str(session_id),\n",
    "             c='black',\n",
    "             alpha=.5)\n",
    "    \n",
    "    plt.plot(t, temp2 + 2*session_id, \n",
    "             c=clrs[session_id-1])\n",
    "\n",
    "#\n",
    "plt.xlabel(\"Time (sec)\",fontsize=16)\n",
    "\n",
    "#\n",
    "plt.xlim(0, t[-1])\n",
    "plt.yticks([])\n",
    "\n",
    "#c.sessions[1]\n",
    "plt.legend()\n",
    "\n",
    "#\n",
    "plt.suptitle(\"Ensemble state + Binarization\", fontsize=16)\n",
    "\n",
    "plt.show()\n"
   ]
  },
  {
   "cell_type": "code",
   "execution_count": null,
   "id": "a7ba3175",
   "metadata": {},
   "outputs": [
    {
     "name": "stdout",
     "output_type": "stream",
     "text": [
      "# of snippets:  292  # of detected snippets of sign:  1   292\n",
      "# of bursts:  292  # of rewarded bursts:  46\n",
      "self.update_spreadsheet:  True\n",
      "TO ADD: grab the tones also during the bursts\n"
     ]
    }
   ],
   "source": [
    "#######################################\n",
    "#######################################\n",
    "#######################################\n",
    "\n",
    "#\n",
    "#c.sessions[session_id].thresh = thresh\n",
    "c.overwrite_spreadsheet = True\n",
    "c.plotting = True\n",
    "c.update_spreadsheet = True\n",
    "c.burst_sign = 1         # -1 or +1\n",
    "c.process_snippets()           # processes snippets and adds them to the spreassheet \n",
    "\n",
    "print (\"TO ADD: grab the tones also during the bursts\")\n",
    "\n"
   ]
  },
  {
   "cell_type": "code",
   "execution_count": null,
   "id": "c2267076",
   "metadata": {},
   "outputs": [
    {
     "name": "stdout",
     "output_type": "stream",
     "text": [
      "snippets_warped:  (46, 30)\n"
     ]
    }
   ],
   "source": [
    "###############################################\n",
    "###############################################\n",
    "###############################################\n",
    "\n",
    "#\n",
    "#c.time_warp = False\n",
    "c.plotting = True\n",
    "\n",
    "#c.use_rewarded_bursts_only = False\n",
    "c.get_mean_warped_trace()  # this computes the warp trace regardless"
   ]
  },
  {
   "cell_type": "code",
   "execution_count": null,
   "id": "92d9e7a8",
   "metadata": {},
   "outputs": [],
   "source": [
    "################################################\n",
    "######### VISUALIZE WARPING FUNCITONS ##########\n",
    "################################################\n",
    "\n",
    "#\n",
    "c.use_stretched = True\n",
    "c.plotting = True\n",
    "c.burst_to_threshold_only = True                 # this uses the bursts only to the threshold\n",
    "c.compute_warping_functions()\n"
   ]
  },
  {
   "cell_type": "code",
   "execution_count": null,
   "id": "d68772cd",
   "metadata": {},
   "outputs": [
    {
     "name": "stderr",
     "output_type": "stream",
     "text": [
      "  0%|          | 0/354 [00:00<?, ?it/s]"
     ]
    },
    {
     "name": "stderr",
     "output_type": "stream",
     "text": [
      "100%|██████████| 354/354 [00:17<00:00, 19.67it/s]\n"
     ]
    },
    {
     "name": "stdout",
     "output_type": "stream",
     "text": [
      "burst_raw:  (354, 46, 400)\n",
      "post_burst_raw:  (354, 46, 100)\n",
      "burst_raw_mean:  (354, 400)\n",
      "(46, 200) (46, 30) (46, 100)\n",
      "traces_all:  (354, 46, 330)\n"
     ]
    }
   ],
   "source": [
    "# this plots the best cell responses to bursts\n",
    "c.start_idx = 0\n",
    "c.pre_burst_n_time_pts = 200\n",
    "c.ca_type = 'DFF'\n",
    "\n",
    "# \n",
    "c.plot_warped_cell_ca_trial_and_burst()\n",
    "\n",
    "#"
   ]
  },
  {
   "cell_type": "code",
   "execution_count": null,
   "id": "db098d80",
   "metadata": {},
   "outputs": [
    {
     "name": "stdout",
     "output_type": "stream",
     "text": [
      "n_cells:  263 # rewarsds:  39\n",
      "traces-raw:  (263, 39, 400)\n",
      "traces mean:  (263, 400)\n"
     ]
    }
   ],
   "source": [
    "################################################\n",
    "######### VISUALIZE WARPING FUNCITONS ##########\n",
    "################################################\n",
    "# this plots the best cell responses to bursts\n",
    "c.start_idx = 0\n",
    "c.plot_warped_cell_ca_burst_only()\n",
    "\n",
    "#\n",
    "print (\"SOME TODOS\")\n",
    "print (\" 1. Warp only to the threshold - not the peak of burst\")\n",
    "print (\" 2. compute the rate map for each cell for burst initiation to threshold/end of peak (2 options)\")\n",
    "print (\" 3. compute the rate map for each cell from trial beginning to threshold/end of peak (2 options)\")\n"
   ]
  },
  {
   "cell_type": "code",
   "execution_count": null,
   "id": "0f4ae1a6",
   "metadata": {},
   "outputs": [],
   "source": []
  },
  {
   "cell_type": "code",
   "execution_count": null,
   "id": "da36fbf2",
   "metadata": {},
   "outputs": [],
   "source": []
  },
  {
   "cell_type": "code",
   "execution_count": null,
   "id": "c32fe3f3",
   "metadata": {},
   "outputs": [],
   "source": [
    "# plt.figure()\n",
    "\n",
    "# #\n",
    "# temp = c.bursts.copy().astype(float)\n",
    "# temp[temp ==1000] = np.nan\n",
    "# temp[temp >0] = 1.5\n",
    "# plt.plot(temp,label='burst')\n",
    "# # same but with rewarded bursts\n",
    "# temp = c.bursts_rewarded.copy().astype(float)\n",
    "# temp[temp !=1] = np.nan\n",
    "\n",
    "# plt.plot(temp,label='burst rewarded')\n",
    "\n",
    "# # plot water reward\n",
    "# plt.plot(c.water_reward*1.3,label='water')\n",
    "\n",
    "# #\n",
    "# plt.plot(c.e_state,label='ensemble state')\n",
    "\n",
    "# plt.legend()\n",
    "# plt.show()\n"
   ]
  },
  {
   "cell_type": "code",
   "execution_count": null,
   "id": "138bde45",
   "metadata": {},
   "outputs": [],
   "source": []
  },
  {
   "cell_type": "code",
   "execution_count": null,
   "id": "6d025ea6",
   "metadata": {},
   "outputs": [],
   "source": []
  },
  {
   "cell_type": "code",
   "execution_count": null,
   "id": "023ae69b",
   "metadata": {},
   "outputs": [],
   "source": []
  },
  {
   "cell_type": "code",
   "execution_count": null,
   "id": "c181a8e7",
   "metadata": {},
   "outputs": [],
   "source": []
  },
  {
   "cell_type": "code",
   "execution_count": null,
   "id": "86d1cefa",
   "metadata": {},
   "outputs": [],
   "source": []
  },
  {
   "cell_type": "code",
   "execution_count": null,
   "id": "d99d623e",
   "metadata": {},
   "outputs": [],
   "source": []
  },
  {
   "cell_type": "code",
   "execution_count": null,
   "id": "926f7654",
   "metadata": {},
   "outputs": [],
   "source": []
  },
  {
   "cell_type": "code",
   "execution_count": null,
   "id": "c2b502f6",
   "metadata": {},
   "outputs": [],
   "source": []
  },
  {
   "cell_type": "code",
   "execution_count": null,
   "id": "e99976a9",
   "metadata": {},
   "outputs": [],
   "source": []
  },
  {
   "cell_type": "code",
   "execution_count": null,
   "id": "382188ed",
   "metadata": {},
   "outputs": [],
   "source": []
  },
  {
   "cell_type": "code",
   "execution_count": null,
   "id": "2e291d36",
   "metadata": {},
   "outputs": [],
   "source": []
  }
 ],
 "metadata": {
  "kernelspec": {
   "display_name": "Python 3 (ipykernel)",
   "language": "python",
   "name": "python3"
  },
  "language_info": {
   "codemirror_mode": {
    "name": "ipython",
    "version": 3
   },
   "file_extension": ".py",
   "mimetype": "text/x-python",
   "name": "python",
   "nbconvert_exporter": "python",
   "pygments_lexer": "ipython3",
   "version": "3.8.18"
  },
  "toc-autonumbering": false,
  "toc-showcode": true
 },
 "nbformat": 4,
 "nbformat_minor": 5
}
