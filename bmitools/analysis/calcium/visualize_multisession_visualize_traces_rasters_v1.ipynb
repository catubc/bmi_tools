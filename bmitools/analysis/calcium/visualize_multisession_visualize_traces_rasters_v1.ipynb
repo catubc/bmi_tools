{
 "cells": [
  {
   "cell_type": "code",
   "execution_count": 1,
   "id": "aff08ce5",
   "metadata": {},
   "outputs": [
    {
     "data": {
      "application/javascript": "IPython.notebook.set_autosave_interval(180000)"
     },
     "metadata": {},
     "output_type": "display_data"
    },
    {
     "name": "stdout",
     "output_type": "stream",
     "text": [
      "Autosaving every 180 seconds\n"
     ]
    },
    {
     "name": "stderr",
     "output_type": "stream",
     "text": [
      "/home/cat/.conda/envs/bmitools/lib/python3.8/site-packages/tqdm/auto.py:21: TqdmWarning: IProgress not found. Please update jupyter and ipywidgets. See https://ipywidgets.readthedocs.io/en/stable/user_install.html\n",
      "  from .autonotebook import tqdm as notebook_tqdm\n"
     ]
    },
    {
     "name": "stdout",
     "output_type": "stream",
     "text": [
      "Importing the dtw module. When using in academic works please cite:\n",
      "  T. Giorgino. Computing and Visualizing Dynamic Time Warping Alignments in R: The dtw Package.\n",
      "  J. Stat. Soft., doi:10.18637/jss.v031.i07.\n",
      "\n"
     ]
    }
   ],
   "source": [
    "import matplotlib.pyplot as plt\n",
    "\n",
    "%matplotlib tk\n",
    "%autosave 180\n",
    "%load_ext autoreload\n",
    "%autoreload 2\n",
    "\n",
    "\n",
    "import numpy as np\n",
    "#%matplotlib inline\n",
    "\n",
    "import os\n",
    "from utils import *\n",
    "\n",
    "import os\n",
    "\n",
    "from utils_calcium import ProcessCalcium"
   ]
  },
  {
   "cell_type": "code",
   "execution_count": 2,
   "id": "044f5ae6",
   "metadata": {},
   "outputs": [
    {
     "name": "stderr",
     "output_type": "stream",
     "text": [
      "  0%|          | 0/9 [00:00<?, ?it/s]"
     ]
    },
    {
     "name": "stdout",
     "output_type": "stream",
     "text": [
      "remove bad cells:  True\n",
      "...setting 2p parameters...\n"
     ]
    },
    {
     "name": "stderr",
     "output_type": "stream",
     "text": [
      " 11%|█         | 1/9 [00:07<01:00,  7.59s/it]"
     ]
    },
    {
     "name": "stdout",
     "output_type": "stream",
     "text": [
      "\n",
      "remove bad cells:  True\n",
      "...setting 2p parameters...\n"
     ]
    },
    {
     "name": "stderr",
     "output_type": "stream",
     "text": [
      "/home/cat/.conda/envs/bmitools/lib/python3.8/site-packages/binarize2pcalcium/binarize2pcalcium.py:1150: RuntimeWarning: invalid value encountered in divide\n",
      "  img_temp_norm = (img_temp - np.min(img_temp)) / (np.max(img_temp) - np.min(img_temp))\n",
      " 22%|██▏       | 2/9 [00:12<00:43,  6.26s/it]"
     ]
    },
    {
     "name": "stdout",
     "output_type": "stream",
     "text": [
      "\n",
      "remove bad cells:  True\n",
      "...setting 2p parameters...\n"
     ]
    },
    {
     "name": "stderr",
     "output_type": "stream",
     "text": [
      " 33%|███▎      | 3/9 [00:20<00:41,  6.84s/it]"
     ]
    },
    {
     "name": "stdout",
     "output_type": "stream",
     "text": [
      "\n",
      "remove bad cells:  True\n",
      "...setting 2p parameters...\n"
     ]
    },
    {
     "name": "stderr",
     "output_type": "stream",
     "text": [
      " 44%|████▍     | 4/9 [00:28<00:36,  7.36s/it]"
     ]
    },
    {
     "name": "stdout",
     "output_type": "stream",
     "text": [
      "\n",
      "remove bad cells:  True\n",
      "...setting 2p parameters...\n"
     ]
    },
    {
     "name": "stderr",
     "output_type": "stream",
     "text": [
      "/home/cat/.conda/envs/bmitools/lib/python3.8/site-packages/binarize2pcalcium/binarize2pcalcium.py:1150: RuntimeWarning: invalid value encountered in divide\n",
      "  img_temp_norm = (img_temp - np.min(img_temp)) / (np.max(img_temp) - np.min(img_temp))\n",
      "/home/cat/.conda/envs/bmitools/lib/python3.8/site-packages/binarize2pcalcium/binarize2pcalcium.py:1150: RuntimeWarning: invalid value encountered in divide\n",
      "  img_temp_norm = (img_temp - np.min(img_temp)) / (np.max(img_temp) - np.min(img_temp))\n",
      "/home/cat/.conda/envs/bmitools/lib/python3.8/site-packages/binarize2pcalcium/binarize2pcalcium.py:1150: RuntimeWarning: invalid value encountered in divide\n",
      "  img_temp_norm = (img_temp - np.min(img_temp)) / (np.max(img_temp) - np.min(img_temp))\n",
      "/home/cat/.conda/envs/bmitools/lib/python3.8/site-packages/binarize2pcalcium/binarize2pcalcium.py:1150: RuntimeWarning: invalid value encountered in divide\n",
      "  img_temp_norm = (img_temp - np.min(img_temp)) / (np.max(img_temp) - np.min(img_temp))\n",
      " 56%|█████▌    | 5/9 [00:35<00:28,  7.16s/it]"
     ]
    },
    {
     "name": "stdout",
     "output_type": "stream",
     "text": [
      "\n",
      "remove bad cells:  True\n",
      "...setting 2p parameters...\n"
     ]
    },
    {
     "name": "stderr",
     "output_type": "stream",
     "text": [
      "/home/cat/.conda/envs/bmitools/lib/python3.8/site-packages/binarize2pcalcium/binarize2pcalcium.py:1150: RuntimeWarning: invalid value encountered in divide\n",
      "  img_temp_norm = (img_temp - np.min(img_temp)) / (np.max(img_temp) - np.min(img_temp))\n",
      " 67%|██████▋   | 6/9 [00:40<00:19,  6.58s/it]"
     ]
    },
    {
     "name": "stdout",
     "output_type": "stream",
     "text": [
      "\n",
      "remove bad cells:  True\n",
      "...setting 2p parameters...\n"
     ]
    },
    {
     "name": "stderr",
     "output_type": "stream",
     "text": [
      "/home/cat/.conda/envs/bmitools/lib/python3.8/site-packages/binarize2pcalcium/binarize2pcalcium.py:1150: RuntimeWarning: invalid value encountered in divide\n",
      "  img_temp_norm = (img_temp - np.min(img_temp)) / (np.max(img_temp) - np.min(img_temp))\n",
      "/home/cat/.conda/envs/bmitools/lib/python3.8/site-packages/binarize2pcalcium/binarize2pcalcium.py:1150: RuntimeWarning: invalid value encountered in divide\n",
      "  img_temp_norm = (img_temp - np.min(img_temp)) / (np.max(img_temp) - np.min(img_temp))\n",
      "/home/cat/.conda/envs/bmitools/lib/python3.8/site-packages/binarize2pcalcium/binarize2pcalcium.py:1150: RuntimeWarning: invalid value encountered in divide\n",
      "  img_temp_norm = (img_temp - np.min(img_temp)) / (np.max(img_temp) - np.min(img_temp))\n",
      "/home/cat/.conda/envs/bmitools/lib/python3.8/site-packages/binarize2pcalcium/binarize2pcalcium.py:1150: RuntimeWarning: invalid value encountered in divide\n",
      "  img_temp_norm = (img_temp - np.min(img_temp)) / (np.max(img_temp) - np.min(img_temp))\n",
      "/home/cat/.conda/envs/bmitools/lib/python3.8/site-packages/binarize2pcalcium/binarize2pcalcium.py:1150: RuntimeWarning: invalid value encountered in divide\n",
      "  img_temp_norm = (img_temp - np.min(img_temp)) / (np.max(img_temp) - np.min(img_temp))\n",
      "/home/cat/.conda/envs/bmitools/lib/python3.8/site-packages/binarize2pcalcium/binarize2pcalcium.py:1150: RuntimeWarning: invalid value encountered in divide\n",
      "  img_temp_norm = (img_temp - np.min(img_temp)) / (np.max(img_temp) - np.min(img_temp))\n",
      " 78%|███████▊  | 7/9 [00:46<00:12,  6.14s/it]"
     ]
    },
    {
     "name": "stdout",
     "output_type": "stream",
     "text": [
      "\n",
      "remove bad cells:  True\n",
      "...setting 2p parameters...\n"
     ]
    },
    {
     "name": "stderr",
     "output_type": "stream",
     "text": [
      "/home/cat/.conda/envs/bmitools/lib/python3.8/site-packages/binarize2pcalcium/binarize2pcalcium.py:1150: RuntimeWarning: invalid value encountered in divide\n",
      "  img_temp_norm = (img_temp - np.min(img_temp)) / (np.max(img_temp) - np.min(img_temp))\n",
      "/home/cat/.conda/envs/bmitools/lib/python3.8/site-packages/binarize2pcalcium/binarize2pcalcium.py:1150: RuntimeWarning: invalid value encountered in divide\n",
      "  img_temp_norm = (img_temp - np.min(img_temp)) / (np.max(img_temp) - np.min(img_temp))\n",
      "/home/cat/.conda/envs/bmitools/lib/python3.8/site-packages/binarize2pcalcium/binarize2pcalcium.py:1150: RuntimeWarning: invalid value encountered in divide\n",
      "  img_temp_norm = (img_temp - np.min(img_temp)) / (np.max(img_temp) - np.min(img_temp))\n",
      "/home/cat/.conda/envs/bmitools/lib/python3.8/site-packages/binarize2pcalcium/binarize2pcalcium.py:1150: RuntimeWarning: invalid value encountered in divide\n",
      "  img_temp_norm = (img_temp - np.min(img_temp)) / (np.max(img_temp) - np.min(img_temp))\n",
      "/home/cat/.conda/envs/bmitools/lib/python3.8/site-packages/binarize2pcalcium/binarize2pcalcium.py:1150: RuntimeWarning: invalid value encountered in divide\n",
      "  img_temp_norm = (img_temp - np.min(img_temp)) / (np.max(img_temp) - np.min(img_temp))\n",
      "/home/cat/.conda/envs/bmitools/lib/python3.8/site-packages/binarize2pcalcium/binarize2pcalcium.py:1150: RuntimeWarning: invalid value encountered in divide\n",
      "  img_temp_norm = (img_temp - np.min(img_temp)) / (np.max(img_temp) - np.min(img_temp))\n",
      "/home/cat/.conda/envs/bmitools/lib/python3.8/site-packages/binarize2pcalcium/binarize2pcalcium.py:1150: RuntimeWarning: invalid value encountered in divide\n",
      "  img_temp_norm = (img_temp - np.min(img_temp)) / (np.max(img_temp) - np.min(img_temp))\n",
      " 89%|████████▉ | 8/9 [00:51<00:05,  5.84s/it]"
     ]
    },
    {
     "name": "stdout",
     "output_type": "stream",
     "text": [
      "\n",
      "remove bad cells:  True\n",
      "...setting 2p parameters...\n"
     ]
    },
    {
     "name": "stderr",
     "output_type": "stream",
     "text": [
      "/home/cat/.conda/envs/bmitools/lib/python3.8/site-packages/binarize2pcalcium/binarize2pcalcium.py:1150: RuntimeWarning: invalid value encountered in divide\n",
      "  img_temp_norm = (img_temp - np.min(img_temp)) / (np.max(img_temp) - np.min(img_temp))\n",
      "/home/cat/.conda/envs/bmitools/lib/python3.8/site-packages/binarize2pcalcium/binarize2pcalcium.py:1150: RuntimeWarning: invalid value encountered in divide\n",
      "  img_temp_norm = (img_temp - np.min(img_temp)) / (np.max(img_temp) - np.min(img_temp))\n",
      "/home/cat/.conda/envs/bmitools/lib/python3.8/site-packages/binarize2pcalcium/binarize2pcalcium.py:1150: RuntimeWarning: invalid value encountered in divide\n",
      "  img_temp_norm = (img_temp - np.min(img_temp)) / (np.max(img_temp) - np.min(img_temp))\n",
      "/home/cat/.conda/envs/bmitools/lib/python3.8/site-packages/binarize2pcalcium/binarize2pcalcium.py:1150: RuntimeWarning: invalid value encountered in divide\n",
      "  img_temp_norm = (img_temp - np.min(img_temp)) / (np.max(img_temp) - np.min(img_temp))\n",
      "/home/cat/.conda/envs/bmitools/lib/python3.8/site-packages/binarize2pcalcium/binarize2pcalcium.py:1150: RuntimeWarning: invalid value encountered in divide\n",
      "  img_temp_norm = (img_temp - np.min(img_temp)) / (np.max(img_temp) - np.min(img_temp))\n",
      "100%|██████████| 9/9 [00:56<00:00,  6.29s/it]"
     ]
    },
    {
     "name": "stdout",
     "output_type": "stream",
     "text": [
      "\n",
      "...DONE...\n"
     ]
    },
    {
     "name": "stderr",
     "output_type": "stream",
     "text": [
      "\n"
     ]
    }
   ],
   "source": [
    "####################################################\n",
    "################## LOAD DATA #######################\n",
    "####################################################\n",
    "\n",
    "# TODOS:\n",
    "# 1.   load all masks and look at them\n",
    "#      see if we can find the correct cell in each day - see how much drift there is\n",
    "# 2.   load all traces and compute reward triggered averages \n",
    "#     - this should help understand if other cells in the networks are acquiring a relationship with the reward and the ensmeble cells\n",
    "\n",
    "\n",
    "root_dir = '/media/cat/8TB/donato/bmi/' #DON-011733/20230302/plane0/merged/F.npy\n",
    "\n",
    "# M1 mice\n",
    "M1 = [\n",
    "    \n",
    "    'DON-011733',\n",
    "    'DON-014382',\n",
    "    'DON-014451',\n",
    "    'DON-014575',\n",
    "    'DON-014618',\n",
    "    'DON-015821',\n",
    "    \n",
    "    ]\n",
    "\n",
    "# CA3 mice\n",
    "CA3 = [\n",
    "    'DON-012502',\n",
    "    'DON-014266',\n",
    "    'DON-014371',\n",
    "    'DON-015801',\n",
    "]\n",
    "\n",
    "########################################\n",
    "########################################\n",
    "########################################\n",
    "\n",
    "#\n",
    "# M1 mice\n",
    "#animal_id = \"DON-011733\"\n",
    "#animal_id = \"DON-014618\"\n",
    "\n",
    "# CA3 mice\n",
    "animal_id = \"DON-014371\"\n",
    "#animal_id = 'DON-015801'\n",
    "\n",
    "\n",
    "# this loads data from the merged folder\n",
    "c = ProcessCalcium(root_dir,\n",
    "                   animal_id)\n",
    "\n",
    "# parameters for binarization \n",
    "c.remove_bad_cells = False\n",
    "c.recompute_binarization = False    # IF TRue: must input correct params from bin notebooks\n",
    "c.dff_min = 0.05                   # min %DFF for [ca] burst to considered a spike (default 5%) overwrites percentile threshold parameter\n",
    "c.percentile_threshold = 0.99      # we generally only want bursts that well outside 99 percentile, so higher is safer\n",
    "c.maximum_std_of_signal = 0.25     # if std of signal is greater than this, then we have a noisy signal and we don't want to binarize it\n",
    "\n",
    "#\n",
    "c.save_figures = False\n",
    "c.load_sessions()\n",
    "\n",
    "#\n",
    "print (\"...DONE...\")"
   ]
  },
  {
   "cell_type": "code",
   "execution_count": 3,
   "id": "c062a1f2",
   "metadata": {},
   "outputs": [
    {
     "name": "stderr",
     "output_type": "stream",
     "text": [
      "100%|██████████| 4/4 [01:47<00:00, 26.82s/it]\n"
     ]
    },
    {
     "name": "stdout",
     "output_type": "stream",
     "text": [
      "res:  [[2, 2, 2, 2, 2, 2, 2, 2], [17, 157, 17, 17, 17, 17, 17, 17], [5, 5, 5, 191, 5, 5, 5, 5], [205, 9, 9, 9, 9, 9, 9, 9]]\n",
      "[[ 8  2]\n",
      " [ 7 17]\n",
      " [ 7  5]\n",
      " [ 7  9]]\n"
     ]
    }
   ],
   "source": [
    "#################################################\n",
    "###### MATCH ENSEMBLE ROIS TO MASTER MASK #######\n",
    "#################################################\n",
    "#\n",
    "c.recompute_match_master_mask = True\n",
    "c.find_matching_cells_to_master_mask()\n",
    "\n",
    "#\n",
    "print (c.best_matches)"
   ]
  },
  {
   "cell_type": "code",
   "execution_count": 12,
   "id": "d19da2ac",
   "metadata": {},
   "outputs": [],
   "source": [
    "\n",
    "# def show_two_session_contours(contours1, contours2):\n",
    "\n",
    "#     plt.figure()\n",
    "#     for k in range(len(contours1)):\n",
    "#         plt.plot(contours1[k][:,0],\n",
    "#                     contours1[k][:,1],\n",
    "#                     )\n",
    "#     # show contours for session 2\n",
    "#     for k in range(len(contours2)):\n",
    "#         plt.plot(contours2[k][:,0],\n",
    "#                     contours2[k][:,1],\n",
    "#                     )\n",
    "        \n",
    "\n",
    "\n",
    "#     plt.show()\n",
    "\n",
    "\n",
    "\n"
   ]
  },
  {
   "cell_type": "code",
   "execution_count": 13,
   "id": "c992f705",
   "metadata": {},
   "outputs": [
    {
     "name": "stderr",
     "output_type": "stream",
     "text": [
      "/home/cat/code/bmitools/bmitools/analysis/calcium/utils_calcium.py:666: FutureWarning: Unlike other reduction functions (e.g. `skew`, `kurtosis`), the default behavior of `mode` typically preserves the axis it acts along. In SciPy 1.11.0, this behavior will change: the default value of `keepdims` will become False, the `axis` over which the statistic is taken will be eliminated, and the value None will no longer be accepted. Set `keepdims` to True or False to avoid this warning.\n",
      "  mode1 = scipy.stats.mode(temp).mode\n"
     ]
    }
   ],
   "source": [
    "#######################################################\n",
    "############# VISUALIZE MATCHED TRACES ################\n",
    "#######################################################\n",
    "\n",
    "#\n",
    "c.y_scale = 1.5\n",
    "c.show_realtime_bmi_ensembles=True\n",
    "c.show_upphases=True               # This needs to be fixed/recomputed\n",
    "c.plotting=True\n",
    "c.show_rewards = True\n",
    "c.make_multi_session_traces()\n"
   ]
  },
  {
   "cell_type": "code",
   "execution_count": 15,
   "id": "d2029977",
   "metadata": {},
   "outputs": [
    {
     "name": "stdout",
     "output_type": "stream",
     "text": [
      "rasters:  (540, 810000)\n"
     ]
    },
    {
     "name": "stderr",
     "output_type": "stream",
     "text": [
      "loading sessions:  11%|█         | 1/9 [00:00<00:01,  6.63it/s]"
     ]
    },
    {
     "name": "stdout",
     "output_type": "stream",
     "text": [
      "ca_bin:  (540, 90000)\n",
      "ca_bin:  (540, 90000)\n"
     ]
    },
    {
     "name": "stderr",
     "output_type": "stream",
     "text": [
      "loading sessions:  33%|███▎      | 3/9 [00:00<00:00,  6.09it/s]"
     ]
    },
    {
     "name": "stdout",
     "output_type": "stream",
     "text": [
      "ca_bin:  (540, 90000)\n",
      "ca_bin:  (540, 90000)\n"
     ]
    },
    {
     "name": "stderr",
     "output_type": "stream",
     "text": [
      "loading sessions:  56%|█████▌    | 5/9 [00:00<00:00,  6.18it/s]"
     ]
    },
    {
     "name": "stdout",
     "output_type": "stream",
     "text": [
      "ca_bin:  (540, 90000)\n",
      "ca_bin:  (540, 90000)\n"
     ]
    },
    {
     "name": "stderr",
     "output_type": "stream",
     "text": [
      "loading sessions:  78%|███████▊  | 7/9 [00:01<00:00,  6.18it/s]"
     ]
    },
    {
     "name": "stdout",
     "output_type": "stream",
     "text": [
      "ca_bin:  (540, 90000)\n",
      "ca_bin:  (540, 90000)\n"
     ]
    },
    {
     "name": "stderr",
     "output_type": "stream",
     "text": [
      "loading sessions: 100%|██████████| 9/9 [00:01<00:00,  6.25it/s]\n"
     ]
    },
    {
     "name": "stdout",
     "output_type": "stream",
     "text": [
      "ca_bin:  (540, 90000)\n",
      "...ploting...\n",
      "t_sart:  810000\n",
      "[ 1500.  4500.  7500. 10500. 13500. 16500. 19500. 22500. 25500.]\n"
     ]
    }
   ],
   "source": [
    "#######################################################\n",
    "############# VISUALIZE MATCHED RASTERS ###############\n",
    "#######################################################\n",
    "\n",
    "#\n",
    "c.show_upphases=True                \n",
    "c.plotting=False\n",
    "c.show_rewards = True\n",
    "c.make_multi_session_rasters_allcells()"
   ]
  },
  {
   "cell_type": "code",
   "execution_count": null,
   "id": "2c2f3e71",
   "metadata": {},
   "outputs": [],
   "source": []
  },
  {
   "cell_type": "code",
   "execution_count": null,
   "id": "8df7a4f2",
   "metadata": {},
   "outputs": [],
   "source": []
  },
  {
   "cell_type": "code",
   "execution_count": null,
   "id": "b292752c",
   "metadata": {},
   "outputs": [],
   "source": []
  },
  {
   "cell_type": "code",
   "execution_count": null,
   "id": "b481ae35",
   "metadata": {},
   "outputs": [],
   "source": []
  },
  {
   "cell_type": "code",
   "execution_count": null,
   "id": "67ac1185",
   "metadata": {},
   "outputs": [],
   "source": []
  },
  {
   "cell_type": "code",
   "execution_count": null,
   "id": "438f8863",
   "metadata": {},
   "outputs": [],
   "source": []
  },
  {
   "cell_type": "code",
   "execution_count": null,
   "id": "c27d55fe",
   "metadata": {},
   "outputs": [],
   "source": []
  },
  {
   "cell_type": "code",
   "execution_count": 5,
   "metadata": {},
   "outputs": [
    {
     "name": "stdout",
     "output_type": "stream",
     "text": [
      "r_times:  (487,) [ 94927  96368  96502 100392 105912 112595 119548 119852 120359 121199]\n",
      "X:  (720000, 417)\n"
     ]
    },
    {
     "ename": "",
     "evalue": "",
     "output_type": "error",
     "traceback": [
      "\u001b[1;31mThe Kernel crashed while executing code in the the current cell or a previous cell. Please review the code in the cell(s) to identify a possible cause of the failure. Click <a href='https://aka.ms/vscodeJupyterKernelCrash'>here</a> for more info. View Jupyter <a href='command:jupyter.viewOutput'>log</a> for further details."
     ]
    }
   ],
   "source": [
    "#######################################################\n",
    "#######################################################\n",
    "#######################################################\n",
    "\n",
    "#\n",
    "from sklearn.decomposition import PCA\n",
    "\n",
    "# \n",
    "def get_reward_times_all(reward_times):\n",
    "    r_times = []\n",
    "    offset=0\n",
    "    for k in range(len(reward_times)):\n",
    "        temp = reward_times[k]\n",
    "        if len(temp)>0:\n",
    "            r_times.append(temp+offset)\n",
    "\n",
    "        #\n",
    "        offset+=90000\n",
    "\n",
    "    #\n",
    "    r_times = np.hstack(r_times)\n",
    "\n",
    "    #\n",
    "    print (\"r_times: \", r_times.shape, r_times[:10])\n",
    "\n",
    "    #\n",
    "    return r_times\n",
    "\n",
    "# remove all zero columns\n",
    "def remove_zero_frames(X):\n",
    "\n",
    "    idx = np.where(X.sum(1)>0)[0]\n",
    "    X = X[idx]\n",
    "    print (\"X: \", X.shape)\n",
    "\n",
    "    return X\n",
    "\n",
    "# delete all cells with < 10 bursts\n",
    "def remove_few_bursts(X):\n",
    "    diffs = X[1:]-X[:-1]\n",
    "    print (\"diffs: \", diffs.shape)\n",
    "\n",
    "    # \n",
    "    n_bursts = []\n",
    "    for k in trange(diffs.shape[1]):\n",
    "        idx = np.where(diffs[:,k]==-1)[0]\n",
    "        n_bursts.append(idx.shape[0])\n",
    "\n",
    "    #\n",
    "    n_bursts = np.array(n_bursts)\n",
    "\n",
    "    #\n",
    "    idx = np.where(n_bursts>8*50*2)[0]\n",
    "    X = X[:, idx]\n",
    "    print (\"X: \", X.shape)\n",
    "\n",
    "    return X\n",
    "\n",
    "#\n",
    "def plot_scatter(X_pca):\n",
    "    fig=plt.figure()\n",
    "    ax = fig.add_subplot(111, projection='3d')\n",
    "    ax.scatter(X_pca[::subsample,0], \n",
    "            X_pca[::subsample,1], \n",
    "            X_pca[::subsample,2],\n",
    "            c=clrs[::subsample],\n",
    "            s=20,\n",
    "            alpha=.2,\n",
    "            #edgecolors='black'\n",
    "            )\n",
    "\n",
    "    # plot r_times as large red dots\n",
    "    ax.scatter(X_pca[r_times,0], \n",
    "            X_pca[r_times,1], \n",
    "            X_pca[r_times,2],\n",
    "            c='red',\n",
    "            s=100,\n",
    "            alpha=.7\n",
    "            )\n",
    "\n",
    "\n",
    "    plt.show()\n",
    "###########################################################\n",
    "###########################################################\n",
    "###########################################################\n",
    "r_times = get_reward_times_all(c.reward_times)\n",
    "\n",
    "\n",
    "# run PCA on rasters\n",
    "X = c.rasters.T\n",
    "print (\"X: \", X.shape)\n",
    "\n",
    "#\n",
    "pca = PCA()\n",
    "X_pca = pca.fit_transform(X)\n",
    "\n",
    "# plot PCA in 3d\n",
    "subsample = 10\n",
    "clrs = np.arange(X_pca.shape[0])\n",
    "\n",
    "#\n",
    "\n",
    "\n",
    "\n"
   ]
  },
  {
   "cell_type": "code",
   "execution_count": 130,
   "metadata": {},
   "outputs": [],
   "source": [
    "# # plot variance explained curve\n",
    "# fig=plt.figure()\n",
    "# plt.plot(pca.explained_variance_ratio_)\n",
    "\n",
    "# # same but cumulative\n",
    "# plt.plot(np.cumsum(pca.explained_variance_ratio_))\n",
    "# plt.show()"
   ]
  },
  {
   "cell_type": "code",
   "execution_count": 88,
   "metadata": {},
   "outputs": [],
   "source": [
    "###############################################\n",
    "###############################################\n",
    "###############################################\n",
    "\n",
    "# # run PCA just on the neural data of the reward times\n",
    "\n",
    "# shifts = np.arange(-60,30,3)\n",
    "# plt.figure()\n",
    "# randomize = False\n",
    "# for ctr, shift in enumerate(shifts):\n",
    "#     ax=plt.subplot(3,10,ctr+1)\n",
    "\n",
    "#     #\n",
    "#     plt.title(str(round(shift/30.,2)))\n",
    "    \n",
    "#     #\n",
    "#     X_reward = []\n",
    "#     for r_time in r_times:\n",
    "\n",
    "#         if randomize: \n",
    "#             idx = np.random.randint(300,3000)\n",
    "#             temp = X[r_time+shift+idx:r_time+shift+idx+1]\n",
    "#         else:\n",
    "#             temp = X[r_time+shift:r_time+shift+1]\n",
    "        \n",
    "#         #\n",
    "#         X_reward.append(temp)\n",
    "\n",
    "#     #\n",
    "#     X_reward = np.vstack(X_reward)\n",
    "#     #\n",
    "#     pca = PCA()\n",
    "#     X_pca = pca.fit_transform(X_reward)\n",
    "\n",
    "#     # plot PCA in 3d\n",
    "#     subsample = 1\n",
    "#     clrs = np.arange(X_pca.shape[0])\n",
    "\n",
    "#     #\n",
    "#     #ax = fig.add_subplot(111)#, projection='3d')\n",
    "#     ax.scatter(X_pca[::subsample,0], \n",
    "#             X_pca[::subsample,1], \n",
    "#             # X_pca[::subsample,2],\n",
    "#             c=clrs[::subsample],\n",
    "#             s=100,\n",
    "#             alpha=.5,\n",
    "#             #edgecolors='black'\n",
    "#             )\n",
    "#     plt.xticks([])\n",
    "#     plt.yticks([])\n",
    "#     #\n",
    "# # plt.xlabel(\"PC1\")\n",
    "# # plt.ylabel(\"PC2\")\n",
    "\n",
    "# # #\n",
    "# # plt.suptitle(\"PCA on #\"+str(X_pca.shape[0])+\" reward times\\n(blue=early, yellow=late sessions)\")\n",
    "\n",
    "# plt.show()"
   ]
  },
  {
   "cell_type": "code",
   "execution_count": 87,
   "id": "e99976a9",
   "metadata": {},
   "outputs": [
    {
     "name": "stderr",
     "output_type": "stream",
     "text": [
      "100%|██████████| 30/30 [01:10<00:00,  2.36s/it]\n"
     ]
    }
   ],
   "source": [
    "# # same but using UMAP \n",
    "# import umap\n",
    "\n",
    "# #\n",
    "# shifts = np.arange(-60,30,3)\n",
    "# plt.figure()\n",
    "# ctr=0\n",
    "# randomize = False\n",
    "# for shift in tqdm(shifts):\n",
    "#     ax=plt.subplot(3,10,ctr+1)\n",
    "    \n",
    "#     #\n",
    "#     plt.title(str(round(shift/30.,2)))\n",
    "    \n",
    "    \n",
    "#     #\n",
    "#     X_reward = []\n",
    "#     for r_time in r_times:\n",
    "        \n",
    "#         if randomize:\n",
    "#             idx = np.random.randint(0,1000)\n",
    "#             temp = X[r_time+idx:r_time+idx+1]\n",
    "#         else:\n",
    "#             temp = X[r_time+shift:r_time+shift+1]\n",
    "\n",
    "#         #\n",
    "#         X_reward.append(temp)\n",
    "\n",
    "#     #\n",
    "#     X_reward = np.vstack(X_reward)\n",
    "#     #print (\"X_reward: \", X_reward.shape)\n",
    "#     #\n",
    "#     reducer = umap.UMAP()\n",
    "#     #print (\"X_reward: \", X_reward.shape)\n",
    "#     X_pca = reducer.fit_transform(X_reward)\n",
    "\n",
    "#     # plot PCA in 3d\n",
    "#     subsample = 1\n",
    "#     clrs = np.arange(X_pca.shape[0])\n",
    "\n",
    "#     #\n",
    "#     #ax = fig.add_subplot(111)#, projection='3d')\n",
    "#     ax.scatter(X_pca[::subsample,0], \n",
    "#             X_pca[::subsample,1], \n",
    "#             # X_pca[::subsample,2],\n",
    "#             c=clrs[::subsample],\n",
    "#             s=50,\n",
    "#             alpha=.5,\n",
    "#             edgecolors='black'\n",
    "#             )\n",
    "    \n",
    "#     #\n",
    "#     plt.xticks([])\n",
    "#     plt.yticks([])\n",
    "\n",
    "#     #\n",
    "#     ctr+=1\n",
    "    \n",
    "\n",
    "# plt.show()"
   ]
  },
  {
   "cell_type": "code",
   "execution_count": 1,
   "id": "382188ed",
   "metadata": {},
   "outputs": [
    {
     "ename": "NameError",
     "evalue": "name 'np' is not defined",
     "output_type": "error",
     "traceback": [
      "\u001b[0;31m---------------------------------------------------------------------------\u001b[0m",
      "\u001b[0;31mNameError\u001b[0m                                 Traceback (most recent call last)",
      "\u001b[1;32m/home/cat/code/bmi/openbmi/analysis/calcium/visualize_multisession_visualize_sessions_v1.ipynb Cell 10\u001b[0m line \u001b[0;36m7\n\u001b[1;32m      <a href='vscode-notebook-cell:/home/cat/code/bmi/openbmi/analysis/calcium/visualize_multisession_visualize_sessions_v1.ipynb#X12sZmlsZQ%3D%3D?line=0'>1</a>\u001b[0m \u001b[39m######################################################################\u001b[39;00m\n\u001b[1;32m      <a href='vscode-notebook-cell:/home/cat/code/bmi/openbmi/analysis/calcium/visualize_multisession_visualize_sessions_v1.ipynb#X12sZmlsZQ%3D%3D?line=1'>2</a>\u001b[0m \u001b[39m############# PCA/UMAP ON CHUNKS OF DATA AROUND REWARD TIMES #########\u001b[39;00m\n\u001b[1;32m      <a href='vscode-notebook-cell:/home/cat/code/bmi/openbmi/analysis/calcium/visualize_multisession_visualize_sessions_v1.ipynb#X12sZmlsZQ%3D%3D?line=2'>3</a>\u001b[0m \u001b[39m######################################################################\u001b[39;00m\n\u001b[1;32m      <a href='vscode-notebook-cell:/home/cat/code/bmi/openbmi/analysis/calcium/visualize_multisession_visualize_sessions_v1.ipynb#X12sZmlsZQ%3D%3D?line=3'>4</a>\u001b[0m \u001b[39m# compute PCA over the entire 2 secs prior to reward\u001b[39;00m\n\u001b[1;32m      <a href='vscode-notebook-cell:/home/cat/code/bmi/openbmi/analysis/calcium/visualize_multisession_visualize_sessions_v1.ipynb#X12sZmlsZQ%3D%3D?line=5'>6</a>\u001b[0m window1 \u001b[39m=\u001b[39m \u001b[39m5\u001b[39m\n\u001b[0;32m----> <a href='vscode-notebook-cell:/home/cat/code/bmi/openbmi/analysis/calcium/visualize_multisession_visualize_sessions_v1.ipynb#X12sZmlsZQ%3D%3D?line=6'>7</a>\u001b[0m starts \u001b[39m=\u001b[39m np\u001b[39m.\u001b[39marange(\u001b[39m-\u001b[39m\u001b[39m30\u001b[39m,\u001b[39m31\u001b[39m,window1)\n\u001b[1;32m      <a href='vscode-notebook-cell:/home/cat/code/bmi/openbmi/analysis/calcium/visualize_multisession_visualize_sessions_v1.ipynb#X12sZmlsZQ%3D%3D?line=8'>9</a>\u001b[0m \u001b[39m#\u001b[39;00m\n\u001b[1;32m     <a href='vscode-notebook-cell:/home/cat/code/bmi/openbmi/analysis/calcium/visualize_multisession_visualize_sessions_v1.ipynb#X12sZmlsZQ%3D%3D?line=9'>10</a>\u001b[0m r_times_local \u001b[39m=\u001b[39m r_times\u001b[39m.\u001b[39mcopy()\n",
      "\u001b[0;31mNameError\u001b[0m: name 'np' is not defined"
     ]
    }
   ],
   "source": [
    "######################################################################\n",
    "############# PCA/UMAP ON CHUNKS OF DATA AROUND REWARD TIMES #########\n",
    "######################################################################\n",
    "# compute PCA over the entire 2 secs prior to reward\n",
    "\n",
    "window1 = 5\n",
    "starts = np.arange(-30,31,window1)\n",
    "\n",
    "#\n",
    "r_times_local = r_times.copy()\n",
    "\n",
    "\n",
    "#\n",
    "ctr=0\n",
    "window2 = window1\n",
    "randomize = True\n",
    "\n",
    "# delete first 50 rewards\n",
    "remove_early_sess = False\n",
    "if remove_early_sess:\n",
    "    r_times_local = r_times_local[100:]\n",
    "\n",
    "#\n",
    "run_pca = False\n",
    "\n",
    "#\n",
    "fig = plt.figure()\n",
    "for start in tqdm(starts):\n",
    "    #\n",
    "    ax=plt.subplot(1,13,ctr+1)\n",
    "\n",
    "    #\n",
    "    plt.ylabel(str(round(start/30.,2))+\" sec\")\n",
    "\n",
    "    #\n",
    "    X_2sec = []\n",
    "    for k in range(len(r_times_local)):\n",
    "        if randomize:\n",
    "            idx = np.random.randint(100,500)\n",
    "            temp = X[r_times_local[k]+start+idx:r_times_local[k]+start+idx+window2].flatten()\n",
    "        else:\n",
    "            temp = X[r_times_local[k]+start:r_times_local[k]+start+window2].flatten()\n",
    "        \n",
    "        #\n",
    "        X_2sec.append(temp)\n",
    "\n",
    "    #\n",
    "    X_2sec = np.vstack(X_2sec)\n",
    "\n",
    "    # triage outliers using percentiles euclidean distance\n",
    "    \n",
    "    \n",
    "    # now run PCA on this\n",
    "    if run_pca:\n",
    "        pca = PCA()\n",
    "        X_pca = pca.fit_transform(X_2sec)\n",
    "\n",
    "        # print variance explained\n",
    "        print (\"Explained variance: \", pca.explained_variance_ratio_[:10])\n",
    "        plt.suptitle(\"PCA on \"+str(round(window2/30.,2))+\" sec chunks\"+\" (randomize=\"+str(randomize)+\")\")\n",
    "\n",
    "    else:\n",
    "        reducer = umap.UMAP()\n",
    "        X_pca = reducer.fit_transform(X_2sec)\n",
    "        plt.suptitle(\"UMAP on \"+str(round(window2/30.,2))+\" sec chunks\"+\" (randomize=\"+str(randomize)+\")\")\n",
    "\n",
    "    # plot PCA in 3d\n",
    "    subsample = 1\n",
    "    clrs = np.arange(X_pca.shape[0])\n",
    "\n",
    "    #\n",
    "    ax.scatter(X_pca[::subsample,0],\n",
    "                X_pca[::subsample,1],\n",
    "                c=clrs[::subsample],\n",
    "                s=50,\n",
    "                alpha=.5,\n",
    "                edgecolors='black'\n",
    "                )\n",
    "    #\n",
    "    plt.xticks([])\n",
    "    plt.yticks([])\n",
    "\n",
    "\n",
    "    #\n",
    "    ctr+=1\n",
    "\n",
    "#\n",
    "plt.show()"
   ]
  },
  {
   "cell_type": "code",
   "execution_count": 131,
   "metadata": {},
   "outputs": [
    {
     "name": "stdout",
     "output_type": "stream",
     "text": [
      "[[  5 380]\n",
      " [  7  15]\n",
      " [  7   2]\n",
      " [  7   4]]\n"
     ]
    }
   ],
   "source": [
    "print (c.best_matches)"
   ]
  },
  {
   "cell_type": "code",
   "execution_count": 3,
   "id": "2e291d36",
   "metadata": {},
   "outputs": [
    {
     "ename": "AttributeError",
     "evalue": "'ProcessCalcium' object has no attribute 'best_matches'",
     "output_type": "error",
     "traceback": [
      "\u001b[0;31m---------------------------------------------------------------------------\u001b[0m",
      "\u001b[0;31mAttributeError\u001b[0m                            Traceback (most recent call last)",
      "\u001b[1;32m/home/cat/code/bmi/openbmi/analysis/calcium/visualize_multisession_visualize_sessions_v1.ipynb Cell 12\u001b[0m line \u001b[0;36m1\n\u001b[1;32m      <a href='vscode-notebook-cell:/home/cat/code/bmi/openbmi/analysis/calcium/visualize_multisession_visualize_sessions_v1.ipynb#X12sZmlsZQ%3D%3D?line=8'>9</a>\u001b[0m \u001b[39m#\u001b[39;00m\n\u001b[1;32m     <a href='vscode-notebook-cell:/home/cat/code/bmi/openbmi/analysis/calcium/visualize_multisession_visualize_sessions_v1.ipynb#X12sZmlsZQ%3D%3D?line=9'>10</a>\u001b[0m select_rois \u001b[39m=\u001b[39m \u001b[39mFalse\u001b[39;00m\n\u001b[0;32m---> <a href='vscode-notebook-cell:/home/cat/code/bmi/openbmi/analysis/calcium/visualize_multisession_visualize_sessions_v1.ipynb#X12sZmlsZQ%3D%3D?line=10'>11</a>\u001b[0m rois \u001b[39m=\u001b[39m c\u001b[39m.\u001b[39;49mbest_matches[:,\u001b[39m1\u001b[39m]\n\u001b[1;32m     <a href='vscode-notebook-cell:/home/cat/code/bmi/openbmi/analysis/calcium/visualize_multisession_visualize_sessions_v1.ipynb#X12sZmlsZQ%3D%3D?line=13'>14</a>\u001b[0m \u001b[39m#\u001b[39;00m\n\u001b[1;32m     <a href='vscode-notebook-cell:/home/cat/code/bmi/openbmi/analysis/calcium/visualize_multisession_visualize_sessions_v1.ipynb#X12sZmlsZQ%3D%3D?line=14'>15</a>\u001b[0m r_times_local \u001b[39m=\u001b[39m r_times\u001b[39m.\u001b[39mcopy()\n",
      "\u001b[0;31mAttributeError\u001b[0m: 'ProcessCalcium' object has no attribute 'best_matches'"
     ]
    }
   ],
   "source": [
    "#############################################\n",
    "############# PCA/UMAP ON JUST ROIS #########\n",
    "#############################################\n",
    "# compute PCA over the entire 2 secs prior to reward\n",
    "#\n",
    "window1 = 5\n",
    "starts = np.arange(-30,31,window1)\n",
    "\n",
    "#\n",
    "select_rois = False\n",
    "rois = c.best_matches[:,1]\n",
    "\n",
    "\n",
    "#\n",
    "r_times_local = r_times.copy()\n",
    "\n",
    "#\n",
    "ctr=0\n",
    "window2 = window1\n",
    "randomize = False\n",
    "\n",
    "# delete first 50 rewards\n",
    "remove_early_sess = False\n",
    "if remove_early_sess:\n",
    "    r_times_local = r_times_local[100:]\n",
    "\n",
    "#\n",
    "run_pca = True\n",
    "\n",
    "#\n",
    "fig = plt.figure()\n",
    "for start in tqdm(starts):\n",
    "    #\n",
    "    ax=plt.subplot(1,13,ctr+1)\n",
    "\n",
    "    #\n",
    "    plt.ylabel(str(round(start/30.,2))+\" sec\")\n",
    "\n",
    "    #\n",
    "    X_2sec = []\n",
    "    for k in range(len(r_times_local)):\n",
    "        if randomize:\n",
    "            idx = np.random.randint(100,500)\n",
    "            temp = X[r_times_local[k]+start+idx:r_times_local[k]+start+idx+window2].flatten()\n",
    "        else:\n",
    "            temp = X[r_times_local[k]+start:r_times_local[k]+start+window2].flatten()\n",
    "        \n",
    "        # \n",
    "        if select_rois:\n",
    "            temp = temp[rois]\n",
    "\n",
    "        #\n",
    "        X_2sec.append(temp)\n",
    "\n",
    "    #\n",
    "    X_2sec = np.vstack(X_2sec)\n",
    "\n",
    "    # triage outliers using percentiles euclidean distance\n",
    "    \n",
    "    \n",
    "    # now run PCA on this\n",
    "    if run_pca:\n",
    "        pca = PCA()\n",
    "        X_pca = pca.fit_transform(X_2sec)\n",
    "\n",
    "        # print variance explained\n",
    "        print (\"Explained variance: \", pca.explained_variance_ratio_[:10])\n",
    "        plt.suptitle(\"PCA on \"+str(round(window2/30.,3))+\" sec chunks\"+\" (randomize=\"+str(randomize)+\")\")\n",
    "\n",
    "    else:\n",
    "        reducer = umap.UMAP()\n",
    "        X_pca = reducer.fit_transform(X_2sec)\n",
    "        plt.suptitle(\"UMAP on \"+str(round(window2/30.,3))+\" sec chunks\"+\" (randomize=\"+str(randomize)+\")\")\n",
    "\n",
    "    # plot PCA in 3d\n",
    "    subsample = 1\n",
    "    clrs = np.arange(X_pca.shape[0])\n",
    "\n",
    "    #\n",
    "    ax.scatter(X_pca[::subsample,0],\n",
    "                X_pca[::subsample,1],\n",
    "                c=clrs[::subsample],\n",
    "                s=50,\n",
    "                alpha=.5,\n",
    "                edgecolors='black'\n",
    "                )\n",
    "    #\n",
    "    plt.xticks([])\n",
    "    plt.yticks([])\n",
    "\n",
    "\n",
    "    #\n",
    "    ctr+=1\n",
    "\n",
    "#\n",
    "plt.show()\n",
    "\n"
   ]
  },
  {
   "cell_type": "code",
   "execution_count": 216,
   "metadata": {},
   "outputs": [
    {
     "name": "stdout",
     "output_type": "stream",
     "text": [
      "X1:  [[ 1.89668908e-04  2.85031882e-04 -9.77818450e-05 -4.50158185e-05]\n",
      " [ 1.62704051e-04 -9.97856527e-05  3.49732664e-05  9.99908014e-01]\n",
      " [ 3.06477731e-04  6.70330010e-05  9.99910798e-01 -2.60284392e-04]\n",
      " ...\n",
      " [ 1.00010959e+00  1.00049536e+00 -4.34840390e-05  9.99566421e-01]\n",
      " [ 9.99808644e-01  1.00027670e+00  9.99780239e-01 -3.85187774e-04]\n",
      " [ 1.00047889e+00  1.00041298e+00  9.99796924e-01  1.00041248e+00]]\n"
     ]
    },
    {
     "ename": "",
     "evalue": "",
     "output_type": "error",
     "traceback": [
      "\u001b[1;31mThe Kernel crashed while executing code in the the current cell or a previous cell. Please review the code in the cell(s) to identify a possible cause of the failure. Click <a href='https://aka.ms/vscodeJupyterKernelCrash'>here</a> for more info. View Jupyter <a href='command:jupyter.viewOutput'>log</a> for further details."
     ]
    }
   ],
   "source": [
    "###############################################################################\n",
    "######### RUN PCA on ROIS only 4D Problem, not super interesting ##############\n",
    "###############################################################################\n",
    "\n",
    "# this analysis has no point because the points are actually descrete locations\n",
    "\n",
    "# #\n",
    "# select_rois = True\n",
    "# rois = c.best_matches[:,1]\n",
    "\n",
    "# #\n",
    "# r_times_local = r_times.copy()\n",
    "\n",
    "# #\n",
    "# ctr=0\n",
    "# window2 = window1\n",
    "# randomize = False\n",
    "\n",
    "# # delete first 50 rewards\n",
    "# remove_early_sess = False\n",
    "# if remove_early_sess:\n",
    "#     r_times_local = r_times_local[100:]\n",
    "\n",
    "# #\n",
    "# run_pca = True\n",
    "\n",
    "# # make PCA object from many random slices of the real data\n",
    "# idx = np.random.randint(0,X.shape[0],100000)\n",
    "\n",
    "# # compute all possible boolean combinations of 4 vectors\n",
    "# X1 = []\n",
    "# for p in range(100):\n",
    "#     for k in range(16):\n",
    "#         X1.append(np.array([int(x) for x in np.binary_repr(k, width=4)])\n",
    "#                 +np.random.rand(4)*0.001-0.0005)\n",
    "\n",
    "# #    \n",
    "# X1 = np.vstack(X1)\n",
    "\n",
    "# #\n",
    "# print (\"X1: \", X1)\n",
    "\n",
    "# #\n",
    "# pca = PCA()\n",
    "# pca.fit(X1)\n",
    "# X_pca_background = pca.transform(X1)\n",
    "\n",
    "# #\n",
    "# vecs = []\n",
    "# for k in range(16):\n",
    "#     vecs.append(np.array([int(x) for x in np.binary_repr(k, width=4)]))\n",
    "# vecs = np.vstack(vecs)\n",
    "        \n",
    "# ###############################################\n",
    "# fig = plt.figure()\n",
    "# ax=plt.subplot(111, projection='3d')\n",
    "\n",
    "# ##\n",
    "# ax.scatter(X_pca_background[:,0]+np.random.rand(X_pca_background.shape[0])*0.1-0.05, \n",
    "#             X_pca_background[:,1]+np.random.rand(X_pca_background.shape[0])*0.1-0.05, \n",
    "#             X_pca_background[:,2]+np.random.rand(X_pca_background.shape[0])*0.1-0.05,\n",
    "#             alpha=1,\n",
    "#             c='black'\n",
    "#             )\n",
    "\n",
    "# # write the vec value as text at each X_pca_background point\n",
    "# X_vecs = pca.transform(vecs)\n",
    "# shift2 = 0.005\n",
    "# for k in range(X_vecs.shape[0]):\n",
    "#     ax.text(X_vecs[k,0]+shift2, \n",
    "#             X_vecs[k,1]+shift2, \n",
    "#             X_vecs[k,2]+shift2,\n",
    "#             str(vecs[k]),\n",
    "#             size=16,\n",
    "#             zorder=1,\n",
    "#             color='k'\n",
    "#             )\n",
    "\n",
    "# # loop over each reward and plot it\n",
    "# start = -60\n",
    "# end = 0\n",
    "\n",
    "# # make viridis colormap for n colors\n",
    "# from matplotlib import cm\n",
    "# n = len(r_times_local)\n",
    "# clrs = cm.get_cmap('viridis', n)\n",
    "\n",
    "# #\n",
    "# for k in range(len(r_times_local)):\n",
    "\n",
    "#     #\n",
    "#     if randomize:\n",
    "#         idx = np.random.randint(100,500)\n",
    "#         temp = X[r_times_local[k]+start+idx:r_times_local[k]+end+idx]\n",
    "#     else:\n",
    "#         temp = X[r_times_local[k]+start:r_times_local[k]+end]\n",
    "\n",
    "#     # \n",
    "#     if select_rois:\n",
    "#         temp = temp[:,rois]\n",
    "\n",
    "#     #\n",
    "#     X_pca = pca.transform(temp)\n",
    "\n",
    "#     # plot PCA in 3d\n",
    "#     # add a bit of jitter to the lines\n",
    "#     ax.plot(X_pca[:,0] + np.random.rand(X_pca.shape[0])*0.01-0.005,\n",
    "#             X_pca[:,1] + np.random.rand(X_pca.shape[0])*0.01-0.005,\n",
    "#             X_pca[:,2] + np.random.rand(X_pca.shape[0])*0.01-0.005,\n",
    "#             color=plt.cm.viridis(k/n),\n",
    "#             alpha=.2,\n",
    "#             )\n",
    "\n",
    "# # visualize an early trajectry vs a late one\n",
    "# early_id = 1\n",
    "# late_id = -1\n",
    "# early = X[r_times_local[early_id]+start:r_times_local[early_id]+end][:,rois]\n",
    "# late = X[r_times_local[late_id]+start:r_times_local[late_id]+end][:,rois]\n",
    "\n",
    "# # run through pca.transform and then plot\n",
    "# early_pca = pca.transform(early)\n",
    "# late_pca = pca.transform(late)\n",
    "\n",
    "# # plot PCA in 3d\n",
    "# ax.plot(early_pca[:,0],\n",
    "#         early_pca[:,1],\n",
    "#         early_pca[:,2],\n",
    "#         c='black',\n",
    "#         linewidth=5,\n",
    "#     )\n",
    "\n",
    "# # same but scatter plot\n",
    "# ax.scatter(early_pca[:,0],\n",
    "#         early_pca[:,1],\n",
    "#         early_pca[:,2],\n",
    "#         c='black',\n",
    "#         linewidth=5,\n",
    "# )\n",
    "\n",
    "# ax.plot(late_pca[:,0],\n",
    "#         late_pca[:,1],\n",
    "#         late_pca[:,2],\n",
    "#         c='red',\n",
    "#         linewidth=5,\n",
    "# )\n",
    "\n",
    "# # same but scatter plot\n",
    "# ax.scatter(late_pca[:,0],\n",
    "#         late_pca[:,1],\n",
    "#         late_pca[:,2],\n",
    "#         c='red',\n",
    "#         linewidth=5,\n",
    "# )\n",
    "\n",
    "\n",
    "\n",
    "# # \n",
    "# plt.suptitle(\"Time window \"+str(round(start/30.,2))+\" to \"+str(round(end/30.,2))+\" sec\"+\n",
    "#              \"\\n(roi1, roi2, roi3, roi4)\")\n",
    "\n",
    "# plt.show()"
   ]
  },
  {
   "cell_type": "code",
   "execution_count": null,
   "metadata": {},
   "outputs": [],
   "source": []
  }
 ],
 "metadata": {
  "kernelspec": {
   "display_name": "Python 3 (ipykernel)",
   "language": "python",
   "name": "python3"
  },
  "language_info": {
   "codemirror_mode": {
    "name": "ipython",
    "version": 3
   },
   "file_extension": ".py",
   "mimetype": "text/x-python",
   "name": "python",
   "nbconvert_exporter": "python",
   "pygments_lexer": "ipython3",
   "version": "3.8.18"
  },
  "toc-autonumbering": false,
  "toc-showcode": true
 },
 "nbformat": 4,
 "nbformat_minor": 5
}
