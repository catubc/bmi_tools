{
 "cells": [
  {
   "cell_type": "code",
   "execution_count": 2,
   "id": "aff08ce5",
   "metadata": {},
   "outputs": [
    {
     "data": {
      "application/javascript": "IPython.notebook.set_autosave_interval(180000)"
     },
     "metadata": {},
     "output_type": "display_data"
    },
    {
     "name": "stdout",
     "output_type": "stream",
     "text": [
      "Autosaving every 180 seconds\n"
     ]
    }
   ],
   "source": [
    "import matplotlib.pyplot as plt\n",
    "import matplotlib\n",
    "\n",
    "%matplotlib tk\n",
    "%autosave 180\n",
    "%load_ext autoreload\n",
    "%autoreload 2\n",
    "\n",
    "\n",
    "import numpy as np\n",
    "#%matplotlib inline\n",
    "\n",
    "import os\n",
    "from utils import *\n",
    "\n",
    "import os\n",
    "\n",
    "from utils_calcium import ProcessCalcium"
   ]
  },
  {
   "cell_type": "code",
   "execution_count": 3,
   "id": "044f5ae6",
   "metadata": {},
   "outputs": [
    {
     "name": "stdout",
     "output_type": "stream",
     "text": [
      "...done...\n"
     ]
    }
   ],
   "source": [
    "####################################################\n",
    "################## LOAD DATA #######################\n",
    "####################################################\n",
    "\n",
    "''' This script loads the data from the spreadsheet and\n",
    "    adds the following columns:\n",
    "\n",
    "    - trial id column: this column contains the id of the trial with np.nan for inter-trial periods where no sound was played\n",
    "\n",
    "'''\n",
    "\n",
    "root_dir = '/media/cat/4TB/donato/andres/master_analysis/'\n",
    "\n",
    "# ****************** MICE AVAILABLE ***********************\n",
    "# M1 = [\n",
    "#     'DON-011733',\n",
    "#     'DON-014382',\n",
    "#     'DON-014451',\n",
    "#     'DON-014575',\n",
    "#     'DON-014618',\n",
    "\n",
    "# CA3 = [\n",
    "#     'DON-012502',\n",
    "#     'DON-014266',\n",
    "#     'DON-014371',\n",
    "#     'DON-015801',\n",
    "# ]\n",
    "# *********************************************************\n",
    "\n",
    "#\n",
    "animal_id = 'DON-014371'\n",
    "\n",
    "#       \n",
    "c = ProcessCalcium(root_dir,\n",
    "                   animal_id)\n",
    "\n",
    "#\n",
    "c.fix_spreadsheet()\n",
    "\n"
   ]
  },
  {
   "cell_type": "code",
   "execution_count": 21,
   "id": "e99976a9",
   "metadata": {},
   "outputs": [
    {
     "name": "stdout",
     "output_type": "stream",
     "text": [
      "loading binarization\n"
     ]
    }
   ],
   "source": [
    "# load trials from spreadsheet including ensemble state\n",
    "c.session_id = 3\n",
    "c.load_trials()\n",
    "\n",
    "# load also calcium\n",
    "C = c.load_single_data()\n"
   ]
  },
  {
   "cell_type": "code",
   "execution_count": 6,
   "id": "382188ed",
   "metadata": {},
   "outputs": [
    {
     "name": "stdout",
     "output_type": "stream",
     "text": [
      "rewarded trials:  [2, 4, 6, 7, 10, 11, 13, 15, 16, 17, 18, 23, 24, 25, 26, 27, 28, 29, 31, 32, 34, 36, 37, 38, 39, 41, 42, 43, 44, 45, 48, 50, 51, 53, 54, 55, 56, 57, 58, 59, 60, 61, 62, 63, 64, 65, 68, 71, 72, 73, 75, 76, 77, 79, 80, 81, 82, 83, 84, 86, 87, 89, 91, 94, 95, 96, 97, 98, 99, 100, 102, 103, 105, 106, 111, 112, 113]\n",
      "not rewarded trials:  [0, 1, 3, 5, 8, 9, 12, 14, 19, 20, 21, 22, 30, 33, 35, 40, 46, 47, 49, 52, 66, 67, 69, 70, 74, 78, 85, 88, 90, 92, 93, 101, 104, 107, 108, 109, 110]\n"
     ]
    }
   ],
   "source": [
    "########################################################\n",
    "############### DO REWARDED TRIALS ANALYSIS ############\n",
    "########################################################\n",
    "\n",
    "#\n",
    "c.get_rewarded_trials()\n",
    "\n",
    "#\n",
    "c.cmap = 'viridis'\n",
    "c.window = 900\n",
    "c.buffer = 3*30\n",
    "c.get_rewarded_trials_align_trial_aligned()\n"
   ]
  },
  {
   "cell_type": "code",
   "execution_count": 18,
   "id": "0489e7ef",
   "metadata": {},
   "outputs": [
    {
     "name": "stdout",
     "output_type": "stream",
     "text": [
      "rewarded trials:  [2, 4, 6, 7, 10, 11, 13, 15, 16, 17, 18, 23, 24, 25, 26, 27, 28, 29, 31, 32, 34, 36, 37, 38, 39, 41, 42, 43, 44, 45, 48, 50, 51, 53, 54, 55, 56, 57, 58, 59, 60, 61, 62, 63, 64, 65, 68, 71, 72, 73, 75, 76, 77, 79, 80, 81, 82, 83, 84, 86, 87, 89, 91, 94, 95, 96, 97, 98, 99, 100, 102, 103, 105, 106, 111, 112, 113]\n",
      "not rewarded trials:  [0, 1, 3, 5, 8, 9, 12, 14, 19, 20, 21, 22, 30, 33, 35, 40, 46, 47, 49, 52, 66, 67, 69, 70, 74, 78, 85, 88, 90, 92, 93, 101, 104, 107, 108, 109, 110]\n"
     ]
    }
   ],
   "source": [
    "########################################################\n",
    "################## ALIGN TO REWARD START ###############\n",
    "########################################################\n",
    "# find rewarded trials\n",
    "\n",
    "\n",
    "c.get_rewarded_trials()\n",
    "\n",
    "#\n",
    "c.cmap = 'viridis'\n",
    "c.window = 900\n",
    "c.buffer = 10*30\n",
    "c.get_rewarded_trials_align_reward_aligned()\n"
   ]
  },
  {
   "cell_type": "code",
   "execution_count": 20,
   "id": "5ee4c305",
   "metadata": {},
   "outputs": [
    {
     "name": "stdout",
     "output_type": "stream",
     "text": [
      "rewarded trials:  [2, 4, 6, 7, 10, 11, 13, 15, 16, 17, 18, 23, 24, 25, 26, 27, 28, 29, 31, 32, 34, 36, 37, 38, 39, 41, 42, 43, 44, 45, 48, 50, 51, 53, 54, 55, 56, 57, 58, 59, 60, 61, 62, 63, 64, 65, 68, 71, 72, 73, 75, 76, 77, 79, 80, 81, 82, 83, 84, 86, 87, 89, 91, 94, 95, 96, 97, 98, 99, 100, 102, 103, 105, 106, 111, 112, 113]\n",
      "not rewarded trials:  [0, 1, 3, 5, 8, 9, 12, 14, 19, 20, 21, 22, 30, 33, 35, 40, 46, 47, 49, 52, 66, 67, 69, 70, 74, 78, 85, 88, 90, 92, 93, 101, 104, 107, 108, 109, 110]\n"
     ]
    }
   ],
   "source": [
    "########################################################\n",
    "################# WARP PRE_REWARD DATA #################\n",
    "########################################################\n",
    "# find rewarded trials\n",
    "\n",
    "\n",
    "c.get_rewarded_trials()\n",
    "\n",
    "#\n",
    "c.cmap = 'viridis'\n",
    "c.window = 900\n",
    "c.buffer = 10*30\n",
    "c.get_rewarded_trials_align_reward_aligned_warped()"
   ]
  },
  {
   "cell_type": "code",
   "execution_count": null,
   "id": "d80c5119",
   "metadata": {},
   "outputs": [],
   "source": []
  }
 ],
 "metadata": {
  "kernelspec": {
   "display_name": "Python 3 (ipykernel)",
   "language": "python",
   "name": "python3"
  },
  "language_info": {
   "codemirror_mode": {
    "name": "ipython",
    "version": 3
   },
   "file_extension": ".py",
   "mimetype": "text/x-python",
   "name": "python",
   "nbconvert_exporter": "python",
   "pygments_lexer": "ipython3",
   "version": "3.8.15"
  },
  "toc-autonumbering": false,
  "toc-showcode": true
 },
 "nbformat": 4,
 "nbformat_minor": 5
}
