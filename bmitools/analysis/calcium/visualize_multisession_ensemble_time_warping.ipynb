{
 "cells": [
  {
   "cell_type": "code",
   "execution_count": 1,
   "id": "aff08ce5",
   "metadata": {},
   "outputs": [
    {
     "data": {
      "application/javascript": "IPython.notebook.set_autosave_interval(180000)"
     },
     "metadata": {},
     "output_type": "display_data"
    },
    {
     "name": "stdout",
     "output_type": "stream",
     "text": [
      "Autosaving every 180 seconds\n",
      "Importing the dtw module. When using in academic works please cite:\n",
      "  T. Giorgino. Computing and Visualizing Dynamic Time Warping Alignments in R: The dtw Package.\n",
      "  J. Stat. Soft., doi:10.18637/jss.v031.i07.\n",
      "\n"
     ]
    }
   ],
   "source": [
    "import matplotlib.pyplot as plt\n",
    "import matplotlib\n",
    "\n",
    "%matplotlib tk\n",
    "%autosave 180\n",
    "%load_ext autoreload\n",
    "%autoreload 2\n",
    "\n",
    "\n",
    "import numpy as np\n",
    "#%matplotlib inline\n",
    "\n",
    "import os\n",
    "from utils import *\n",
    "\n",
    "import os\n",
    "\n",
    "from utils_calcium import ProcessCalcium"
   ]
  },
  {
   "cell_type": "code",
   "execution_count": 2,
   "id": "044f5ae6",
   "metadata": {},
   "outputs": [
    {
     "name": "stderr",
     "output_type": "stream",
     "text": [
      "  0%|          | 0/8 [00:00<?, ?it/s]"
     ]
    },
    {
     "name": "stderr",
     "output_type": "stream",
     "text": [
      " 50%|█████     | 4/8 [00:11<00:11,  2.93s/it]/home/cat/.conda/envs/bmi/lib/python3.8/site-packages/binarize2pcalcium/binarize2pcalcium.py:556: RuntimeWarning: invalid value encountered in divide\n",
      "  cumsum = cumsum/np.max(cumsum)\n",
      " 62%|██████▎   | 5/8 [00:14<00:08,  2.93s/it]/home/cat/.conda/envs/bmi/lib/python3.8/site-packages/binarize2pcalcium/binarize2pcalcium.py:556: RuntimeWarning: invalid value encountered in divide\n",
      "  cumsum = cumsum/np.max(cumsum)\n",
      " 75%|███████▌  | 6/8 [00:17<00:05,  2.92s/it]/home/cat/.conda/envs/bmi/lib/python3.8/site-packages/binarize2pcalcium/binarize2pcalcium.py:556: RuntimeWarning: invalid value encountered in divide\n",
      "  cumsum = cumsum/np.max(cumsum)\n",
      " 88%|████████▊ | 7/8 [00:20<00:02,  2.92s/it]/home/cat/.conda/envs/bmi/lib/python3.8/site-packages/binarize2pcalcium/binarize2pcalcium.py:556: RuntimeWarning: invalid value encountered in divide\n",
      "  cumsum = cumsum/np.max(cumsum)\n",
      "100%|██████████| 8/8 [00:23<00:00,  2.92s/it]\n"
     ]
    }
   ],
   "source": [
    "####################################################\n",
    "################## LOAD DATA #######################\n",
    "####################################################\n",
    "\n",
    "root_dir = '/media/cat/8TB/donato/bmi/'\n",
    "\n",
    "# ****************** MICE AVAILABLE ***********************\n",
    "# M1 = [\n",
    "#     'DON-011733',\n",
    "#     'DON-014382',\n",
    "#     'DON-014451',\n",
    "#     'DON-014575',\n",
    "#     'DON-014618',\n",
    "\n",
    "# CA3 = [\n",
    "#     'DON-012502',\n",
    "#     'DON-014266',\n",
    "#     'DON-014371',\n",
    "#     'DON-015801',\n",
    "#     'DON-015821',\n",
    "# ]\n",
    "# *********************************************************\n",
    "\n",
    "#\n",
    "animal_id = 'DON-011733'\n",
    "#animal_id = 'DON-014575'\n",
    "\n",
    "#       \n",
    "c = ProcessCalcium(root_dir,\n",
    "                   animal_id)\n",
    "\n",
    "#\n",
    "c.remove_bad_cells = False\n",
    "\n",
    "#\n",
    "c.recompute_binarization = False  # IF TRue: must input correct params from bin notebooks\n",
    "c.dff_min = 0.05                  # min %DFF for [ca] burst to considered a spike (default 5%) overwrites percentile threshold parameter\n",
    "c.percentile_threshold = 0.99   # this is pretty fixed, we don't change it; we want [ca] bursts that are well outside the \"physics-caused\"noise\n",
    "c.maximum_std_of_signal = 0.25     # if std of signal is greater than this, then we have a noisy signal and we don't want to binarize it\n",
    "\n",
    "#\n",
    "c.save_figures = False\n",
    "c.load_sessions()\n"
   ]
  },
  {
   "cell_type": "code",
   "execution_count": 3,
   "id": "0d1ca6ae",
   "metadata": {},
   "outputs": [
    {
     "name": "stdout",
     "output_type": "stream",
     "text": [
      "...done...\n"
     ]
    }
   ],
   "source": [
    "########################################################\n",
    "########################################################\n",
    "########################################################\n",
    "\n",
    "# adds trial information; eventually should also add bursts etc...\n",
    "c.fix_spreadsheet()\n",
    "\n",
    "#\n"
   ]
  },
  {
   "cell_type": "code",
   "execution_count": 4,
   "id": "30319593",
   "metadata": {},
   "outputs": [
    {
     "name": "stdout",
     "output_type": "stream",
     "text": [
      "[20230302, 20230303, 20230304, 20230305, 20230306, 20230307, 20230308, 20230309]\n",
      "['day0', 'bmi1', 'bmi2', 'bmi3', 'bmi4', 'bmi5', 'bmi6', 'bmi7']\n"
     ]
    },
    {
     "name": "stderr",
     "output_type": "stream",
     "text": [
      "  0%|          | 0/8 [00:00<?, ?it/s]"
     ]
    },
    {
     "name": "stderr",
     "output_type": "stream",
     "text": [
      "100%|██████████| 8/8 [00:55<00:00,  6.90s/it]\n"
     ]
    }
   ],
   "source": [
    "########################################################\n",
    "########################################################\n",
    "########################################################\n",
    "# load the ensemble state, trial starts, and trial ends info\n",
    "\n",
    "#c.session_id = 8\n",
    "print (c.session_ids)\n",
    "c.fix_spreadsheet_missing_vals = True\n",
    "\n",
    "print (c.session_types)\n",
    "\n",
    "c.load_spreadsheet_multi()"
   ]
  },
  {
   "cell_type": "code",
   "execution_count": 49,
   "id": "572f0a29",
   "metadata": {},
   "outputs": [
    {
     "name": "stderr",
     "output_type": "stream",
     "text": [
      "low pass filter: 100%|██████████| 1/1 [00:00<00:00, 594.35it/s]\n",
      "model filter: remove bleaching or trends: 100%|██████████| 1/1 [00:00<00:00, 517.82it/s]\n",
      "fitting mode to physics: 100%|██████████| 1/1 [00:00<00:00, 78.65it/s]\n"
     ]
    },
    {
     "name": "stdout",
     "output_type": "stream",
     "text": [
      "cumsum:  [4.63649033e-15 9.27561305e-15 1.39173696e-14 ... 1.00000000e+00\n",
      " 1.00000000e+00 1.00000000e+00]\n"
     ]
    },
    {
     "name": "stderr",
     "output_type": "stream",
     "text": [
      "binarizing continuous traces filtered fluorescence onphase:   0%|          | 0/1 [00:00<?, ?it/s]"
     ]
    },
    {
     "name": "stderr",
     "output_type": "stream",
     "text": [
      "binarizing continuous traces filtered fluorescence onphase: 100%|██████████| 1/1 [00:00<00:00, 107.42it/s]\n",
      "binarizing continuous traces filtered fluorescence upphase: 100%|██████████| 1/1 [00:00<00:00, 79.00it/s]\n",
      "low pass filter: 100%|██████████| 1/1 [00:00<00:00, 584.98it/s]\n",
      "model filter: remove bleaching or trends: 100%|██████████| 1/1 [00:00<00:00, 568.03it/s]\n",
      "fitting mode to physics: 100%|██████████| 1/1 [00:00<00:00, 80.70it/s]\n"
     ]
    },
    {
     "name": "stdout",
     "output_type": "stream",
     "text": [
      "cumsum:  [5.01316877e-10 1.00276836e-09 1.50435447e-09 ... 1.00000000e+00\n",
      " 1.00000000e+00 1.00000000e+00]\n"
     ]
    },
    {
     "name": "stderr",
     "output_type": "stream",
     "text": [
      "binarizing continuous traces filtered fluorescence onphase: 100%|██████████| 1/1 [00:00<00:00, 62.86it/s]\n",
      "binarizing continuous traces filtered fluorescence upphase: 100%|██████████| 1/1 [00:00<00:00, 51.81it/s]\n",
      "low pass filter: 100%|██████████| 1/1 [00:00<00:00, 622.67it/s]\n",
      "model filter: remove bleaching or trends: 100%|██████████| 1/1 [00:00<00:00, 550.58it/s]\n",
      "fitting mode to physics: 100%|██████████| 1/1 [00:00<00:00, 80.42it/s]\n"
     ]
    },
    {
     "name": "stdout",
     "output_type": "stream",
     "text": [
      "cumsum:  [2.27001954e-13 4.54110149e-13 6.81324632e-13 ... 1.00000000e+00\n",
      " 1.00000000e+00 1.00000000e+00]\n"
     ]
    },
    {
     "name": "stderr",
     "output_type": "stream",
     "text": [
      "binarizing continuous traces filtered fluorescence onphase: 100%|██████████| 1/1 [00:00<00:00, 80.34it/s]\n",
      "binarizing continuous traces filtered fluorescence upphase: 100%|██████████| 1/1 [00:00<00:00, 70.86it/s]\n",
      "low pass filter: 100%|██████████| 1/1 [00:00<00:00, 600.90it/s]\n",
      "model filter: remove bleaching or trends: 100%|██████████| 1/1 [00:00<00:00, 570.81it/s]\n",
      "fitting mode to physics: 100%|██████████| 1/1 [00:00<00:00, 84.14it/s]\n"
     ]
    },
    {
     "name": "stdout",
     "output_type": "stream",
     "text": [
      "cumsum:  [5.99037350e-12 1.19830454e-11 1.79780164e-11 ... 1.00000000e+00\n",
      " 1.00000000e+00 1.00000000e+00]\n"
     ]
    },
    {
     "name": "stderr",
     "output_type": "stream",
     "text": [
      "binarizing continuous traces filtered fluorescence onphase: 100%|██████████| 1/1 [00:00<00:00, 62.84it/s]\n",
      "binarizing continuous traces filtered fluorescence upphase: 100%|██████████| 1/1 [00:00<00:00, 49.90it/s]\n",
      "low pass filter: 100%|██████████| 1/1 [00:00<00:00, 562.92it/s]\n",
      "model filter: remove bleaching or trends: 100%|██████████| 1/1 [00:00<00:00, 538.84it/s]\n",
      "fitting mode to physics: 100%|██████████| 1/1 [00:00<00:00, 78.57it/s]\n"
     ]
    },
    {
     "name": "stdout",
     "output_type": "stream",
     "text": [
      "cumsum:  [3.64828491e-11 7.29779879e-11 1.09485420e-10 ... 1.00000000e+00\n",
      " 1.00000000e+00 1.00000000e+00]\n"
     ]
    },
    {
     "name": "stderr",
     "output_type": "stream",
     "text": [
      "binarizing continuous traces filtered fluorescence onphase: 100%|██████████| 1/1 [00:00<00:00, 63.55it/s]\n",
      "binarizing continuous traces filtered fluorescence upphase: 100%|██████████| 1/1 [00:00<00:00, 52.31it/s]\n",
      "low pass filter: 100%|██████████| 1/1 [00:00<00:00, 592.50it/s]\n",
      "model filter: remove bleaching or trends: 100%|██████████| 1/1 [00:00<00:00, 566.42it/s]\n",
      "fitting mode to physics: 100%|██████████| 1/1 [00:00<00:00, 84.31it/s]\n"
     ]
    },
    {
     "name": "stdout",
     "output_type": "stream",
     "text": [
      "cumsum:  [1.26496650e-17 2.53084175e-17 3.79762638e-17 ... 1.00000000e+00\n",
      " 1.00000000e+00 1.00000000e+00]\n"
     ]
    },
    {
     "name": "stderr",
     "output_type": "stream",
     "text": [
      "binarizing continuous traces filtered fluorescence onphase: 100%|██████████| 1/1 [00:00<00:00, 58.93it/s]\n",
      "binarizing continuous traces filtered fluorescence upphase: 100%|██████████| 1/1 [00:00<00:00, 51.32it/s]\n",
      "low pass filter: 100%|██████████| 1/1 [00:00<00:00, 621.93it/s]\n",
      "model filter: remove bleaching or trends: 100%|██████████| 1/1 [00:00<00:00, 543.66it/s]\n",
      "fitting mode to physics: 100%|██████████| 1/1 [00:00<00:00, 83.51it/s]\n"
     ]
    },
    {
     "name": "stdout",
     "output_type": "stream",
     "text": [
      "cumsum:  [4.13738239e-19 8.27809700e-19 1.24221465e-18 ... 1.00000000e+00\n",
      " 1.00000000e+00 1.00000000e+00]\n"
     ]
    },
    {
     "name": "stderr",
     "output_type": "stream",
     "text": [
      "binarizing continuous traces filtered fluorescence onphase: 100%|██████████| 1/1 [00:00<00:00, 54.84it/s]\n",
      "binarizing continuous traces filtered fluorescence upphase: 100%|██████████| 1/1 [00:00<00:00, 38.41it/s]\n"
     ]
    }
   ],
   "source": [
    "#######################################\n",
    "#######################################\n",
    "#######################################\n",
    "\n",
    "# binarize the ensembel state    \n",
    "c.plotting = False\n",
    "c.scale_threshold = 0.05 #                 # we want to decrease the burst detection threshold manually - because the \n",
    "                                            # automatic threshold detection is too conservative \n",
    "c.dff_threshold = 0.1\n",
    "c.percentile_threshold = 0.999\n",
    "\n",
    "#\n",
    "#print (\"TODO: need to add the standaline binairzation code to the binarize2pcalcium package....\")\n",
    "#print (\" This is generally a good idea anyways for doing single time sieres extraction\")\n",
    "\n",
    "# right now only binarizing upphase - if want to do negative phase have to invert the signal\n",
    "c.sample_rate = 30\n",
    "c.binarize_ensemble_state_multi()\n"
   ]
  },
  {
   "cell_type": "code",
   "execution_count": 50,
   "metadata": {},
   "outputs": [],
   "source": [
    "#######################################################\n",
    "#######################################################\n",
    "#######################################################\n",
    "\n",
    "plt.figure()\n",
    "t = np.arange(c.sessions[1].e_state.shape[0])/30.\n",
    "\n",
    "# make viridis colormap for line plotting up to 7 sessions\n",
    "cmap = matplotlib.cm.get_cmap('viridis')\n",
    "clrs = cmap(np.linspace(0, 1, 7))\n",
    "\n",
    "#\n",
    "for session_id in range(1,8,1):\n",
    "    temp = c.sessions[session_id].e_state_bin \n",
    "    temp2 = c.sessions[session_id].e_state\n",
    "\n",
    "    plt.plot(t, temp + 2*session_id, \n",
    "             label = \"bmi \"+str(session_id),\n",
    "             c='black',\n",
    "             alpha=.5)\n",
    "    \n",
    "    plt.plot(t, temp2 + 2*session_id, \n",
    "             c=clrs[session_id-1])\n",
    "\n",
    "#\n",
    "plt.xlabel(\"Time (sec)\",fontsize=16)\n",
    "\n",
    "#\n",
    "plt.xlim(0, t[-1])\n",
    "plt.yticks([])\n",
    "\n",
    "#c.sessions[1]\n",
    "plt.legend()\n",
    "\n",
    "#\n",
    "plt.suptitle(\"Ensemble state + Binarization\", fontsize=16)\n",
    "\n",
    "plt.show()\n"
   ]
  },
  {
   "cell_type": "code",
   "execution_count": 20,
   "id": "a7ba3175",
   "metadata": {},
   "outputs": [
    {
     "name": "stdout",
     "output_type": "stream",
     "text": [
      "# of snippets:  292  # of detected snippets of sign:  1   292\n",
      "# of bursts:  292  # of rewarded bursts:  46\n",
      "self.update_spreadsheet:  True\n",
      "TO ADD: grab the tones also during the bursts\n"
     ]
    }
   ],
   "source": [
    "#######################################\n",
    "#######################################\n",
    "#######################################\n",
    "\n",
    "#\n",
    "#c.sessions[session_id].thresh = thresh\n",
    "c.overwrite_spreadsheet = True\n",
    "c.plotting = True\n",
    "c.update_spreadsheet = True\n",
    "c.burst_sign = 1         # -1 or +1\n",
    "c.process_snippets()           # processes snippets and adds them to the spreassheet \n",
    "\n",
    "print (\"TO ADD: grab the tones also during the bursts\")\n",
    "\n"
   ]
  },
  {
   "cell_type": "code",
   "execution_count": 22,
   "id": "c2267076",
   "metadata": {},
   "outputs": [
    {
     "name": "stdout",
     "output_type": "stream",
     "text": [
      "snippets_warped:  (46, 30)\n"
     ]
    }
   ],
   "source": [
    "###############################################\n",
    "###############################################\n",
    "###############################################\n",
    "\n",
    "#\n",
    "#c.time_warp = False\n",
    "c.plotting = True\n",
    "\n",
    "#c.use_rewarded_bursts_only = False\n",
    "c.get_mean_warped_trace()  # this computes the warp trace regardless"
   ]
  },
  {
   "cell_type": "code",
   "execution_count": 26,
   "id": "92d9e7a8",
   "metadata": {},
   "outputs": [],
   "source": [
    "################################################\n",
    "######### VISUALIZE WARPING FUNCITONS ##########\n",
    "################################################\n",
    "\n",
    "#\n",
    "c.use_stretched = True\n",
    "c.plotting = True\n",
    "c.burst_to_threshold_only = True                 # this uses the bursts only to the threshold\n",
    "c.compute_warping_functions()\n"
   ]
  },
  {
   "cell_type": "code",
   "execution_count": 27,
   "id": "d68772cd",
   "metadata": {},
   "outputs": [
    {
     "name": "stderr",
     "output_type": "stream",
     "text": [
      "  0%|          | 0/354 [00:00<?, ?it/s]"
     ]
    },
    {
     "name": "stderr",
     "output_type": "stream",
     "text": [
      "100%|██████████| 354/354 [00:17<00:00, 19.67it/s]\n"
     ]
    },
    {
     "name": "stdout",
     "output_type": "stream",
     "text": [
      "burst_raw:  (354, 46, 400)\n",
      "post_burst_raw:  (354, 46, 100)\n",
      "burst_raw_mean:  (354, 400)\n",
      "(46, 200) (46, 30) (46, 100)\n",
      "traces_all:  (354, 46, 330)\n"
     ]
    }
   ],
   "source": [
    "# this plots the best cell responses to bursts\n",
    "c.start_idx = 0\n",
    "c.pre_burst_n_time_pts = 200\n",
    "c.ca_type = 'DFF'\n",
    "\n",
    "# \n",
    "c.plot_warped_cell_ca_trial_and_burst()\n",
    "\n",
    "#"
   ]
  },
  {
   "cell_type": "code",
   "execution_count": 22,
   "id": "db098d80",
   "metadata": {},
   "outputs": [
    {
     "name": "stdout",
     "output_type": "stream",
     "text": [
      "n_cells:  263 # rewarsds:  39\n",
      "traces-raw:  (263, 39, 400)\n",
      "traces mean:  (263, 400)\n"
     ]
    }
   ],
   "source": [
    "################################################\n",
    "######### VISUALIZE WARPING FUNCITONS ##########\n",
    "################################################\n",
    "# this plots the best cell responses to bursts\n",
    "c.start_idx = 0\n",
    "c.plot_warped_cell_ca_burst_only()\n",
    "\n",
    "#\n",
    "print (\"SOME TODOS\")\n",
    "print (\" 1. Warp only to the threshold - not the peak of burst\")\n",
    "print (\" 2. compute the rate map for each cell for burst initiation to threshold/end of peak (2 options)\")\n",
    "print (\" 3. compute the rate map for each cell from trial beginning to threshold/end of peak (2 options)\")\n"
   ]
  },
  {
   "cell_type": "code",
   "execution_count": null,
   "id": "0f4ae1a6",
   "metadata": {},
   "outputs": [],
   "source": []
  },
  {
   "cell_type": "code",
   "execution_count": null,
   "id": "da36fbf2",
   "metadata": {},
   "outputs": [],
   "source": []
  },
  {
   "cell_type": "code",
   "execution_count": 76,
   "id": "c32fe3f3",
   "metadata": {},
   "outputs": [],
   "source": [
    "# plt.figure()\n",
    "\n",
    "# #\n",
    "# temp = c.bursts.copy().astype(float)\n",
    "# temp[temp ==1000] = np.nan\n",
    "# temp[temp >0] = 1.5\n",
    "# plt.plot(temp,label='burst')\n",
    "# # same but with rewarded bursts\n",
    "# temp = c.bursts_rewarded.copy().astype(float)\n",
    "# temp[temp !=1] = np.nan\n",
    "\n",
    "# plt.plot(temp,label='burst rewarded')\n",
    "\n",
    "# # plot water reward\n",
    "# plt.plot(c.water_reward*1.3,label='water')\n",
    "\n",
    "# #\n",
    "# plt.plot(c.e_state,label='ensemble state')\n",
    "\n",
    "# plt.legend()\n",
    "# plt.show()\n"
   ]
  },
  {
   "cell_type": "code",
   "execution_count": null,
   "id": "138bde45",
   "metadata": {},
   "outputs": [],
   "source": []
  },
  {
   "cell_type": "code",
   "execution_count": null,
   "id": "6d025ea6",
   "metadata": {},
   "outputs": [],
   "source": []
  },
  {
   "cell_type": "code",
   "execution_count": null,
   "id": "023ae69b",
   "metadata": {},
   "outputs": [],
   "source": []
  },
  {
   "cell_type": "code",
   "execution_count": null,
   "id": "c181a8e7",
   "metadata": {},
   "outputs": [],
   "source": []
  },
  {
   "cell_type": "code",
   "execution_count": null,
   "id": "86d1cefa",
   "metadata": {},
   "outputs": [],
   "source": []
  },
  {
   "cell_type": "code",
   "execution_count": null,
   "id": "d99d623e",
   "metadata": {},
   "outputs": [],
   "source": []
  },
  {
   "cell_type": "code",
   "execution_count": null,
   "id": "926f7654",
   "metadata": {},
   "outputs": [],
   "source": []
  },
  {
   "cell_type": "code",
   "execution_count": null,
   "id": "c2b502f6",
   "metadata": {},
   "outputs": [],
   "source": []
  },
  {
   "cell_type": "code",
   "execution_count": null,
   "id": "e99976a9",
   "metadata": {},
   "outputs": [],
   "source": []
  },
  {
   "cell_type": "code",
   "execution_count": null,
   "id": "382188ed",
   "metadata": {},
   "outputs": [],
   "source": []
  },
  {
   "cell_type": "code",
   "execution_count": null,
   "id": "2e291d36",
   "metadata": {},
   "outputs": [],
   "source": []
  }
 ],
 "metadata": {
  "kernelspec": {
   "display_name": "Python 3 (ipykernel)",
   "language": "python",
   "name": "python3"
  },
  "language_info": {
   "codemirror_mode": {
    "name": "ipython",
    "version": 3
   },
   "file_extension": ".py",
   "mimetype": "text/x-python",
   "name": "python",
   "nbconvert_exporter": "python",
   "pygments_lexer": "ipython3",
   "version": "3.8.15"
  },
  "toc-autonumbering": false,
  "toc-showcode": true
 },
 "nbformat": 4,
 "nbformat_minor": 5
}
