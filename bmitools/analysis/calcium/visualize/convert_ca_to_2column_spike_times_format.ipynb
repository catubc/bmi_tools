{
 "cells": [
  {
   "cell_type": "code",
   "execution_count": 1,
   "id": "aff08ce5",
   "metadata": {},
   "outputs": [
    {
     "data": {
      "application/javascript": "IPython.notebook.set_autosave_interval(180000)"
     },
     "metadata": {},
     "output_type": "display_data"
    },
    {
     "name": "stdout",
     "output_type": "stream",
     "text": [
      "Autosaving every 180 seconds\n"
     ]
    }
   ],
   "source": [
    "import matplotlib.pyplot as plt\n",
    "import matplotlib\n",
    "\n",
    "%matplotlib tk\n",
    "%autosave 180\n",
    "%load_ext autoreload\n",
    "%autoreload 2\n",
    "\n",
    "\n",
    "import numpy as np\n",
    "#%matplotlib inline\n",
    "\n",
    "import os\n",
    "from utils import *\n",
    "\n",
    "import os\n",
    "\n",
    "from utils_calcium import ProcessCalcium"
   ]
  },
  {
   "cell_type": "code",
   "execution_count": 2,
   "id": "044f5ae6",
   "metadata": {},
   "outputs": [
    {
     "name": "stderr",
     "output_type": "stream",
     "text": [
      "  0%|          | 0/9 [00:00<?, ?it/s]"
     ]
    },
    {
     "name": "stdout",
     "output_type": "stream",
     "text": [
      "loading binarization\n"
     ]
    },
    {
     "name": "stderr",
     "output_type": "stream",
     "text": [
      " 11%|█         | 1/9 [00:01<00:14,  1.80s/it]"
     ]
    },
    {
     "name": "stdout",
     "output_type": "stream",
     "text": [
      "loading binarization\n"
     ]
    },
    {
     "name": "stderr",
     "output_type": "stream",
     "text": [
      " 33%|███▎      | 3/9 [00:05<00:10,  1.72s/it]"
     ]
    },
    {
     "name": "stdout",
     "output_type": "stream",
     "text": [
      "loading binarization\n",
      "loading binarization\n"
     ]
    },
    {
     "name": "stderr",
     "output_type": "stream",
     "text": [
      " 44%|████▍     | 4/9 [00:06<00:08,  1.70s/it]"
     ]
    },
    {
     "name": "stdout",
     "output_type": "stream",
     "text": [
      "loading binarization\n"
     ]
    },
    {
     "name": "stderr",
     "output_type": "stream",
     "text": [
      " 67%|██████▋   | 6/9 [00:10<00:04,  1.61s/it]"
     ]
    },
    {
     "name": "stdout",
     "output_type": "stream",
     "text": [
      "loading binarization\n",
      "loading binarization\n"
     ]
    },
    {
     "name": "stderr",
     "output_type": "stream",
     "text": [
      " 78%|███████▊  | 7/9 [00:11<00:03,  1.61s/it]"
     ]
    },
    {
     "name": "stdout",
     "output_type": "stream",
     "text": [
      "loading binarization\n"
     ]
    },
    {
     "name": "stderr",
     "output_type": "stream",
     "text": [
      "100%|██████████| 9/9 [00:14<00:00,  1.65s/it]"
     ]
    },
    {
     "name": "stdout",
     "output_type": "stream",
     "text": [
      "loading binarization\n"
     ]
    },
    {
     "name": "stderr",
     "output_type": "stream",
     "text": [
      "\n"
     ]
    }
   ],
   "source": [
    "####################################################\n",
    "################## LOAD DATA #######################\n",
    "####################################################\n",
    "\n",
    "root_dir = '/media/cat/4TB/donato/andres/master_analysis/'\n",
    "\n",
    "# ****************** MICE AVAILABLE ***********************\n",
    "# M1 = [\n",
    "#     'DON-011733',\n",
    "#     'DON-014382',\n",
    "#     'DON-014451',\n",
    "#     'DON-014575',\n",
    "#     'DON-014618',\n",
    "#     'DON-015821',\n",
    "\n",
    "# CA3 = [\n",
    "#     'DON-012502',\n",
    "#     'DON-014266',\n",
    "#     'DON-014371',\n",
    "#     'DON-015801',\n",
    "# ]\n",
    "# *********************************************************\n",
    "\n",
    "#\n",
    "animal_id = 'DON-014371'\n",
    "\n",
    "#       \n",
    "c = ProcessCalcium(root_dir,\n",
    "                   animal_id)\n",
    "\n",
    "#\n",
    "c.load_data()\n",
    "\n",
    "#\n",
    "c.load_day0_mask()\n",
    "\n"
   ]
  },
  {
   "cell_type": "code",
   "execution_count": 15,
   "id": "4456c3e1",
   "metadata": {},
   "outputs": [
    {
     "name": "stdout",
     "output_type": "stream",
     "text": [
      "(318, 90000)\n",
      "(435793, 2)\n",
      "[[    3   245]\n",
      " [    3    37]\n",
      " [    3    26]\n",
      " ...\n",
      " [89993    69]\n",
      " [89994    69]\n",
      " [89995    69]]\n"
     ]
    }
   ],
   "source": [
    "######################################################\n",
    "######################################################\n",
    "######################################################\n",
    "\n",
    "def convert_ca_to_spike_time_format(rasters):\n",
    "\n",
    "    print (rasters.shape)\n",
    "\n",
    "    # get the locations of the spikes as 1s in the raster\n",
    "    spike_locs = np.where(rasters == 1)\n",
    "\n",
    "    # make a 2 dimensional array with spike times in the first column and neuron number in the second column\n",
    "    spike_times = np.zeros((spike_locs[0].shape[0], 2), dtype = np.int32)\n",
    "    spike_times[:,0] = spike_locs[1]\n",
    "    spike_times[:,1] = spike_locs[0]\n",
    "    \n",
    "    # sort the array by spike time which is the first column\n",
    "    idx = spike_times[:,0].argsort()\n",
    "    spike_times = spike_times[idx]\n",
    "\n",
    "    #\n",
    "    print (spike_times.shape)\n",
    "    print (spike_times)\n",
    "\n",
    "    #\n",
    "    return spike_times\n",
    "\n",
    "#\n",
    "rasters = c.sessions[1].F_upphase_bin\n",
    "\n",
    "#\n",
    "spike_times = convert_ca_to_spike_time_format(rasters)\n",
    "\n",
    "# find trials as locations \n",
    "# save the times_snipets_over_threshold to disk\n",
    "np.save(os.path.join(c.sessions[1].data_dir,\n",
    "        'spike_times.npy'), spike_times)\n",
    "\n",
    "\n"
   ]
  },
  {
   "cell_type": "code",
   "execution_count": null,
   "id": "32cf58ab",
   "metadata": {},
   "outputs": [],
   "source": []
  },
  {
   "cell_type": "code",
   "execution_count": null,
   "id": "7c060f04",
   "metadata": {},
   "outputs": [],
   "source": []
  },
  {
   "cell_type": "code",
   "execution_count": null,
   "id": "26aa96e1",
   "metadata": {},
   "outputs": [],
   "source": []
  },
  {
   "cell_type": "code",
   "execution_count": null,
   "id": "9e17e162",
   "metadata": {},
   "outputs": [],
   "source": []
  },
  {
   "cell_type": "code",
   "execution_count": null,
   "id": "e279a887",
   "metadata": {},
   "outputs": [],
   "source": []
  },
  {
   "cell_type": "code",
   "execution_count": null,
   "id": "29e271fc",
   "metadata": {},
   "outputs": [],
   "source": []
  },
  {
   "cell_type": "code",
   "execution_count": null,
   "id": "c6763141",
   "metadata": {},
   "outputs": [],
   "source": []
  },
  {
   "cell_type": "code",
   "execution_count": null,
   "id": "0127ae5e",
   "metadata": {},
   "outputs": [],
   "source": []
  },
  {
   "cell_type": "code",
   "execution_count": null,
   "id": "dc25f3f5",
   "metadata": {},
   "outputs": [],
   "source": []
  },
  {
   "cell_type": "code",
   "execution_count": 10,
   "id": "33758b56",
   "metadata": {},
   "outputs": [],
   "source": [
    "#############################################################\n",
    "####### COMPUTE TONE TRIGGERED TIME-FIELDS - ALL CELLS ######\n",
    "#############################################################\n",
    "\n",
    "#\n",
    "F_type = 'upphase'\n",
    "session_id = 1\n",
    "c.session_id = session_id\n",
    "\n",
    "# compute the tone triggered \n",
    "c.window = 5*30  # window to visualize in frames\n",
    "c.vmax = 0.3\n",
    "c.vmin = None\n",
    "c.shuffle = False\n",
    "c.F_type = F_type   # 'upphase' or 'F_filtered'\n",
    "c.smooth = False\n",
    "c.remove_rewards = True\n",
    "c.recompute_tones = False\n",
    "\n",
    "c.recompute_tones = True\n",
    "\n",
    "#\n",
    "c.tone_type = 'starts'  # 'starts' vs 'all'\n",
    "\n",
    "#\n",
    "c.cmap = 'jet'\n",
    "c.save_to_disk = True\n",
    "\n",
    "#\n",
    "c.get_tones()\n",
    "\n",
    "#\n",
    "c.get_unique_tones()\n",
    "\n",
    "#\n",
    "#c.get_tone_triggered_ca_all_cells()\n"
   ]
  },
  {
   "cell_type": "code",
   "execution_count": 38,
   "id": "0d1ca6ae",
   "metadata": {},
   "outputs": [],
   "source": [
    "########################################################\n",
    "########################################################\n",
    "########################################################\n",
    " \n",
    "# load data from spreassheetds\n",
    "df = pd.read_excel('/media/cat/4TB/donato/andres/master_analysis/DON-014371/20230331/results.xlsx')\n",
    "\n",
    "# get threshold: 3rd column of df as a numpy array \n",
    "thresh = df.iloc[:, 2].values\n",
    "\n",
    "# get ensemble state: 8th column of df as a numpy array\n",
    "e_state = df.iloc[:, 7].values\n",
    "\n",
    "# delete first few frames\n",
    "e_state[:100] = 0 \n",
    "\n",
    "# filter using savgol_filter\n",
    "from scipy.signal import savgol_filter\n",
    "e_state = savgol_filter(e_state, 31, 3)\n",
    "\n"
   ]
  },
  {
   "cell_type": "code",
   "execution_count": 127,
   "id": "572f0a29",
   "metadata": {},
   "outputs": [
    {
     "name": "stderr",
     "output_type": "stream",
     "text": [
      "low pass filter: 100%|██████████| 1/1 [00:00<00:00, 519.23it/s]\n",
      "model filter: remove bleaching or trends: 100%|██████████| 1/1 [00:00<00:00, 351.34it/s]"
     ]
    },
    {
     "name": "stderr",
     "output_type": "stream",
     "text": [
      "\n",
      "binarizing continuous traces filtered fluorescence onphase: 100%|██████████| 1/1 [00:00<00:00, 100.07it/s]\n",
      "binarizing continuous traces filtered fluorescence upphase: 100%|██████████| 1/1 [00:00<00:00, 91.61it/s]\n"
     ]
    }
   ],
   "source": [
    "#######################################\n",
    "#######################################\n",
    "#######################################\n",
    "\n",
    "def plot_e_state_binarization(e_state,\n",
    "                              e_state_bin,\n",
    "                              e_state_sign,\n",
    "                              thresh):\n",
    "    #\n",
    "    t = np.arange(0, 90000, 1)/30.\n",
    "\n",
    "    # plot ensemble state graph\n",
    "    plt.figure(figsize=(10, 10))\n",
    "\n",
    "    plt.plot(t,e_state, label = 'ensemble state')\n",
    "    plt.plot(t,e_state_bin*e_state_sign, label = 'ensemble state bin')\n",
    "\n",
    "    # plot horizontal line from 0 to 90000 at thresh\n",
    "    plt.plot(t, thresh, 'k-', lw=2, label = 'thresh')\n",
    "\n",
    "    #\n",
    "    plt.xlabel('time (s)')\n",
    "\n",
    "    # set xlims\n",
    "    plt.xlim(t[0], t[-1])\n",
    "\n",
    "    plt.legend()\n",
    "    plt.show()\n",
    "\n",
    "\n",
    "#\n",
    "c.sessions[1].percentile_threshold = 0.98\n",
    "\n",
    "#\n",
    "c.sessions[1].binarize_traces_single_trace(np.abs(e_state))\n",
    "\n",
    "# get locations of positive and negative values of e_state\n",
    "pos = np.where(e_state >= 0)[0]\n",
    "neg = np.where(e_state < 0)[0]\n",
    "\n",
    "# make an array of -1 and +1 to represent the sign of the e_state\n",
    "e_state_sign = np.zeros(e_state.shape)\n",
    "e_state_sign[pos] = 1\n",
    "e_state_sign[neg] = -1\n",
    "\n",
    "#\n",
    "e_state_bin = c.sessions[1].trace_upphase_bin\n",
    "\n",
    "#\n",
    "plot_e_state_binarization(e_state,\n",
    "                        e_state_bin,\n",
    "                        e_state_sign,\n",
    "                       thresh)\n"
   ]
  },
  {
   "cell_type": "code",
   "execution_count": 128,
   "id": "a7ba3175",
   "metadata": {},
   "outputs": [
    {
     "name": "stdout",
     "output_type": "stream",
     "text": [
      "(114, 2)\n"
     ]
    }
   ],
   "source": [
    "#######################################\n",
    "#######################################\n",
    "#######################################\n",
    "\n",
    "def process_snippets(c):\n",
    "    # show extracted snippets\n",
    "    starts_ends = np.array(c.sessions[1].starts_ends).squeeze()\n",
    "    print (starts_ends.shape)\n",
    "\n",
    "    # get the sign of each extracted snippet\n",
    "    signs = []\n",
    "    for k in range(starts_ends.shape[0]):\n",
    "        signs.append(np.median(e_state_sign[starts_ends[k,0]:starts_ends[k,1]]))\n",
    "\n",
    "    signs = np.int32(signs)\n",
    "\n",
    "    # also check which positive snippets cross the threshold\n",
    "\n",
    "    # \n",
    "    rewarded_snippets = []\n",
    "    for k in range(starts_ends.shape[0]):\n",
    "\n",
    "        if signs[k] == 1:\n",
    "            temp = e_state[starts_ends[k,0]:starts_ends[k,1]]\n",
    "            if np.max(temp) > np.mean(thresh):\n",
    "                if np.min(temp) < np.mean(thresh)*.5:\n",
    "\n",
    "                    rewarded_snippets.append(k)\n",
    "                \n",
    "\n",
    "    return signs, np.array(rewarded_snippets)\n",
    "\n",
    "#\n",
    "c.sessions[1].thresh = thresh\n",
    "signs, rewarded_snippets = process_snippets(c)\n",
    "\n",
    "\n"
   ]
  },
  {
   "cell_type": "code",
   "execution_count": null,
   "id": "c2267076",
   "metadata": {},
   "outputs": [],
   "source": [
    "###############################################\n",
    "###############################################\n",
    "###############################################\n",
    "#\n",
    "def time_warp_snippet(snippet):\n",
    "\n",
    "    #\n",
    "    time_original = np.arange(snippet.shape[0])\n",
    "    data_original = snippet\n",
    "\n",
    "    #\n",
    "    f = scipy.interpolate.interp1d(time_original, data_original, kind='linear')\n",
    "\n",
    "    # Use this function to obtain new data samples\n",
    "    time_new = np.linspace(0, time_original[-1], 10000)\n",
    "    #idx = np.where(time_new < time_original[-1])[0]\n",
    "    #time_new = time_new[idx]\n",
    "\n",
    "    data_new = f(time_new)\n",
    "    #print (data_new.shape)\n",
    "    \n",
    "    # take a total of 100 samples from the snippet\n",
    "    idx = np.linspace(0, data_new.shape[0]-1, 30).astype(int)\n",
    "    snippet_downsampled = data_new[idx]\n",
    "\n",
    "    return snippet_downsampled\n",
    "\n",
    "#\n",
    "time_warp = True\n",
    "\n",
    "\n",
    "# plot the ensemble state for each of the starts_ends separating into 2 plots by sign\n",
    "plt.figure(figsize=(15,5))\n",
    "\n",
    "#\n",
    "ax1 = plt.subplot(1,3,1)\n",
    "ax1.set_title('positive')\n",
    "plt.xlabel('time (s)')\n",
    "# plot the thresh value\n",
    "ax1.axhline(y=np.mean(thresh), color='grey', linestyle='--')\n",
    "\n",
    "#\n",
    "ax2 = plt.subplot(1,3,2)\n",
    "ax2.set_title('negative')\n",
    "plt.xlabel('time (s)')\n",
    "\n",
    "\n",
    "# count # of positive and negative vals in signs\n",
    "pos = np.sum(signs == 1)\n",
    "neg = np.sum(signs == -1)\n",
    "\n",
    "# make a colormap of fixed colors in viridis for 10 values\n",
    "cmap_pos = plt.cm.viridis(np.linspace(0, 1, pos))\n",
    "cmap_neg = plt.cm.viridis(np.linspace(0, 1, neg))\n",
    "\n",
    "#\n",
    "ctr_pos = 0\n",
    "ctr_neg = 0\n",
    "for k in range(starts_ends.shape[0]):\n",
    "    temp = e_state[starts_ends[k,0]:starts_ends[k,1]]\n",
    "\n",
    "    # if time warp\n",
    "    if time_warp == True:\n",
    "        temp = time_warp_snippet(temp)\n",
    "\n",
    "    if signs[k] == 1:\n",
    "        ax1.plot(np.arange(temp.shape[0])/30, temp,\n",
    "                 c=cmap_pos[ctr_pos])\n",
    "        ctr_pos += 1\n",
    "    else:\n",
    "        ax2.plot(np.arange(temp.shape[0])/30, temp,\n",
    "                 c=cmap_neg[ctr_neg])\n",
    "        ctr_neg += 1\n",
    "\n",
    "#\n",
    "ax3 = plt.subplot(1,3,3)\n",
    "ax3.set_title('good snippets (> threshold; start from 0.5 max)')\n",
    "plt.xlabel('time (s)')\n",
    "\n",
    "#\n",
    "cmap_r = plt.cm.viridis(np.linspace(0, 1, rewarded_snippets.shape[0]))\n",
    "for k in range(rewarded_snippets.shape[0]):\n",
    "    idx = rewarded_snippets[k]\n",
    "    temp = e_state[starts_ends[idx,0]:starts_ends[idx,1]]\n",
    "    # if time warp\n",
    "    if time_warp == True:\n",
    "        temp = time_warp_snippet(temp)\n",
    "\n",
    "    ax3.plot(np.arange(temp.shape[0])/30, temp,\n",
    "             c=cmap_r[k])\n",
    "\n",
    "# plot the thresh value\n",
    "ax3.axhline(y=np.mean(thresh), color='grey', linestyle='--')\n",
    "\n",
    "#\n",
    "plt.show()"
   ]
  },
  {
   "cell_type": "code",
   "execution_count": null,
   "id": "413864cb",
   "metadata": {},
   "outputs": [],
   "source": []
  },
  {
   "cell_type": "code",
   "execution_count": null,
   "id": "d99d623e",
   "metadata": {},
   "outputs": [],
   "source": []
  },
  {
   "cell_type": "code",
   "execution_count": null,
   "id": "926f7654",
   "metadata": {},
   "outputs": [],
   "source": []
  },
  {
   "cell_type": "code",
   "execution_count": null,
   "id": "c2b502f6",
   "metadata": {},
   "outputs": [],
   "source": []
  },
  {
   "cell_type": "code",
   "execution_count": 27,
   "id": "8203691d",
   "metadata": {},
   "outputs": [
    {
     "data": {
      "application/vnd.jupyter.widget-view+json": {
       "model_id": "eb4bc37301d1475c9a7ee5d023303a63",
       "version_major": 2,
       "version_minor": 0
      },
      "text/plain": [
       "  0%|          | 0/318 [00:00<?, ?it/s]"
      ]
     },
     "metadata": {},
     "output_type": "display_data"
    }
   ],
   "source": [
    "##############################################\n",
    "####### COMPUTE [ca] TRIGGERED TONES #########\n",
    "##############################################\n",
    "\n",
    "#\n",
    "F_type = 'upphase'\n",
    "session_ids = np.arange(1, len(c.session_ids))\n",
    "session_id = 1\n",
    "\n",
    "#\n",
    "c.session_id = session_id\n",
    "\n",
    "# compute the tone triggered \n",
    "c.window = 5*30  # window to visualize in frames\n",
    "c.vmax = 50\n",
    "c.vmin = None\n",
    "c.shuffle = False\n",
    "c.F_type = F_type   # 'upphase' or 'F_filtered'\n",
    "c.smooth = False\n",
    "c.remove_rewards = True\n",
    "c.recompute_tones = False\n",
    "c.remove_base_tone = True\n",
    "\n",
    "#\n",
    "c.tone_type = 'starts'  # 'starts' vs 'all'\n",
    "\n",
    "#\n",
    "c.cmap = 'jet'\n",
    "c.save_to_disk = True\n",
    "\n",
    "#\n",
    "c.get_tones()\n",
    "\n",
    "#\n",
    "c.get_unique_tones()\n",
    "\n",
    "#\n",
    "c.get_ca_triggered_tone_all_cells()\n"
   ]
  },
  {
   "cell_type": "code",
   "execution_count": null,
   "id": "71b7a259",
   "metadata": {},
   "outputs": [],
   "source": []
  },
  {
   "cell_type": "code",
   "execution_count": null,
   "id": "51171d38",
   "metadata": {},
   "outputs": [],
   "source": []
  },
  {
   "cell_type": "code",
   "execution_count": null,
   "id": "37b07e00",
   "metadata": {},
   "outputs": [],
   "source": []
  },
  {
   "cell_type": "code",
   "execution_count": 41,
   "id": "038659da",
   "metadata": {},
   "outputs": [
    {
     "name": "stderr",
     "output_type": "stream",
     "text": [
      "100%|██████████| 318/318 [00:17<00:00, 18.06it/s]\n"
     ]
    }
   ],
   "source": [
    "######################################################\n",
    "########### COMPUTE TONE TRIGGERED STATIONARY VALS ###\n",
    "######################################################\n",
    "\n",
    "c.session_id = 1\n",
    "c.get_tones()\n",
    "\n",
    "c.get_unique_tones()\n",
    "\n",
    "# compute the tone triggered \n",
    "\n",
    "#c.min_ca_val = 0.15\n",
    "c.window = 15*30  # window to visualize in frames\n",
    "c.vmax = 0.3\n",
    "c.vmin = None\n",
    "c.shuffle = False\n",
    "c.F_type = F_type   # 'upphase' or 'F_filtered'\n",
    "c.smooth = True\n",
    "c.remove_rewards = True\n",
    "\n",
    "c.cmap = 'jet'\n",
    "c.save_to_disk = True\n",
    "plt.figure()\n",
    "for cell_id in trange(c.sessions[c.session_id].F_filtered.shape[0]):\n",
    "    c.cell_id = cell_id\n",
    "    c.get_tone_triggered_ca_single_cell_static()\n"
   ]
  },
  {
   "cell_type": "code",
   "execution_count": null,
   "id": "5b7abb3d",
   "metadata": {},
   "outputs": [],
   "source": []
  },
  {
   "cell_type": "code",
   "execution_count": null,
   "id": "082f5ec2",
   "metadata": {},
   "outputs": [],
   "source": [
    "####################################################\n",
    "####################################################\n",
    "####################################################\n",
    "\n",
    "# compute the tone triggered \n",
    "c.min_ca_val = 0.15\n",
    "c.window = 15*30\n",
    "c.vmax = 0.2\n",
    "c.vmin = -c.vmax\n",
    "c.cmap = 'viridis'\n",
    "\n",
    "c.cell_id = 0\n",
    "c.save_to_disk = True\n",
    "c.get_tone_triggered_ca_single_cell()\n",
    "\n",
    "#"
   ]
  },
  {
   "cell_type": "code",
   "execution_count": null,
   "id": "aaec45b3",
   "metadata": {},
   "outputs": [],
   "source": []
  },
  {
   "cell_type": "code",
   "execution_count": null,
   "id": "154c38cc",
   "metadata": {},
   "outputs": [],
   "source": []
  },
  {
   "cell_type": "code",
   "execution_count": null,
   "id": "eee41f28",
   "metadata": {},
   "outputs": [],
   "source": []
  },
  {
   "cell_type": "code",
   "execution_count": null,
   "id": "b27b4ac3",
   "metadata": {},
   "outputs": [],
   "source": []
  },
  {
   "cell_type": "code",
   "execution_count": null,
   "id": "bc4d7366",
   "metadata": {},
   "outputs": [],
   "source": []
  },
  {
   "cell_type": "code",
   "execution_count": null,
   "id": "9e5b20a0",
   "metadata": {},
   "outputs": [],
   "source": []
  },
  {
   "cell_type": "code",
   "execution_count": null,
   "id": "5fe52ead",
   "metadata": {},
   "outputs": [],
   "source": []
  },
  {
   "cell_type": "code",
   "execution_count": null,
   "id": "1c3c3eba",
   "metadata": {},
   "outputs": [],
   "source": []
  },
  {
   "cell_type": "code",
   "execution_count": null,
   "id": "27920990",
   "metadata": {},
   "outputs": [],
   "source": []
  },
  {
   "cell_type": "code",
   "execution_count": null,
   "id": "4a4def6c",
   "metadata": {},
   "outputs": [],
   "source": []
  },
  {
   "cell_type": "code",
   "execution_count": null,
   "id": "ba856718",
   "metadata": {},
   "outputs": [],
   "source": []
  },
  {
   "cell_type": "code",
   "execution_count": null,
   "id": "af19dca0",
   "metadata": {},
   "outputs": [],
   "source": []
  },
  {
   "cell_type": "code",
   "execution_count": null,
   "id": "197fee8f",
   "metadata": {},
   "outputs": [],
   "source": []
  },
  {
   "cell_type": "code",
   "execution_count": null,
   "id": "14c4549f",
   "metadata": {},
   "outputs": [],
   "source": [
    "####################################################\n",
    "####### PLOT MASK VS. CLOSESST SUITE2P CELLS #######\n",
    "####################################################\n",
    "# loop through contours rois list and plot them\n",
    "\n",
    "#\n",
    "c.contour_ROI_max_dist = 20\n",
    "\n",
    "# gets and plots the most nearby cells to each contour\n",
    "c.plot_matching_contours()\n",
    "\n",
    "#\n"
   ]
  },
  {
   "cell_type": "code",
   "execution_count": null,
   "id": "ba5309fa",
   "metadata": {},
   "outputs": [
    {
     "data": {
      "application/vnd.jupyter.widget-view+json": {
       "model_id": "5837569e250c4789928aa576b1972e78",
       "version_major": 2,
       "version_minor": 0
      },
      "text/plain": [
       "  0%|          | 0/9 [00:00<?, ?it/s]"
      ]
     },
     "metadata": {},
     "output_type": "display_data"
    },
    {
     "name": "stdout",
     "output_type": "stream",
     "text": [
      "# of cells, times:  (627, 90000) , output:  (39, 627, 900)\n",
      "# of cells, times:  (623, 90000) , output:  (35, 623, 900)\n",
      "# of cells, times:  (699, 90000) , output:  (14, 699, 900)\n",
      "# of cells, times:  (681, 90000) , output:  (41, 681, 900)\n",
      "# of cells, times:  (723, 90000) , output:  (9, 723, 900)\n",
      "# of cells, times:  (674, 90000) , output:  (58, 674, 900)\n",
      "# of cells, times:  (761, 90000) , output:  (26, 761, 900)\n",
      "# of cells, times:  (1130, 90000) , output:  (21, 1130, 900)\n"
     ]
    }
   ],
   "source": [
    "######################################################\n",
    "####### LOAD PERI-REWARD HISTOGRAM FOR ALL CELLS #####\n",
    "######################################################\n",
    "\n",
    "#\n",
    "c.reward_window = 450\n",
    "c.shuffle_rewards = False\n",
    "c.filter = True\n",
    "c.compute_reward_centered_traces()\n"
   ]
  },
  {
   "cell_type": "code",
   "execution_count": null,
   "id": "c3c840f2",
   "metadata": {},
   "outputs": [
    {
     "name": "stdout",
     "output_type": "stream",
     "text": [
      "input traces:  (623, 900)\n",
      "closest_ROI_cells:  [[  0  36]\n",
      " [  0  37]\n",
      " [  0  55]\n",
      " [  1 175]\n",
      " [  2 163]\n",
      " [  2 328]]\n",
      "loopin gover all suite2p cells:  623\n",
      "k:  36  matching_cell:  36  matching_mask:  0\n",
      "k:  37  matching_cell:  37  matching_mask:  0\n",
      "k:  55  matching_cell:  55  matching_mask:  0\n",
      "k:  163  matching_cell:  163  matching_mask:  2\n",
      "k:  175  matching_cell:  175  matching_mask:  1\n",
      "k:  328  matching_cell:  328  matching_mask:  2\n",
      "k:  193  clrs2[k][0]:  lightblue\n",
      "k:  277  clrs2[k][0]:  blue\n",
      "k:  278  clrs2[k][0]:  blue\n",
      "k:  471  clrs2[k][0]:  blue\n"
     ]
    }
   ],
   "source": [
    "######################################################\n",
    "####### LOAD PERI-REWARD HISTOGRAM FOR ALL CELLS #####\n",
    "######################################################\n",
    "\n",
    "#\n",
    "c.session_id = 8\n",
    "c.scale = .5\n",
    "c.shuffled = False\n",
    "c.sort_by_peak = True\n",
    "c.min_ptp = 0.15\n",
    "\n",
    "c.plot_reward_centered_traces()\n"
   ]
  },
  {
   "cell_type": "code",
   "execution_count": null,
   "id": "dfd74933",
   "metadata": {},
   "outputs": [],
   "source": []
  },
  {
   "cell_type": "code",
   "execution_count": null,
   "id": "acd104d1",
   "metadata": {},
   "outputs": [],
   "source": [
    "# ######################################################\n",
    "# ####### LOAD PERI-REWARD HISTOGRAM FOR ALL CELLS #####\n",
    "# ######################################################\n",
    "\n",
    "# # same but rank the cells by their peak response\n",
    "# c.plot_reward_centered_traces_ranked()"
   ]
  },
  {
   "cell_type": "code",
   "execution_count": null,
   "id": "a0c08cda",
   "metadata": {},
   "outputs": [
    {
     "name": "stdout",
     "output_type": "stream",
     "text": [
      "closest_ROI_cells:  [[  0 142]\n",
      " [  0 180]\n",
      " [  0 258]\n",
      " [  1  23]\n",
      " [  2  40]\n",
      " [  2 143]\n",
      " [  3  27]\n",
      " [  3 107]\n",
      " [  3 138]\n",
      " [  3 194]\n",
      " [  3 245]]\n"
     ]
    },
    {
     "data": {
      "text/plain": [
       "Text(0.5, 0, 'Time (s)')"
      ]
     },
     "execution_count": 107,
     "metadata": {},
     "output_type": "execute_result"
    }
   ],
   "source": [
    "######################################################\n",
    "####### LOAD PERI-REWARD HISTOGRAM FOR ALL CELLS #####\n",
    "######################################################\n",
    "\n",
    "#\n",
    "c.plot_reward_centered_traces_ROIs_only()\n"
   ]
  },
  {
   "cell_type": "code",
   "execution_count": null,
   "id": "3e08c442",
   "metadata": {},
   "outputs": [],
   "source": [
    "# ######################################################\n",
    "# ####### LOAD PERI-REWARD HISTOGRAM FOR ALL CELLS #####\n",
    "# ######################################################\n",
    "\n",
    "# # same but rank the cells by their peak response\n",
    "# c.plot_reward_centered_traces_ROIs_only_ranked()\n"
   ]
  },
  {
   "cell_type": "code",
   "execution_count": null,
   "id": "4a980793",
   "metadata": {},
   "outputs": [
    {
     "name": "stderr",
     "output_type": "stream",
     "text": [
      "No artists with labels found to put in legend.  Note that artists whose label start with an underscore are ignored when legend() is called with no argument.\n",
      "No artists with labels found to put in legend.  Note that artists whose label start with an underscore are ignored when legend() is called with no argument.\n",
      "No artists with labels found to put in legend.  Note that artists whose label start with an underscore are ignored when legend() is called with no argument.\n"
     ]
    },
    {
     "data": {
      "text/plain": [
       "Text(0.5, 0, 'Time (s)')"
      ]
     },
     "execution_count": 109,
     "metadata": {},
     "output_type": "execute_result"
    }
   ],
   "source": [
    "######################################################\n",
    "############### SHOW ALL DAYS/SESSIONS ###############\n",
    "######################################################\n",
    "\n",
    "#\n",
    "c.reward_window = 450\n",
    "\n",
    "#\n",
    "c.plot_reward_centered_traces_ROIs_all_days()\n",
    "plt.xlabel('Time (s)',fontsize=20)\n"
   ]
  },
  {
   "cell_type": "code",
   "execution_count": null,
   "id": "796c1531",
   "metadata": {},
   "outputs": [
    {
     "name": "stdout",
     "output_type": "stream",
     "text": [
      "{'suite2p_version': '0.10.1', 'look_one_level_down': 0.0, 'fast_disk': [], 'delete_bin': True, 'mesoscan': False, 'bruker': False, 'bruker_bidirectional': False, 'h5py': [], 'h5py_key': 'data', 'save_path0': [], 'save_folder': [], 'subfolders': [], 'move_bin': False, 'nplanes': 1, 'nchannels': 1, 'functional_chan': 1, 'tau': 1.0, 'fs': 30.947, 'force_sktiff': False, 'frames_include': -1, 'multiplane_parallel': 0.0, 'ignore_flyback': [], 'preclassify': 0.0, 'save_mat': True, 'save_NWB': 0.0, 'combined': 1.0, 'aspect': 1.0, 'do_bidiphase': False, 'bidiphase': 0.0, 'bidi_corrected': False, 'do_registration': 1, 'two_step_registration': 0.0, 'keep_movie_raw': False, 'nimg_init': 500, 'batch_size': 500, 'maxregshift': 0.1, 'align_by_chan': 1, 'reg_tif': True, 'reg_tif_chan2': False, 'subpixel': 10, 'smooth_sigma_time': 0.0, 'smooth_sigma': 1.15, 'th_badframes': 100.0, 'norm_frames': True, 'force_refImg': False, 'pad_fft': False, 'nonrigid': True, 'block_size': [128, 128], 'snr_thresh': 1.2, 'maxregshiftNR': 5.0, '1Preg': False, 'spatial_hp': 42, 'spatial_hp_reg': 42.0, 'spatial_hp_detect': 25, 'pre_smooth': 0.0, 'spatial_taper': 40.0, 'roidetect': True, 'spikedetect': True, 'anatomical_only': 0.0, 'cellprob_threshold': 0.0, 'flow_threshold': 1.5, 'sparse_mode': True, 'diameter': [9, 9], 'spatial_scale': 0, 'connected': True, 'nbinned': 5000, 'max_iterations': 20, 'threshold_scaling': 1.0, 'max_overlap': 0.75, 'high_pass': 100.0, 'denoise': 0.0, 'soma_crop': 1.0, 'neuropil_extract': True, 'inner_neuropil_radius': 2, 'min_neuropil_pixels': 350, 'lam_percentile': 50.0, 'allow_overlap': True, 'use_builtin_classifier': False, 'classifier_path': 0, 'chan2_thres': 0.65, 'baseline': 'maximin', 'win_baseline': 60.0, 'sig_baseline': 10.0, 'prctile_baseline': 8.0, 'neucoeff': 0.7, 'input_format': 'tif'}\n"
     ]
    }
   ],
   "source": []
  },
  {
   "cell_type": "code",
   "execution_count": null,
   "id": "28dfd602",
   "metadata": {},
   "outputs": [],
   "source": []
  },
  {
   "cell_type": "code",
   "execution_count": null,
   "id": "c9a37363",
   "metadata": {},
   "outputs": [],
   "source": []
  },
  {
   "cell_type": "code",
   "execution_count": null,
   "id": "64fb3e70",
   "metadata": {},
   "outputs": [],
   "source": []
  },
  {
   "cell_type": "code",
   "execution_count": null,
   "id": "f4ad05fd",
   "metadata": {},
   "outputs": [
    {
     "name": "stdout",
     "output_type": "stream",
     "text": [
      "['day0', 20230131, 20230201, 20230202, 20230203, 20230204, 20230205, 20230206, 20230207]\n"
     ]
    }
   ],
   "source": [
    "# load yaml file\n",
    "import yaml\n",
    "yaml_file = '/media/cat/4TB/donato/andres/master_analysis/DON-014266/DON-014266.yaml'\n",
    "with open(yaml_file) as file:\n",
    "    #\n",
    "    data = yaml.load(file, Loader=yaml.FullLoader)\n",
    "\n",
    "    print (data['session_names'])"
   ]
  },
  {
   "cell_type": "code",
   "execution_count": null,
   "id": "5b3b31a0",
   "metadata": {},
   "outputs": [
    {
     "name": "stdout",
     "output_type": "stream",
     "text": [
      "(65019, 1)\n",
      "(38867, 1)\n",
      "[[0.03918894]\n",
      " [0.03951282]\n",
      " [0.03935088]\n",
      " ...\n",
      " [0.03886507]\n",
      " [0.03886507]\n",
      " [0.03870313]]\n",
      "[[0.03918894]\n",
      " [0.03918894]\n",
      " [0.03918894]\n",
      " ...\n",
      " [5.0910172 ]\n",
      " [5.06802013]\n",
      " [0.03935088]]\n",
      "(758,)\n",
      "(1000,)\n"
     ]
    }
   ],
   "source": [
    "import numpy as np\n",
    "\n",
    "#\n",
    "d = np.load('/media/cat/4TB/donato/tests/test1/data/results.npz',allow_pickle=True)\n",
    "ttl_voltages1 = d['ttl_voltages']\n",
    "ttl_times1 = d['ttl_times']\n",
    "\n",
    "#\n",
    "d2 = np.load('/media/cat/4TB/donato/tests/test2/data/results.npz',allow_pickle=True)\n",
    "ttl_voltages2 = d2['ttl_voltages']\n",
    "ttl_times2 = d2['ttl_times']\n",
    "\n",
    "print (ttl_voltages1.shape)\n",
    "print (ttl_voltages2.shape)\n",
    "\n",
    "#\n",
    "print (ttl_voltages1)\n",
    "print (ttl_voltages2)\n",
    "\n",
    "# plot ttl_voltages\n",
    "plt.figure()\n",
    "ax=plt.subplot(211)\n",
    "plt.plot(ttl_voltages1, label='298um',\n",
    "         c='blue')\n",
    "plt.xlim(0,70000)\n",
    "\n",
    "#\n",
    "\n",
    "plt.legend()\n",
    "plt.ylabel(\"Voltage from TTL pulse\")\n",
    "ax=plt.subplot(212)\n",
    "plt.plot(ttl_voltages2,label='647um',\n",
    "         c='red')\n",
    "plt.xlim(0,70000)\n",
    "\n",
    "\n",
    "#\n",
    "\n",
    "plt.legend()\n",
    "plt.ylabel(\"Voltage from TTL pulse\")\n",
    "\n",
    "\n",
    "plt.show()\n",
    "\n",
    "\n",
    "#\n",
    "print (ttl_times1.shape)\n",
    "print (ttl_times2.shape)\n"
   ]
  },
  {
   "cell_type": "code",
   "execution_count": null,
   "id": "1544c9da",
   "metadata": {},
   "outputs": [],
   "source": [
    "######################################################\n",
    "####### PLOT PERI-REWARD HISTOGRAM FOR ALL CELLS #####\n",
    "######################################################\n",
    "\n",
    "\n",
    "\n",
    "# plot the graph\n",
    "plt.figure()\n",
    "for k in range(1,9,1):\n",
    "    c.ax=plt.subplot(2,4,k)\n",
    "    c.session_id = k\n",
    "    c.reward_window = 180\n",
    "    c.get_reward_centered_traces()\n",
    "\n",
    "    #\n",
    "    c.plot_network_graph()\n",
    "\n",
    "#\n",
    "plt.show()\n",
    "\n",
    "\n"
   ]
  },
  {
   "cell_type": "code",
   "execution_count": null,
   "id": "c2214f1d",
   "metadata": {},
   "outputs": [],
   "source": []
  },
  {
   "cell_type": "code",
   "execution_count": null,
   "id": "e99976a9",
   "metadata": {},
   "outputs": [],
   "source": []
  },
  {
   "cell_type": "code",
   "execution_count": null,
   "id": "382188ed",
   "metadata": {},
   "outputs": [],
   "source": []
  },
  {
   "cell_type": "code",
   "execution_count": null,
   "id": "2e291d36",
   "metadata": {},
   "outputs": [],
   "source": []
  }
 ],
 "metadata": {
  "kernelspec": {
   "display_name": "Python 3 (ipykernel)",
   "language": "python",
   "name": "python3"
  },
  "language_info": {
   "codemirror_mode": {
    "name": "ipython",
    "version": 3
   },
   "file_extension": ".py",
   "mimetype": "text/x-python",
   "name": "python",
   "nbconvert_exporter": "python",
   "pygments_lexer": "ipython3",
   "version": "3.8.15"
  },
  "toc-autonumbering": false,
  "toc-showcode": true
 },
 "nbformat": 4,
 "nbformat_minor": 5
}
