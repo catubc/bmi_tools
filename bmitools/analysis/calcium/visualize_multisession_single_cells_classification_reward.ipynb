{
 "cells": [
  {
   "cell_type": "code",
   "execution_count": 1,
   "id": "aff08ce5",
   "metadata": {},
   "outputs": [
    {
     "data": {
      "application/javascript": "IPython.notebook.set_autosave_interval(180000)"
     },
     "metadata": {},
     "output_type": "display_data"
    },
    {
     "name": "stdout",
     "output_type": "stream",
     "text": [
      "Autosaving every 180 seconds\n"
     ]
    },
    {
     "name": "stderr",
     "output_type": "stream",
     "text": [
      "/home/cat/.conda/envs/bmitools/lib/python3.8/site-packages/tqdm/auto.py:21: TqdmWarning: IProgress not found. Please update jupyter and ipywidgets. See https://ipywidgets.readthedocs.io/en/stable/user_install.html\n",
      "  from .autonotebook import tqdm as notebook_tqdm\n"
     ]
    },
    {
     "name": "stdout",
     "output_type": "stream",
     "text": [
      "Importing the dtw module. When using in academic works please cite:\n",
      "  T. Giorgino. Computing and Visualizing Dynamic Time Warping Alignments in R: The dtw Package.\n",
      "  J. Stat. Soft., doi:10.18637/jss.v031.i07.\n",
      "\n"
     ]
    }
   ],
   "source": [
    "import matplotlib.pyplot as plt\n",
    "import matplotlib\n",
    "\n",
    "%matplotlib tk\n",
    "%autosave 180\n",
    "%load_ext autoreload\n",
    "%autoreload 2\n",
    "\n",
    "\n",
    "import numpy as np\n",
    "#%matplotlib inline\n",
    "\n",
    "import os\n",
    "from utils import *\n",
    "\n",
    "import os\n",
    "\n",
    "from utils_calcium import ProcessCalcium, get_reward_triggered_psth, plot_multi_session_psth_imshow, plot_psth"
   ]
  },
  {
   "cell_type": "code",
   "execution_count": 8,
   "id": "044f5ae6",
   "metadata": {},
   "outputs": [
    {
     "name": "stderr",
     "output_type": "stream",
     "text": [
      "  0%|          | 0/8 [00:00<?, ?it/s]"
     ]
    },
    {
     "name": "stdout",
     "output_type": "stream",
     "text": [
      "remove bad cells:  True\n",
      "...setting 2p parameters...\n"
     ]
    },
    {
     "name": "stderr",
     "output_type": "stream",
     "text": [
      " 12%|█▎        | 1/8 [00:02<00:18,  2.64s/it]"
     ]
    },
    {
     "name": "stdout",
     "output_type": "stream",
     "text": [
      "\n",
      "remove bad cells:  True\n",
      "...setting 2p parameters...\n"
     ]
    },
    {
     "name": "stderr",
     "output_type": "stream",
     "text": [
      " 25%|██▌       | 2/8 [00:05<00:16,  2.70s/it]"
     ]
    },
    {
     "name": "stdout",
     "output_type": "stream",
     "text": [
      "\n",
      "remove bad cells:  True\n",
      "...setting 2p parameters...\n"
     ]
    },
    {
     "name": "stderr",
     "output_type": "stream",
     "text": [
      " 38%|███▊      | 3/8 [00:10<00:19,  3.86s/it]"
     ]
    },
    {
     "name": "stdout",
     "output_type": "stream",
     "text": [
      "\n",
      "remove bad cells:  True\n",
      "...setting 2p parameters...\n"
     ]
    },
    {
     "name": "stderr",
     "output_type": "stream",
     "text": [
      " 50%|█████     | 4/8 [00:15<00:17,  4.39s/it]"
     ]
    },
    {
     "name": "stdout",
     "output_type": "stream",
     "text": [
      "\n",
      "remove bad cells:  True\n",
      "...setting 2p parameters...\n"
     ]
    },
    {
     "name": "stderr",
     "output_type": "stream",
     "text": [
      "/home/cat/.conda/envs/bmitools/lib/python3.8/site-packages/binarize2pcalcium/binarize2pcalcium.py:582: RuntimeWarning: invalid value encountered in divide\n",
      "  cumsum = cumsum/np.max(cumsum)\n",
      " 62%|██████▎   | 5/8 [00:20<00:13,  4.66s/it]"
     ]
    },
    {
     "name": "stdout",
     "output_type": "stream",
     "text": [
      "\n",
      "remove bad cells:  True\n",
      "...setting 2p parameters...\n"
     ]
    },
    {
     "name": "stderr",
     "output_type": "stream",
     "text": [
      "/home/cat/.conda/envs/bmitools/lib/python3.8/site-packages/binarize2pcalcium/binarize2pcalcium.py:582: RuntimeWarning: invalid value encountered in divide\n",
      "  cumsum = cumsum/np.max(cumsum)\n",
      " 75%|███████▌  | 6/8 [00:26<00:09,  4.93s/it]"
     ]
    },
    {
     "name": "stdout",
     "output_type": "stream",
     "text": [
      "\n",
      "remove bad cells:  True\n",
      "...setting 2p parameters...\n"
     ]
    },
    {
     "name": "stderr",
     "output_type": "stream",
     "text": [
      "/home/cat/.conda/envs/bmitools/lib/python3.8/site-packages/binarize2pcalcium/binarize2pcalcium.py:582: RuntimeWarning: invalid value encountered in divide\n",
      "  cumsum = cumsum/np.max(cumsum)\n",
      " 88%|████████▊ | 7/8 [00:31<00:05,  5.10s/it]"
     ]
    },
    {
     "name": "stdout",
     "output_type": "stream",
     "text": [
      "\n",
      "remove bad cells:  True\n",
      "...setting 2p parameters...\n"
     ]
    },
    {
     "name": "stderr",
     "output_type": "stream",
     "text": [
      "/home/cat/.conda/envs/bmitools/lib/python3.8/site-packages/binarize2pcalcium/binarize2pcalcium.py:582: RuntimeWarning: invalid value encountered in divide\n",
      "  cumsum = cumsum/np.max(cumsum)\n",
      "100%|██████████| 8/8 [00:37<00:00,  4.64s/it]"
     ]
    },
    {
     "name": "stdout",
     "output_type": "stream",
     "text": [
      "\n",
      "....DONE...\n"
     ]
    },
    {
     "name": "stderr",
     "output_type": "stream",
     "text": [
      "\n"
     ]
    }
   ],
   "source": [
    "####################################################\n",
    "################## LOAD DATA #######################\n",
    "####################################################\n",
    "\n",
    "\n",
    "# ****************** MICE AVAILABLE ***********************\n",
    "# M1 = [\n",
    "#     'DON-011733',\n",
    "#     'DON-014382',\n",
    "#     'DON-014451',\n",
    "#     'DON-014575',\n",
    "#     'DON-014618',\n",
    "\n",
    "# CA3 = [\n",
    "#     'DON-012502',\n",
    "#     'DON-014266',\n",
    "#     'DON-014371',\n",
    "#     'DON-015801',\n",
    "#     'DON-015821',\n",
    "# ]\n",
    "# *********************************************************\n",
    "\n",
    "#\n",
    "#root_dir = '/media/cat/4TB/donato/andres/master_analysis/'\n",
    "root_dir = '/media/cat/8TB/donato/bmi/'\n",
    "animal_id = 'DON-011733'\n",
    "\n",
    "\n",
    "#root_dir = '/media/cat/8TB/donato/bmi/'\n",
    "#animal_id = 'DON-014618'\n",
    "#animal_id = 'DON-014575'\n",
    "\n",
    "#       \n",
    "c = ProcessCalcium(root_dir,\n",
    "                   animal_id)\n",
    "\n",
    "#\n",
    "c.remove_bad_cells = False\n",
    "\n",
    "#\n",
    "c.recompute_binarization = False  # IF TRue: must input correct params from bin notebooks\n",
    "c.dff_min = 0.05                  # min %DFF for [ca] burst to considered a spike (default 5%) overwrites percentile threshold parameter\n",
    "c.percentile_threshold = 0.99   # this is pretty fixed, we don't change it; we want [ca] bursts that are well outside the \"physics-caused\"noise\n",
    "c.maximum_std_of_signal = 0.25     # if std of signal is greater than this, then we have a noisy signal and we don't want to binarize it\n",
    "\n",
    "#\n",
    "c.save_figures = False\n",
    "c.load_sessions()\n",
    "\n",
    "#\n",
    "print (\"....DONE...\")\n"
   ]
  },
  {
   "cell_type": "code",
   "execution_count": 9,
   "id": "0d1ca6ae",
   "metadata": {},
   "outputs": [
    {
     "name": "stdout",
     "output_type": "stream",
     "text": [
      "...done...\n"
     ]
    }
   ],
   "source": [
    "########################################################\n",
    "########################################################\n",
    "########################################################\n",
    "\n",
    "# adds trial information; eventually should also add bursts etc...\n",
    "c.fix_spreadsheet()\n",
    "\n",
    "#\n"
   ]
  },
  {
   "cell_type": "code",
   "execution_count": 11,
   "id": "30319593",
   "metadata": {},
   "outputs": [
    {
     "name": "stdout",
     "output_type": "stream",
     "text": [
      "[20230302, 20230303, 20230304, 20230305, 20230306, 20230307, 20230308, 20230309]\n",
      "['day0', 'bmi1', 'bmi2', 'bmi3', 'bmi4', 'bmi5', 'bmi6', 'bmi7']\n"
     ]
    },
    {
     "name": "stderr",
     "output_type": "stream",
     "text": [
      "100%|██████████| 8/8 [00:00<00:00, 386.72it/s]\n"
     ]
    }
   ],
   "source": [
    "########################################################\n",
    "########################################################\n",
    "########################################################\n",
    "# load the ensemble state, trial starts, and trial ends info\n",
    "\n",
    "#c.session_id = 8\n",
    "print (c.session_ids)\n",
    "c.fix_spreadsheet_missing_vals = True\n",
    "\n",
    "#\n",
    "print (c.session_types)\n",
    "c.load_spreadsheet_multi()"
   ]
  },
  {
   "cell_type": "code",
   "execution_count": 12,
   "id": "9c635770",
   "metadata": {},
   "outputs": [
    {
     "name": "stdout",
     "output_type": "stream",
     "text": [
      "self.best_matches:  [380  15   2   4]\n"
     ]
    }
   ],
   "source": [
    "# also save the res array in the same folder\n",
    "c.load_best_matches()\n"
   ]
  },
  {
   "cell_type": "code",
   "execution_count": 19,
   "id": "400ef49d",
   "metadata": {},
   "outputs": [
    {
     "name": "stderr",
     "output_type": "stream",
     "text": [
      "100%|██████████| 32/32 [00:10<00:00,  3.16it/s]\n",
      " 38%|███▊      | 12/32 [00:04<00:07,  2.83it/s]\n"
     ]
    },
    {
     "ename": "KeyboardInterrupt",
     "evalue": "",
     "output_type": "error",
     "traceback": [
      "\u001b[0;31m---------------------------------------------------------------------------\u001b[0m",
      "\u001b[0;31mKeyboardInterrupt\u001b[0m                         Traceback (most recent call last)",
      "Cell \u001b[0;32mIn[19], line 33\u001b[0m\n\u001b[1;32m     30\u001b[0m session_name \u001b[38;5;241m=\u001b[39m \u001b[38;5;28mstr\u001b[39m(c\u001b[38;5;241m.\u001b[39msession_ids[session_id])\n\u001b[1;32m     32\u001b[0m \u001b[38;5;66;03m# run the code\u001b[39;00m\n\u001b[0;32m---> 33\u001b[0m \u001b[43mparmap\u001b[49m\u001b[38;5;241;43m.\u001b[39;49m\u001b[43mmap\u001b[49m\u001b[43m(\u001b[49m\u001b[43mcompute_si_1D\u001b[49m\u001b[43m,\u001b[49m\n\u001b[1;32m     34\u001b[0m \u001b[43m            \u001b[49m\u001b[43mcell_idxs_lists\u001b[49m\u001b[43m,\u001b[49m\n\u001b[1;32m     35\u001b[0m \u001b[43m            \u001b[49m\u001b[43mcells\u001b[49m\u001b[43m,\u001b[49m\u001b[43m           \u001b[49m\u001b[38;5;66;43;03m# this is the calcium activivty in the session\u001b[39;49;00m\n\u001b[1;32m     36\u001b[0m \u001b[43m            \u001b[49m\u001b[43mreward_times\u001b[49m\u001b[43m,\u001b[49m\n\u001b[1;32m     37\u001b[0m \u001b[43m            \u001b[49m\u001b[43mroot_dir\u001b[49m\u001b[43m,\u001b[49m\n\u001b[1;32m     38\u001b[0m \u001b[43m            \u001b[49m\u001b[43manimal_id\u001b[49m\u001b[43m,\u001b[49m\n\u001b[1;32m     39\u001b[0m \u001b[43m            \u001b[49m\u001b[43msession_name\u001b[49m\u001b[43m,\u001b[49m\n\u001b[1;32m     40\u001b[0m \u001b[43m            \u001b[49m\u001b[43mwindow\u001b[49m\u001b[43m,\u001b[49m\n\u001b[1;32m     41\u001b[0m \u001b[43m            \u001b[49m\u001b[43mn_tests\u001b[49m\u001b[43m,\u001b[49m\n\u001b[1;32m     42\u001b[0m \u001b[43m            \u001b[49m\u001b[43mrecompute\u001b[49m\u001b[43m,\u001b[49m\n\u001b[1;32m     43\u001b[0m \u001b[43m            \u001b[49m\u001b[43mpm_processes\u001b[49m\u001b[38;5;241;43m=\u001b[39;49m\u001b[38;5;241;43m32\u001b[39;49m\u001b[43m,\u001b[49m\n\u001b[1;32m     44\u001b[0m \u001b[43m            \u001b[49m\u001b[43mpm_pbar\u001b[49m\u001b[38;5;241;43m=\u001b[39;49m\u001b[38;5;28;43;01mTrue\u001b[39;49;00m\u001b[43m)\u001b[49m\n",
      "File \u001b[0;32m~/.conda/envs/bmitools/lib/python3.8/site-packages/parmap/parmap.py:333\u001b[0m, in \u001b[0;36mmap\u001b[0;34m(function, iterable, *args, **kwargs)\u001b[0m\n\u001b[1;32m    307\u001b[0m \u001b[38;5;28;01mdef\u001b[39;00m \u001b[38;5;21mmap\u001b[39m(function, iterable, \u001b[38;5;241m*\u001b[39margs, \u001b[38;5;241m*\u001b[39m\u001b[38;5;241m*\u001b[39mkwargs):\n\u001b[1;32m    308\u001b[0m \u001b[38;5;250m    \u001b[39m\u001b[38;5;124;03m\"\"\"This function is equivalent to:\u001b[39;00m\n\u001b[1;32m    309\u001b[0m \u001b[38;5;124;03m     >>> [function(x, args[0], args[1],...) for x in iterable]\u001b[39;00m\n\u001b[1;32m    310\u001b[0m \n\u001b[0;32m   (...)\u001b[0m\n\u001b[1;32m    331\u001b[0m \u001b[38;5;124;03m    :type pm_pbar: bool, dict or callable\u001b[39;00m\n\u001b[1;32m    332\u001b[0m \u001b[38;5;124;03m    \"\"\"\u001b[39;00m\n\u001b[0;32m--> 333\u001b[0m     \u001b[38;5;28;01mreturn\u001b[39;00m \u001b[43m_map_or_starmap\u001b[49m\u001b[43m(\u001b[49m\u001b[43mfunction\u001b[49m\u001b[43m,\u001b[49m\u001b[43m \u001b[49m\u001b[43miterable\u001b[49m\u001b[43m,\u001b[49m\u001b[43m \u001b[49m\u001b[43margs\u001b[49m\u001b[43m,\u001b[49m\u001b[43m \u001b[49m\u001b[43mkwargs\u001b[49m\u001b[43m,\u001b[49m\u001b[43m \u001b[49m\u001b[38;5;124;43m\"\u001b[39;49m\u001b[38;5;124;43mmap\u001b[39;49m\u001b[38;5;124;43m\"\u001b[39;49m\u001b[43m)\u001b[49m\n",
      "File \u001b[0;32m~/.conda/envs/bmitools/lib/python3.8/site-packages/parmap/parmap.py:297\u001b[0m, in \u001b[0;36m_map_or_starmap\u001b[0;34m(function, iterable, args, kwargs, map_or_starmap)\u001b[0m\n\u001b[1;32m    295\u001b[0m \u001b[38;5;66;03m# Progress bar:\u001b[39;00m\n\u001b[1;32m    296\u001b[0m \u001b[38;5;28;01mtry\u001b[39;00m:\n\u001b[0;32m--> 297\u001b[0m     \u001b[43m_do_pbar\u001b[49m\u001b[43m(\u001b[49m\n\u001b[1;32m    298\u001b[0m \u001b[43m        \u001b[49m\u001b[43mresult\u001b[49m\u001b[43m,\u001b[49m\u001b[43m \u001b[49m\u001b[43mnum_tasks\u001b[49m\u001b[43m,\u001b[49m\u001b[43m \u001b[49m\u001b[43mchunksize\u001b[49m\u001b[43m,\u001b[49m\u001b[43m \u001b[49m\u001b[43mrefresh_time\u001b[49m\u001b[38;5;241;43m=\u001b[39;49m\u001b[38;5;241;43m2\u001b[39;49m\u001b[43m,\u001b[49m\u001b[43m \u001b[49m\u001b[43mpbar_wrapper\u001b[49m\u001b[38;5;241;43m=\u001b[39;49m\u001b[43mpbar_wrapper\u001b[49m\n\u001b[1;32m    299\u001b[0m \u001b[43m    \u001b[49m\u001b[43m)\u001b[49m\n\u001b[1;32m    300\u001b[0m \u001b[38;5;28;01mfinally\u001b[39;00m:\n\u001b[1;32m    301\u001b[0m     output \u001b[38;5;241m=\u001b[39m result\u001b[38;5;241m.\u001b[39mget()\n",
      "File \u001b[0;32m~/.conda/envs/bmitools/lib/python3.8/site-packages/parmap/parmap.py:146\u001b[0m, in \u001b[0;36m_do_pbar\u001b[0;34m(async_result, num_tasks, chunksize, refresh_time, pbar_wrapper)\u001b[0m\n\u001b[1;32m    144\u001b[0m \u001b[38;5;28;01mif\u001b[39;00m done_now \u001b[38;5;241m>\u001b[39m \u001b[38;5;241m0\u001b[39m:\n\u001b[1;32m    145\u001b[0m     pbar\u001b[38;5;241m.\u001b[39mupdate(done_now)\n\u001b[0;32m--> 146\u001b[0m \u001b[43masync_result\u001b[49m\u001b[38;5;241;43m.\u001b[39;49m\u001b[43mwait\u001b[49m\u001b[43m(\u001b[49m\u001b[43mrefresh_time\u001b[49m\u001b[43m)\u001b[49m\n",
      "File \u001b[0;32m~/.conda/envs/bmitools/lib/python3.8/multiprocessing/pool.py:762\u001b[0m, in \u001b[0;36mApplyResult.wait\u001b[0;34m(self, timeout)\u001b[0m\n\u001b[1;32m    761\u001b[0m \u001b[38;5;28;01mdef\u001b[39;00m \u001b[38;5;21mwait\u001b[39m(\u001b[38;5;28mself\u001b[39m, timeout\u001b[38;5;241m=\u001b[39m\u001b[38;5;28;01mNone\u001b[39;00m):\n\u001b[0;32m--> 762\u001b[0m     \u001b[38;5;28;43mself\u001b[39;49m\u001b[38;5;241;43m.\u001b[39;49m\u001b[43m_event\u001b[49m\u001b[38;5;241;43m.\u001b[39;49m\u001b[43mwait\u001b[49m\u001b[43m(\u001b[49m\u001b[43mtimeout\u001b[49m\u001b[43m)\u001b[49m\n",
      "File \u001b[0;32m~/.conda/envs/bmitools/lib/python3.8/threading.py:558\u001b[0m, in \u001b[0;36mEvent.wait\u001b[0;34m(self, timeout)\u001b[0m\n\u001b[1;32m    556\u001b[0m signaled \u001b[38;5;241m=\u001b[39m \u001b[38;5;28mself\u001b[39m\u001b[38;5;241m.\u001b[39m_flag\n\u001b[1;32m    557\u001b[0m \u001b[38;5;28;01mif\u001b[39;00m \u001b[38;5;129;01mnot\u001b[39;00m signaled:\n\u001b[0;32m--> 558\u001b[0m     signaled \u001b[38;5;241m=\u001b[39m \u001b[38;5;28;43mself\u001b[39;49m\u001b[38;5;241;43m.\u001b[39;49m\u001b[43m_cond\u001b[49m\u001b[38;5;241;43m.\u001b[39;49m\u001b[43mwait\u001b[49m\u001b[43m(\u001b[49m\u001b[43mtimeout\u001b[49m\u001b[43m)\u001b[49m\n\u001b[1;32m    559\u001b[0m \u001b[38;5;28;01mreturn\u001b[39;00m signaled\n",
      "File \u001b[0;32m~/.conda/envs/bmitools/lib/python3.8/threading.py:306\u001b[0m, in \u001b[0;36mCondition.wait\u001b[0;34m(self, timeout)\u001b[0m\n\u001b[1;32m    304\u001b[0m \u001b[38;5;28;01melse\u001b[39;00m:\n\u001b[1;32m    305\u001b[0m     \u001b[38;5;28;01mif\u001b[39;00m timeout \u001b[38;5;241m>\u001b[39m \u001b[38;5;241m0\u001b[39m:\n\u001b[0;32m--> 306\u001b[0m         gotit \u001b[38;5;241m=\u001b[39m \u001b[43mwaiter\u001b[49m\u001b[38;5;241;43m.\u001b[39;49m\u001b[43macquire\u001b[49m\u001b[43m(\u001b[49m\u001b[38;5;28;43;01mTrue\u001b[39;49;00m\u001b[43m,\u001b[49m\u001b[43m \u001b[49m\u001b[43mtimeout\u001b[49m\u001b[43m)\u001b[49m\n\u001b[1;32m    307\u001b[0m     \u001b[38;5;28;01melse\u001b[39;00m:\n\u001b[1;32m    308\u001b[0m         gotit \u001b[38;5;241m=\u001b[39m waiter\u001b[38;5;241m.\u001b[39macquire(\u001b[38;5;28;01mFalse\u001b[39;00m)\n",
      "\u001b[0;31mKeyboardInterrupt\u001b[0m: "
     ]
    }
   ],
   "source": [
    "from utils_calcium import compute_si_1D\n",
    "import parmap\n",
    "\n",
    "# \n",
    "n_tests = 500\n",
    "window = 300\n",
    "recompute = False\n",
    "\n",
    "#\n",
    "session_ids = np.arange(1,8,1)\n",
    "for session_id in session_ids:\n",
    "\n",
    "    # make directory to save spatial info\n",
    "    dir_si = os.path.join(c.root_dir,\n",
    "                                c.animal_id,\n",
    "                                str(c.session_ids[session_id]),\n",
    "                                'spatial_info')\n",
    "    if os.path.exists(dir_si)==False:\n",
    "        os.mkdir(dir_si)\n",
    "\n",
    "    # iniatize the data based on the sesssion\n",
    "    cells = c.sessions[session_id].F_upphase_bin\n",
    "    cell_idxs = np.arange(cells.shape[0])\n",
    "\n",
    "    # break up cell_idxs into 32 chunks to run in parallel\n",
    "    cell_idxs_lists = np.array_split(cell_idxs, 32)\n",
    "\n",
    "    #\n",
    "    reward_times = c.reward_times[session_id]\n",
    "    session_name = str(c.session_ids[session_id])\n",
    "\n",
    "    # run the code\n",
    "    parmap.map(compute_si_1D,\n",
    "                cell_idxs_lists,\n",
    "                cells,           # this is the calcium activivty in the session\n",
    "                reward_times,\n",
    "                root_dir,\n",
    "                animal_id,\n",
    "                session_name,\n",
    "                window,\n",
    "                n_tests,\n",
    "                recompute,\n",
    "                pm_processes=32,\n",
    "                pm_pbar=True)\n",
    "\n"
   ]
  },
  {
   "cell_type": "code",
   "execution_count": 40,
   "id": "f20a2816",
   "metadata": {},
   "outputs": [],
   "source": [
    "########################################################\n",
    "####### vISUALIZE SINGLE CELLS Oover threshold #########\n",
    "########################################################\n",
    "\n",
    "min_thresh = 2.\n",
    "max_thresh = 10.5\n",
    "min_si_thresh = 2.\n",
    "max_si_thresh = 15\n",
    "\n",
    "#\n",
    "session_id = 7\n",
    "\n",
    "#\n",
    "ctr=0\n",
    "for k in cell_idxs:\n",
    "    fname = os.path.join(c.root_dir,\n",
    "                        c.animal_id,\n",
    "                        str(c.session_ids[session_id]),\n",
    "                        'spatial_info',\n",
    "                        str(k)+'.npz')\n",
    "    \n",
    "    #\n",
    "    d = np.load(fname, allow_pickle=True)\n",
    "    si = d['si']\n",
    "    zscore = d['zscore']\n",
    "    ave_map = d['ave_map']\n",
    "\n",
    "    # filter out cells with low activity \n",
    "    if np.max(ave_map)<0.1:\n",
    "        continue\n",
    "\n",
    "    #\n",
    "    if np.logical_and(zscore>min_thresh, zscore<max_thresh):\n",
    "    #if np.logical_and(si>min_si_thresh, si<max_si_thresh):\n",
    "\n",
    "\n",
    "        ax=plt.subplot(5,5,ctr+1)\n",
    "        #print (\"cell: \", k, \" zscore: \", zscore, \" avg_rate: \", avg_rate)\n",
    "        \n",
    "        t = np.arange(ave_map.shape[0])/30-10\n",
    "        plt.plot(t,ave_map)\n",
    "        plt.title(str(k))\n",
    "        plt.show()\n",
    "\n",
    "        # plot vertical red line at 300\n",
    "        plt.plot([0,0],[0,np.max(ave_map)],'r--')\n",
    "\n",
    "        # plot title with zscore\n",
    "        plt.title(str(k)+', si: '+str(np.round(si,2))+ \", zscore: \"+str(np.round(zscore,2)),\n",
    "                  fontsize=10)\n",
    "\n",
    "        # \n",
    "        if ctr<20:\n",
    "            plt.xticks([])\n",
    "        else:\n",
    "            plt.xlabel(\"Time (sec)\",fontsize=10)\n",
    "\n",
    "        #\n",
    "        ctr+=1\n",
    "\n",
    "    if ctr==25:\n",
    "        break\n",
    "\n",
    "#\n",
    "plt.suptitle(\n",
    "            \"Cells with zscore between \"+str(min_thresh)+\" and \"+str(max_thresh)\n",
    "            #\"Cells with SI between \"+str(min_si_thresh)+\" and \"+str(max_si_thresh)\n",
    "             +\"\\n\"+str(c.animal_id)+\", session: \"+str(c.session_ids[session_id]))\n",
    "plt.show()"
   ]
  },
  {
   "cell_type": "code",
   "execution_count": 46,
   "id": "a4a74c28",
   "metadata": {},
   "outputs": [
    {
     "name": "stderr",
     "output_type": "stream",
     "text": [
      "/tmp/ipykernel_200673/3317522745.py:6: MatplotlibDeprecationWarning: The get_cmap function was deprecated in Matplotlib 3.7 and will be removed two minor releases later. Use ``matplotlib.colormaps[name]`` or ``matplotlib.colormaps.get_cmap(obj)`` instead.\n",
      "  cmap = matplotlib.cm.get_cmap('viridis')\n",
      "No artists with labels found to put in legend.  Note that artists whose label start with an underscore are ignored when legend() is called with no argument.\n",
      "No artists with labels found to put in legend.  Note that artists whose label start with an underscore are ignored when legend() is called with no argument.\n"
     ]
    }
   ],
   "source": [
    "#################################################\n",
    "### load the cells and plot distribution of si###\n",
    "#################################################\n",
    "\n",
    "# make color map in viridis to plot 8 lines\n",
    "cmap = matplotlib.cm.get_cmap('viridis')\n",
    "clrs = cmap(np.linspace(0, 0.9, 8))\n",
    "\n",
    "\n",
    "#\n",
    "plt.figure()\n",
    "ax1=plt.subplot(121)\n",
    "plt.title(\"Spatial Information\")\n",
    "plt.legend()\n",
    "ax2=plt.subplot(122)\n",
    "plt.title(\"Z-score\")\n",
    "plt.legend()\n",
    "\n",
    "#\n",
    "session_ids = np.arange(1,8,1)\n",
    "\n",
    "#\n",
    "si_array = []\n",
    "zscore_array = []\n",
    "ave_map_array = []\n",
    "for ctr,session_id in enumerate(session_ids):\n",
    "    #\n",
    "    sis = []\n",
    "    zscores = []\n",
    "    ave_maps = []\n",
    "    for k in cell_idxs:\n",
    "        fname = os.path.join(c.root_dir,\n",
    "                            c.animal_id,\n",
    "                            str(c.session_ids[session_id]),\n",
    "                            'spatial_info',\n",
    "                            str(k)+'.npz')\n",
    "        \n",
    "        #\n",
    "        si = np.load(fname)['si']\n",
    "        zscore = np.load(fname)['zscore']\n",
    "\n",
    "        #\n",
    "        sis.append(si)\n",
    "        zscores.append(zscore)\n",
    "\n",
    "        #\n",
    "        ave_map = np.load(fname)['ave_map']\n",
    "        ave_maps.append(ave_map)\n",
    "\n",
    "\n",
    "\n",
    "    #\n",
    "    sis = np.array(sis)\n",
    "    zscores = np.array(zscores)\n",
    "    ave_maps = np.array(ave_maps)\n",
    "\n",
    "    si_array.append(sis)\n",
    "    zscore_array.append(zscores)\n",
    "    ave_map_array.append(ave_maps)\n",
    "\n",
    "\n",
    "    #\n",
    "    y = np.histogram(sis, bins=np.arange(0,10,0.1))\n",
    "    xx = y[1][:-1]\n",
    "    yy = y[0]\n",
    "    # smooth yy to make it look better\n",
    "    yy = np.convolve(yy, np.ones(5)/5, mode='same')\n",
    "    ax1.plot(xx,yy,c=clrs[ctr], label=\"bmi #: \" + str(session_id))\n",
    "\n",
    "    y = np.histogram(zscores, bins=np.arange(-5,6.5,0.1))\n",
    "    xx = y[1][:-1]\n",
    "    yy = y[0]\n",
    "    # smooth yy to make it look better\n",
    "    yy = np.convolve(yy, np.ones(5)/5, mode='same')\n",
    "    ax2.plot(xx,yy,c=clrs[ctr], label=str(session_id))\n",
    "\n",
    "#\n",
    "ax1.legend()\n",
    "\n",
    "#\n",
    "plt.suptitle(\"Spatial Information and Z-score Distribution for animal: \"+c.animal_id)\n",
    "\n",
    "#\n",
    "plt.show()\n"
   ]
  },
  {
   "cell_type": "code",
   "execution_count": 47,
   "id": "7b021432",
   "metadata": {},
   "outputs": [],
   "source": [
    "# plot metrics as function of session\n",
    "cell_id = 0\n",
    "\n",
    "p = []\n",
    "for k in range(len(si_array)):\n",
    "    si = si_array[k][cell_id]\n",
    "    p.append(si)\n",
    "\n",
    "plt.figure()\n",
    "plt.plot(p)\n",
    "plt.title(\"Spatial Information for cell: \"+str(cell_id))\n",
    "plt.show()"
   ]
  },
  {
   "cell_type": "code",
   "execution_count": null,
   "id": "5eb7fab9",
   "metadata": {},
   "outputs": [],
   "source": []
  },
  {
   "cell_type": "code",
   "execution_count": null,
   "id": "d224f960",
   "metadata": {},
   "outputs": [],
   "source": []
  },
  {
   "cell_type": "code",
   "execution_count": 42,
   "id": "06065987",
   "metadata": {},
   "outputs": [],
   "source": [
    "##############################################################\n",
    "############# EXAMPLE OF SINGLE CELL BURSTS ##################\n",
    "##############################################################\n",
    "if False:      \n",
    "    cell_id = 0\n",
    "\n",
    "    #\n",
    "    d = np.load('/media/cat/8TB/donato/bmi/DON-014618/20230505/spatial_info/'+str(cell_id)+'.npz', allow_pickle=True)\n",
    "    rate_map = d['rate_map']\n",
    "\n",
    "    # make a time vector that repeats every 600 time points\n",
    "    n_rewards = int(rate_map.shape[0]/(30.*20.))\n",
    "    print (\"n_rewards: \", n_rewards)\n",
    "    t = np.arange(rate_map.shape[0])/30.\n",
    "\n",
    "    #\n",
    "    plt.figure()\n",
    "    plt.plot(t,d['rate_map'])\n",
    "\n",
    "    # relabel xticks to repeat every 600 time points\n",
    "    labels = np.arange(0,n_rewards+1,1)\n",
    "    labels_old = np.linspace(t[0],t[-1], len(labels))\n",
    "    plt.xticks(labels_old,\n",
    "            labels)\n",
    "\n",
    "    # shade background every other labels index\n",
    "    for k in range(len(labels)):\n",
    "        if k%2==0:\n",
    "            try:\n",
    "                plt.axvspan(labels_old[k], labels_old[k+1], color='grey', alpha=.2)\n",
    "            except:\n",
    "                pass\n",
    "\n",
    "    # plot a vertical dashed red line every 600 time points starting at 300\n",
    "    for k in range(1,len(labels)):\n",
    "        plt.plot([labels_old[k]-10, labels_old[k]-10], \n",
    "                [0,1], '--', c='red')\n",
    "\n",
    "    #\n",
    "    plt.ylim(0,1)\n",
    "    plt.xlim(0,labels_old[-1])\n",
    "\n",
    "    #\n",
    "    plt.xlabel(\"Reward #\")\n",
    "    plt.ylabel(\"UPphase\")\n",
    "    plt.title(\"Cell: \"+str(cell_id))\n",
    "\n",
    "    #\n",
    "    plt.show()\n"
   ]
  },
  {
   "cell_type": "code",
   "execution_count": null,
   "id": "2002051e",
   "metadata": {},
   "outputs": [],
   "source": [
    "##############################################################\n",
    "############### BUILD CELL BURST CLASSIFIER ##################\n",
    "##############################################################"
   ]
  },
  {
   "cell_type": "code",
   "execution_count": null,
   "id": "dabd7ffa",
   "metadata": {},
   "outputs": [],
   "source": []
  },
  {
   "cell_type": "code",
   "execution_count": null,
   "id": "760a758d",
   "metadata": {},
   "outputs": [],
   "source": []
  },
  {
   "cell_type": "code",
   "execution_count": null,
   "metadata": {},
   "outputs": [],
   "source": []
  },
  {
   "cell_type": "code",
   "execution_count": 125,
   "id": "419d62bc",
   "metadata": {},
   "outputs": [
    {
     "name": "stdout",
     "output_type": "stream",
     "text": [
      "c.cells_to_plot:  [270 321 223 196]\n",
      "session:  1  of 8 ,  reward times:  (33,)\n",
      "session:  2  of 8 ,  reward times:  (41,)\n",
      "session:  3  of 8 ,  reward times:  (33,)\n",
      "session:  4  of 8 ,  reward times:  (45,)\n",
      "session:  5  of 8 ,  reward times:  (64,)\n",
      "session:  6  of 8 ,  reward times:  (39,)\n",
      "session:  7  of 8 ,  reward times:  (56,)\n",
      "session:  8  of 8 ,  reward times:  (56,)\n"
     ]
    }
   ],
   "source": [
    "##############################################################\n",
    "######## COMPUTE REWARD TRIGGERED RESPONSE OF ROIs ###########\n",
    "##############################################################\n",
    "# \n",
    "from utils_calcium import plot_psth_rois_only\n",
    "\n",
    "#\n",
    "def init_fig():\n",
    "    plt.figure(figsize=(20,12))\n",
    "    axes = []\n",
    "    for k in range(4):\n",
    "        ax=plt.subplot(2,2,k+1)\n",
    "        axes.append(ax) \n",
    "\n",
    "    return axes\n",
    "\n",
    "# \n",
    "window = 300\n",
    "start_cell=0\n",
    "show_random = True\n",
    "idx_cells = None\n",
    "smoothing = True\n",
    "plot_separately = False\n",
    "c.plot_rois_only = True\n",
    "c.cells_to_plot = c.best_matches\n",
    "c.cells_to_plot = np.random.choice(np.arange(c.sessions[0].F_filtered.shape[0]),\n",
    "                                   4,\n",
    "                                   replace=False)\n",
    "#\n",
    "print (\"c.cells_to_plot: \", c.cells_to_plot)\n",
    "#\n",
    "axes = init_fig()\n",
    "\n",
    "#\n",
    "for session_id in np.arange(1,9,1):\n",
    "\n",
    "    #\n",
    "    psths_avg, psths_shuffled_avg, idx_cells, n_bursts  = get_reward_triggered_psth(session_id, \n",
    "                                                                                    c,\n",
    "                                                                                    window,\n",
    "                                                                                    idx_cells)\n",
    "    #\n",
    "    plot_psth_rois_only(c,\n",
    "                        psths_avg,\n",
    "                        psths_shuffled_avg,\n",
    "                        session_id,\n",
    "                        axes,\n",
    "                        start_cell,\n",
    "                        idx_cells,\n",
    "                        show_random,\n",
    "                        smoothing,\n",
    "                        window\n",
    "                        )\n",
    "\n",
    "\n",
    "    # reset axes\n",
    "    if plot_separately:\n",
    "        #\n",
    "        plt.suptitle(c.animal_id+\" session: \"+str(session_id),fontsize=20)\n",
    "        #\n",
    "        plt.savefig('/home/cat/'+str(start_cell)+\"_session_\"+str(session_id)+'.png',dpi=300)\n",
    "        plt.close()\n",
    "\n",
    "        axes = init_fig()\n",
    "\n",
    "#\n",
    "plt.suptitle(c.animal_id+\" session: \"+str(session_id),fontsize=20)\n",
    "#\n",
    "plt.savefig('/home/cat/'+str(start_cell)+\"_session_\"+str(session_id)+'.png',dpi=300)\n",
    "plt.close()\n"
   ]
  },
  {
   "cell_type": "code",
   "execution_count": 126,
   "metadata": {},
   "outputs": [
    {
     "name": "stdout",
     "output_type": "stream",
     "text": [
      "session:  1  of 8 ,  reward times:  (33,)\n",
      "session:  2  of 8 ,  reward times:  (41,)\n",
      "session:  3  of 8 ,  reward times:  (33,)\n",
      "session:  4  of 8 ,  reward times:  (45,)\n",
      "session:  5  of 8 ,  reward times:  (64,)\n",
      "session:  6  of 8 ,  reward times:  (39,)\n",
      "session:  7  of 8 ,  reward times:  (56,)\n",
      "session:  8  of 8 ,  reward times:  (56,)\n",
      "(8, 540, 360)\n"
     ]
    }
   ],
   "source": [
    "##############################################################\n",
    "######## COMPUTE REWARD TRIGGERED RESPONSE OF CELLS ##########\n",
    "##############################################################\n",
    "window = 30*6\n",
    "psth_array = []\n",
    "idx_cells = None\n",
    "global_order = False\n",
    "session_ids = np.arange(1,len(c.session_ids),1)\n",
    "\n",
    "#\n",
    "n_bursts_array = []\n",
    "for session_id in session_ids:\n",
    "#for session_id in [1,7]:\n",
    "\n",
    "    #\n",
    "    psths_avg, psths_shuffled_avg, idx_cells, n_bursts  = get_reward_triggered_psth(session_id, \n",
    "                                                                                    c,\n",
    "                                                                                    window,\n",
    "                                                                                    idx_cells)\n",
    "    \n",
    "    #\n",
    "    n_bursts_array.append(n_bursts)\n",
    "    \n",
    "    #\n",
    "    psth_array.append(psths_avg[idx_cells[::-1]])\n",
    "\n",
    "    if global_order==False:\n",
    "        idx_cells = None\n",
    "\n",
    "#\n",
    "psth_array = np.array(psth_array)\n",
    "print (psth_array.shape)\n",
    "\n",
    "#\n",
    "vmax = 0.3\n",
    "sua = plot_multi_session_psth_imshow(c,\n",
    "                                session_ids,\n",
    "                                psth_array,\n",
    "                                window,\n",
    "                                n_bursts_array,\n",
    "                                vmax=vmax)\n"
   ]
  },
  {
   "cell_type": "code",
   "execution_count": 148,
   "metadata": {},
   "outputs": [],
   "source": []
  },
  {
   "cell_type": "code",
   "execution_count": null,
   "metadata": {},
   "outputs": [],
   "source": []
  },
  {
   "cell_type": "code",
   "execution_count": null,
   "metadata": {},
   "outputs": [],
   "source": []
  },
  {
   "cell_type": "code",
   "execution_count": null,
   "metadata": {},
   "outputs": [],
   "source": []
  },
  {
   "cell_type": "code",
   "execution_count": null,
   "metadata": {},
   "outputs": [],
   "source": []
  },
  {
   "cell_type": "code",
   "execution_count": null,
   "metadata": {},
   "outputs": [],
   "source": []
  },
  {
   "cell_type": "code",
   "execution_count": null,
   "metadata": {},
   "outputs": [],
   "source": []
  },
  {
   "cell_type": "code",
   "execution_count": null,
   "metadata": {},
   "outputs": [],
   "source": []
  },
  {
   "cell_type": "code",
   "execution_count": null,
   "metadata": {},
   "outputs": [],
   "source": []
  },
  {
   "cell_type": "code",
   "execution_count": 5,
   "id": "572f0a29",
   "metadata": {},
   "outputs": [
    {
     "name": "stderr",
     "output_type": "stream",
     "text": [
      "low pass filter: 100%|██████████| 1/1 [00:00<00:00, 531.80it/s]\n",
      "model filter: remove bleaching or trends: 100%|██████████| 1/1 [00:00<00:00, 528.05it/s]\n",
      "fitting mode to physics:   0%|          | 0/1 [00:00<?, ?it/s]"
     ]
    },
    {
     "name": "stderr",
     "output_type": "stream",
     "text": [
      "/home/cat/.conda/envs/bmi/lib/python3.8/site-packages/binarize2pcalcium/binarize2pcalcium.py:4026: FutureWarning: Unlike other reduction functions (e.g. `skew`, `kurtosis`), the default behavior of `mode` typically preserves the axis it acts along. In SciPy 1.11.0, this behavior will change: the default value of `keepdims` will become False, the `axis` over which the statistic is taken will be eliminated, and the value None will no longer be accepted. Set `keepdims` to True or False to avoid this warning.\n",
      "  y_mode = scipy.stats.mode(F_filtered2)[0]\n",
      "fitting mode to physics: 100%|██████████| 1/1 [00:00<00:00, 81.99it/s]\n"
     ]
    },
    {
     "name": "stdout",
     "output_type": "stream",
     "text": [
      "cumsum:  [4.63649033e-15 9.27561305e-15 1.39173696e-14 ... 1.00000000e+00\n",
      " 1.00000000e+00 1.00000000e+00]\n"
     ]
    },
    {
     "name": "stderr",
     "output_type": "stream",
     "text": [
      "binarizing continuous traces filtered fluorescence onphase: 100%|██████████| 1/1 [00:00<00:00, 79.64it/s]\n",
      "binarizing continuous traces filtered fluorescence upphase: 100%|██████████| 1/1 [00:00<00:00, 74.52it/s]\n",
      "low pass filter: 100%|██████████| 1/1 [00:00<00:00, 560.59it/s]\n",
      "model filter: remove bleaching or trends: 100%|██████████| 1/1 [00:00<00:00, 561.79it/s]\n",
      "fitting mode to physics: 100%|██████████| 1/1 [00:00<00:00, 76.03it/s]\n"
     ]
    },
    {
     "name": "stdout",
     "output_type": "stream",
     "text": [
      "cumsum:  [5.01316877e-10 1.00276836e-09 1.50435447e-09 ... 1.00000000e+00\n",
      " 1.00000000e+00 1.00000000e+00]\n"
     ]
    },
    {
     "name": "stderr",
     "output_type": "stream",
     "text": [
      "binarizing continuous traces filtered fluorescence onphase: 100%|██████████| 1/1 [00:00<00:00, 61.34it/s]\n",
      "binarizing continuous traces filtered fluorescence upphase: 100%|██████████| 1/1 [00:00<00:00, 51.25it/s]\n",
      "low pass filter: 100%|██████████| 1/1 [00:00<00:00, 592.58it/s]\n",
      "model filter: remove bleaching or trends: 100%|██████████| 1/1 [00:00<00:00, 561.79it/s]\n",
      "fitting mode to physics: 100%|██████████| 1/1 [00:00<00:00, 80.49it/s]\n"
     ]
    },
    {
     "name": "stdout",
     "output_type": "stream",
     "text": [
      "cumsum:  [2.27001954e-13 4.54110149e-13 6.81324632e-13 ... 1.00000000e+00\n",
      " 1.00000000e+00 1.00000000e+00]\n"
     ]
    },
    {
     "name": "stderr",
     "output_type": "stream",
     "text": [
      "binarizing continuous traces filtered fluorescence onphase: 100%|██████████| 1/1 [00:00<00:00, 89.88it/s]\n",
      "binarizing continuous traces filtered fluorescence upphase: 100%|██████████| 1/1 [00:00<00:00, 76.70it/s]\n",
      "low pass filter: 100%|██████████| 1/1 [00:00<00:00, 607.69it/s]\n",
      "model filter: remove bleaching or trends: 100%|██████████| 1/1 [00:00<00:00, 556.42it/s]\n",
      "fitting mode to physics: 100%|██████████| 1/1 [00:00<00:00, 72.33it/s]\n"
     ]
    },
    {
     "name": "stdout",
     "output_type": "stream",
     "text": [
      "cumsum:  [5.99037350e-12 1.19830454e-11 1.79780164e-11 ... 1.00000000e+00\n",
      " 1.00000000e+00 1.00000000e+00]\n"
     ]
    },
    {
     "name": "stderr",
     "output_type": "stream",
     "text": [
      "binarizing continuous traces filtered fluorescence onphase: 100%|██████████| 1/1 [00:00<00:00, 60.19it/s]\n",
      "binarizing continuous traces filtered fluorescence upphase: 100%|██████████| 1/1 [00:00<00:00, 50.29it/s]\n",
      "low pass filter: 100%|██████████| 1/1 [00:00<00:00, 585.31it/s]\n",
      "model filter: remove bleaching or trends: 100%|██████████| 1/1 [00:00<00:00, 555.32it/s]\n",
      "fitting mode to physics: 100%|██████████| 1/1 [00:00<00:00, 68.69it/s]\n"
     ]
    },
    {
     "name": "stdout",
     "output_type": "stream",
     "text": [
      "cumsum:  [3.64828491e-11 7.29779879e-11 1.09485420e-10 ... 1.00000000e+00\n",
      " 1.00000000e+00 1.00000000e+00]\n"
     ]
    },
    {
     "name": "stderr",
     "output_type": "stream",
     "text": [
      "binarizing continuous traces filtered fluorescence onphase: 100%|██████████| 1/1 [00:00<00:00, 61.93it/s]\n",
      "binarizing continuous traces filtered fluorescence upphase: 100%|██████████| 1/1 [00:00<00:00, 53.58it/s]\n",
      "low pass filter: 100%|██████████| 1/1 [00:00<00:00, 623.60it/s]\n",
      "model filter: remove bleaching or trends: 100%|██████████| 1/1 [00:00<00:00, 600.30it/s]\n",
      "fitting mode to physics: 100%|██████████| 1/1 [00:00<00:00, 76.58it/s]\n"
     ]
    },
    {
     "name": "stdout",
     "output_type": "stream",
     "text": [
      "cumsum:  [1.26496650e-17 2.53084175e-17 3.79762638e-17 ... 1.00000000e+00\n",
      " 1.00000000e+00 1.00000000e+00]\n"
     ]
    },
    {
     "name": "stderr",
     "output_type": "stream",
     "text": [
      "binarizing continuous traces filtered fluorescence onphase: 100%|██████████| 1/1 [00:00<00:00, 63.18it/s]\n",
      "binarizing continuous traces filtered fluorescence upphase: 100%|██████████| 1/1 [00:00<00:00, 56.17it/s]\n",
      "low pass filter: 100%|██████████| 1/1 [00:00<00:00, 595.87it/s]\n",
      "model filter: remove bleaching or trends: 100%|██████████| 1/1 [00:00<00:00, 520.26it/s]\n",
      "fitting mode to physics: 100%|██████████| 1/1 [00:00<00:00, 66.88it/s]\n"
     ]
    },
    {
     "name": "stdout",
     "output_type": "stream",
     "text": [
      "cumsum:  [4.13738239e-19 8.27809700e-19 1.24221465e-18 ... 1.00000000e+00\n",
      " 1.00000000e+00 1.00000000e+00]\n"
     ]
    },
    {
     "name": "stderr",
     "output_type": "stream",
     "text": [
      "binarizing continuous traces filtered fluorescence onphase: 100%|██████████| 1/1 [00:00<00:00, 53.34it/s]\n",
      "binarizing continuous traces filtered fluorescence upphase: 100%|██████████| 1/1 [00:00<00:00, 40.86it/s]\n"
     ]
    }
   ],
   "source": [
    "#######################################\n",
    "#######################################\n",
    "#######################################\n",
    "\n",
    "# binarize the ensembel state    \n",
    "c.plotting = False\n",
    "c.scale_threshold = 0.05 #                 # we want to decrease the burst detection threshold manually - because the \n",
    "                                            # automatic threshold detection is too conservative \n",
    "c.dff_threshold = 0.1\n",
    "c.percentile_threshold = 0.999\n",
    "\n",
    "#\n",
    "#print (\"TODO: need to add the standaline binairzation code to the binarize2pcalcium package....\")\n",
    "#print (\" This is generally a good idea anyways for doing single time sieres extraction\")\n",
    "\n",
    "# right now only binarizing upphase - if want to do negative phase have to invert the signal\n",
    "c.sample_rate = 30\n",
    "c.binarize_ensemble_state_multi()\n"
   ]
  },
  {
   "cell_type": "code",
   "execution_count": 6,
   "metadata": {},
   "outputs": [],
   "source": [
    "#######################################################\n",
    "#######################################################\n",
    "#######################################################\n",
    "\n",
    "plt.figure()\n",
    "t = np.arange(c.sessions[1].e_state.shape[0])/30.\n",
    "\n",
    "# make viridis colormap for line plotting up to 7 sessions\n",
    "cmap = matplotlib.cm.get_cmap('viridis')\n",
    "clrs = cmap(np.linspace(0, 1, 7))\n",
    "\n",
    "#\n",
    "for session_id in range(1,8,1):\n",
    "    temp = c.sessions[session_id].e_state_bin \n",
    "    temp2 = c.sessions[session_id].e_state\n",
    "\n",
    "    plt.plot(t, temp + 2*session_id, \n",
    "             label = \"bmi \"+str(session_id),\n",
    "             c='black',\n",
    "             alpha=.5)\n",
    "    \n",
    "    plt.plot(t, temp2 + 2*session_id, \n",
    "             c=clrs[session_id-1])\n",
    "\n",
    "#\n",
    "plt.xlabel(\"Time (sec)\",fontsize=16)\n",
    "\n",
    "#\n",
    "plt.xlim(0, t[-1])\n",
    "plt.yticks([])\n",
    "\n",
    "#c.sessions[1]\n",
    "plt.legend()\n",
    "\n",
    "#\n",
    "plt.suptitle(\"Ensemble state + Binarization\", fontsize=16)\n",
    "\n",
    "plt.show()\n"
   ]
  },
  {
   "cell_type": "code",
   "execution_count": 20,
   "id": "a7ba3175",
   "metadata": {},
   "outputs": [
    {
     "name": "stdout",
     "output_type": "stream",
     "text": [
      "# of snippets:  292  # of detected snippets of sign:  1   292\n",
      "# of bursts:  292  # of rewarded bursts:  46\n",
      "self.update_spreadsheet:  True\n",
      "TO ADD: grab the tones also during the bursts\n"
     ]
    }
   ],
   "source": [
    "#######################################\n",
    "#######################################\n",
    "#######################################\n",
    "\n",
    "#\n",
    "#c.sessions[session_id].thresh = thresh\n",
    "c.overwrite_spreadsheet = True\n",
    "c.plotting = True\n",
    "c.update_spreadsheet = True\n",
    "c.burst_sign = 1         # -1 or +1\n",
    "c.process_snippets()           # processes snippets and adds them to the spreassheet \n",
    "\n",
    "print (\"TO ADD: grab the tones also during the bursts\")\n",
    "\n"
   ]
  },
  {
   "cell_type": "code",
   "execution_count": 22,
   "id": "c2267076",
   "metadata": {},
   "outputs": [
    {
     "name": "stdout",
     "output_type": "stream",
     "text": [
      "snippets_warped:  (46, 30)\n"
     ]
    }
   ],
   "source": [
    "###############################################\n",
    "###############################################\n",
    "###############################################\n",
    "\n",
    "#\n",
    "#c.time_warp = False\n",
    "c.plotting = True\n",
    "\n",
    "#c.use_rewarded_bursts_only = False\n",
    "c.get_mean_warped_trace()  # this computes the warp trace regardless"
   ]
  },
  {
   "cell_type": "code",
   "execution_count": 26,
   "id": "92d9e7a8",
   "metadata": {},
   "outputs": [],
   "source": [
    "################################################\n",
    "######### VISUALIZE WARPING FUNCITONS ##########\n",
    "################################################\n",
    "\n",
    "#\n",
    "c.use_stretched = True\n",
    "c.plotting = True\n",
    "c.burst_to_threshold_only = True                 # this uses the bursts only to the threshold\n",
    "c.compute_warping_functions()\n"
   ]
  },
  {
   "cell_type": "code",
   "execution_count": 27,
   "id": "d68772cd",
   "metadata": {},
   "outputs": [
    {
     "name": "stderr",
     "output_type": "stream",
     "text": [
      "  0%|          | 0/354 [00:00<?, ?it/s]"
     ]
    },
    {
     "name": "stderr",
     "output_type": "stream",
     "text": [
      "100%|██████████| 354/354 [00:17<00:00, 19.67it/s]\n"
     ]
    },
    {
     "name": "stdout",
     "output_type": "stream",
     "text": [
      "burst_raw:  (354, 46, 400)\n",
      "post_burst_raw:  (354, 46, 100)\n",
      "burst_raw_mean:  (354, 400)\n",
      "(46, 200) (46, 30) (46, 100)\n",
      "traces_all:  (354, 46, 330)\n"
     ]
    }
   ],
   "source": [
    "# this plots the best cell responses to bursts\n",
    "c.start_idx = 0\n",
    "c.pre_burst_n_time_pts = 200\n",
    "c.ca_type = 'DFF'\n",
    "\n",
    "# \n",
    "c.plot_warped_cell_ca_trial_and_burst()\n",
    "\n",
    "#"
   ]
  },
  {
   "cell_type": "code",
   "execution_count": 22,
   "id": "db098d80",
   "metadata": {},
   "outputs": [
    {
     "name": "stdout",
     "output_type": "stream",
     "text": [
      "n_cells:  263 # rewarsds:  39\n",
      "traces-raw:  (263, 39, 400)\n",
      "traces mean:  (263, 400)\n"
     ]
    }
   ],
   "source": [
    "################################################\n",
    "######### VISUALIZE WARPING FUNCITONS ##########\n",
    "################################################\n",
    "# this plots the best cell responses to bursts\n",
    "c.start_idx = 0\n",
    "c.plot_warped_cell_ca_burst_only()\n",
    "\n",
    "#\n",
    "print (\"SOME TODOS\")\n",
    "print (\" 1. Warp only to the threshold - not the peak of burst\")\n",
    "print (\" 2. compute the rate map for each cell for burst initiation to threshold/end of peak (2 options)\")\n",
    "print (\" 3. compute the rate map for each cell from trial beginning to threshold/end of peak (2 options)\")\n"
   ]
  },
  {
   "cell_type": "code",
   "execution_count": null,
   "id": "0f4ae1a6",
   "metadata": {},
   "outputs": [],
   "source": []
  },
  {
   "cell_type": "code",
   "execution_count": null,
   "id": "da36fbf2",
   "metadata": {},
   "outputs": [],
   "source": []
  },
  {
   "cell_type": "code",
   "execution_count": 76,
   "id": "c32fe3f3",
   "metadata": {},
   "outputs": [],
   "source": [
    "# plt.figure()\n",
    "\n",
    "# #\n",
    "# temp = c.bursts.copy().astype(float)\n",
    "# temp[temp ==1000] = np.nan\n",
    "# temp[temp >0] = 1.5\n",
    "# plt.plot(temp,label='burst')\n",
    "# # same but with rewarded bursts\n",
    "# temp = c.bursts_rewarded.copy().astype(float)\n",
    "# temp[temp !=1] = np.nan\n",
    "\n",
    "# plt.plot(temp,label='burst rewarded')\n",
    "\n",
    "# # plot water reward\n",
    "# plt.plot(c.water_reward*1.3,label='water')\n",
    "\n",
    "# #\n",
    "# plt.plot(c.e_state,label='ensemble state')\n",
    "\n",
    "# plt.legend()\n",
    "# plt.show()\n"
   ]
  },
  {
   "cell_type": "code",
   "execution_count": null,
   "id": "138bde45",
   "metadata": {},
   "outputs": [],
   "source": []
  },
  {
   "cell_type": "code",
   "execution_count": null,
   "id": "6d025ea6",
   "metadata": {},
   "outputs": [],
   "source": []
  },
  {
   "cell_type": "code",
   "execution_count": null,
   "id": "023ae69b",
   "metadata": {},
   "outputs": [],
   "source": []
  },
  {
   "cell_type": "code",
   "execution_count": null,
   "id": "c181a8e7",
   "metadata": {},
   "outputs": [],
   "source": []
  },
  {
   "cell_type": "code",
   "execution_count": null,
   "id": "86d1cefa",
   "metadata": {},
   "outputs": [],
   "source": []
  },
  {
   "cell_type": "code",
   "execution_count": null,
   "id": "d99d623e",
   "metadata": {},
   "outputs": [],
   "source": []
  },
  {
   "cell_type": "code",
   "execution_count": null,
   "id": "926f7654",
   "metadata": {},
   "outputs": [],
   "source": []
  },
  {
   "cell_type": "code",
   "execution_count": null,
   "id": "c2b502f6",
   "metadata": {},
   "outputs": [],
   "source": []
  },
  {
   "cell_type": "code",
   "execution_count": null,
   "id": "e99976a9",
   "metadata": {},
   "outputs": [],
   "source": []
  },
  {
   "cell_type": "code",
   "execution_count": null,
   "id": "382188ed",
   "metadata": {},
   "outputs": [],
   "source": []
  },
  {
   "cell_type": "code",
   "execution_count": null,
   "id": "2e291d36",
   "metadata": {},
   "outputs": [],
   "source": []
  }
 ],
 "metadata": {
  "kernelspec": {
   "display_name": "Python 3 (ipykernel)",
   "language": "python",
   "name": "python3"
  },
  "language_info": {
   "codemirror_mode": {
    "name": "ipython",
    "version": 3
   },
   "file_extension": ".py",
   "mimetype": "text/x-python",
   "name": "python",
   "nbconvert_exporter": "python",
   "pygments_lexer": "ipython3",
   "version": "3.8.18"
  },
  "toc-autonumbering": false,
  "toc-showcode": true
 },
 "nbformat": 4,
 "nbformat_minor": 5
}
