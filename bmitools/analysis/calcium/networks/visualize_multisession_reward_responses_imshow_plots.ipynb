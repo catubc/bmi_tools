{
 "cells": [
  {
   "cell_type": "code",
   "execution_count": 1,
   "id": "aff08ce5",
   "metadata": {},
   "outputs": [
    {
     "data": {
      "application/javascript": "IPython.notebook.set_autosave_interval(180000)"
     },
     "metadata": {},
     "output_type": "display_data"
    },
    {
     "name": "stdout",
     "output_type": "stream",
     "text": [
      "Autosaving every 180 seconds\n"
     ]
    },
    {
     "name": "stderr",
     "output_type": "stream",
     "text": [
      "/home/cat/.conda/envs/bmitools/lib/python3.8/site-packages/tqdm/auto.py:21: TqdmWarning: IProgress not found. Please update jupyter and ipywidgets. See https://ipywidgets.readthedocs.io/en/stable/user_install.html\n",
      "  from .autonotebook import tqdm as notebook_tqdm\n"
     ]
    },
    {
     "name": "stdout",
     "output_type": "stream",
     "text": [
      "Importing the dtw module. When using in academic works please cite:\n",
      "  T. Giorgino. Computing and Visualizing Dynamic Time Warping Alignments in R: The dtw Package.\n",
      "  J. Stat. Soft., doi:10.18637/jss.v031.i07.\n",
      "\n"
     ]
    }
   ],
   "source": [
    "import matplotlib.pyplot as plt\n",
    "import matplotlib\n",
    "\n",
    "%matplotlib tk\n",
    "%autosave 180\n",
    "%load_ext autoreload\n",
    "%autoreload 2\n",
    "\n",
    "\n",
    "import numpy as np\n",
    "#%matplotlib inline\n",
    "\n",
    "import os\n",
    "from utils import *\n",
    "\n",
    "import os\n",
    "\n",
    "from utils_calcium import ProcessCalcium, get_reward_triggered_psth, plot_multi_session_psth_imshow, plot_psth"
   ]
  },
  {
   "cell_type": "code",
   "execution_count": 22,
   "id": "044f5ae6",
   "metadata": {},
   "outputs": [
    {
     "name": "stderr",
     "output_type": "stream",
     "text": [
      "  0%|          | 0/8 [00:00<?, ?it/s]"
     ]
    },
    {
     "name": "stdout",
     "output_type": "stream",
     "text": [
      " ***** USING non-merged binarization\n",
      "remove bad cells:  True\n",
      "...setting 2p parameters...\n",
      "...loading binarized traces from file:  /media/cat/8TB/donato/bmi/DON-011733/20230302/plane0/binarized_traces.npz\n"
     ]
    },
    {
     "name": "stderr",
     "output_type": "stream",
     "text": [
      " 12%|█▎        | 1/8 [00:01<00:12,  1.75s/it]"
     ]
    },
    {
     "name": "stdout",
     "output_type": "stream",
     "text": [
      "\n",
      " ***** USING non-merged binarization\n",
      "remove bad cells:  True\n",
      "...setting 2p parameters...\n",
      "...loading binarized traces from file:  /media/cat/8TB/donato/bmi/DON-011733/20230303/plane0/binarized_traces.npz\n"
     ]
    },
    {
     "name": "stderr",
     "output_type": "stream",
     "text": [
      " 25%|██▌       | 2/8 [00:03<00:08,  1.50s/it]"
     ]
    },
    {
     "name": "stdout",
     "output_type": "stream",
     "text": [
      "\n",
      " ***** USING non-merged binarization\n",
      "remove bad cells:  True\n",
      "...setting 2p parameters...\n",
      "...loading binarized traces from file:  /media/cat/8TB/donato/bmi/DON-011733/20230304/plane0/binarized_traces.npz\n"
     ]
    },
    {
     "name": "stderr",
     "output_type": "stream",
     "text": [
      " 38%|███▊      | 3/8 [00:04<00:07,  1.57s/it]"
     ]
    },
    {
     "name": "stdout",
     "output_type": "stream",
     "text": [
      "\n",
      " ***** USING non-merged binarization\n",
      "remove bad cells:  True\n",
      "...setting 2p parameters...\n",
      "...loading binarized traces from file:  /media/cat/8TB/donato/bmi/DON-011733/20230305/plane0/binarized_traces.npz\n",
      "missing data, rerunning binairzation\n"
     ]
    },
    {
     "name": "stderr",
     "output_type": "stream",
     "text": [
      "low pass filter: 100%|██████████| 371/371 [00:00<00:00, 728.46it/s]\n"
     ]
    },
    {
     "name": "stdout",
     "output_type": "stream",
     "text": [
      "no clip windows found\n"
     ]
    },
    {
     "name": "stderr",
     "output_type": "stream",
     "text": [
      "model filter: remove bleaching or trends: 100%|██████████| 371/371 [00:03<00:00, 104.31it/s]\n",
      "372it [00:05, 74.06it/s]\n",
      "binarizing continuous traces : 100%|██████████| 371/371 [00:02<00:00, 137.16it/s]\n",
      "binarizing continuous traces : 100%|██████████| 371/371 [00:03<00:00, 114.00it/s]\n"
     ]
    },
    {
     "name": "stdout",
     "output_type": "stream",
     "text": [
      "...saving data:  /media/cat/8TB/donato/bmi/DON-011733/20230305/plane0/binarized_traces.npz\n"
     ]
    },
    {
     "name": "stderr",
     "output_type": "stream",
     "text": [
      " 50%|█████     | 4/8 [00:27<00:40, 10.11s/it]"
     ]
    },
    {
     "name": "stdout",
     "output_type": "stream",
     "text": [
      "\n",
      " ***** USING non-merged binarization\n",
      "remove bad cells:  True\n",
      "...setting 2p parameters...\n",
      "...loading binarized traces from file:  /media/cat/8TB/donato/bmi/DON-011733/20230306/plane0/binarized_traces.npz\n"
     ]
    },
    {
     "name": "stderr",
     "output_type": "stream",
     "text": [
      " 62%|██████▎   | 5/8 [00:29<00:20,  6.89s/it]"
     ]
    },
    {
     "name": "stdout",
     "output_type": "stream",
     "text": [
      "\n",
      " ***** USING non-merged binarization\n",
      "remove bad cells:  True\n",
      "...setting 2p parameters...\n",
      "...loading binarized traces from file:  /media/cat/8TB/donato/bmi/DON-011733/20230307/plane0/binarized_traces.npz\n"
     ]
    },
    {
     "name": "stderr",
     "output_type": "stream",
     "text": [
      " 75%|███████▌  | 6/8 [00:30<00:09,  4.94s/it]"
     ]
    },
    {
     "name": "stdout",
     "output_type": "stream",
     "text": [
      "\n",
      " ***** USING non-merged binarization\n",
      "remove bad cells:  True\n",
      "...setting 2p parameters...\n",
      "...loading binarized traces from file:  /media/cat/8TB/donato/bmi/DON-011733/20230308/plane0/binarized_traces.npz\n"
     ]
    },
    {
     "name": "stderr",
     "output_type": "stream",
     "text": [
      " 88%|████████▊ | 7/8 [00:32<00:03,  3.97s/it]"
     ]
    },
    {
     "name": "stdout",
     "output_type": "stream",
     "text": [
      "\n",
      " ***** USING non-merged binarization\n",
      "remove bad cells:  True\n",
      "...setting 2p parameters...\n",
      "...loading binarized traces from file:  /media/cat/8TB/donato/bmi/DON-011733/20230309/plane0/binarized_traces.npz\n"
     ]
    },
    {
     "name": "stderr",
     "output_type": "stream",
     "text": [
      "100%|██████████| 8/8 [00:34<00:00,  4.25s/it]"
     ]
    },
    {
     "name": "stdout",
     "output_type": "stream",
     "text": [
      "\n",
      "....DONE...\n"
     ]
    },
    {
     "name": "stderr",
     "output_type": "stream",
     "text": [
      "\n"
     ]
    }
   ],
   "source": [
    "####################################################\n",
    "################## LOAD DATA #######################\n",
    "####################################################\n",
    "\n",
    "root_dir = '/media/cat/8TB/donato/bmi/'\n",
    "\n",
    "animal_ids = [\n",
    "    # M1 mice\n",
    "    \"DON-011733\",    # M1    - Processed\n",
    "    \"DON-014618\",    # M1    - Processed\n",
    "    'DON-014451',    # M1    - Processed\n",
    "    'DON-014382',    # M1    - Processed\n",
    "    'DON-014575',    # M1    - Processed\n",
    "    'DON-014618',    # M1    - Processed\n",
    "    'DON-015821',    # M1    - Processed\n",
    "   # 'DON-017923',   # M1    - Not Processed <has extra days at the end....\n",
    "    'DON-018129',   # M1    - Not Processed\n",
    "     'DON-018130',   # M1    - Not Processed\n",
    "\n",
    "  #  MAYBE MICE\n",
    "  #  'DON-013392'  <-- only last day was good, all others were at chance\n",
    "#    'DON-015962'  <-- might be ok, rechedk it.\n",
    "\n",
    "  #  CA3 mice\n",
    "    \"DON-012502\",    # CA3    - spreadsheet is old - need reprocessing; ALSO Weird performance, may exclude\n",
    "    \"DON-014266\",    # CA3   - Processed\n",
    "    'DON-014371',    # CA3   - Processed\n",
    "    'DON-015801',    # CA3   - Processed\n",
    "    'DON-016658',    # CA3   - Processed\n",
    "    \"DON-019683\",    # CA3   - Processed\n",
    "]\n",
    "#\n",
    "\n",
    "animal_id = animal_ids[0]\n",
    "\n",
    "#\n",
    "c = ProcessCalcium(root_dir,\n",
    "                    animal_id)\n",
    "\n",
    "# # \n",
    "c.remove_bad_cells = False\n",
    "c.use_non_merged = True\n",
    "\n",
    "#\n",
    "c.recompute_binarization = False  # IF TRue: must input correct params from bin notebooks\n",
    "c.dff_min = 0.05                  # min %DFF for [ca] burst to considered a spike (default 5%) overwrites percentile threshold parameter\n",
    "c.percentile_threshold = 0.99   # this is pretty fixed, we don't change it; we want [ca] bursts that are well outside the \"physics-caused\"noise\n",
    "c.maximum_std_of_signal = 0.25     # if std of signal is greater than this, then we have a noisy signal and we don't want to binarize it\n",
    "\n",
    "#\n",
    "c.save_figures = c.recompute_binarization\n",
    "c.load_sessions()\n",
    "\n",
    "#\n",
    "print (\"....DONE...\")\n"
   ]
  },
  {
   "cell_type": "code",
   "execution_count": 24,
   "id": "6f8ab619",
   "metadata": {},
   "outputs": [
    {
     "name": "stdout",
     "output_type": "stream",
     "text": [
      "File exists:  /media/cat/8TB/donato/bmi/DON-014618/results/DON-014618_m1_multi_session_psth_imshow.svg\n",
      "File exists:  /media/cat/8TB/donato/bmi/DON-014451/results/DON-014451_m1_multi_session_psth_imshow.svg\n",
      "File exists:  /media/cat/8TB/donato/bmi/DON-014382/results/DON-014382_m1_multi_session_psth_imshow.svg\n",
      "File exists:  /media/cat/8TB/donato/bmi/DON-014575/results/DON-014575_m1_multi_session_psth_imshow.svg\n",
      "File exists:  /media/cat/8TB/donato/bmi/DON-014618/results/DON-014618_m1_multi_session_psth_imshow.svg\n"
     ]
    },
    {
     "name": "stderr",
     "output_type": "stream",
     "text": [
      "  0%|          | 0/9 [00:00<?, ?it/s]"
     ]
    },
    {
     "name": "stdout",
     "output_type": "stream",
     "text": [
      " ***** USING non-merged binarization\n",
      "remove bad cells:  True\n",
      "...setting 2p parameters...\n",
      "...loading binarized traces from file:  /media/cat/8TB/donato/bmi/DON-015821/20230519/plane0/binarized_traces.npz\n"
     ]
    },
    {
     "name": "stderr",
     "output_type": "stream",
     "text": [
      " 11%|█         | 1/9 [00:01<00:12,  1.60s/it]"
     ]
    },
    {
     "name": "stdout",
     "output_type": "stream",
     "text": [
      "\n",
      " ***** USING non-merged binarization\n",
      "remove bad cells:  True\n",
      "...setting 2p parameters...\n",
      "...loading binarized traces from file:  /media/cat/8TB/donato/bmi/DON-015821/20230520/plane0/binarized_traces.npz\n"
     ]
    },
    {
     "name": "stderr",
     "output_type": "stream",
     "text": [
      " 22%|██▏       | 2/9 [00:04<00:15,  2.22s/it]"
     ]
    },
    {
     "name": "stdout",
     "output_type": "stream",
     "text": [
      "\n",
      " ***** USING non-merged binarization\n",
      "remove bad cells:  True\n",
      "...setting 2p parameters...\n",
      "...loading binarized traces from file:  /media/cat/8TB/donato/bmi/DON-015821/20230521/plane0/binarized_traces.npz\n"
     ]
    },
    {
     "name": "stderr",
     "output_type": "stream",
     "text": [
      " 33%|███▎      | 3/9 [00:05<00:09,  1.65s/it]"
     ]
    },
    {
     "name": "stdout",
     "output_type": "stream",
     "text": [
      "\n",
      " ***** USING non-merged binarization\n",
      "remove bad cells:  True\n",
      "...setting 2p parameters...\n",
      "...loading binarized traces from file:  /media/cat/8TB/donato/bmi/DON-015821/20230522/plane0/binarized_traces.npz\n"
     ]
    },
    {
     "name": "stderr",
     "output_type": "stream",
     "text": [
      " 44%|████▍     | 4/9 [00:06<00:07,  1.44s/it]"
     ]
    },
    {
     "name": "stdout",
     "output_type": "stream",
     "text": [
      "\n",
      " ***** USING non-merged binarization\n",
      "remove bad cells:  True\n",
      "...setting 2p parameters...\n",
      "...loading binarized traces from file:  /media/cat/8TB/donato/bmi/DON-015821/20230523/plane0/binarized_traces.npz\n"
     ]
    },
    {
     "name": "stderr",
     "output_type": "stream",
     "text": [
      " 56%|█████▌    | 5/9 [00:07<00:05,  1.31s/it]"
     ]
    },
    {
     "name": "stdout",
     "output_type": "stream",
     "text": [
      "\n",
      "couldn't reward results.npz file...\n",
      " ***** USING non-merged binarization\n",
      "remove bad cells:  True\n",
      "...setting 2p parameters...\n",
      "...loading binarized traces from file:  /media/cat/8TB/donato/bmi/DON-015821/20230524/plane0/binarized_traces.npz\n"
     ]
    },
    {
     "name": "stderr",
     "output_type": "stream",
     "text": [
      " 67%|██████▋   | 6/9 [00:08<00:03,  1.24s/it]"
     ]
    },
    {
     "name": "stdout",
     "output_type": "stream",
     "text": [
      "\n",
      " ***** USING non-merged binarization\n",
      "remove bad cells:  True\n",
      "...setting 2p parameters...\n",
      "...loading binarized traces from file:  /media/cat/8TB/donato/bmi/DON-015821/20230525/plane0/binarized_traces.npz\n"
     ]
    },
    {
     "name": "stderr",
     "output_type": "stream",
     "text": [
      " 78%|███████▊  | 7/9 [00:09<00:02,  1.18s/it]"
     ]
    },
    {
     "name": "stdout",
     "output_type": "stream",
     "text": [
      "\n",
      " ***** USING non-merged binarization\n",
      "remove bad cells:  True\n",
      "...setting 2p parameters...\n",
      "...loading binarized traces from file:  /media/cat/8TB/donato/bmi/DON-015821/20230526/plane0/binarized_traces.npz\n"
     ]
    },
    {
     "name": "stderr",
     "output_type": "stream",
     "text": [
      " 89%|████████▉ | 8/9 [00:10<00:01,  1.15s/it]"
     ]
    },
    {
     "name": "stdout",
     "output_type": "stream",
     "text": [
      "\n",
      " ***** USING non-merged binarization\n",
      "remove bad cells:  True\n",
      "...setting 2p parameters...\n",
      "...loading binarized traces from file:  /media/cat/8TB/donato/bmi/DON-015821/20230527/plane0/binarized_traces.npz\n"
     ]
    },
    {
     "name": "stderr",
     "output_type": "stream",
     "text": [
      "100%|██████████| 9/9 [00:13<00:00,  1.46s/it]"
     ]
    },
    {
     "name": "stdout",
     "output_type": "stream",
     "text": [
      "\n"
     ]
    },
    {
     "name": "stderr",
     "output_type": "stream",
     "text": [
      "\n",
      "/home/cat/code/bmitools/bmitools/analysis/calcium/networks/utils_calcium.py:5195: RuntimeWarning: Mean of empty slice\n",
      "  psths_avg = np.nanmean(psths,1)\n",
      "/home/cat/code/bmitools/bmitools/analysis/calcium/networks/utils_calcium.py:5196: RuntimeWarning: Mean of empty slice\n",
      "  psths_shuffled_avg = np.nanmean(psths_shuffled,1)\n"
     ]
    },
    {
     "ename": "TypeError",
     "evalue": "'NoneType' object is not subscriptable",
     "output_type": "error",
     "traceback": [
      "\u001b[0;31m---------------------------------------------------------------------------\u001b[0m",
      "\u001b[0;31mTypeError\u001b[0m                                 Traceback (most recent call last)",
      "Cell \u001b[0;32mIn[24], line 61\u001b[0m\n\u001b[1;32m     58\u001b[0m n_bursts_array\u001b[38;5;241m.\u001b[39mappend(n_bursts)\n\u001b[1;32m     60\u001b[0m \u001b[38;5;66;03m#\u001b[39;00m\n\u001b[0;32m---> 61\u001b[0m psth_array\u001b[38;5;241m.\u001b[39mappend(psths_avg[\u001b[43midx_cells\u001b[49m\u001b[43m[\u001b[49m\u001b[43m:\u001b[49m\u001b[43m:\u001b[49m\u001b[38;5;241;43m-\u001b[39;49m\u001b[38;5;241;43m1\u001b[39;49m\u001b[43m]\u001b[49m])\n\u001b[1;32m     63\u001b[0m \u001b[38;5;28;01mif\u001b[39;00m global_order\u001b[38;5;241m==\u001b[39m\u001b[38;5;28;01mFalse\u001b[39;00m:\n\u001b[1;32m     64\u001b[0m     idx_cells \u001b[38;5;241m=\u001b[39m \u001b[38;5;28;01mNone\u001b[39;00m\n",
      "\u001b[0;31mTypeError\u001b[0m: 'NoneType' object is not subscriptable"
     ]
    }
   ],
   "source": [
    "##############################################################\n",
    "######## COMPUTE REWARD TRIGGERED RESPONSE OF CELLS ##########\n",
    "##############################################################\n",
    "\n",
    "#\n",
    "for animal_id in animal_ids[1:]:\n",
    "\n",
    "    #\n",
    "    c = ProcessCalcium(root_dir,\n",
    "                        animal_id)\n",
    "    \n",
    "    # \n",
    "    fname_out = os.path.join(c.root_dir,\n",
    "                            c.animal_id,\n",
    "                            'results',\n",
    "                            c.animal_id+'_'+c.rec_type+'_multi_session_psth_imshow.svg')\n",
    "\n",
    "    if os.path.exists(fname_out):\n",
    "        print (\"File exists: \", fname_out)\n",
    "        continue\n",
    "\n",
    "    # # \n",
    "    c.remove_bad_cells = False\n",
    "    c.use_non_merged = True\n",
    "\n",
    "    #\n",
    "    c.recompute_binarization = False  # IF TRue: must input correct params from bin notebooks\n",
    "    c.dff_min = 0.05                  # min %DFF for [ca] burst to considered a spike (default 5%) overwrites percentile threshold parameter\n",
    "    c.percentile_threshold = 0.99   # this is pretty fixed, we don't change it; we want [ca] bursts that are well outside the \"physics-caused\"noise\n",
    "    c.maximum_std_of_signal = 0.25     # if std of signal is greater than this, then we have a noisy signal and we don't want to binarize it\n",
    "\n",
    "    #\n",
    "    c.save_figures = c.recompute_binarization\n",
    "    c.load_sessions()\n",
    "\n",
    "    window = 30*6\n",
    "    psth_array = []\n",
    "    idx_cells = None\n",
    "    global_order = False\n",
    "    session_ids = np.arange(1,len(c.session_ids),1)\n",
    "\n",
    "    #\n",
    "    n_bursts_array = []\n",
    "\n",
    "    global_order = False\n",
    "    for session_id in session_ids:\n",
    "    #for session_id in [1,7]:\n",
    "\n",
    "\n",
    "        #\n",
    "        psths_avg, psths_shuffled_avg, idx_cells, n_bursts  = get_reward_triggered_psth(session_id, \n",
    "                                                                                        c,\n",
    "                                                                                        window,\n",
    "                                                                                        idx_cells,\n",
    "                                                                                        global_order)\n",
    "    \n",
    "        #\n",
    "        n_bursts_array.append(n_bursts)\n",
    "        \n",
    "        #\n",
    "        try:\n",
    "            psth_array.append(psths_avg[idx_cells[::-1]])\n",
    "        except:\n",
    "            print (\"Error appending psth array\")\n",
    "            continue\n",
    "        if global_order==False:\n",
    "            idx_cells = None\n",
    "\n",
    "    #\n",
    "    #psth_array = np.array(psth_array)\n",
    "    #print (psth_array.shape)\n",
    "\n",
    "    #\n",
    "\n",
    "    vmax = 0.3\n",
    "\n",
    "    sua = plot_multi_session_psth_imshow(c,\n",
    "                                session_ids,\n",
    "                                psth_array,\n",
    "                                window,\n",
    "                                n_bursts_array,\n",
    "                                vmax=vmax)\n"
   ]
  },
  {
   "cell_type": "code",
   "execution_count": 148,
   "metadata": {},
   "outputs": [],
   "source": []
  },
  {
   "cell_type": "code",
   "execution_count": null,
   "id": "382188ed",
   "metadata": {},
   "outputs": [],
   "source": []
  },
  {
   "cell_type": "code",
   "execution_count": null,
   "id": "2e291d36",
   "metadata": {},
   "outputs": [],
   "source": []
  }
 ],
 "metadata": {
  "kernelspec": {
   "display_name": "Python 3 (ipykernel)",
   "language": "python",
   "name": "python3"
  },
  "language_info": {
   "codemirror_mode": {
    "name": "ipython",
    "version": 3
   },
   "file_extension": ".py",
   "mimetype": "text/x-python",
   "name": "python",
   "nbconvert_exporter": "python",
   "pygments_lexer": "ipython3",
   "version": "3.8.18"
  },
  "toc-autonumbering": false,
  "toc-showcode": true
 },
 "nbformat": 4,
 "nbformat_minor": 5
}
