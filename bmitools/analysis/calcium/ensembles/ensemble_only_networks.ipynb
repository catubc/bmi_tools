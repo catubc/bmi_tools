{
 "cells": [
  {
   "cell_type": "code",
   "execution_count": 1,
   "id": "aff08ce5",
   "metadata": {},
   "outputs": [
    {
     "data": {
      "application/javascript": "IPython.notebook.set_autosave_interval(180000)"
     },
     "metadata": {},
     "output_type": "display_data"
    },
    {
     "name": "stdout",
     "output_type": "stream",
     "text": [
      "Autosaving every 180 seconds\n"
     ]
    },
    {
     "name": "stderr",
     "output_type": "stream",
     "text": [
      "/home/cat/.conda/envs/bmitools/lib/python3.8/site-packages/tqdm/auto.py:21: TqdmWarning: IProgress not found. Please update jupyter and ipywidgets. See https://ipywidgets.readthedocs.io/en/stable/user_install.html\n",
      "  from .autonotebook import tqdm as notebook_tqdm\n"
     ]
    },
    {
     "name": "stdout",
     "output_type": "stream",
     "text": [
      "Importing the dtw module. When using in academic works please cite:\n",
      "  T. Giorgino. Computing and Visualizing Dynamic Time Warping Alignments in R: The dtw Package.\n",
      "  J. Stat. Soft., doi:10.18637/jss.v031.i07.\n",
      "\n"
     ]
    }
   ],
   "source": [
    "import matplotlib.pyplot as plt\n",
    "import matplotlib\n",
    "\n",
    "%matplotlib tk\n",
    "%autosave 180\n",
    "%load_ext autoreload\n",
    "%autoreload 2\n",
    "\n",
    "\n",
    "import numpy as np\n",
    "#%matplotlib inline\n",
    "\n",
    "import os\n",
    "from utils import *\n",
    "\n",
    "import os\n",
    "\n",
    "import networkx as nx\n",
    "\n",
    "from utils_calcium import (ProcessCalcium, \n",
    "                          #  get_reward_triggered_psth, \n",
    "                          #  plot_multi_session_psth_imshow, \n",
    "                          #  plot_psth,\n",
    "                          #    compute_ensemble_only_correlations,\n",
    "                           make_ensemble_graphs,\n",
    "                           make_ensemble_graphs_statistics,\n",
    "                           make_ensemble_graphs_statistics_allcells)\n",
    "\n"
   ]
  },
  {
   "cell_type": "code",
   "execution_count": 16,
   "id": "044f5ae6",
   "metadata": {},
   "outputs": [
    {
     "name": "stderr",
     "output_type": "stream",
     "text": [
      "  0%|          | 0/9 [00:00<?, ?it/s]"
     ]
    },
    {
     "name": "stdout",
     "output_type": "stream",
     "text": [
      " ***** USING non-merged binarization\n",
      "remove bad cells:  True\n",
      "...setting 2p parameters...\n"
     ]
    },
    {
     "name": "stderr",
     "output_type": "stream",
     "text": [
      " 11%|█         | 1/9 [00:12<01:43, 12.90s/it]"
     ]
    },
    {
     "name": "stdout",
     "output_type": "stream",
     "text": [
      "\n",
      " ***** USING non-merged binarization\n",
      "remove bad cells:  True\n",
      "...setting 2p parameters...\n"
     ]
    },
    {
     "name": "stderr",
     "output_type": "stream",
     "text": [
      " 22%|██▏       | 2/9 [00:23<01:20, 11.53s/it]"
     ]
    },
    {
     "name": "stdout",
     "output_type": "stream",
     "text": [
      "\n",
      " ***** USING non-merged binarization\n",
      "remove bad cells:  True\n",
      "...setting 2p parameters...\n"
     ]
    },
    {
     "name": "stderr",
     "output_type": "stream",
     "text": [
      " 33%|███▎      | 3/9 [00:33<01:06, 11.06s/it]"
     ]
    },
    {
     "name": "stdout",
     "output_type": "stream",
     "text": [
      "\n",
      " ***** USING non-merged binarization\n",
      "remove bad cells:  True\n",
      "...setting 2p parameters...\n"
     ]
    },
    {
     "name": "stderr",
     "output_type": "stream",
     "text": [
      " 44%|████▍     | 4/9 [00:44<00:53, 10.73s/it]"
     ]
    },
    {
     "name": "stdout",
     "output_type": "stream",
     "text": [
      "\n",
      " ***** USING non-merged binarization\n",
      "remove bad cells:  True\n",
      "...setting 2p parameters...\n"
     ]
    },
    {
     "name": "stderr",
     "output_type": "stream",
     "text": [
      " 56%|█████▌    | 5/9 [00:54<00:42, 10.55s/it]"
     ]
    },
    {
     "name": "stdout",
     "output_type": "stream",
     "text": [
      "\n",
      " ***** USING non-merged binarization\n",
      "remove bad cells:  True\n",
      "...setting 2p parameters...\n"
     ]
    },
    {
     "name": "stderr",
     "output_type": "stream",
     "text": [
      " 67%|██████▋   | 6/9 [01:04<00:31, 10.43s/it]"
     ]
    },
    {
     "name": "stdout",
     "output_type": "stream",
     "text": [
      "\n",
      " ***** USING non-merged binarization\n",
      "remove bad cells:  True\n",
      "...setting 2p parameters...\n"
     ]
    },
    {
     "name": "stderr",
     "output_type": "stream",
     "text": [
      " 78%|███████▊  | 7/9 [01:20<00:24, 12.24s/it]"
     ]
    },
    {
     "name": "stdout",
     "output_type": "stream",
     "text": [
      "\n",
      " ***** USING non-merged binarization\n",
      "remove bad cells:  True\n",
      "...setting 2p parameters...\n"
     ]
    },
    {
     "name": "stderr",
     "output_type": "stream",
     "text": [
      " 89%|████████▉ | 8/9 [01:32<00:12, 12.03s/it]"
     ]
    },
    {
     "name": "stdout",
     "output_type": "stream",
     "text": [
      "\n",
      " ***** USING non-merged binarization\n",
      "remove bad cells:  True\n",
      "...setting 2p parameters...\n"
     ]
    },
    {
     "name": "stderr",
     "output_type": "stream",
     "text": [
      "100%|██████████| 9/9 [01:47<00:00, 11.92s/it]"
     ]
    },
    {
     "name": "stdout",
     "output_type": "stream",
     "text": [
      "\n",
      "session_ids:  [0 1 2 3 4 5 6 7 8]\n"
     ]
    },
    {
     "name": "stderr",
     "output_type": "stream",
     "text": [
      "\n"
     ]
    },
    {
     "name": "stdout",
     "output_type": "stream",
     "text": [
      "missing  rois_pixels_and_thresholds_day0.npz\n",
      ".... already computed...\n",
      ".... already computed...\n",
      ".... already computed...\n",
      ".... already computed...\n",
      ".... already computed...\n",
      ".... already computed...\n",
      ".... already computed...\n",
      ".... already computed...\n",
      "missing:  /media/cat/8TB/donato/bmi/DON-017923/20231115/ensembles/ensembles_matches_bmi_to_suite2p.npz\n",
      "idxs:  [777  39 184  94]\n",
      "idxs:  [ 59  69  71 110]\n",
      "idxs:  [133  91   8 273]\n",
      "idxs:  [234 260   5 330]\n",
      "idxs:  [  5  20 152  59]\n",
      "idxs:  [ 67 316  13  96]\n",
      "idxs:  [488  55  23 362]\n",
      "idxs:  [450  85  76 335]\n",
      "ensembles_n_corrs:  [[38, 17, 8, 23], [68, 16, 11, 9], [58, 8, 9, 13], [89, 19, 14, 7], [102, 12, 4, 10], [151, 26, 8, 8], [50, 18, 12, 4], [94, 25, 11, 5]]\n",
      "ensembles_n_corrs:  (8, 4)\n",
      "idxs:  [777  39 184  94]\n",
      "idxs:  [ 59  69  71 110]\n",
      "idxs:  [133  91   8 273]\n",
      "idxs:  [234 260   5 330]\n",
      "idxs:  [  5  20 152  59]\n",
      "idxs:  [ 67 316  13  96]\n",
      "idxs:  [488  55  23 362]\n",
      "idxs:  [450  85  76 335]\n",
      "... done processing:  DON-017923\n",
      " \n",
      " \n",
      "....DONE...\n"
     ]
    }
   ],
   "source": [
    "####################################################\n",
    "################## LOAD DATA #######################\n",
    "####################################################\n",
    "\n",
    "root_dir = '/media/cat/8TB/donato/bmi/'\n",
    "animal_ids = [\n",
    "    # M1 mice\n",
    "    # \"DON-011733\",     # M1    - Processed\n",
    "    # 'DON-014382',    # M1    - Processed\n",
    "    #'DON-014451',    # M1    - Processed\n",
    "    # 'DON-014575',    # M1    - Processed\n",
    "    # 'DON-014618',    # M1    - Processed\n",
    "    # 'DON-015821',    # M1    - Processed\n",
    "     'DON-017923',   # M1    - Not Processed <has extra days at the end....\n",
    "    # 'DON-018129',   # M1    - Not Processed\n",
    "    # 'DON-018130',   # M1    - Not Processed\n",
    "\n",
    "    # MAYBE MICE\n",
    "    # 'DON-013392'  <-- only last day was good, all others were at chance\n",
    "    # 'DON-015962'  <-- might be ok, rechedk it.\n",
    "\n",
    "    # CA3 mice\n",
    "    # \"DON-012502\",    # CA3    - spreadsheet is old - need reprocessing; ALSO Weird performance, may exclude\n",
    "    # \"DON-014266\",    # CA3   - Processed\n",
    "    # 'DON-014371',    # CA3   - Processed\n",
    "    # 'DON-015801',    # CA3   - Processed\n",
    "    # 'DON-016658',    # CA3   - Processed\n",
    "     #\"DON-019683\",    # CA3   - Processed\n",
    "]\n",
    "#\n",
    "#for animal_id in animal_ids:\n",
    "#animal_id = animal_ids[0]\n",
    "animal_id = animal_ids[0]\n",
    "\n",
    "for animal_id in animal_ids:\n",
    "\n",
    "    #       \n",
    "    c = ProcessCalcium(root_dir,\n",
    "                    animal_id)\n",
    "\n",
    "    # \n",
    "    c.remove_bad_cells = False\n",
    "    c.use_non_merged = True\n",
    "\n",
    "    #\n",
    "    c.recompute_binarization = False  # IF TRue: must input correct params from bin notebooks\n",
    "    c.dff_min = 0.05                  # min %DFF for [ca] burst to considered a spike (default 5%) overwrites percentile threshold parameter\n",
    "    c.percentile_threshold = 0.999   # this is pretty fixed, we don't change it; we want [ca] bursts that are well outside the \"physics-caused\"noise\n",
    "    c.maximum_std_of_signal = 0.25     # if std of signal is greater than this, then we have a noisy signal and we don't want to binarize it\n",
    "\n",
    "    #\n",
    "    c.save_figures = c.recompute_binarization\n",
    "    c.load_sessions()\n",
    "\n",
    "    #\n",
    "    if True:\n",
    "        c.compute_bmi_to_suite2p_matches()\n",
    "        #compute_ensemble_only_correlations(c)\n",
    "\n",
    "\n",
    "    try:\n",
    "        #\n",
    "        make_ensemble_graphs(c)\n",
    "\n",
    "        #\n",
    "        make_ensemble_graphs_statistics(c)\n",
    "\n",
    "        #\n",
    "        #plotflag = True\n",
    "        make_ensemble_graphs_statistics_allcells(c)\n",
    "\n",
    "    except:\n",
    "        print (\"... skipping: \", animal_id)\n",
    "        continue\n",
    "\n",
    "    print (\"... done processing: \", animal_id)\n",
    "    print (\" \")\n",
    "    print (\" \")\n",
    "#\n",
    "print (\"....DONE...\")\n"
   ]
  },
  {
   "cell_type": "code",
   "execution_count": 65,
   "id": "27e81865",
   "metadata": {},
   "outputs": [],
   "source": [
    "##################################################################\n",
    "###### visualize the reward response of each ROI over time #######\n",
    "##################################################################\n",
    "\n",
    "# # \n",
    "# c.window = 300\n",
    "# c.show_random = True\n",
    "# c.smoothing = False\n",
    "# c.use_DFF = False\n",
    "\n",
    "# #\n",
    "# c.visualize_ensemble_to_reward_average()\n",
    "\n",
    "#\n"
   ]
  },
  {
   "cell_type": "code",
   "execution_count": 75,
   "id": "5b485d43",
   "metadata": {},
   "outputs": [
    {
     "name": "stdout",
     "output_type": "stream",
     "text": [
      "missing:  /media/cat/8TB/donato/bmi/DON-014382/20230407/ensembles/ensembles_matches_bmi_to_suite2p.npz\n"
     ]
    }
   ],
   "source": [
    "####################################################################\n",
    "######## GRAB NETWORK OF CELLS CONNECTED TO THE ENSEMBLES ##########\n",
    "####################################################################\n",
    "show_plots = True\n",
    "make_ensemble_graphs(c, show_plots)\n",
    "\n"
   ]
  },
  {
   "cell_type": "code",
   "execution_count": 72,
   "id": "6a4cc7a1",
   "metadata": {},
   "outputs": [
    {
     "name": "stdout",
     "output_type": "stream",
     "text": [
      "idxs:  [ 8  9 20 23]\n",
      "idxs:  [70 43 47 35]\n",
      "idxs:  [ 78  25  44 432]\n",
      "idxs:  [ 26 524  28 519]\n",
      "idxs:  [ 45  35  62 180]\n",
      "idxs:  [ 19  17 625  76]\n",
      "idxs:  [ 25 473 187  62]\n",
      "idxs:  [ 42  78 160  83]\n",
      "idxs:  [ 36 571 168 293]\n",
      "ensembles_n_corrs:  [[32, 5, 16, 11], [6, 148, 243, 17], [7, 83, 255, 43], [78, 66, 128, 43], [30, 40, 55, 53], [36, 27, 48, 66], [9, 38, 31, 17], [16, 13, 16, 17], [14, 19, 33, 28]]\n",
      "ensembles_n_corrs:  (9, 4)\n"
     ]
    }
   ],
   "source": [
    "###################################################################\n",
    "######## Compute the average # of correlated cells for each ROI ####\n",
    "####################################################################\n",
    "show_plots = True\n",
    "make_ensemble_graphs_statistics(c, show_plots)\n"
   ]
  },
  {
   "cell_type": "code",
   "execution_count": 17,
   "id": "f43525b5",
   "metadata": {},
   "outputs": [
    {
     "name": "stdout",
     "output_type": "stream",
     "text": [
      "idxs:  [777  39 184  94]\n",
      "idxs:  [ 59  69  71 110]\n",
      "idxs:  [133  91   8 273]\n",
      "idxs:  [234 260   5 330]\n",
      "idxs:  [  5  20 152  59]\n",
      "idxs:  [ 67 316  13  96]\n",
      "idxs:  [488  55  23 362]\n",
      "idxs:  [450  85  76 335]\n"
     ]
    }
   ],
   "source": [
    "##########################################################################\n",
    "######## Compute the average # graph sizes for all cells outside ROIs ####\n",
    "##########################################################################\n",
    "#\n",
    "make_ensemble_graphs_statistics_allcells(c, True)\n"
   ]
  },
  {
   "cell_type": "code",
   "execution_count": 61,
   "id": "8467234b",
   "metadata": {},
   "outputs": [
    {
     "name": "stdout",
     "output_type": "stream",
     "text": [
      "8\n",
      "181\n",
      "301\n"
     ]
    }
   ],
   "source": []
  },
  {
   "cell_type": "code",
   "execution_count": null,
   "id": "19fcb7b4",
   "metadata": {},
   "outputs": [],
   "source": []
  },
  {
   "cell_type": "code",
   "execution_count": null,
   "id": "298e5355",
   "metadata": {},
   "outputs": [],
   "source": []
  },
  {
   "cell_type": "markdown",
   "id": "d573941e",
   "metadata": {},
   "source": []
  },
  {
   "cell_type": "code",
   "execution_count": null,
   "id": "252b3229",
   "metadata": {},
   "outputs": [],
   "source": []
  },
  {
   "cell_type": "code",
   "execution_count": null,
   "id": "a44dc5ec",
   "metadata": {},
   "outputs": [],
   "source": []
  },
  {
   "cell_type": "code",
   "execution_count": null,
   "id": "f7d3ebae",
   "metadata": {},
   "outputs": [],
   "source": []
  },
  {
   "cell_type": "code",
   "execution_count": null,
   "id": "c14a09e0",
   "metadata": {},
   "outputs": [],
   "source": []
  },
  {
   "cell_type": "code",
   "execution_count": null,
   "id": "584f8fc1",
   "metadata": {},
   "outputs": [],
   "source": []
  },
  {
   "cell_type": "code",
   "execution_count": null,
   "id": "03bcdd40",
   "metadata": {},
   "outputs": [],
   "source": []
  },
  {
   "cell_type": "code",
   "execution_count": null,
   "id": "4c4137c5",
   "metadata": {},
   "outputs": [],
   "source": []
  },
  {
   "cell_type": "code",
   "execution_count": null,
   "id": "acccbff9",
   "metadata": {},
   "outputs": [],
   "source": []
  },
  {
   "cell_type": "code",
   "execution_count": 51,
   "id": "1ac4ef21",
   "metadata": {},
   "outputs": [
    {
     "name": "stderr",
     "output_type": "stream",
     "text": [
      "/tmp/ipykernel_756294/3759798476.py:10: MatplotlibDeprecationWarning: The get_cmap function was deprecated in Matplotlib 3.7 and will be removed two minor releases later. Use ``matplotlib.colormaps[name]`` or ``matplotlib.colormaps.get_cmap(obj)`` instead.\n",
      "  cmap = matplotlib.cm.get_cmap('viridis')\n",
      "computing ensemble only correlations:   0%|          | 0/8 [00:00<?, ?it/s]"
     ]
    },
    {
     "name": "stderr",
     "output_type": "stream",
     "text": [
      "computing ensemble only correlations: 100%|██████████| 8/8 [00:02<00:00,  3.41it/s]\n"
     ]
    },
    {
     "name": "stdout",
     "output_type": "stream",
     "text": [
      "fname_ensemble_matching:  /media/cat/8TB/donato/bmi/DON-011733/20230302/ensembles/ensembles_matches_bmi_to_suite2p.npz\n",
      "idxs:  [ 3  9 10  1]\n",
      "fname_ensemble_matching:  /media/cat/8TB/donato/bmi/DON-011733/20230303/ensembles/ensembles_matches_bmi_to_suite2p.npz\n",
      "idxs:  [ 47 121  26  38]\n",
      "fname_ensemble_matching:  /media/cat/8TB/donato/bmi/DON-011733/20230304/ensembles/ensembles_matches_bmi_to_suite2p.npz\n",
      "idxs:  [43 24  5  2]\n",
      "fname_ensemble_matching:  /media/cat/8TB/donato/bmi/DON-011733/20230305/ensembles/ensembles_matches_bmi_to_suite2p.npz\n",
      "idxs:  [33 36 30  6]\n",
      "fname_ensemble_matching:  /media/cat/8TB/donato/bmi/DON-011733/20230306/ensembles/ensembles_matches_bmi_to_suite2p.npz\n",
      "idxs:  [ 7 57  9  2]\n",
      "fname_ensemble_matching:  /media/cat/8TB/donato/bmi/DON-011733/20230307/ensembles/ensembles_matches_bmi_to_suite2p.npz\n",
      "idxs:  [415  60  36   7]\n",
      "fname_ensemble_matching:  /media/cat/8TB/donato/bmi/DON-011733/20230308/ensembles/ensembles_matches_bmi_to_suite2p.npz\n",
      "idxs:  [41 23 16  1]\n",
      "fname_ensemble_matching:  /media/cat/8TB/donato/bmi/DON-011733/20230309/ensembles/ensembles_matches_bmi_to_suite2p.npz\n",
      "idxs:  [219  17   3   5]\n"
     ]
    }
   ],
   "source": [
    "#############################################################\n",
    "############# PAIRWISE CORRELATION DISTRIBUTIONS ############\n",
    "#############################################################\n",
    "from utils_calcium import run_pearson_corr_single_cell_vs_all_cells_parallel, compute_ensemble_only_correlations\n",
    "import parmap\n",
    "\n",
    "roi_names = ['pos1','pos2','neg1','neg2']\n",
    "\n",
    "# make viridis colormap for len(c.session_ids) sessions\n",
    "cmap = matplotlib.cm.get_cmap('viridis')\n",
    "colors = cmap(np.linspace(0.1, .9, len(c.session_ids)))\n",
    "\n",
    "#\n",
    "compute_ensemble_only_correlations(c)\n",
    "\n",
    "#\n",
    "plt.figure(figsize=(10,10))\n",
    "for session_id in range(0,len(c.session_ids)):\n",
    "    fname_ensemble_matching = os.path.join(c.root_dir, \n",
    "                                        c.animal_id, \n",
    "                                        str(c.session_ids[session_id]), \n",
    "                                        'ensembles',\n",
    "                                        'ensembles_matches_bmi_to_suite2p.npz')\n",
    "    \n",
    "    print (\"fname_ensemble_matching: \", fname_ensemble_matching)\n",
    "    data = np.load(fname_ensemble_matching, allow_pickle=True)\n",
    "    #\n",
    "    idxs = []\n",
    "    idxs.append(data['idx_ensemble1_0'])\n",
    "    idxs.append(data['idx_ensemble1_1'])\n",
    "    idxs.append(data['idx_ensemble2_0'])\n",
    "    idxs.append(data['idx_ensemble2_1'])\n",
    "    idxs = np.array(idxs)\n",
    "    print (\"idxs: \", idxs)\n",
    "\n",
    "    # load the cell correlation vals \n",
    "    dir_corrs = os.path.join(c.root_dir,\n",
    "                                c.animal_id,\n",
    "                                str(c.session_ids[session_id]),\n",
    "                                'plane0',\n",
    "                                'correlations')\n",
    "    \n",
    "    # chekc if dir exists\n",
    "    if os.path.exists(dir_corrs)==False:\n",
    "        os.mkdir(dir_corrs)\n",
    "\n",
    "    # load the cell correlation vals using idxs as the ensemble\n",
    "    ctr=0\n",
    "    for idx in idxs:\n",
    "        fname_corr = os.path.join(dir_corrs, str(idx)+'.npz')\n",
    "\n",
    "        #\n",
    "        data = np.load(fname_corr, allow_pickle=True)\n",
    "        pc = data['pearson_corr']\n",
    "\n",
    "        # delete nans\n",
    "        idx = np.where(np.isnan(pc)==False)[0]\n",
    "        pc = pc[idx]\n",
    "\n",
    "        # make histogram of pc\n",
    "        y = np.histogram(pc, bins=np.arange(-0.2,0.5,0.02))\n",
    "        xx = y[1][:-1]\n",
    "        yy = y[0]\n",
    "\n",
    "        #\n",
    "\n",
    "        #\n",
    "        ax=plt.subplot(2,2,ctr+1)\n",
    "        plt.title(str(roi_names[ctr]))\n",
    "        #plt.semilogy()\n",
    "        plt.plot(xx, yy, linewidth=2, \n",
    "                 color=colors[session_id],\n",
    "                 label=str(c.session_ids[session_id]))\n",
    "\n",
    "        if ctr==0:\n",
    "            plt.legend() \n",
    "\n",
    "        #\n",
    "        plt.xlabel(\"Pearson correlation\")\n",
    "\n",
    "\n",
    "        #\n",
    "        ctr+=1\n",
    "\n",
    "#\n",
    "plt.suptitle(c.animal_id+\" \"+str(c.rec_type))\n",
    "\n",
    "plt.show()\n",
    "\n"
   ]
  },
  {
   "cell_type": "code",
   "execution_count": null,
   "id": "a3cd26b3",
   "metadata": {},
   "outputs": [],
   "source": []
  },
  {
   "cell_type": "code",
   "execution_count": null,
   "id": "b9054a88",
   "metadata": {},
   "outputs": [],
   "source": []
  },
  {
   "cell_type": "code",
   "execution_count": null,
   "id": "f8af6fa7",
   "metadata": {},
   "outputs": [],
   "source": []
  },
  {
   "cell_type": "code",
   "execution_count": null,
   "id": "a4d1d2eb",
   "metadata": {},
   "outputs": [],
   "source": []
  },
  {
   "cell_type": "code",
   "execution_count": 26,
   "id": "62bf745a",
   "metadata": {},
   "outputs": [
    {
     "name": "stdout",
     "output_type": "stream",
     "text": [
      "cell_ids:  [10  7 11 75]\n"
     ]
    }
   ],
   "source": [
    "#\n",
    "fname1 = '/media/cat/8TB/donato/bmi/DON-018129/20231010/rois_pixels_and_thresholds_day0.npz'\n",
    "data = np.load(fname1, allow_pickle=True)\n",
    "\n",
    "# grab the \n",
    "cell_ids = data['cell_ids']\n",
    "print (\"cell_ids: \", cell_ids)\n"
   ]
  },
  {
   "cell_type": "code",
   "execution_count": 24,
   "id": "b3fbc828",
   "metadata": {},
   "outputs": [
    {
     "name": "stdout",
     "output_type": "stream",
     "text": [
      "(273, 90000)\n"
     ]
    }
   ],
   "source": [
    "fname = '/media/cat/8TB/donato/bmi/DON-018129/20231010/plane0/binarized_traces.npz'\n",
    "d = np.load(fname, allow_pickle=True)\n",
    "\n",
    "F = d['F_filtered']\n",
    "print (F.shape)\n",
    "plt.figure()\n",
    "plt.plot(F[22])\n",
    "plt.show()"
   ]
  },
  {
   "cell_type": "code",
   "execution_count": null,
   "id": "648ec439",
   "metadata": {},
   "outputs": [],
   "source": []
  },
  {
   "cell_type": "code",
   "execution_count": null,
   "id": "6287af0e",
   "metadata": {},
   "outputs": [],
   "source": []
  },
  {
   "cell_type": "code",
   "execution_count": null,
   "id": "ce7c9a09",
   "metadata": {},
   "outputs": [],
   "source": []
  },
  {
   "cell_type": "code",
   "execution_count": null,
   "id": "6a370844",
   "metadata": {},
   "outputs": [],
   "source": []
  },
  {
   "cell_type": "code",
   "execution_count": null,
   "id": "c5777238",
   "metadata": {},
   "outputs": [],
   "source": []
  },
  {
   "cell_type": "code",
   "execution_count": null,
   "id": "7a28f8e4",
   "metadata": {},
   "outputs": [],
   "source": []
  },
  {
   "cell_type": "code",
   "execution_count": null,
   "id": "d99d623e",
   "metadata": {},
   "outputs": [],
   "source": []
  },
  {
   "cell_type": "code",
   "execution_count": null,
   "id": "926f7654",
   "metadata": {},
   "outputs": [],
   "source": []
  },
  {
   "cell_type": "code",
   "execution_count": null,
   "id": "c2b502f6",
   "metadata": {},
   "outputs": [],
   "source": []
  },
  {
   "cell_type": "code",
   "execution_count": null,
   "id": "e99976a9",
   "metadata": {},
   "outputs": [],
   "source": []
  },
  {
   "cell_type": "code",
   "execution_count": null,
   "id": "382188ed",
   "metadata": {},
   "outputs": [],
   "source": []
  },
  {
   "cell_type": "code",
   "execution_count": null,
   "id": "2e291d36",
   "metadata": {},
   "outputs": [],
   "source": []
  }
 ],
 "metadata": {
  "kernelspec": {
   "display_name": "Python 3 (ipykernel)",
   "language": "python",
   "name": "python3"
  },
  "language_info": {
   "codemirror_mode": {
    "name": "ipython",
    "version": 3
   },
   "file_extension": ".py",
   "mimetype": "text/x-python",
   "name": "python",
   "nbconvert_exporter": "python",
   "pygments_lexer": "ipython3",
   "version": "3.8.18"
  },
  "toc-autonumbering": false,
  "toc-showcode": true
 },
 "nbformat": 4,
 "nbformat_minor": 5
}
